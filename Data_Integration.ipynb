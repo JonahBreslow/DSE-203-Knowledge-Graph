{
 "cells": [
  {
   "cell_type": "markdown",
   "id": "f56696a0",
   "metadata": {},
   "source": [
    "# Data Integration\n",
    "## Authors: \n",
    "    1. Lam Ho\n",
    "    2. Jonah Breslow\n",
    "    3. Jeffrey Kagan\n",
    "## Purpose:\n",
    "The purpose of this notebook is to ingest all the matched entities across the three datasets and generate a set of nodes and edges that will populate our Neo4j knowledge graph.\n",
    "\n",
    "### Importing modules"
   ]
  },
  {
   "cell_type": "code",
   "execution_count": 1,
   "id": "a2a27e90",
   "metadata": {},
   "outputs": [],
   "source": [
    "import pandas as pd\n",
    "import numpy as np\n",
    "import pickle"
   ]
  },
  {
   "cell_type": "markdown",
   "id": "2666b90c",
   "metadata": {},
   "source": [
    "## Importing Entity Resolution Lookup tables\n",
    "### Manufacturer Node"
   ]
  },
  {
   "cell_type": "code",
   "execution_count": 2,
   "id": "a2990d13",
   "metadata": {},
   "outputs": [
    {
     "name": "stdout",
     "output_type": "stream",
     "text": [
      "Manufacturer Node has 10621 records\n"
     ]
    }
   ],
   "source": [
    "manuf_lookup = pickle.load(open('Data/Outputs_Cleanup/Manufacturer_entity_matching/Manufacturer_Matching_lookup.p','rb'))\n",
    "manuf_lookup[['manuf_id','manufacturer_name']].to_csv('Nodes/Manufacturer_Node.csv',index=False)\n",
    "print(\"Manufacturer Node has \"+str(manuf_lookup.shape[0])+\" records\")"
   ]
  },
  {
   "cell_type": "markdown",
   "id": "7b258da9",
   "metadata": {},
   "source": [
    "### Drug Node"
   ]
  },
  {
   "cell_type": "code",
   "execution_count": 3,
   "id": "7176ed54",
   "metadata": {},
   "outputs": [],
   "source": [
    "def string_to_ordered_list (x):\n",
    "    '''\n",
    "    Function that takes a string that looks like a list, and converts it to an ordered list\n",
    "    '''\n",
    "    ordered_list = None\n",
    "    try: \n",
    "        str_list = str(x).replace('[','').replace(']','').replace(' ','').replace(\"'\",'').split(',')\n",
    "        str_list = list(map(int,str_list))\n",
    "        str_set = set(str_list)\n",
    "        ordered_list = sorted(list(str_set))\n",
    "    except:\n",
    "        ordered_list = np.NaN\n",
    "    \n",
    "    \n",
    "    return ordered_list"
   ]
  },
  {
   "cell_type": "code",
   "execution_count": 5,
   "id": "bd445fd5",
   "metadata": {},
   "outputs": [
    {
     "name": "stdout",
     "output_type": "stream",
     "text": [
      "Drug Node has 5116 records\n"
     ]
    }
   ],
   "source": [
    "## Importing drug matching output\n",
    "drug_node = pickle.load(open('Data/Outputs_Cleanup/Sunshine_dedupe_drug_integration/final_drug_lookup.p','rb'))\n",
    "\n",
    "## Importing drug information from the deduped FDA data\n",
    "openfda_drug_dedupe = pickle.load(open( \"Data/Outputs_Cleanup/FDA/Openfda_Drug_deduplicated.p\", \"rb\" ))\n",
    "\n",
    "## Sorting the fda_drug_id list column so that when we convert to a string, it will \n",
    "## match the fda_drug_id list column in the drug_node dataframe\n",
    "openfda_drug_dedupe = openfda_drug_dedupe.applymap(set).applymap(list)\n",
    "openfda_drug_dedupe.fda_drug_id = openfda_drug_dedupe.fda_drug_id.apply(sorted)\n",
    "\n",
    "## converting the fda_drug_id string column into a sorted list column\n",
    "drug_node['fda_drug_id'] = drug_node.fda_drug_id.apply(string_to_ordered_list)\n",
    "\n",
    "## converting fda_drug_id columns in drug_node df and openfda_drug_dedupe df \n",
    "## to string from list for merging\n",
    "drug_node['fda_drug_id'] = drug_node['fda_drug_id'].astype(str)\n",
    "openfda_drug_dedupe['fda_drug_id'] = openfda_drug_dedupe['fda_drug_id'].astype(str)\n",
    "drug_node = drug_node.merge(openfda_drug_dedupe,'left','fda_drug_id')\n",
    "\n",
    "## Dropping id's into other datasources\n",
    "# drug_node\n",
    "drug_node_output = drug_node.drop(columns = ['fda_drug_id','MedD_drug_id','sunshine_drug_id','manufacturer_name'])\n",
    "drug_node_output.to_csv('Nodes/Drug_Node.csv',index=False)\n",
    "print(\"Drug Node has \"+str(drug_node_output.shape[0])+\" records\")"
   ]
  },
  {
   "cell_type": "markdown",
   "id": "f94597f4",
   "metadata": {},
   "source": [
    "## Starting with the Sunshine Data\n",
    "### Hospital Node"
   ]
  },
  {
   "cell_type": "code",
   "execution_count": 11,
   "id": "9f051adf",
   "metadata": {},
   "outputs": [],
   "source": [
    "# hospital_node = pd.read_csv('Data/Outputs_Cleanup/Sunshine/hosp_info.csv')\n",
    "# hospital_node.to_csv('Nodes/Hospital_Node.csv',index=False)\n",
    "# print(\"Hospital Node has \"+str(hospital_node.shape[0])+\" records\")"
   ]
  },
  {
   "cell_type": "markdown",
   "id": "c2db2458",
   "metadata": {},
   "source": [
    "### Payments Node"
   ]
  },
  {
   "cell_type": "code",
   "execution_count": 6,
   "id": "b7961958",
   "metadata": {},
   "outputs": [
    {
     "name": "stdout",
     "output_type": "stream",
     "text": [
      "Payments Node has 1094501 records\n"
     ]
    }
   ],
   "source": [
    "payments_node = pd.read_csv('Data/Outputs_Cleanup/Sunshine/payments.csv')\n",
    "payments_node.to_csv('Nodes/Payments_Node.csv',index=False)\n",
    "print(\"Payments Node has \"+str(payments_node.shape[0])+\" records\")"
   ]
  },
  {
   "cell_type": "markdown",
   "id": "b4396e55",
   "metadata": {},
   "source": [
    "### Manufacturer-Payments Edge"
   ]
  },
  {
   "cell_type": "code",
   "execution_count": 7,
   "id": "0772efc0",
   "metadata": {},
   "outputs": [
    {
     "name": "stdout",
     "output_type": "stream",
     "text": [
      "manuf_payments_edge has 1094501 records\n"
     ]
    }
   ],
   "source": [
    "manuf_payments_edge = pd.read_csv('Data/Outputs_Cleanup/Sunshine/pharmCo_payments.csv')\n",
    "manuf_payments_edge = manuf_payments_edge.merge(manuf_lookup,'left','Applicable_Manufacturer_or_Applicable_GPO_Making_Payment_ID')\n",
    "manuf_payments_edge = manuf_payments_edge[['Record_ID','manuf_id']]\n",
    "manuf_payments_edge.to_csv('Edges/Manufacturer_Payment_Edge.csv',index=False)\n",
    "print(\"manuf_payments_edge has \"+str(manuf_payments_edge.shape[0])+\" records\")"
   ]
  },
  {
   "cell_type": "markdown",
   "id": "bab50534",
   "metadata": {},
   "source": [
    "### Payment-Drug Edge"
   ]
  },
  {
   "cell_type": "code",
   "execution_count": 8,
   "id": "629ce049",
   "metadata": {},
   "outputs": [
    {
     "name": "stderr",
     "output_type": "stream",
     "text": [
      "C:\\Users\\10294029\\Anaconda3\\lib\\site-packages\\IPython\\core\\interactiveshell.py:3437: DtypeWarning: Columns (17,18,19,20,22,23,24,25) have mixed types.Specify dtype option on import or set low_memory=False.\n",
      "  exec(code_obj, self.user_global_ns, self.user_ns)\n"
     ]
    },
    {
     "name": "stdout",
     "output_type": "stream",
     "text": [
      "payment_drug_edge has 97474 records\n"
     ]
    }
   ],
   "source": [
    "payment_drug_edge = pd.read_csv('Data/Outputs_Cleanup/Sunshine/record_drugs.csv')\n",
    "cols = ['Record_ID','Name_of_Drug_or_Biological_or_Device_or_Medical_Supply_1',\n",
    "        'Name_of_Drug_or_Biological_or_Device_or_Medical_Supply_2',\n",
    "        'Name_of_Drug_or_Biological_or_Device_or_Medical_Supply_3',\n",
    "        'Name_of_Drug_or_Biological_or_Device_or_Medical_Supply_4',\n",
    "        'Name_of_Drug_or_Biological_or_Device_or_Medical_Supply_5'\n",
    "       ]\n",
    "payment_drug_edge = payment_drug_edge[cols].melt(id_vars = 'Record_ID')\n",
    "payment_drug_edge.dropna(inplace=True)\n",
    "payment_drug_edge = payment_drug_edge[['Record_ID','value']]\n",
    "payment_drug_edge.columns = ['Record_ID','sunshine_drug_id']\n",
    "drug_node[['drug_id','sunshine_drug_id']].dropna()\n",
    "payment_drug_edge = payment_drug_edge.merge(drug_node[['drug_id','sunshine_drug_id']].dropna(),\n",
    "                                           'left',\n",
    "                                           'sunshine_drug_id')\n",
    "payment_drug_edge = payment_drug_edge[~payment_drug_edge.drug_id.isna()][['Record_ID','drug_id']]\n",
    "\n",
    "payment_drug_edge.drug_id= payment_drug_edge.drug_id.astype(int)\n",
    "payment_drug_edge.to_csv('Edges/Payment_Drug_Edge.csv',index=False)\n",
    "print(\"payment_drug_edge has \"+str(payment_drug_edge.shape[0])+\" records\")"
   ]
  },
  {
   "cell_type": "markdown",
   "id": "1b177f8e",
   "metadata": {},
   "source": [
    "### Manufacturer-Drug edge"
   ]
  },
  {
   "cell_type": "code",
   "execution_count": 12,
   "id": "583c69ee",
   "metadata": {},
   "outputs": [
    {
     "name": "stdout",
     "output_type": "stream",
     "text": [
      "manuf_drug_edge has 12837 records\n"
     ]
    }
   ],
   "source": [
    "openfda_manuf_dedupe = pickle.load(open( \"Data/Outputs_Cleanup/FDA/openfda_manufacturer_deduplicated_single_manuf.p\", \"rb\" ))\n",
    "\n",
    "manuf_drug_edge = drug_node[['drug_id','manufacturer_name']]\n",
    "manuf_drug_edge = manuf_drug_edge.explode('manufacturer_name')\n",
    "manuf_drug_edge.dropna(inplace=True)\n",
    "manuf_drug_edge = manuf_drug_edge.merge(openfda_manuf_dedupe.explode('manuf_names'),'left',left_on='manufacturer_name',right_on='manuf_names')\n",
    "# manuf_drug_edge\n",
    "# manuf_lookup\n",
    "manuf_drug_edge = manuf_drug_edge[['drug_id','fda_manuf_id','manufacturer_name_y']].explode('fda_manuf_id')\n",
    "manuf_drug_edge = manuf_drug_edge.drop_duplicates(['drug_id','manufacturer_name_y'])[['drug_id','fda_manuf_id']]\n",
    "manuf_drug_edge = manuf_drug_edge.merge(manuf_lookup.explode('fda_manuf_id'),'left','fda_manuf_id')\n",
    "manuf_drug_edge = manuf_drug_edge[['drug_id','manuf_id']]\n",
    "manuf_drug_edge.to_csv('Edges/Manufacturer_Drug_Edge.csv',index=False)\n",
    "print(\"manuf_drug_edge has \"+str(manuf_drug_edge.shape[0])+\" records\")"
   ]
  },
  {
   "cell_type": "markdown",
   "id": "0098b933",
   "metadata": {},
   "source": [
    "### Physicians Node"
   ]
  },
  {
   "cell_type": "code",
   "execution_count": 13,
   "id": "cb2ec1d2",
   "metadata": {},
   "outputs": [
    {
     "name": "stdout",
     "output_type": "stream",
     "text": [
      "Physicians Node has 137176 records\n"
     ]
    }
   ],
   "source": [
    "physicians = pickle.load(open(\"Data/Physicians_Deduplication/Outputs/Physicians.pkl\", \"rb\" ))\n",
    "physicians.rename(columns={'id':'physician_id'},inplace=True)\n",
    "physician_info = physicians.drop(columns=['Prscrbr_NPI','Physician_Profile_ID'])\n",
    "physician_info.to_csv('Nodes/Physicians_Node.csv',index=False)\n",
    "print(\"Physicians Node has \"+str(physician_info.shape[0])+\" records\")"
   ]
  },
  {
   "cell_type": "markdown",
   "id": "315cd20e",
   "metadata": {},
   "source": [
    "### Prescription Node, Prescription-Drug Edge, Prescription-Physician Edge"
   ]
  },
  {
   "cell_type": "code",
   "execution_count": 14,
   "id": "a8c06409",
   "metadata": {},
   "outputs": [
    {
     "name": "stderr",
     "output_type": "stream",
     "text": [
      "<ipython-input-14-5cdb63e96030>:5: SettingWithCopyWarning: \n",
      "A value is trying to be set on a copy of a slice from a DataFrame.\n",
      "Try using .loc[row_indexer,col_indexer] = value instead\n",
      "\n",
      "See the caveats in the documentation: https://pandas.pydata.org/pandas-docs/stable/user_guide/indexing.html#returning-a-view-versus-a-copy\n",
      "  partD_to_drug_id['MedD_drug_id'] = partD_to_drug_id['MedD_drug_id'].apply(string_to_ordered_list)\n"
     ]
    }
   ],
   "source": [
    "prescriptions = pickle.load(open(\"Data/Outputs_Cleanup/Part_d/prescription_information.p\", \"rb\" ))\n",
    "prescriptions.head()\n",
    "\n",
    "partD_to_drug_id = drug_node[['drug_id','MedD_drug_id']]\n",
    "partD_to_drug_id['MedD_drug_id'] = partD_to_drug_id['MedD_drug_id'].apply(string_to_ordered_list)\n",
    "partD_to_drug_id = partD_to_drug_id.explode('MedD_drug_id')\n",
    "partD_to_drug_id.MedD_drug_id = partD_to_drug_id.MedD_drug_id.astype(float)\n",
    "\n",
    "prescriptions = prescriptions.merge(partD_to_drug_id,'left','MedD_drug_id')\n",
    "prescriptions.drop(columns=['GE65_Tot_Clms','GE65_Tot_30day_Fills','GE65_Tot_Drug_Cst','GE65_Tot_Day_Suply','GE65_Tot_Benes'],inplace=True)\n",
    "physician_Part_d_lookup = physicians.explode('Prscrbr_NPI').drop(columns=['Physician_Profile_ID','fname','lname','type','city'])\n",
    "physician_Part_d_lookup.dropna(inplace=True)\n",
    "physician_Part_d_lookup['Prscrbr_NPI'] = physician_Part_d_lookup['Prscrbr_NPI'].astype(int)\n",
    "prescriptions = prescriptions.merge(physician_Part_d_lookup,'left','Prscrbr_NPI')\n",
    "prescriptions.drop(columns=['Prscrbr_NPI','MedD_drug_id'],inplace=True)\n",
    "prescriptions = prescriptions.groupby(['drug_id', 'physician_id','Year']).sum().reset_index().reset_index()\n",
    "prescriptions.rename(columns={'index':'prescription_id'},inplace=True)"
   ]
  },
  {
   "cell_type": "code",
   "execution_count": 15,
   "id": "5d43d9c6",
   "metadata": {},
   "outputs": [],
   "source": [
    "prescription_drug_edge = prescriptions.drop(columns=['physician_id','Year','Tot_Clms',\n",
    "                                                     'Tot_30day_Fills','Tot_Day_Suply',\n",
    "                                                     'Tot_Drug_Cst','Tot_Benes'])\n",
    "prescription_physician_edge = prescriptions.drop(columns=['drug_id','Year','Tot_Clms',\n",
    "                                                          'Tot_30day_Fills','Tot_Day_Suply',\n",
    "                                                          'Tot_Drug_Cst','Tot_Benes'])\n",
    "prescriptions.drop(columns=['drug_id', 'physician_id'],inplace=True)"
   ]
  },
  {
   "cell_type": "code",
   "execution_count": 16,
   "id": "847e2978",
   "metadata": {},
   "outputs": [
    {
     "name": "stdout",
     "output_type": "stream",
     "text": [
      "prescription_drug_edge has 2415170 records\n",
      "prescription_physician_edge has 2415170 records\n",
      "prescriptions Node has 2415170 records\n"
     ]
    }
   ],
   "source": [
    "prescription_drug_edge.to_csv('Edges/Prescription_Drug_Edge.csv',index=False)\n",
    "print(\"prescription_drug_edge has \"+str(prescription_drug_edge.shape[0])+\" records\")\n",
    "prescription_physician_edge.to_csv('Edges/Prescription_Physician_Edge.csv',index=False)\n",
    "print(\"prescription_physician_edge has \"+str(prescription_physician_edge.shape[0])+\" records\")\n",
    "prescriptions.to_csv('Nodes/Prescriptions_Node.csv',index=False)\n",
    "print(\"prescriptions Node has \"+str(prescriptions.shape[0])+\" records\")"
   ]
  },
  {
   "cell_type": "code",
   "execution_count": 17,
   "id": "e506ecc2",
   "metadata": {},
   "outputs": [
    {
     "name": "stdout",
     "output_type": "stream",
     "text": [
      "payments_physician has 1088993 records\n"
     ]
    }
   ],
   "source": [
    "payments_physician = pd.read_csv('Data/Outputs_Cleanup/Sunshine/physicians_payments.csv',dtype=int)\n",
    "physicians_sunshine_lookup = physicians.explode('Physician_Profile_ID').drop(columns=['Prscrbr_NPI','fname','lname','type','city'])\n",
    "physicians_sunshine_lookup.dropna(inplace=True)\n",
    "physicians_sunshine_lookup['Physician_Profile_ID']=physicians_sunshine_lookup['Physician_Profile_ID'].astype(int)\n",
    "payments_physician = payments_physician.merge(right=physicians_sunshine_lookup,how='left',on='Physician_Profile_ID')\n",
    "payments_physician.drop(columns='Physician_Profile_ID',inplace=True)\n",
    "payments_physician.to_csv('Edges/Payments_Physician_Edge.csv',index=False)\n",
    "print(\"payments_physician has \"+str(payments_physician.shape[0])+\" records\")"
   ]
  },
  {
   "cell_type": "code",
   "execution_count": null,
   "id": "bee147f0",
   "metadata": {},
   "outputs": [],
   "source": []
  }
 ],
 "metadata": {
  "kernelspec": {
   "display_name": "Python 3 (ipykernel)",
   "language": "python",
   "name": "python3"
  },
  "language_info": {
   "codemirror_mode": {
    "name": "ipython",
    "version": 3
   },
   "file_extension": ".py",
   "mimetype": "text/x-python",
   "name": "python",
   "nbconvert_exporter": "python",
   "pygments_lexer": "ipython3",
   "version": "3.8.5"
  }
 },
 "nbformat": 4,
 "nbformat_minor": 5
}
