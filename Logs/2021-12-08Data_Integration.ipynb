{
 "cells": [
  {
   "cell_type": "markdown",
   "id": "f56696a0",
   "metadata": {
    "papermill": {
     "duration": 0.035024,
     "end_time": "2021-12-08T18:44:26.960450",
     "exception": false,
     "start_time": "2021-12-08T18:44:26.925426",
     "status": "completed"
    },
    "tags": []
   },
   "source": [
    "# Data Integration\n",
    "## Authors: \n",
    "    1. Lam Ho\n",
    "    2. Jonah Breslow\n",
    "    3. Jeffrey Kagan\n",
    "## Purpose:\n",
    "The purpose of this notebook is to ingest all the matched entities across the three datasets and generate a set of nodes and edges that will populate our Neo4j knowledge graph.\n",
    "\n",
    "### Importing modules"
   ]
  },
  {
   "cell_type": "code",
   "execution_count": 1,
   "id": "a2a27e90",
   "metadata": {
    "execution": {
     "iopub.execute_input": "2021-12-08T18:44:26.994419Z",
     "iopub.status.busy": "2021-12-08T18:44:26.993416Z",
     "iopub.status.idle": "2021-12-08T18:44:27.656589Z",
     "shell.execute_reply": "2021-12-08T18:44:27.655589Z"
    },
    "papermill": {
     "duration": 0.680139,
     "end_time": "2021-12-08T18:44:27.656589",
     "exception": false,
     "start_time": "2021-12-08T18:44:26.976450",
     "status": "completed"
    },
    "tags": []
   },
   "outputs": [],
   "source": [
    "import pandas as pd\n",
    "import numpy as np\n",
    "import pickle"
   ]
  },
  {
   "cell_type": "markdown",
   "id": "2666b90c",
   "metadata": {
    "papermill": {
     "duration": 0.014999,
     "end_time": "2021-12-08T18:44:27.692589",
     "exception": false,
     "start_time": "2021-12-08T18:44:27.677590",
     "status": "completed"
    },
    "tags": []
   },
   "source": [
    "## Importing Entity Resolution Lookup tables\n",
    "### Manufacturer Node"
   ]
  },
  {
   "cell_type": "code",
   "execution_count": 2,
   "id": "a2990d13",
   "metadata": {
    "execution": {
     "iopub.execute_input": "2021-12-08T18:44:27.723588Z",
     "iopub.status.busy": "2021-12-08T18:44:27.723588Z",
     "iopub.status.idle": "2021-12-08T18:44:27.780915Z",
     "shell.execute_reply": "2021-12-08T18:44:27.780915Z"
    },
    "papermill": {
     "duration": 0.075324,
     "end_time": "2021-12-08T18:44:27.780915",
     "exception": false,
     "start_time": "2021-12-08T18:44:27.705591",
     "status": "completed"
    },
    "tags": []
   },
   "outputs": [],
   "source": [
    "manuf_lookup = pickle.load(open('Data/Outputs_Cleanup/Manufacturer_entity_matching/Manufacturer_Matching_lookup.p','rb'))\n",
    "manuf_lookup[['manuf_id','manufacturer_name']].to_csv('Nodes/Manufacturer_Node.csv',index=False)"
   ]
  },
  {
   "cell_type": "markdown",
   "id": "7b258da9",
   "metadata": {
    "papermill": {
     "duration": 0.012962,
     "end_time": "2021-12-08T18:44:27.810915",
     "exception": false,
     "start_time": "2021-12-08T18:44:27.797953",
     "status": "completed"
    },
    "tags": []
   },
   "source": [
    "### Drug Node"
   ]
  },
  {
   "cell_type": "code",
   "execution_count": 3,
   "id": "7176ed54",
   "metadata": {
    "execution": {
     "iopub.execute_input": "2021-12-08T18:44:27.844916Z",
     "iopub.status.busy": "2021-12-08T18:44:27.844916Z",
     "iopub.status.idle": "2021-12-08T18:44:27.859917Z",
     "shell.execute_reply": "2021-12-08T18:44:27.859917Z"
    },
    "papermill": {
     "duration": 0.035002,
     "end_time": "2021-12-08T18:44:27.859917",
     "exception": false,
     "start_time": "2021-12-08T18:44:27.824915",
     "status": "completed"
    },
    "tags": []
   },
   "outputs": [],
   "source": [
    "def string_to_ordered_list (x):\n",
    "    '''\n",
    "    Function that takes a string that looks like a list, and converts it to an ordered list\n",
    "    '''\n",
    "    ordered_list = None\n",
    "    try: \n",
    "        str_list = str(x).replace('[','').replace(']','').replace(' ','').replace(\"'\",'').split(',')\n",
    "        str_list = list(map(int,str_list))\n",
    "        str_set = set(str_list)\n",
    "        ordered_list = sorted(list(str_set))\n",
    "    except:\n",
    "        ordered_list = np.NaN\n",
    "    \n",
    "    \n",
    "    return ordered_list"
   ]
  },
  {
   "cell_type": "code",
   "execution_count": 4,
   "id": "7ce5be23",
   "metadata": {
    "execution": {
     "iopub.execute_input": "2021-12-08T18:44:27.890915Z",
     "iopub.status.busy": "2021-12-08T18:44:27.890915Z",
     "iopub.status.idle": "2021-12-08T18:44:27.923220Z",
     "shell.execute_reply": "2021-12-08T18:44:27.922219Z"
    },
    "papermill": {
     "duration": 0.049302,
     "end_time": "2021-12-08T18:44:27.923220",
     "exception": false,
     "start_time": "2021-12-08T18:44:27.873918",
     "status": "completed"
    },
    "tags": []
   },
   "outputs": [],
   "source": [
    "## Importing drug matching output\n",
    "drug_node = pickle.load(open('Data/Outputs_Cleanup/Sunshine_dedupe_drug_integration/final_drug_lookup.p','rb'))"
   ]
  },
  {
   "cell_type": "code",
   "execution_count": 5,
   "id": "bd445fd5",
   "metadata": {
    "execution": {
     "iopub.execute_input": "2021-12-08T18:44:27.957223Z",
     "iopub.status.busy": "2021-12-08T18:44:27.956262Z",
     "iopub.status.idle": "2021-12-08T18:44:28.190948Z",
     "shell.execute_reply": "2021-12-08T18:44:28.190948Z"
    },
    "papermill": {
     "duration": 0.252685,
     "end_time": "2021-12-08T18:44:28.190948",
     "exception": false,
     "start_time": "2021-12-08T18:44:27.938263",
     "status": "completed"
    },
    "tags": []
   },
   "outputs": [],
   "source": [
    "## Importing drug information from the deduped FDA data\n",
    "openfda_drug_dedupe = pickle.load(open( \"Data/Outputs_Cleanup/FDA/Openfda_Drug_deduplicated.p\", \"rb\" ))\n",
    "\n",
    "## Sorting the fda_drug_id list column so that when we convert to a string, it will \n",
    "## match the fda_drug_id list column in the drug_node dataframe\n",
    "openfda_drug_dedupe = openfda_drug_dedupe.applymap(set).applymap(list)\n",
    "openfda_drug_dedupe.fda_drug_id = openfda_drug_dedupe.fda_drug_id.apply(sorted)\n",
    "\n",
    "## converting the fda_drug_id string column into a sorted list column\n",
    "drug_node['fda_drug_id'] = drug_node.fda_drug_id.apply(string_to_ordered_list)\n",
    "\n",
    "## converting fda_drug_id columns in drug_node df and openfda_drug_dedupe df \n",
    "## to string from list for merging\n",
    "drug_node['fda_drug_id'] = drug_node['fda_drug_id'].astype(str)\n",
    "openfda_drug_dedupe['fda_drug_id'] = openfda_drug_dedupe['fda_drug_id'].astype(str)\n",
    "drug_node = drug_node.merge(openfda_drug_dedupe,'left','fda_drug_id')\n",
    "\n",
    "## Dropping id's into other datasources\n",
    "# drug_node\n",
    "drug_node_output = drug_node.drop(columns = ['fda_drug_id','MedD_drug_id','sunshine_drug_id','manufacturer_name'])\n",
    "drug_node_output.to_csv('Nodes/Drug_Node.csv',index=False)"
   ]
  },
  {
   "cell_type": "markdown",
   "id": "f94597f4",
   "metadata": {
    "papermill": {
     "duration": 0.031022,
     "end_time": "2021-12-08T18:44:28.234973",
     "exception": false,
     "start_time": "2021-12-08T18:44:28.203951",
     "status": "completed"
    },
    "tags": []
   },
   "source": [
    "## Starting with the Sunshine Data\n",
    "### Hospital Node"
   ]
  },
  {
   "cell_type": "code",
   "execution_count": 6,
   "id": "9f051adf",
   "metadata": {
    "execution": {
     "iopub.execute_input": "2021-12-08T18:44:28.273915Z",
     "iopub.status.busy": "2021-12-08T18:44:28.273915Z",
     "iopub.status.idle": "2021-12-08T18:44:28.299912Z",
     "shell.execute_reply": "2021-12-08T18:44:28.299912Z"
    },
    "papermill": {
     "duration": 0.043909,
     "end_time": "2021-12-08T18:44:28.299912",
     "exception": false,
     "start_time": "2021-12-08T18:44:28.256003",
     "status": "completed"
    },
    "tags": []
   },
   "outputs": [],
   "source": [
    "hospital_node = pd.read_csv('Data/Outputs_Cleanup/Sunshine/hosp_info.csv')\n",
    "hospital_node.to_csv('Nodes/Hospital_Node.csv',index=False)"
   ]
  },
  {
   "cell_type": "markdown",
   "id": "c2db2458",
   "metadata": {
    "papermill": {
     "duration": 0.013964,
     "end_time": "2021-12-08T18:44:28.327917",
     "exception": false,
     "start_time": "2021-12-08T18:44:28.313953",
     "status": "completed"
    },
    "tags": []
   },
   "source": [
    "### Payments Node"
   ]
  },
  {
   "cell_type": "code",
   "execution_count": 7,
   "id": "b7961958",
   "metadata": {
    "execution": {
     "iopub.execute_input": "2021-12-08T18:44:28.357956Z",
     "iopub.status.busy": "2021-12-08T18:44:28.356957Z",
     "iopub.status.idle": "2021-12-08T18:44:32.818155Z",
     "shell.execute_reply": "2021-12-08T18:44:32.818155Z"
    },
    "papermill": {
     "duration": 4.478236,
     "end_time": "2021-12-08T18:44:32.819189",
     "exception": false,
     "start_time": "2021-12-08T18:44:28.340953",
     "status": "completed"
    },
    "tags": []
   },
   "outputs": [],
   "source": [
    "payments_node = pd.read_csv('Data/Outputs_Cleanup/Sunshine/payments.csv')\n",
    "payments_node.to_csv('Nodes/Payments_Node.csv',index=False)\n",
    "# payments_node"
   ]
  },
  {
   "cell_type": "markdown",
   "id": "b4396e55",
   "metadata": {
    "papermill": {
     "duration": 0.014997,
     "end_time": "2021-12-08T18:44:32.850188",
     "exception": false,
     "start_time": "2021-12-08T18:44:32.835191",
     "status": "completed"
    },
    "tags": []
   },
   "source": [
    "### Manufacturer-Payments Edge"
   ]
  },
  {
   "cell_type": "code",
   "execution_count": 8,
   "id": "0772efc0",
   "metadata": {
    "execution": {
     "iopub.execute_input": "2021-12-08T18:44:32.889164Z",
     "iopub.status.busy": "2021-12-08T18:44:32.889164Z",
     "iopub.status.idle": "2021-12-08T18:44:35.506703Z",
     "shell.execute_reply": "2021-12-08T18:44:35.506703Z"
    },
    "papermill": {
     "duration": 2.637523,
     "end_time": "2021-12-08T18:44:35.507704",
     "exception": false,
     "start_time": "2021-12-08T18:44:32.870181",
     "status": "completed"
    },
    "tags": []
   },
   "outputs": [],
   "source": [
    "manuf_payments_edge = pd.read_csv('Data/Outputs_Cleanup/Sunshine/pharmCo_payments.csv')\n",
    "manuf_payments_edge = manuf_payments_edge.merge(manuf_lookup,'left','Applicable_Manufacturer_or_Applicable_GPO_Making_Payment_ID')\n",
    "manuf_payments_edge = manuf_payments_edge[['Record_ID','manuf_id']]\n",
    "manuf_payments_edge.to_csv('Edges/Manufacturer_Payment_Edge.csv',index=False)"
   ]
  },
  {
   "cell_type": "markdown",
   "id": "bab50534",
   "metadata": {
    "papermill": {
     "duration": 0.031995,
     "end_time": "2021-12-08T18:44:35.578694",
     "exception": false,
     "start_time": "2021-12-08T18:44:35.546699",
     "status": "completed"
    },
    "tags": []
   },
   "source": [
    "### Payment-Drug Edge"
   ]
  },
  {
   "cell_type": "code",
   "execution_count": 9,
   "id": "629ce049",
   "metadata": {
    "execution": {
     "iopub.execute_input": "2021-12-08T18:44:35.622696Z",
     "iopub.status.busy": "2021-12-08T18:44:35.622696Z",
     "iopub.status.idle": "2021-12-08T18:44:39.957384Z",
     "shell.execute_reply": "2021-12-08T18:44:39.957384Z"
    },
    "papermill": {
     "duration": 4.356682,
     "end_time": "2021-12-08T18:44:39.958422",
     "exception": false,
     "start_time": "2021-12-08T18:44:35.601740",
     "status": "completed"
    },
    "tags": []
   },
   "outputs": [
    {
     "name": "stderr",
     "output_type": "stream",
     "text": [
      "C:\\Users\\10294029\\Anaconda3\\lib\\site-packages\\IPython\\core\\interactiveshell.py:3437: DtypeWarning: Columns (17,18,19,20,22,23,24,25) have mixed types.Specify dtype option on import or set low_memory=False.\n",
      "  exec(code_obj, self.user_global_ns, self.user_ns)\n"
     ]
    }
   ],
   "source": [
    "payment_drug_edge = pd.read_csv('Data/Outputs_Cleanup/Sunshine/record_drugs.csv')\n",
    "cols = ['Record_ID','Name_of_Drug_or_Biological_or_Device_or_Medical_Supply_1',\n",
    "        'Name_of_Drug_or_Biological_or_Device_or_Medical_Supply_2',\n",
    "        'Name_of_Drug_or_Biological_or_Device_or_Medical_Supply_3',\n",
    "        'Name_of_Drug_or_Biological_or_Device_or_Medical_Supply_4',\n",
    "        'Name_of_Drug_or_Biological_or_Device_or_Medical_Supply_5'\n",
    "       ]\n",
    "payment_drug_edge = payment_drug_edge[cols].melt(id_vars = 'Record_ID')\n",
    "payment_drug_edge.dropna(inplace=True)\n",
    "payment_drug_edge = payment_drug_edge[['Record_ID','value']]\n",
    "payment_drug_edge.columns = ['Record_ID','sunshine_drug_id']\n",
    "drug_node[['drug_id','sunshine_drug_id']].dropna()\n",
    "payment_drug_edge = payment_drug_edge.merge(drug_node[['drug_id','sunshine_drug_id']].dropna(),\n",
    "                                           'left',\n",
    "                                           'sunshine_drug_id')\n",
    "payment_drug_edge = payment_drug_edge[~payment_drug_edge.drug_id.isna()][['Record_ID','drug_id']]\n",
    "\n",
    "payment_drug_edge.drug_id= payment_drug_edge.drug_id.astype(int)\n",
    "payment_drug_edge.to_csv('Edges/Payment_Drug_Edge.csv',index=False)"
   ]
  },
  {
   "cell_type": "markdown",
   "id": "1b177f8e",
   "metadata": {
    "papermill": {
     "duration": 0.014995,
     "end_time": "2021-12-08T18:44:39.988377",
     "exception": false,
     "start_time": "2021-12-08T18:44:39.973382",
     "status": "completed"
    },
    "tags": []
   },
   "source": [
    "### Manufacturer-Drug edge"
   ]
  },
  {
   "cell_type": "code",
   "execution_count": 10,
   "id": "583c69ee",
   "metadata": {
    "execution": {
     "iopub.execute_input": "2021-12-08T18:44:40.037376Z",
     "iopub.status.busy": "2021-12-08T18:44:40.036376Z",
     "iopub.status.idle": "2021-12-08T18:44:40.211425Z",
     "shell.execute_reply": "2021-12-08T18:44:40.210389Z"
    },
    "papermill": {
     "duration": 0.198047,
     "end_time": "2021-12-08T18:44:40.211425",
     "exception": false,
     "start_time": "2021-12-08T18:44:40.013378",
     "status": "completed"
    },
    "tags": []
   },
   "outputs": [],
   "source": [
    "openfda_manuf_dedupe = pickle.load(open( \"Data/Outputs_Cleanup/FDA/openfda_manufacturer_deduplicated_single_manuf.p\", \"rb\" ))\n",
    "\n",
    "manuf_drug_edge = drug_node[['drug_id','manufacturer_name']]\n",
    "manuf_drug_edge = manuf_drug_edge.explode('manufacturer_name')\n",
    "manuf_drug_edge.dropna(inplace=True)\n",
    "manuf_drug_edge = manuf_drug_edge.merge(openfda_manuf_dedupe.explode('manuf_names'),'left',left_on='manufacturer_name',right_on='manuf_names')\n",
    "# manuf_drug_edge\n",
    "# manuf_lookup\n",
    "manuf_drug_edge = manuf_drug_edge[['drug_id','fda_manuf_id','manufacturer_name_y']].explode('fda_manuf_id')\n",
    "manuf_drug_edge = manuf_drug_edge.drop_duplicates(['drug_id','manufacturer_name_y'])[['drug_id','fda_manuf_id']]\n",
    "manuf_drug_edge = manuf_drug_edge.merge(manuf_lookup.explode('fda_manuf_id'),'left','fda_manuf_id')\n",
    "manuf_drug_edge = manuf_drug_edge[['drug_id','manuf_id']]\n",
    "manuf_drug_edge.to_csv('Edges/Manufacturer_Drug_Edge.csv',index=False)"
   ]
  },
  {
   "cell_type": "markdown",
   "id": "0098b933",
   "metadata": {
    "papermill": {
     "duration": 0.015992,
     "end_time": "2021-12-08T18:44:40.249384",
     "exception": false,
     "start_time": "2021-12-08T18:44:40.233392",
     "status": "completed"
    },
    "tags": []
   },
   "source": [
    "### Physicians Node"
   ]
  },
  {
   "cell_type": "code",
   "execution_count": 11,
   "id": "cb2ec1d2",
   "metadata": {
    "execution": {
     "iopub.execute_input": "2021-12-08T18:44:40.285383Z",
     "iopub.status.busy": "2021-12-08T18:44:40.285383Z",
     "iopub.status.idle": "2021-12-08T18:44:40.937264Z",
     "shell.execute_reply": "2021-12-08T18:44:40.937264Z"
    },
    "papermill": {
     "duration": 0.671867,
     "end_time": "2021-12-08T18:44:40.937264",
     "exception": false,
     "start_time": "2021-12-08T18:44:40.265397",
     "status": "completed"
    },
    "tags": []
   },
   "outputs": [],
   "source": [
    "physicians = pickle.load(open(\"Data/Physicians_Deduplication/Outputs/Physicians.pkl\", \"rb\" ))\n",
    "physicians.rename(columns={'id':'physician_id'},inplace=True)\n",
    "physician_info = physicians.drop(columns=['Prscrbr_NPI','Physician_Profile_ID'])\n",
    "physician_info.to_csv('Nodes/Physicians_Node.csv',index=False)"
   ]
  },
  {
   "cell_type": "markdown",
   "id": "315cd20e",
   "metadata": {
    "papermill": {
     "duration": 0.015005,
     "end_time": "2021-12-08T18:44:40.969269",
     "exception": false,
     "start_time": "2021-12-08T18:44:40.954264",
     "status": "completed"
    },
    "tags": []
   },
   "source": [
    "### Prescription Node, Prescription-Drug Edge, Prescription-Physician Edge"
   ]
  },
  {
   "cell_type": "code",
   "execution_count": 12,
   "id": "a8c06409",
   "metadata": {
    "execution": {
     "iopub.execute_input": "2021-12-08T18:44:41.006269Z",
     "iopub.status.busy": "2021-12-08T18:44:41.005305Z",
     "iopub.status.idle": "2021-12-08T18:44:48.562876Z",
     "shell.execute_reply": "2021-12-08T18:44:48.562876Z"
    },
    "papermill": {
     "duration": 7.577613,
     "end_time": "2021-12-08T18:44:48.562876",
     "exception": false,
     "start_time": "2021-12-08T18:44:40.985263",
     "status": "completed"
    },
    "tags": []
   },
   "outputs": [
    {
     "name": "stderr",
     "output_type": "stream",
     "text": [
      "<ipython-input-12-5cdb63e96030>:5: SettingWithCopyWarning: \n",
      "A value is trying to be set on a copy of a slice from a DataFrame.\n",
      "Try using .loc[row_indexer,col_indexer] = value instead\n",
      "\n",
      "See the caveats in the documentation: https://pandas.pydata.org/pandas-docs/stable/user_guide/indexing.html#returning-a-view-versus-a-copy\n",
      "  partD_to_drug_id['MedD_drug_id'] = partD_to_drug_id['MedD_drug_id'].apply(string_to_ordered_list)\n"
     ]
    }
   ],
   "source": [
    "prescriptions = pickle.load(open(\"Data/Outputs_Cleanup/Part_d/prescription_information.p\", \"rb\" ))\n",
    "prescriptions.head()\n",
    "\n",
    "partD_to_drug_id = drug_node[['drug_id','MedD_drug_id']]\n",
    "partD_to_drug_id['MedD_drug_id'] = partD_to_drug_id['MedD_drug_id'].apply(string_to_ordered_list)\n",
    "partD_to_drug_id = partD_to_drug_id.explode('MedD_drug_id')\n",
    "partD_to_drug_id.MedD_drug_id = partD_to_drug_id.MedD_drug_id.astype(float)\n",
    "\n",
    "prescriptions = prescriptions.merge(partD_to_drug_id,'left','MedD_drug_id')\n",
    "prescriptions.drop(columns=['GE65_Tot_Clms','GE65_Tot_30day_Fills','GE65_Tot_Drug_Cst','GE65_Tot_Day_Suply','GE65_Tot_Benes'],inplace=True)\n",
    "physician_Part_d_lookup = physicians.explode('Prscrbr_NPI').drop(columns=['Physician_Profile_ID','fname','lname','type','city'])\n",
    "physician_Part_d_lookup.dropna(inplace=True)\n",
    "physician_Part_d_lookup['Prscrbr_NPI'] = physician_Part_d_lookup['Prscrbr_NPI'].astype(int)\n",
    "prescriptions = prescriptions.merge(physician_Part_d_lookup,'left','Prscrbr_NPI')\n",
    "prescriptions.drop(columns=['Prscrbr_NPI','MedD_drug_id'],inplace=True)\n",
    "prescriptions = prescriptions.groupby(['drug_id', 'physician_id','Year']).sum().reset_index().reset_index()\n",
    "prescriptions.rename(columns={'index':'prescription_id'},inplace=True)"
   ]
  },
  {
   "cell_type": "code",
   "execution_count": 13,
   "id": "5d43d9c6",
   "metadata": {
    "execution": {
     "iopub.execute_input": "2021-12-08T18:44:48.601882Z",
     "iopub.status.busy": "2021-12-08T18:44:48.600875Z",
     "iopub.status.idle": "2021-12-08T18:44:49.018974Z",
     "shell.execute_reply": "2021-12-08T18:44:49.019968Z"
    },
    "papermill": {
     "duration": 0.440095,
     "end_time": "2021-12-08T18:44:49.019968",
     "exception": false,
     "start_time": "2021-12-08T18:44:48.579873",
     "status": "completed"
    },
    "tags": []
   },
   "outputs": [],
   "source": [
    "prescription_drug_edge = prescriptions.drop(columns=['physician_id','Year','Tot_Clms',\n",
    "                                                     'Tot_30day_Fills','Tot_Day_Suply',\n",
    "                                                     'Tot_Drug_Cst','Tot_Benes'])\n",
    "prescription_physician_edge = prescriptions.drop(columns=['drug_id','Year','Tot_Clms',\n",
    "                                                          'Tot_30day_Fills','Tot_Day_Suply',\n",
    "                                                          'Tot_Drug_Cst','Tot_Benes'])\n",
    "prescriptions.drop(columns=['drug_id', 'physician_id'],inplace=True)"
   ]
  },
  {
   "cell_type": "code",
   "execution_count": 14,
   "id": "847e2978",
   "metadata": {
    "execution": {
     "iopub.execute_input": "2021-12-08T18:44:49.070934Z",
     "iopub.status.busy": "2021-12-08T18:44:49.069936Z",
     "iopub.status.idle": "2021-12-08T18:45:06.084603Z",
     "shell.execute_reply": "2021-12-08T18:45:06.084603Z"
    },
    "papermill": {
     "duration": 17.043626,
     "end_time": "2021-12-08T18:45:06.084603",
     "exception": false,
     "start_time": "2021-12-08T18:44:49.040977",
     "status": "completed"
    },
    "tags": []
   },
   "outputs": [],
   "source": [
    "prescription_drug_edge.to_csv('Edges/Prescription_Drug_Edge.csv',index=False)\n",
    "prescription_physician_edge.to_csv('Edges/Prescription_Physician_Edge.csv',index=False)\n",
    "prescriptions.to_csv('Nodes/Prescriptions_Node.csv',index=False)"
   ]
  },
  {
   "cell_type": "code",
   "execution_count": 15,
   "id": "e506ecc2",
   "metadata": {
    "execution": {
     "iopub.execute_input": "2021-12-08T18:45:06.122563Z",
     "iopub.status.busy": "2021-12-08T18:45:06.122563Z",
     "iopub.status.idle": "2021-12-08T18:45:08.660219Z",
     "shell.execute_reply": "2021-12-08T18:45:08.661219Z"
    },
    "papermill": {
     "duration": 2.559607,
     "end_time": "2021-12-08T18:45:08.661219",
     "exception": false,
     "start_time": "2021-12-08T18:45:06.101612",
     "status": "completed"
    },
    "tags": []
   },
   "outputs": [],
   "source": [
    "payments_physician = pd.read_csv('Data/Outputs_Cleanup/Sunshine/physicians_payments.csv',dtype=int)\n",
    "physicians_sunshine_lookup = physicians.explode('Physician_Profile_ID').drop(columns=['Prscrbr_NPI','fname','lname','type','city'])\n",
    "physicians_sunshine_lookup.dropna(inplace=True)\n",
    "physicians_sunshine_lookup['Physician_Profile_ID']=physicians_sunshine_lookup['Physician_Profile_ID'].astype(int)\n",
    "payments_physician = payments_physician.merge(right=physicians_sunshine_lookup,how='left',on='Physician_Profile_ID')\n",
    "payments_physician.drop(columns='Physician_Profile_ID',inplace=True)\n",
    "payments_physician.to_csv('Edges/Payments_Physician_Edge.csv',index=False)"
   ]
  },
  {
   "cell_type": "code",
   "execution_count": null,
   "id": "bee147f0",
   "metadata": {
    "papermill": {
     "duration": 0.024005,
     "end_time": "2021-12-08T18:45:08.712225",
     "exception": false,
     "start_time": "2021-12-08T18:45:08.688220",
     "status": "completed"
    },
    "tags": []
   },
   "outputs": [],
   "source": []
  }
 ],
 "metadata": {
  "kernelspec": {
   "display_name": "Python 3",
   "language": "python",
   "name": "python3"
  },
  "language_info": {
   "codemirror_mode": {
    "name": "ipython",
    "version": 3
   },
   "file_extension": ".py",
   "mimetype": "text/x-python",
   "name": "python",
   "nbconvert_exporter": "python",
   "pygments_lexer": "ipython3",
   "version": "3.8.8"
  },
  "papermill": {
   "default_parameters": {},
   "duration": 44.44628,
   "end_time": "2021-12-08T18:45:09.529776",
   "environment_variables": {},
   "exception": null,
   "input_path": "Data_Integration.ipynb",
   "output_path": "Logs/2021-12-08Data_Integration.ipynb",
   "parameters": {},
   "start_time": "2021-12-08T18:44:25.083496",
   "version": "2.3.3"
  }
 },
 "nbformat": 4,
 "nbformat_minor": 5
}