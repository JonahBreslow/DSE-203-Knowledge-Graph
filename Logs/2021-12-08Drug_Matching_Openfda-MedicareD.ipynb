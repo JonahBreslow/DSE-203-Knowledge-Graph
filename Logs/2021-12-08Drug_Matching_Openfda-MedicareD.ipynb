{
 "cells": [
  {
   "cell_type": "markdown",
   "id": "c6e99e0e",
   "metadata": {
    "papermill": {
     "duration": 0.02801,
     "end_time": "2021-12-08T18:39:59.950398",
     "exception": false,
     "start_time": "2021-12-08T18:39:59.922388",
     "status": "completed"
    },
    "tags": []
   },
   "source": [
    "# Medicare Part D - OpenFDA Drug Matching\n",
    "## Authors: \n",
    "    1. Lam Ho\n",
    "    2. Jonah Breslow\n",
    "    3. Jeffrey Kagan\n",
    "## Purpose:\n",
    "The purpose of this notebook is to match the drug data from the Medicare Part D Drug data to the drug data from the OpenFDA Drug data. For this procedure, we utilized the Dedupe.io python implementation.\n",
    "\n",
    "### Importing modules"
   ]
  },
  {
   "cell_type": "code",
   "execution_count": 1,
   "id": "de7ac3ec",
   "metadata": {
    "execution": {
     "iopub.execute_input": "2021-12-08T18:39:59.982402Z",
     "iopub.status.busy": "2021-12-08T18:39:59.982402Z",
     "iopub.status.idle": "2021-12-08T18:40:01.115425Z",
     "shell.execute_reply": "2021-12-08T18:40:01.114425Z"
    },
    "papermill": {
     "duration": 1.14998,
     "end_time": "2021-12-08T18:40:01.115425",
     "exception": false,
     "start_time": "2021-12-08T18:39:59.965445",
     "status": "completed"
    },
    "tags": []
   },
   "outputs": [],
   "source": [
    "#!/usr/bin/python\n",
    "# -*- coding: utf-8 -*-\n",
    "\"\"\"\n",
    "This code demonstrates how to use RecordLink with two comma separated\n",
    "values (CSV) files. We have listings of products from two different\n",
    "online stores. The task is to link products between the datasets.\n",
    "\n",
    "The output will be a CSV with our linkded results.\n",
    "\n",
    "\"\"\"\n",
    "import os\n",
    "import csv\n",
    "import re\n",
    "import logging\n",
    "import optparse\n",
    "import pandas as pd\n",
    "import numpy as np\n",
    "import pickle\n",
    "\n",
    "import dedupe\n",
    "from unidecode import unidecode"
   ]
  },
  {
   "cell_type": "markdown",
   "id": "647be1b5-e233-48a3-8a75-0e474b542063",
   "metadata": {
    "papermill": {
     "duration": 0.015001,
     "end_time": "2021-12-08T18:40:01.149423",
     "exception": false,
     "start_time": "2021-12-08T18:40:01.134422",
     "status": "completed"
    },
    "tags": []
   },
   "source": [
    "### Importing Data"
   ]
  },
  {
   "cell_type": "code",
   "execution_count": 2,
   "id": "f569bc1e",
   "metadata": {
    "execution": {
     "iopub.execute_input": "2021-12-08T18:40:01.182421Z",
     "iopub.status.busy": "2021-12-08T18:40:01.182421Z",
     "iopub.status.idle": "2021-12-08T18:40:01.253422Z",
     "shell.execute_reply": "2021-12-08T18:40:01.253422Z"
    },
    "papermill": {
     "duration": 0.086958,
     "end_time": "2021-12-08T18:40:01.253422",
     "exception": false,
     "start_time": "2021-12-08T18:40:01.166464",
     "status": "completed"
    },
    "tags": []
   },
   "outputs": [],
   "source": [
    "fda_drugs = pickle.load(open(\"Data/Outputs_Cleanup/FDA/Openfda_Drug_deduplicated.p\", \"rb\" )).reset_index()\n",
    "df = fda_drugs[['brand_name']]\n",
    "df.to_csv('Data/Outputs_Cleanup/FDA/openfda_drug_dedup_input.csv')"
   ]
  },
  {
   "cell_type": "code",
   "execution_count": 3,
   "id": "8b70752c",
   "metadata": {
    "execution": {
     "iopub.execute_input": "2021-12-08T18:40:01.282426Z",
     "iopub.status.busy": "2021-12-08T18:40:01.282426Z",
     "iopub.status.idle": "2021-12-08T18:40:01.316973Z",
     "shell.execute_reply": "2021-12-08T18:40:01.316973Z"
    },
    "papermill": {
     "duration": 0.050508,
     "end_time": "2021-12-08T18:40:01.316973",
     "exception": false,
     "start_time": "2021-12-08T18:40:01.266465",
     "status": "completed"
    },
    "tags": []
   },
   "outputs": [],
   "source": [
    "medD_drugs = pickle.load(open(\"Data/Outputs_Cleanup/Part_d/dedupe_output/MedicareD_Drug_deduplicated_singlebrand.p\", \"rb\" )).reset_index()\n",
    "df = medD_drugs[['brand_name']]\n",
    "df.to_csv('Data/Outputs_Cleanup/Part_d/dedupe_output/medD_drug_dedup_input.csv')"
   ]
  },
  {
   "cell_type": "markdown",
   "id": "a1b0bcfc-f233-4d91-9fd3-00e90c7fa5fb",
   "metadata": {
    "papermill": {
     "duration": 0.013001,
     "end_time": "2021-12-08T18:40:01.344328",
     "exception": false,
     "start_time": "2021-12-08T18:40:01.331327",
     "status": "completed"
    },
    "tags": []
   },
   "source": [
    "### Running the Dedupe procedure"
   ]
  },
  {
   "cell_type": "code",
   "execution_count": 4,
   "id": "94eabbcd",
   "metadata": {
    "execution": {
     "iopub.execute_input": "2021-12-08T18:40:01.376978Z",
     "iopub.status.busy": "2021-12-08T18:40:01.376978Z",
     "iopub.status.idle": "2021-12-08T18:40:01.379981Z",
     "shell.execute_reply": "2021-12-08T18:40:01.379981Z"
    },
    "papermill": {
     "duration": 0.023004,
     "end_time": "2021-12-08T18:40:01.379981",
     "exception": false,
     "start_time": "2021-12-08T18:40:01.356977",
     "status": "completed"
    },
    "tags": []
   },
   "outputs": [],
   "source": [
    "def preProcess(column):\n",
    "    \"\"\"\n",
    "    Do a little bit of data cleaning with the help of Unidecode and Regex.\n",
    "    Things like casing, extra spaces, quotes and new lines can be ignored.\n",
    "    \"\"\"\n",
    "\n",
    "    column = unidecode(column)\n",
    "    column = re.sub('\\n', ' ', column)\n",
    "    column = re.sub('-', '', column)\n",
    "    column = re.sub('/', ' ', column)\n",
    "    column = re.sub(\"'\", '', column)\n",
    "    column = re.sub(\",\", '', column)\n",
    "    column = re.sub(\":\", ' ', column)\n",
    "    column = re.sub('  +', ' ', column)\n",
    "    column = column.strip().strip('\"').strip(\"'\").lower().strip()\n",
    "    if not column:\n",
    "        column = None\n",
    "    return column\n",
    "\n",
    "\n",
    "def readData(filename):\n",
    "    \"\"\"\n",
    "    Read in our data from a CSV file and create a dictionary of records,\n",
    "    where the key is a unique record ID.\n",
    "    \"\"\"\n",
    "\n",
    "    data_d = {}\n",
    "\n",
    "    with open(filename) as f:\n",
    "        reader = csv.DictReader(f)\n",
    "        for i, row in enumerate(reader):\n",
    "            clean_row = dict([(k, preProcess(v)) for (k, v) in row.items()])\n",
    "            data_d[filename + str(i)] = dict(clean_row)\n",
    "\n",
    "    return data_d"
   ]
  },
  {
   "cell_type": "markdown",
   "id": "575840c8-9956-47b8-82e3-5534eaceadd0",
   "metadata": {
    "papermill": {
     "duration": 0.017006,
     "end_time": "2021-12-08T18:40:01.413987",
     "exception": false,
     "start_time": "2021-12-08T18:40:01.396981",
     "status": "completed"
    },
    "tags": []
   },
   "source": [
    "### parameters"
   ]
  },
  {
   "cell_type": "code",
   "execution_count": 5,
   "id": "e6e867f1-409e-43ea-8a9d-789b60568590",
   "metadata": {
    "execution": {
     "iopub.execute_input": "2021-12-08T18:40:01.443981Z",
     "iopub.status.busy": "2021-12-08T18:40:01.443981Z",
     "iopub.status.idle": "2021-12-08T18:40:01.460036Z",
     "shell.execute_reply": "2021-12-08T18:40:01.460036Z"
    },
    "papermill": {
     "duration": 0.032057,
     "end_time": "2021-12-08T18:40:01.460036",
     "exception": false,
     "start_time": "2021-12-08T18:40:01.427979",
     "status": "completed"
    },
    "tags": [
     "parameters"
    ]
   },
   "outputs": [],
   "source": [
    "retrain = False"
   ]
  },
  {
   "cell_type": "code",
   "execution_count": 6,
   "id": "62ad8256",
   "metadata": {
    "execution": {
     "iopub.execute_input": "2021-12-08T18:40:01.508124Z",
     "iopub.status.busy": "2021-12-08T18:40:01.507530Z",
     "iopub.status.idle": "2021-12-08T18:40:01.521647Z",
     "shell.execute_reply": "2021-12-08T18:40:01.521647Z"
    },
    "papermill": {
     "duration": 0.048621,
     "end_time": "2021-12-08T18:40:01.521647",
     "exception": false,
     "start_time": "2021-12-08T18:40:01.473026",
     "status": "completed"
    },
    "tags": [
     "injected-parameters"
    ]
   },
   "outputs": [],
   "source": [
    "# Parameters\n",
    "retrain = False\n"
   ]
  },
  {
   "cell_type": "code",
   "execution_count": 7,
   "id": "bc317101",
   "metadata": {
    "execution": {
     "iopub.execute_input": "2021-12-08T18:40:01.594651Z",
     "iopub.status.busy": "2021-12-08T18:40:01.582650Z",
     "iopub.status.idle": "2021-12-08T18:40:16.379883Z",
     "shell.execute_reply": "2021-12-08T18:40:16.379883Z"
    },
    "papermill": {
     "duration": 14.838168,
     "end_time": "2021-12-08T18:40:16.379883",
     "exception": false,
     "start_time": "2021-12-08T18:40:01.541715",
     "status": "completed"
    },
    "tags": []
   },
   "outputs": [
    {
     "name": "stdout",
     "output_type": "stream",
     "text": [
      "importing data ...\n",
      "reading from Data/Outputs_Cleanup/FDA_partD_drug_matching/data_matching_learned_settings\n"
     ]
    },
    {
     "name": "stderr",
     "output_type": "stream",
     "text": [
      "INFO:dedupe.api:Predicate set:\n"
     ]
    },
    {
     "name": "stderr",
     "output_type": "stream",
     "text": [
      "INFO:dedupe.api:(TfidfNGramSearchPredicate: (0.8, brand_name), SimplePredicate: (firstTokenPredicate, brand_name), SimplePredicate: (commonSixGram, brand_name))\n"
     ]
    },
    {
     "name": "stdout",
     "output_type": "stream",
     "text": [
      "clustering...\n"
     ]
    },
    {
     "name": "stdout",
     "output_type": "stream",
     "text": [
      "# duplicate sets 1512\n"
     ]
    }
   ],
   "source": [
    "\n",
    "if retrain == True:\n",
    "    try:\n",
    "        os.remove('csv_example_learned_settings')\n",
    "    except:\n",
    "        print('Your settings file appears to not have existed.')\n",
    "    \n",
    "    \n",
    "output_file = 'Data/Outputs_Cleanup/FDA_partD_drug_matching/data_matching_output.csv'\n",
    "settings_file = 'Data/Outputs_Cleanup/FDA_partD_drug_matching/data_matching_learned_settings'\n",
    "training_file = 'Data/Outputs_Cleanup/FDA_partD_drug_matching/data_matching_training.json'\n",
    "\n",
    "left_file = 'Data/Outputs_Cleanup/FDA/openfda_drug_dedup_input.csv'\n",
    "right_file = 'Data/Outputs_Cleanup/Part_d/dedupe_output/medD_drug_dedup_input.csv'\n",
    "\n",
    "print('importing data ...')\n",
    "data_1 = readData(left_file)\n",
    "data_2 = readData(right_file)\n",
    "\n",
    "def descriptions():\n",
    "    for dataset in (data_1, data_2):\n",
    "        for record in dataset.values():\n",
    "            yield record['description']\n",
    "\n",
    "# ## Training\n",
    "\n",
    "if os.path.exists(settings_file):\n",
    "    print('reading from', settings_file)\n",
    "    with open(settings_file, 'rb') as sf:\n",
    "        linker = dedupe.StaticRecordLink(sf)\n",
    "\n",
    "else:\n",
    "    # Define the fields the linker will pay attention to\n",
    "    #\n",
    "    # Notice how we are telling the linker to use a custom field comparator\n",
    "    # for the 'price' field.\n",
    "    fields = [\n",
    "        {'field': 'brand_name', 'type': 'String'},\n",
    "        #{'field': 'title', 'type': 'Text', 'corpus': descriptions()},\n",
    "        #{'field': 'description', 'type': 'Text',\n",
    "        # 'has missing': True, 'corpus': descriptions()},\n",
    "        #{'field': 'price', 'type': 'Price', 'has missing': True}\n",
    "    ]\n",
    "\n",
    "    # Create a new linker object and pass our data model to it.\n",
    "    linker = dedupe.RecordLink(fields)\n",
    "\n",
    "    # If we have training data saved from a previous run of linker,\n",
    "    # look for it an load it in.\n",
    "    # __Note:__ if you want to train from scratch, delete the training_file\n",
    "    if os.path.exists(training_file):\n",
    "        print('reading labeled examples from ', training_file)\n",
    "        with open(training_file) as tf:\n",
    "            linker.prepare_training(data_1,\n",
    "                                    data_2,\n",
    "                                    training_file=tf,\n",
    "                                    sample_size=15000)\n",
    "    else:\n",
    "        linker.prepare_training(data_1, data_2, sample_size=15000)\n",
    "\n",
    "    # ## Active learning\n",
    "    # Dedupe will find the next pair of records\n",
    "    # it is least certain about and ask you to label them as matches\n",
    "    # or not.\n",
    "    # use 'y', 'n' and 'u' keys to flag duplicates\n",
    "    # press 'f' when you are finished\n",
    "    print('starting active labeling...')\n",
    "\n",
    "    dedupe.console_label(linker)\n",
    "\n",
    "    linker.train()\n",
    "\n",
    "    # When finished, save our training away to disk\n",
    "    with open(training_file, 'w') as tf:\n",
    "        linker.write_training(tf)\n",
    "\n",
    "    # Save our weights and predicates to disk.  If the settings file\n",
    "    # exists, we will skip all the training and learning next time we run\n",
    "    # this file.\n",
    "    with open(settings_file, 'wb') as sf:\n",
    "        linker.write_settings(sf)\n",
    "\n",
    "# ## Blocking\n",
    "\n",
    "# ## Clustering\n",
    "\n",
    "# Find the threshold that will maximize a weighted average of our\n",
    "# precision and recall.  When we set the recall weight to 2, we are\n",
    "# saying we care twice as much about recall as we do precision.\n",
    "#\n",
    "# If we had more data, we would not pass in all the blocked data into\n",
    "# this function but a representative sample.\n",
    "\n",
    "print('clustering...')\n",
    "linked_records = linker.join(data_1, data_2, 0.0)\n",
    "\n",
    "print('# duplicate sets', len(linked_records))\n",
    "# ## Writing Results\n",
    "\n",
    "# Write our original data back out to a CSV with a new column called\n",
    "# 'Cluster ID' which indicates which records refer to each other.\n",
    "\n",
    "cluster_membership = {}\n",
    "for cluster_id, (cluster, score) in enumerate(linked_records):\n",
    "    for record_id in cluster:\n",
    "        cluster_membership[record_id] = {'Cluster ID': cluster_id,\n",
    "                                         'Link Score': score}\n",
    "\n",
    "with open(output_file, 'w') as f:\n",
    "\n",
    "    header_unwritten = True\n",
    "\n",
    "    for fileno, filename in enumerate((left_file, right_file)):\n",
    "        with open(filename) as f_input:\n",
    "            reader = csv.DictReader(f_input)\n",
    "\n",
    "            if header_unwritten:\n",
    "\n",
    "                fieldnames = (['Cluster ID', 'Link Score', 'source file'] +\n",
    "                              reader.fieldnames)\n",
    "\n",
    "                writer = csv.DictWriter(f, fieldnames=fieldnames)\n",
    "                writer.writeheader()\n",
    "\n",
    "                header_unwritten = False\n",
    "\n",
    "            for row_id, row in enumerate(reader):\n",
    "\n",
    "                record_id = filename + str(row_id)\n",
    "                cluster_details = cluster_membership.get(record_id, {})\n",
    "                row['source file'] = fileno\n",
    "                row.update(cluster_details)\n",
    "\n",
    "                writer.writerow(row)"
   ]
  },
  {
   "cell_type": "markdown",
   "id": "edccf79b-d6a2-449a-8b65-2ebfe0a6db56",
   "metadata": {
    "papermill": {
     "duration": 0.015038,
     "end_time": "2021-12-08T18:40:16.411920",
     "exception": false,
     "start_time": "2021-12-08T18:40:16.396882",
     "status": "completed"
    },
    "tags": []
   },
   "source": [
    "### Post-Processing the Drug Matches"
   ]
  },
  {
   "cell_type": "code",
   "execution_count": 8,
   "id": "e6d5a93a",
   "metadata": {
    "execution": {
     "iopub.execute_input": "2021-12-08T18:40:16.457882Z",
     "iopub.status.busy": "2021-12-08T18:40:16.456882Z",
     "iopub.status.idle": "2021-12-08T18:40:16.489880Z",
     "shell.execute_reply": "2021-12-08T18:40:16.489880Z"
    },
    "papermill": {
     "duration": 0.056993,
     "end_time": "2021-12-08T18:40:16.489880",
     "exception": false,
     "start_time": "2021-12-08T18:40:16.432887",
     "status": "completed"
    },
    "tags": []
   },
   "outputs": [],
   "source": [
    "df = pd.read_csv('Data/Outputs_Cleanup/FDA_partD_drug_matching/data_matching_output.csv')\n",
    "#df.sort_values('Cluster ID')\n",
    "df_fda = df[df['source file'] == 0]\n",
    "df_partD = df[df['source file'] == 1]\n",
    "df_partD.columns = ['Cluster ID','Link Score','source file','index','brand_name']\n",
    "df_fda.columns = ['Cluster ID','Link Score','source file','index','brand_name']\n",
    "\n",
    "fda_drugs_merge = fda_drugs.reset_index()\n",
    "medD_drugs_merge = medD_drugs.reset_index()"
   ]
  },
  {
   "cell_type": "markdown",
   "id": "eb5c3954-6180-4ebf-ae0e-a556cdfa05e0",
   "metadata": {
    "papermill": {
     "duration": 0.018963,
     "end_time": "2021-12-08T18:40:16.533890",
     "exception": false,
     "start_time": "2021-12-08T18:40:16.514927",
     "status": "completed"
    },
    "tags": []
   },
   "source": [
    "#### Pulling on the identifiers back into the source data"
   ]
  },
  {
   "cell_type": "code",
   "execution_count": 9,
   "id": "11990592",
   "metadata": {
    "execution": {
     "iopub.execute_input": "2021-12-08T18:40:16.580886Z",
     "iopub.status.busy": "2021-12-08T18:40:16.579880Z",
     "iopub.status.idle": "2021-12-08T18:40:16.598924Z",
     "shell.execute_reply": "2021-12-08T18:40:16.599926Z"
    },
    "papermill": {
     "duration": 0.049042,
     "end_time": "2021-12-08T18:40:16.599926",
     "exception": false,
     "start_time": "2021-12-08T18:40:16.550884",
     "status": "completed"
    },
    "tags": []
   },
   "outputs": [],
   "source": [
    "df_fda = df_fda.merge(fda_drugs_merge[['brand_name', 'fda_drug_id','index']], how='left', on=['brand_name','index'])\n",
    "df_partD = df_partD.merge(medD_drugs_merge[['brand_name', 'MedD_drug_id','index']], how='left', on=['brand_name','index'])"
   ]
  },
  {
   "cell_type": "markdown",
   "id": "ca4dc2bc-c7c6-4ca4-98c8-e3be38b551a9",
   "metadata": {
    "papermill": {
     "duration": 0.015959,
     "end_time": "2021-12-08T18:40:16.635886",
     "exception": false,
     "start_time": "2021-12-08T18:40:16.619927",
     "status": "completed"
    },
    "tags": []
   },
   "source": [
    "#### Aggregating to the Drug-Level \n",
    "We want our output table to be unique by drug"
   ]
  },
  {
   "cell_type": "code",
   "execution_count": 10,
   "id": "868a1677",
   "metadata": {
    "execution": {
     "iopub.execute_input": "2021-12-08T18:40:16.676884Z",
     "iopub.status.busy": "2021-12-08T18:40:16.676884Z",
     "iopub.status.idle": "2021-12-08T18:40:17.043887Z",
     "shell.execute_reply": "2021-12-08T18:40:17.043887Z"
    },
    "papermill": {
     "duration": 0.390003,
     "end_time": "2021-12-08T18:40:17.044885",
     "exception": false,
     "start_time": "2021-12-08T18:40:16.654882",
     "status": "completed"
    },
    "tags": []
   },
   "outputs": [],
   "source": [
    "drug_merge = pd.concat([df_fda, df_partD], axis=0).sort_values('Cluster ID')\n",
    "drug_merge['fda_drug_id'] = drug_merge['fda_drug_id'].fillna('[]')\n",
    "drug_merge['MedD_drug_id'] = drug_merge['MedD_drug_id'].fillna('[]')\n",
    "\n",
    "drug_merge = drug_merge.reset_index()\n",
    "drug_merge['Cluster ID'] = np.where(drug_merge['Cluster ID'].isna(),\n",
    "                                    drug_merge['index']+100000000,\n",
    "                                    drug_merge['Cluster ID']\n",
    "    )\n",
    "drug_merge = drug_merge.groupby('Cluster ID').agg(list)"
   ]
  },
  {
   "cell_type": "markdown",
   "id": "b85646e3-cce3-4485-8efa-c209ee9ccb23",
   "metadata": {
    "papermill": {
     "duration": 0.016006,
     "end_time": "2021-12-08T18:40:17.084893",
     "exception": false,
     "start_time": "2021-12-08T18:40:17.068887",
     "status": "completed"
    },
    "tags": []
   },
   "source": [
    "#### Extracting IDs into source data from the lists"
   ]
  },
  {
   "cell_type": "code",
   "execution_count": 11,
   "id": "c3ce4f3e",
   "metadata": {
    "execution": {
     "iopub.execute_input": "2021-12-08T18:40:17.131909Z",
     "iopub.status.busy": "2021-12-08T18:40:17.131909Z",
     "iopub.status.idle": "2021-12-08T18:40:17.137888Z",
     "shell.execute_reply": "2021-12-08T18:40:17.137888Z"
    },
    "papermill": {
     "duration": 0.034996,
     "end_time": "2021-12-08T18:40:17.137888",
     "exception": false,
     "start_time": "2021-12-08T18:40:17.102892",
     "status": "completed"
    },
    "tags": []
   },
   "outputs": [],
   "source": [
    "def pick_list(x):\n",
    "    my_pick = None\n",
    "    for each in x:\n",
    "        if each == '[]':\n",
    "            continue\n",
    "        else:\n",
    "            my_pick = each\n",
    "    return my_pick\n",
    "\n",
    "drug_merge['fda_drug_id'] = drug_merge['fda_drug_id'].apply(lambda x: pick_list(x))\n",
    "drug_merge['MedD_drug_id'] = drug_merge['MedD_drug_id'].apply(lambda x: pick_list(x))"
   ]
  },
  {
   "cell_type": "markdown",
   "id": "a12d3a96-9778-4338-8e16-dcfecc94af89",
   "metadata": {
    "papermill": {
     "duration": 0.015003,
     "end_time": "2021-12-08T18:40:17.170891",
     "exception": false,
     "start_time": "2021-12-08T18:40:17.155888",
     "status": "completed"
    },
    "tags": []
   },
   "source": [
    "#### When we cluster multiple drug brand names into the same drug, we create a function that picks the longest brand_name to be the cluster name"
   ]
  },
  {
   "cell_type": "code",
   "execution_count": 12,
   "id": "be91db5e-f4bb-4da0-8304-a35871c25bef",
   "metadata": {
    "execution": {
     "iopub.execute_input": "2021-12-08T18:40:17.206893Z",
     "iopub.status.busy": "2021-12-08T18:40:17.206893Z",
     "iopub.status.idle": "2021-12-08T18:40:17.216890Z",
     "shell.execute_reply": "2021-12-08T18:40:17.215896Z"
    },
    "papermill": {
     "duration": 0.030002,
     "end_time": "2021-12-08T18:40:17.216890",
     "exception": false,
     "start_time": "2021-12-08T18:40:17.186888",
     "status": "completed"
    },
    "tags": []
   },
   "outputs": [],
   "source": [
    "def pick_longest(x):\n",
    "    longest = None\n",
    "    longest_len = 0\n",
    "    for idx, each in enumerate(x):\n",
    "        if idx == 0:\n",
    "            longest = each\n",
    "            longest_len = len(each)\n",
    "            continue\n",
    "        if len(each) > longest_len:\n",
    "            longest = each\n",
    "            longest_len = len(each)  \n",
    "    return longest"
   ]
  },
  {
   "cell_type": "markdown",
   "id": "cefb34b5-ef11-46ef-afa5-6192117a6efb",
   "metadata": {
    "papermill": {
     "duration": 0.015003,
     "end_time": "2021-12-08T18:40:17.248891",
     "exception": false,
     "start_time": "2021-12-08T18:40:17.233888",
     "status": "completed"
    },
    "tags": []
   },
   "source": [
    "### Exporting Results"
   ]
  },
  {
   "cell_type": "code",
   "execution_count": 13,
   "id": "50243cfc-df20-403c-8f3e-d1b185ea4854",
   "metadata": {
    "execution": {
     "iopub.execute_input": "2021-12-08T18:40:17.288892Z",
     "iopub.status.busy": "2021-12-08T18:40:17.285893Z",
     "iopub.status.idle": "2021-12-08T18:40:17.310891Z",
     "shell.execute_reply": "2021-12-08T18:40:17.310891Z"
    },
    "papermill": {
     "duration": 0.047997,
     "end_time": "2021-12-08T18:40:17.310891",
     "exception": false,
     "start_time": "2021-12-08T18:40:17.262894",
     "status": "completed"
    },
    "tags": []
   },
   "outputs": [],
   "source": [
    "drug_merge['brand_name'] = drug_merge['brand_name'].apply(lambda x: pick_longest(x))\n",
    "drug_merge = drug_merge[['brand_name', 'fda_drug_id', 'MedD_drug_id']]\n",
    "pickle.dump(drug_merge, open( \"Data/Outputs_Cleanup/FDA_partD_drug_matching/fda_partD_drugs_matched.p\", \"wb\" ) )\n",
    "# drug_merge.to_csv('Data/Outputs_Cleanup/FDA_partD_drug_matching/fda_partD_drugs_matched.csv', index=False)"
   ]
  }
 ],
 "metadata": {
  "kernelspec": {
   "display_name": "Python 3",
   "language": "python",
   "name": "python3"
  },
  "language_info": {
   "codemirror_mode": {
    "name": "ipython",
    "version": 3
   },
   "file_extension": ".py",
   "mimetype": "text/x-python",
   "name": "python",
   "nbconvert_exporter": "python",
   "pygments_lexer": "ipython3",
   "version": "3.8.8"
  },
  "papermill": {
   "default_parameters": {},
   "duration": 19.680663,
   "end_time": "2021-12-08T18:40:17.757406",
   "environment_variables": {},
   "exception": null,
   "input_path": "Drug_Matching_Openfda-MedicareD.ipynb",
   "output_path": "Logs/2021-12-08Drug_Matching_Openfda-MedicareD.ipynb",
   "parameters": {
    "retrain": false
   },
   "start_time": "2021-12-08T18:39:58.076743",
   "version": "2.3.3"
  }
 },
 "nbformat": 4,
 "nbformat_minor": 5
}