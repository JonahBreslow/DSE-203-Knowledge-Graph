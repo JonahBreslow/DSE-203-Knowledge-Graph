{
 "cells": [
  {
   "cell_type": "markdown",
   "id": "2bacc0f9-1e95-47bd-bb53-07b999a5a129",
   "metadata": {
    "papermill": {
     "duration": 0.019966,
     "end_time": "2021-12-08T18:38:30.457271",
     "exception": false,
     "start_time": "2021-12-08T18:38:30.437305",
     "status": "completed"
    },
    "tags": []
   },
   "source": [
    "# Medicare Part D Drugs Deduplication\n",
    "## Authors: \n",
    "    1. Lam Ho\n",
    "    2. Jonah Breslow\n",
    "    3. Jeffrey Kagan\n",
    "## Purpose:\n",
    "The purpose of this notebook is to internally deduplicate the drug data from the Medicare Part D Drug data. The output will be used to match with other data that contain drug node information. For this procedure, we utilized the Dedupe.io python implementation.\n",
    "\n",
    "### Importing modules"
   ]
  },
  {
   "cell_type": "code",
   "execution_count": 1,
   "id": "78b7ce68",
   "metadata": {
    "execution": {
     "iopub.execute_input": "2021-12-08T18:38:30.491234Z",
     "iopub.status.busy": "2021-12-08T18:38:30.491234Z",
     "iopub.status.idle": "2021-12-08T18:38:33.294148Z",
     "shell.execute_reply": "2021-12-08T18:38:33.294148Z"
    },
    "papermill": {
     "duration": 2.822913,
     "end_time": "2021-12-08T18:38:33.294148",
     "exception": false,
     "start_time": "2021-12-08T18:38:30.471235",
     "status": "completed"
    },
    "tags": []
   },
   "outputs": [],
   "source": [
    "#!/usr/bin/python\n",
    "# -*- coding: utf-8 -*-\n",
    "\"\"\"\n",
    "This code demonstrates how to use dedupe with a comma separated values\n",
    "(CSV) file. All operations are performed in memory, so will run very\n",
    "quickly on datasets up to ~10,000 rows.\n",
    "\n",
    "We start with a CSV file containing our messy data. In this example,\n",
    "it is listings of early childhood education centers in Chicago\n",
    "compiled from several different sources.\n",
    "\n",
    "The output will be a CSV with our clustered results.\n",
    "\n",
    "For larger datasets, see our [mysql_example](mysql_example.html)\n",
    "\"\"\"\n",
    "\n",
    "import os\n",
    "import csv\n",
    "import re\n",
    "import logging\n",
    "import optparse\n",
    "import pandas as pd\n",
    "import pickle\n",
    "\n",
    "import dedupe\n",
    "from unidecode import unidecode"
   ]
  },
  {
   "cell_type": "markdown",
   "id": "7ed62278-9c20-4ec3-826a-11a0a35ca782",
   "metadata": {
    "papermill": {
     "duration": 0.009994,
     "end_time": "2021-12-08T18:38:33.315146",
     "exception": false,
     "start_time": "2021-12-08T18:38:33.305152",
     "status": "completed"
    },
    "tags": []
   },
   "source": [
    "### Running the Dedupe procedure"
   ]
  },
  {
   "cell_type": "code",
   "execution_count": 2,
   "id": "1cd13752",
   "metadata": {
    "execution": {
     "iopub.execute_input": "2021-12-08T18:38:33.343150Z",
     "iopub.status.busy": "2021-12-08T18:38:33.343150Z",
     "iopub.status.idle": "2021-12-08T18:38:33.358184Z",
     "shell.execute_reply": "2021-12-08T18:38:33.358184Z"
    },
    "papermill": {
     "duration": 0.034007,
     "end_time": "2021-12-08T18:38:33.359177",
     "exception": false,
     "start_time": "2021-12-08T18:38:33.325170",
     "status": "completed"
    },
    "tags": []
   },
   "outputs": [],
   "source": [
    "def preProcess(column):\n",
    "    \"\"\"\n",
    "    Do a little bit of data cleaning with the help of Unidecode and Regex.\n",
    "    Things like casing, extra spaces, quotes and new lines can be ignored.\n",
    "    \"\"\"\n",
    "    column = unidecode(column)\n",
    "    column = re.sub('  +', ' ', column)\n",
    "    column = re.sub('\\n', ' ', column)\n",
    "    column = column.strip().strip('\"').strip(\"'\").lower().strip()\n",
    "    # If data is missing, indicate that by setting the value to `None`\n",
    "    if not column:\n",
    "        column = None\n",
    "    return column\n",
    "\n",
    "\n",
    "def readData(filename):\n",
    "    \"\"\"\n",
    "    Read in our data from a CSV file and create a dictionary of records,\n",
    "    where the key is a unique record ID and each value is dict\n",
    "    \"\"\"\n",
    "\n",
    "    data_d = {}\n",
    "    with open(filename) as f:\n",
    "        reader = csv.DictReader(f)\n",
    "        for row in reader:\n",
    "            clean_row = [(k, preProcess(v)) for (k, v) in row.items()]\n",
    "            row_id = int(row['MedD_drug_id'])\n",
    "            data_d[row_id] = dict(clean_row)\n",
    "\n",
    "    return data_d"
   ]
  },
  {
   "cell_type": "code",
   "execution_count": 3,
   "id": "67cf411c-10c5-4bd3-af17-d4539b311e7f",
   "metadata": {
    "execution": {
     "iopub.execute_input": "2021-12-08T18:38:33.380174Z",
     "iopub.status.busy": "2021-12-08T18:38:33.380174Z",
     "iopub.status.idle": "2021-12-08T18:38:33.389322Z",
     "shell.execute_reply": "2021-12-08T18:38:33.389322Z"
    },
    "papermill": {
     "duration": 0.022149,
     "end_time": "2021-12-08T18:38:33.389322",
     "exception": false,
     "start_time": "2021-12-08T18:38:33.367173",
     "status": "completed"
    },
    "tags": []
   },
   "outputs": [],
   "source": [
    "# ## Setup\n",
    "input_file = 'Data/Outputs_Cleanup/Part_d/drug_information.csv'\n",
    "output_file = 'Data/Outputs_Cleanup/Part_d/dedupe_output/MedicareD_drug_deduplicated.csv'\n",
    "settings_file = 'Data/Outputs_Cleanup/Part_d/dedupe_output/csv_example_learned_settings'\n",
    "training_file = 'Data/Outputs_Cleanup/Part_d/dedupe_output/csv_example_training.json'"
   ]
  },
  {
   "cell_type": "markdown",
   "id": "5ad6f198-8109-4d24-a040-7aca65c95aef",
   "metadata": {
    "papermill": {
     "duration": 0.010001,
     "end_time": "2021-12-08T18:38:33.409322",
     "exception": false,
     "start_time": "2021-12-08T18:38:33.399321",
     "status": "completed"
    },
    "tags": []
   },
   "source": [
    "## Parameters"
   ]
  },
  {
   "cell_type": "code",
   "execution_count": 4,
   "id": "28408071-50d9-4d50-ba7f-005a1dbfcffc",
   "metadata": {
    "execution": {
     "iopub.execute_input": "2021-12-08T18:38:33.432325Z",
     "iopub.status.busy": "2021-12-08T18:38:33.431325Z",
     "iopub.status.idle": "2021-12-08T18:38:33.436325Z",
     "shell.execute_reply": "2021-12-08T18:38:33.436325Z"
    },
    "papermill": {
     "duration": 0.017,
     "end_time": "2021-12-08T18:38:33.436325",
     "exception": false,
     "start_time": "2021-12-08T18:38:33.419325",
     "status": "completed"
    },
    "tags": [
     "parameters"
    ]
   },
   "outputs": [],
   "source": [
    "retrain = False"
   ]
  },
  {
   "cell_type": "code",
   "execution_count": 5,
   "id": "cea72dc6",
   "metadata": {
    "execution": {
     "iopub.execute_input": "2021-12-08T18:38:33.462327Z",
     "iopub.status.busy": "2021-12-08T18:38:33.461366Z",
     "iopub.status.idle": "2021-12-08T18:38:33.467325Z",
     "shell.execute_reply": "2021-12-08T18:38:33.467325Z"
    },
    "papermill": {
     "duration": 0.018997,
     "end_time": "2021-12-08T18:38:33.468360",
     "exception": false,
     "start_time": "2021-12-08T18:38:33.449363",
     "status": "completed"
    },
    "tags": [
     "injected-parameters"
    ]
   },
   "outputs": [],
   "source": [
    "# Parameters\n",
    "retrain = False\n"
   ]
  },
  {
   "cell_type": "code",
   "execution_count": 6,
   "id": "6cb9f5e4-96d0-498f-ac07-20d5ad4b8c5a",
   "metadata": {
    "execution": {
     "iopub.execute_input": "2021-12-08T18:38:33.496324Z",
     "iopub.status.busy": "2021-12-08T18:38:33.496324Z",
     "iopub.status.idle": "2021-12-08T18:38:50.763067Z",
     "shell.execute_reply": "2021-12-08T18:38:50.763067Z"
    },
    "papermill": {
     "duration": 17.285706,
     "end_time": "2021-12-08T18:38:50.763067",
     "exception": false,
     "start_time": "2021-12-08T18:38:33.477361",
     "status": "completed"
    },
    "tags": []
   },
   "outputs": [
    {
     "name": "stderr",
     "output_type": "stream",
     "text": [
      "INFO:dedupe.api:Predicate set:\n"
     ]
    },
    {
     "name": "stderr",
     "output_type": "stream",
     "text": [
      "INFO:dedupe.api:(TfidfNGramCanopyPredicate: (0.8, brand_name), SimplePredicate: (sortedAcronym, brand_name), SimplePredicate: (sameSevenCharStartPredicate, brand_name))\n"
     ]
    },
    {
     "name": "stderr",
     "output_type": "stream",
     "text": [
      "INFO:dedupe.api:(SimplePredicate: (sameSevenCharStartPredicate, brand_name), TfidfTextCanopyPredicate: (0.6, brand_name), TfidfNGramCanopyPredicate: (0.4, brand_name))\n"
     ]
    },
    {
     "name": "stderr",
     "output_type": "stream",
     "text": [
      "INFO:dedupe.api:(SimplePredicate: (firstTwoTokensPredicate, brand_name), TfidfTextCanopyPredicate: (0.2, brand_name), LevenshteinCanopyPredicate: (4, brand_name))\n"
     ]
    },
    {
     "name": "stderr",
     "output_type": "stream",
     "text": [
      "INFO:dedupe.api:(SimplePredicate: (commonThreeTokens, brand_name), SimplePredicate: (nearIntegersPredicate, brand_name), TfidfTextCanopyPredicate: (0.8, brand_name))\n"
     ]
    },
    {
     "name": "stdout",
     "output_type": "stream",
     "text": [
      "importing data ...\n",
      "reading from Data/Outputs_Cleanup/Part_d/dedupe_output/csv_example_learned_settings\n",
      "clustering...\n"
     ]
    },
    {
     "name": "stdout",
     "output_type": "stream",
     "text": [
      "# duplicate sets 2271\n"
     ]
    }
   ],
   "source": [
    "if retrain == True:\n",
    "    try:\n",
    "        os.remove(settings_file)\n",
    "    except:\n",
    "        print('Your settings file appears to not have existed.')\n",
    "\n",
    "#input_file = 'csv_example_messy_input.csv'\n",
    "\n",
    "\n",
    "print('importing data ...')\n",
    "data_d = readData(input_file)\n",
    "\n",
    "# If a settings file already exists, we'll just load that and skip training\n",
    "if os.path.exists(settings_file):\n",
    "    print('reading from', settings_file)\n",
    "    with open(settings_file, 'rb') as f:\n",
    "        deduper = dedupe.StaticDedupe(f)\n",
    "else:\n",
    "    # ## Training\n",
    "\n",
    "    # Define the fields dedupe will pay attention to\n",
    "    fields = [\n",
    "        {'field': 'brand_name', 'type': 'String'},\n",
    "        #{'field': 'Address', 'type': 'String'},\n",
    "        #{'field': 'Zip', 'type': 'Exact', 'has missing': True},\n",
    "        #{'field': 'Phone', 'type': 'String', 'has missing': True},\n",
    "        ]\n",
    "\n",
    "    # Create a new deduper object and pass our data model to it.\n",
    "    deduper = dedupe.Dedupe(fields)\n",
    "\n",
    "    # If we have training data saved from a previous run of dedupe,\n",
    "    # look for it and load it in.\n",
    "    # __Note:__ if you want to train from scratch, delete the training_file\n",
    "    if os.path.exists(training_file):\n",
    "        print('reading labeled examples from ', training_file)\n",
    "        with open(training_file, 'rb') as f:\n",
    "            deduper.prepare_training(data_d, f)\n",
    "    else:\n",
    "        deduper.prepare_training(data_d)\n",
    "\n",
    "    # ## Active learning\n",
    "    # Dedupe will find the next pair of records\n",
    "    # it is least certain about and ask you to label them as duplicates\n",
    "    # or not.\n",
    "    # use 'y', 'n' and 'u' keys to flag duplicates\n",
    "    # press 'f' when you are finished\n",
    "    print('starting active labeling...')\n",
    "\n",
    "    dedupe.console_label(deduper)\n",
    "\n",
    "    # Using the examples we just labeled, train the deduper and learn\n",
    "    # blocking predicates\n",
    "    deduper.train()\n",
    "\n",
    "    # When finished, save our training to disk\n",
    "    with open(training_file, 'w') as tf:\n",
    "        deduper.write_training(tf)\n",
    "\n",
    "    # Save our weights and predicates to disk.  If the settings file\n",
    "    # exists, we will skip all the training and learning next time we run\n",
    "    # this file.\n",
    "    with open(settings_file, 'wb') as sf:\n",
    "        deduper.write_settings(sf)\n",
    "\n",
    "# ## Clustering\n",
    "\n",
    "# `partition` will return sets of records that dedupe\n",
    "# believes are all referring to the same entity.\n",
    "\n",
    "print('clustering...')\n",
    "clustered_dupes = deduper.partition(data_d, 0.5)\n",
    "\n",
    "print('# duplicate sets', len(clustered_dupes))\n",
    "\n",
    "# ## Writing Results\n",
    "\n",
    "# Write our original data back out to a CSV with a new column called\n",
    "# 'Cluster ID' which indicates which records refer to each other.\n",
    "\n",
    "cluster_membership = {}\n",
    "for cluster_id, (records, scores) in enumerate(clustered_dupes):\n",
    "    for record_id, score in zip(records, scores):\n",
    "        cluster_membership[record_id] = {\n",
    "            \"Cluster ID\": cluster_id,\n",
    "            \"confidence_score\": score\n",
    "        }\n",
    "\n",
    "with open(output_file, 'w') as f_output, open(input_file) as f_input:\n",
    "\n",
    "    reader = csv.DictReader(f_input)\n",
    "    fieldnames = ['Cluster ID', 'confidence_score'] + reader.fieldnames\n",
    "\n",
    "    writer = csv.DictWriter(f_output, fieldnames=fieldnames)\n",
    "    writer.writeheader()\n",
    "\n",
    "    for row in reader:\n",
    "        row_id = int(row['MedD_drug_id'])\n",
    "        row.update(cluster_membership[row_id])\n",
    "        writer.writerow(row)"
   ]
  },
  {
   "cell_type": "markdown",
   "id": "97b7983c-7acb-4785-b61e-f930586c4ca7",
   "metadata": {
    "papermill": {
     "duration": 0.011954,
     "end_time": "2021-12-08T18:38:50.788065",
     "exception": false,
     "start_time": "2021-12-08T18:38:50.776111",
     "status": "completed"
    },
    "tags": []
   },
   "source": [
    "### Post-Processing the Drug Matches\n",
    "\n",
    "When we cluster multiple drug brand names into the same drug, we create a function that picks the longest brand_name to be the cluster name"
   ]
  },
  {
   "cell_type": "code",
   "execution_count": 7,
   "id": "d6b01726",
   "metadata": {
    "execution": {
     "iopub.execute_input": "2021-12-08T18:38:50.819073Z",
     "iopub.status.busy": "2021-12-08T18:38:50.819073Z",
     "iopub.status.idle": "2021-12-08T18:38:50.871935Z",
     "shell.execute_reply": "2021-12-08T18:38:50.871935Z"
    },
    "papermill": {
     "duration": 0.069831,
     "end_time": "2021-12-08T18:38:50.871935",
     "exception": false,
     "start_time": "2021-12-08T18:38:50.802104",
     "status": "completed"
    },
    "tags": []
   },
   "outputs": [],
   "source": [
    "def pick_brand(brands):\n",
    "    pick = None\n",
    "    pick_len = 0\n",
    "    for idx, brand in enumerate(brands):\n",
    "        if idx == 0:\n",
    "            pick = brand\n",
    "            pick_len = len(brand)\n",
    "            continue\n",
    "        if len(brand) > pick_len:\n",
    "            pick = brand\n",
    "            pick_len = len(brand)\n",
    "    return pick\n",
    "\n",
    "df = pd.read_csv(output_file)"
   ]
  },
  {
   "cell_type": "code",
   "execution_count": 8,
   "id": "9ab7b8c9",
   "metadata": {
    "execution": {
     "iopub.execute_input": "2021-12-08T18:38:50.913398Z",
     "iopub.status.busy": "2021-12-08T18:38:50.912396Z",
     "iopub.status.idle": "2021-12-08T18:38:51.014678Z",
     "shell.execute_reply": "2021-12-08T18:38:51.014678Z"
    },
    "papermill": {
     "duration": 0.128699,
     "end_time": "2021-12-08T18:38:51.014678",
     "exception": false,
     "start_time": "2021-12-08T18:38:50.885979",
     "status": "completed"
    },
    "tags": []
   },
   "outputs": [],
   "source": [
    "df_cluster = pd.DataFrame(df.groupby('Cluster ID')['brand_name'].apply(list))\n",
    "df_cluster['MedD_drug_id'] = df.groupby('Cluster ID')['MedD_drug_id'].apply(list)\n",
    "# df_cluster"
   ]
  },
  {
   "cell_type": "markdown",
   "id": "2969b71d-bd58-488b-bf58-953e42128257",
   "metadata": {
    "papermill": {
     "duration": 0.012958,
     "end_time": "2021-12-08T18:38:51.039677",
     "exception": false,
     "start_time": "2021-12-08T18:38:51.026719",
     "status": "completed"
    },
    "tags": []
   },
   "source": [
    "### Exporting Results\n",
    "\n",
    "exporting a lookup table that has unique Medicare drugs with a reference back to the source data in the `MedD_drug_id` field."
   ]
  },
  {
   "cell_type": "code",
   "execution_count": 9,
   "id": "c7ea35dc",
   "metadata": {
    "execution": {
     "iopub.execute_input": "2021-12-08T18:38:51.076723Z",
     "iopub.status.busy": "2021-12-08T18:38:51.075677Z",
     "iopub.status.idle": "2021-12-08T18:38:51.110038Z",
     "shell.execute_reply": "2021-12-08T18:38:51.110038Z"
    },
    "papermill": {
     "duration": 0.057359,
     "end_time": "2021-12-08T18:38:51.110038",
     "exception": false,
     "start_time": "2021-12-08T18:38:51.052679",
     "status": "completed"
    },
    "tags": []
   },
   "outputs": [
    {
     "data": {
      "text/html": [
       "<div>\n",
       "<style scoped>\n",
       "    .dataframe tbody tr th:only-of-type {\n",
       "        vertical-align: middle;\n",
       "    }\n",
       "\n",
       "    .dataframe tbody tr th {\n",
       "        vertical-align: top;\n",
       "    }\n",
       "\n",
       "    .dataframe thead th {\n",
       "        text-align: right;\n",
       "    }\n",
       "</style>\n",
       "<table border=\"1\" class=\"dataframe\">\n",
       "  <thead>\n",
       "    <tr style=\"text-align: right;\">\n",
       "      <th></th>\n",
       "      <th>brand_name</th>\n",
       "      <th>MedD_drug_id</th>\n",
       "      <th>brand_name_picked</th>\n",
       "    </tr>\n",
       "    <tr>\n",
       "      <th>Cluster ID</th>\n",
       "      <th></th>\n",
       "      <th></th>\n",
       "      <th></th>\n",
       "    </tr>\n",
       "  </thead>\n",
       "  <tbody>\n",
       "    <tr>\n",
       "      <th>0</th>\n",
       "      <td>[BUPRENORPHINE, BUPRENORPHINE HCL]</td>\n",
       "      <td>[6, 12251]</td>\n",
       "      <td>BUPRENORPHINE HCL</td>\n",
       "    </tr>\n",
       "    <tr>\n",
       "      <th>1</th>\n",
       "      <td>[DICLOFENAC SODIUM, DICLOFENAC SODIUMMISOPROSTOL]</td>\n",
       "      <td>[11, 78148]</td>\n",
       "      <td>DICLOFENAC SODIUMMISOPROSTOL</td>\n",
       "    </tr>\n",
       "    <tr>\n",
       "      <th>2</th>\n",
       "      <td>[FENTANYL, FENTANYL CITRATE]</td>\n",
       "      <td>[15, 177410]</td>\n",
       "      <td>FENTANYL CITRATE</td>\n",
       "    </tr>\n",
       "  </tbody>\n",
       "</table>\n",
       "</div>"
      ],
      "text/plain": [
       "                                                   brand_name  MedD_drug_id  \\\n",
       "Cluster ID                                                                    \n",
       "0                          [BUPRENORPHINE, BUPRENORPHINE HCL]    [6, 12251]   \n",
       "1           [DICLOFENAC SODIUM, DICLOFENAC SODIUMMISOPROSTOL]   [11, 78148]   \n",
       "2                                [FENTANYL, FENTANYL CITRATE]  [15, 177410]   \n",
       "\n",
       "                       brand_name_picked  \n",
       "Cluster ID                                \n",
       "0                      BUPRENORPHINE HCL  \n",
       "1           DICLOFENAC SODIUMMISOPROSTOL  \n",
       "2                       FENTANYL CITRATE  "
      ]
     },
     "execution_count": 9,
     "metadata": {},
     "output_type": "execute_result"
    }
   ],
   "source": [
    "df_cluster['brand_name_picked'] = df_cluster.brand_name.apply(pick_brand)\n",
    "df_cluster.head(3)"
   ]
  },
  {
   "cell_type": "markdown",
   "id": "0b096206-7d63-42ce-bd48-4c76b6a94312",
   "metadata": {
    "papermill": {
     "duration": 0.013959,
     "end_time": "2021-12-08T18:38:51.136036",
     "exception": false,
     "start_time": "2021-12-08T18:38:51.122077",
     "status": "completed"
    },
    "tags": []
   },
   "source": [
    "#### Pickling our table"
   ]
  },
  {
   "cell_type": "code",
   "execution_count": 10,
   "id": "30bde5dd",
   "metadata": {
    "execution": {
     "iopub.execute_input": "2021-12-08T18:38:51.165036Z",
     "iopub.status.busy": "2021-12-08T18:38:51.165036Z",
     "iopub.status.idle": "2021-12-08T18:38:51.190036Z",
     "shell.execute_reply": "2021-12-08T18:38:51.189036Z"
    },
    "papermill": {
     "duration": 0.04196,
     "end_time": "2021-12-08T18:38:51.190036",
     "exception": false,
     "start_time": "2021-12-08T18:38:51.148076",
     "status": "completed"
    },
    "tags": []
   },
   "outputs": [],
   "source": [
    "df_cluster.columns = ['brand_names', 'MedD_drug_id', 'brand_name']\n",
    "pickle.dump(df_cluster, open(\"Data/Outputs_Cleanup/Part_d/dedupe_output/MedicareD_Drug_deduplicated_singlebrand.p\", \"wb\" ) )\n",
    "# df_cluster.to_csv('Data/Outputs_Cleanup/Part_d/dedupe_output/MedicareD_Drug_deduplicated_singlebrand.csv', index=False)"
   ]
  }
 ],
 "metadata": {
  "kernelspec": {
   "display_name": "Python 3",
   "language": "python",
   "name": "python3"
  },
  "language_info": {
   "codemirror_mode": {
    "name": "ipython",
    "version": 3
   },
   "file_extension": ".py",
   "mimetype": "text/x-python",
   "name": "python",
   "nbconvert_exporter": "python",
   "pygments_lexer": "ipython3",
   "version": "3.8.8"
  },
  "papermill": {
   "default_parameters": {},
   "duration": 22.938521,
   "end_time": "2021-12-08T18:38:51.535073",
   "environment_variables": {},
   "exception": null,
   "input_path": "MedicareD_Drug_Dedupe.ipynb",
   "output_path": "Logs/2021-12-08MedicareD_Drug_Dedupe.ipynb",
   "parameters": {
    "retrain": false
   },
   "start_time": "2021-12-08T18:38:28.596552",
   "version": "2.3.3"
  }
 },
 "nbformat": 4,
 "nbformat_minor": 5
}