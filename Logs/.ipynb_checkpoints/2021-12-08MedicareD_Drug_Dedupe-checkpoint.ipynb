{
 "cells": [
  {
   "cell_type": "markdown",
   "id": "d7b578be",
   "metadata": {
    "tags": [
     "papermill-error-cell-tag"
    ]
   },
   "source": [
    "<span style=\"color:red; font-family:Helvetica Neue, Helvetica, Arial, sans-serif; font-size:2em;\">An Exception was encountered at '<a href=\"#papermill-error-cell\">In [6]</a>'.</span>"
   ]
  },
  {
   "cell_type": "markdown",
   "id": "2bacc0f9-1e95-47bd-bb53-07b999a5a129",
   "metadata": {
    "papermill": {
     "duration": 0.032935,
     "end_time": "2021-12-08T17:22:04.714766",
     "exception": false,
     "start_time": "2021-12-08T17:22:04.681831",
     "status": "completed"
    },
    "tags": []
   },
   "source": [
    "# Medicare Part D Drugs Deduplication\n",
    "## Authors: \n",
    "    1. Lam Ho\n",
    "    2. Jonah Breslow\n",
    "    3. Jeffrey Kagan\n",
    "## Purpose:\n",
    "The purpose of this notebook is to internally deduplicate the drug data from the Medicare Part D Drug data. The output will be used to match with other data that contain drug node information. For this procedure, we utilized the Dedupe.io python implementation.\n",
    "\n",
    "### Importing modules"
   ]
  },
  {
   "cell_type": "code",
   "execution_count": 1,
   "id": "78b7ce68",
   "metadata": {
    "execution": {
     "iopub.execute_input": "2021-12-08T17:22:04.747762Z",
     "iopub.status.busy": "2021-12-08T17:22:04.747762Z",
     "iopub.status.idle": "2021-12-08T17:22:05.874842Z",
     "shell.execute_reply": "2021-12-08T17:22:05.873789Z"
    },
    "papermill": {
     "duration": 1.146078,
     "end_time": "2021-12-08T17:22:05.874842",
     "exception": false,
     "start_time": "2021-12-08T17:22:04.728764",
     "status": "completed"
    },
    "tags": []
   },
   "outputs": [],
   "source": [
    "#!/usr/bin/python\n",
    "# -*- coding: utf-8 -*-\n",
    "\"\"\"\n",
    "This code demonstrates how to use dedupe with a comma separated values\n",
    "(CSV) file. All operations are performed in memory, so will run very\n",
    "quickly on datasets up to ~10,000 rows.\n",
    "\n",
    "We start with a CSV file containing our messy data. In this example,\n",
    "it is listings of early childhood education centers in Chicago\n",
    "compiled from several different sources.\n",
    "\n",
    "The output will be a CSV with our clustered results.\n",
    "\n",
    "For larger datasets, see our [mysql_example](mysql_example.html)\n",
    "\"\"\"\n",
    "\n",
    "import os\n",
    "import csv\n",
    "import re\n",
    "import logging\n",
    "import optparse\n",
    "import pandas as pd\n",
    "import pickle\n",
    "\n",
    "import dedupe\n",
    "from unidecode import unidecode"
   ]
  },
  {
   "cell_type": "markdown",
   "id": "7ed62278-9c20-4ec3-826a-11a0a35ca782",
   "metadata": {
    "papermill": {
     "duration": 0.008999,
     "end_time": "2021-12-08T17:22:05.899781",
     "exception": false,
     "start_time": "2021-12-08T17:22:05.890782",
     "status": "completed"
    },
    "tags": []
   },
   "source": [
    "### Running the Dedupe procedure"
   ]
  },
  {
   "cell_type": "code",
   "execution_count": 2,
   "id": "1cd13752",
   "metadata": {
    "execution": {
     "iopub.execute_input": "2021-12-08T17:22:05.924972Z",
     "iopub.status.busy": "2021-12-08T17:22:05.924972Z",
     "iopub.status.idle": "2021-12-08T17:22:05.936012Z",
     "shell.execute_reply": "2021-12-08T17:22:05.936012Z"
    },
    "papermill": {
     "duration": 0.026003,
     "end_time": "2021-12-08T17:22:05.936012",
     "exception": false,
     "start_time": "2021-12-08T17:22:05.910009",
     "status": "completed"
    },
    "tags": []
   },
   "outputs": [],
   "source": [
    "def preProcess(column):\n",
    "    \"\"\"\n",
    "    Do a little bit of data cleaning with the help of Unidecode and Regex.\n",
    "    Things like casing, extra spaces, quotes and new lines can be ignored.\n",
    "    \"\"\"\n",
    "    column = unidecode(column)\n",
    "    column = re.sub('  +', ' ', column)\n",
    "    column = re.sub('\\n', ' ', column)\n",
    "    column = column.strip().strip('\"').strip(\"'\").lower().strip()\n",
    "    # If data is missing, indicate that by setting the value to `None`\n",
    "    if not column:\n",
    "        column = None\n",
    "    return column\n",
    "\n",
    "\n",
    "def readData(filename):\n",
    "    \"\"\"\n",
    "    Read in our data from a CSV file and create a dictionary of records,\n",
    "    where the key is a unique record ID and each value is dict\n",
    "    \"\"\"\n",
    "\n",
    "    data_d = {}\n",
    "    with open(filename) as f:\n",
    "        reader = csv.DictReader(f)\n",
    "        for row in reader:\n",
    "            clean_row = [(k, preProcess(v)) for (k, v) in row.items()]\n",
    "            row_id = int(row['MedD_drug_id'])\n",
    "            data_d[row_id] = dict(clean_row)\n",
    "\n",
    "    return data_d"
   ]
  },
  {
   "cell_type": "code",
   "execution_count": 3,
   "id": "67cf411c-10c5-4bd3-af17-d4539b311e7f",
   "metadata": {
    "execution": {
     "iopub.execute_input": "2021-12-08T17:22:05.958012Z",
     "iopub.status.busy": "2021-12-08T17:22:05.958012Z",
     "iopub.status.idle": "2021-12-08T17:22:05.967978Z",
     "shell.execute_reply": "2021-12-08T17:22:05.967978Z"
    },
    "papermill": {
     "duration": 0.021968,
     "end_time": "2021-12-08T17:22:05.967978",
     "exception": false,
     "start_time": "2021-12-08T17:22:05.946010",
     "status": "completed"
    },
    "tags": []
   },
   "outputs": [],
   "source": [
    "# ## Setup\n",
    "input_file = 'Data/Outputs_Cleanup/Part_d/drug_information.csv'\n",
    "output_file = 'Data/Outputs_Cleanup/Part_d/dedupe_output/MedicareD_drug_deduplicated.csv'\n",
    "settings_file = 'Data/Outputs_Cleanup/Part_d/dedupe_output/csv_example_learned_settings'\n",
    "training_file = 'Data/Outputs_Cleanup/Part_d/dedupe_output/csv_example_training.json'"
   ]
  },
  {
   "cell_type": "markdown",
   "id": "5ad6f198-8109-4d24-a040-7aca65c95aef",
   "metadata": {
    "papermill": {
     "duration": 0.009,
     "end_time": "2021-12-08T17:22:05.986974",
     "exception": false,
     "start_time": "2021-12-08T17:22:05.977974",
     "status": "completed"
    },
    "tags": []
   },
   "source": [
    "## Parameters"
   ]
  },
  {
   "cell_type": "code",
   "execution_count": 4,
   "id": "28408071-50d9-4d50-ba7f-005a1dbfcffc",
   "metadata": {
    "execution": {
     "iopub.execute_input": "2021-12-08T17:22:06.009973Z",
     "iopub.status.busy": "2021-12-08T17:22:06.009973Z",
     "iopub.status.idle": "2021-12-08T17:22:06.014975Z",
     "shell.execute_reply": "2021-12-08T17:22:06.014975Z"
    },
    "papermill": {
     "duration": 0.018003,
     "end_time": "2021-12-08T17:22:06.015978",
     "exception": false,
     "start_time": "2021-12-08T17:22:05.997975",
     "status": "completed"
    },
    "tags": [
     "parameters"
    ]
   },
   "outputs": [],
   "source": [
    "retrain = False"
   ]
  },
  {
   "cell_type": "code",
   "execution_count": 5,
   "id": "187dada9",
   "metadata": {
    "execution": {
     "iopub.execute_input": "2021-12-08T17:22:06.036974Z",
     "iopub.status.busy": "2021-12-08T17:22:06.036974Z",
     "iopub.status.idle": "2021-12-08T17:22:06.047016Z",
     "shell.execute_reply": "2021-12-08T17:22:06.045977Z"
    },
    "papermill": {
     "duration": 0.022001,
     "end_time": "2021-12-08T17:22:06.047016",
     "exception": false,
     "start_time": "2021-12-08T17:22:06.025015",
     "status": "completed"
    },
    "tags": [
     "injected-parameters"
    ]
   },
   "outputs": [],
   "source": [
    "# Parameters\n",
    "retrain = True\n"
   ]
  },
  {
   "cell_type": "markdown",
   "id": "b465cac9",
   "metadata": {
    "tags": [
     "papermill-error-cell-tag"
    ]
   },
   "source": [
    "<span id=\"papermill-error-cell\" style=\"color:red; font-family:Helvetica Neue, Helvetica, Arial, sans-serif; font-size:2em;\">Execution using papermill encountered an exception here and stopped:</span>"
   ]
  },
  {
   "cell_type": "code",
   "execution_count": 6,
   "id": "6cb9f5e4-96d0-498f-ac07-20d5ad4b8c5a",
   "metadata": {
    "execution": {
     "iopub.execute_input": "2021-12-08T17:22:06.242210Z",
     "iopub.status.busy": "2021-12-08T17:22:06.241211Z",
     "iopub.status.idle": "2021-12-08T17:22:19.366269Z",
     "shell.execute_reply": "2021-12-08T17:22:19.365291Z"
    },
    "papermill": {
     "duration": 13.147021,
     "end_time": "2021-12-08T17:22:19.366269",
     "exception": true,
     "start_time": "2021-12-08T17:22:06.219248",
     "status": "failed"
    },
    "tags": []
   },
   "outputs": [
    {
     "name": "stderr",
     "output_type": "stream",
     "text": [
      "INFO:dedupe.api:reading training from file\n"
     ]
    },
    {
     "name": "stdout",
     "output_type": "stream",
     "text": [
      "importing data ...\n",
      "reading labeled examples from  Data/Outputs_Cleanup/Part_d/dedupe_output/csv_example_training.json\n"
     ]
    },
    {
     "name": "stderr",
     "output_type": "stream",
     "text": [
      "INFO:dedupe.training:Final predicate set:\n"
     ]
    },
    {
     "name": "stderr",
     "output_type": "stream",
     "text": [
      "INFO:dedupe.training:SimplePredicate: (wholeFieldPredicate, brand_name)\n"
     ]
    },
    {
     "name": "stderr",
     "output_type": "stream",
     "text": [
      "INFO:dedupe.training:Final predicate set:\n"
     ]
    },
    {
     "name": "stderr",
     "output_type": "stream",
     "text": [
      "INFO:dedupe.training:SimplePredicate: (sameSevenCharStartPredicate, brand_name)\n"
     ]
    },
    {
     "name": "stderr",
     "output_type": "stream",
     "text": [
      "brand_name : lorcet hd\n",
      "\n",
      "brand_name : lorcet\n",
      "\n",
      "16/10 positive, 16/10 negative\n",
      "Do these records refer to the same thing?\n",
      "(y)es / (n)o / (u)nsure / (f)inished\n"
     ]
    },
    {
     "name": "stdout",
     "output_type": "stream",
     "text": [
      "starting active labeling...\n"
     ]
    },
    {
     "ename": "StdinNotImplementedError",
     "evalue": "raw_input was called, but this frontend does not support input requests.",
     "output_type": "error",
     "traceback": [
      "\u001b[1;31m---------------------------------------------------------------------------\u001b[0m",
      "\u001b[1;31mStdinNotImplementedError\u001b[0m                  Traceback (most recent call last)",
      "\u001b[1;32m<ipython-input-6-3afebd184eb3>\u001b[0m in \u001b[0;36m<module>\u001b[1;34m\u001b[0m\n\u001b[0;32m     48\u001b[0m     \u001b[0mprint\u001b[0m\u001b[1;33m(\u001b[0m\u001b[1;34m'starting active labeling...'\u001b[0m\u001b[1;33m)\u001b[0m\u001b[1;33m\u001b[0m\u001b[1;33m\u001b[0m\u001b[0m\n\u001b[0;32m     49\u001b[0m \u001b[1;33m\u001b[0m\u001b[0m\n\u001b[1;32m---> 50\u001b[1;33m     \u001b[0mdedupe\u001b[0m\u001b[1;33m.\u001b[0m\u001b[0mconsole_label\u001b[0m\u001b[1;33m(\u001b[0m\u001b[0mdeduper\u001b[0m\u001b[1;33m)\u001b[0m\u001b[1;33m\u001b[0m\u001b[1;33m\u001b[0m\u001b[0m\n\u001b[0m\u001b[0;32m     51\u001b[0m \u001b[1;33m\u001b[0m\u001b[0m\n\u001b[0;32m     52\u001b[0m     \u001b[1;31m# Using the examples we just labeled, train the deduper and learn\u001b[0m\u001b[1;33m\u001b[0m\u001b[1;33m\u001b[0m\u001b[1;33m\u001b[0m\u001b[0m\n",
      "\u001b[1;32m~\\Anaconda3\\lib\\site-packages\\dedupe\\convenience.py\u001b[0m in \u001b[0;36mconsole_label\u001b[1;34m(deduper)\u001b[0m\n\u001b[0;32m     74\u001b[0m \u001b[1;33m\u001b[0m\u001b[0m\n\u001b[0;32m     75\u001b[0m             \u001b[0mprint\u001b[0m\u001b[1;33m(\u001b[0m\u001b[0mprompt\u001b[0m\u001b[1;33m,\u001b[0m \u001b[0mfile\u001b[0m\u001b[1;33m=\u001b[0m\u001b[0msys\u001b[0m\u001b[1;33m.\u001b[0m\u001b[0mstderr\u001b[0m\u001b[1;33m)\u001b[0m\u001b[1;33m\u001b[0m\u001b[1;33m\u001b[0m\u001b[0m\n\u001b[1;32m---> 76\u001b[1;33m             \u001b[0muser_input\u001b[0m \u001b[1;33m=\u001b[0m \u001b[0minput\u001b[0m\u001b[1;33m(\u001b[0m\u001b[1;33m)\u001b[0m\u001b[1;33m\u001b[0m\u001b[1;33m\u001b[0m\u001b[0m\n\u001b[0m\u001b[0;32m     77\u001b[0m             \u001b[1;32mif\u001b[0m \u001b[0muser_input\u001b[0m \u001b[1;32min\u001b[0m \u001b[0mvalid_responses\u001b[0m\u001b[1;33m:\u001b[0m\u001b[1;33m\u001b[0m\u001b[1;33m\u001b[0m\u001b[0m\n\u001b[0;32m     78\u001b[0m                 \u001b[0mvalid_response\u001b[0m \u001b[1;33m=\u001b[0m \u001b[1;32mTrue\u001b[0m\u001b[1;33m\u001b[0m\u001b[1;33m\u001b[0m\u001b[0m\n",
      "\u001b[1;32m~\\Anaconda3\\lib\\site-packages\\ipykernel\\kernelbase.py\u001b[0m in \u001b[0;36mraw_input\u001b[1;34m(self, prompt)\u001b[0m\n\u001b[0;32m    855\u001b[0m         \"\"\"\n\u001b[0;32m    856\u001b[0m         \u001b[1;32mif\u001b[0m \u001b[1;32mnot\u001b[0m \u001b[0mself\u001b[0m\u001b[1;33m.\u001b[0m\u001b[0m_allow_stdin\u001b[0m\u001b[1;33m:\u001b[0m\u001b[1;33m\u001b[0m\u001b[1;33m\u001b[0m\u001b[0m\n\u001b[1;32m--> 857\u001b[1;33m             raise StdinNotImplementedError(\n\u001b[0m\u001b[0;32m    858\u001b[0m                 \u001b[1;34m\"raw_input was called, but this frontend does not support input requests.\"\u001b[0m\u001b[1;33m\u001b[0m\u001b[1;33m\u001b[0m\u001b[0m\n\u001b[0;32m    859\u001b[0m             )\n",
      "\u001b[1;31mStdinNotImplementedError\u001b[0m: raw_input was called, but this frontend does not support input requests."
     ]
    }
   ],
   "source": [
    "if retrain == True:\n",
    "    try:\n",
    "        os.remove(settings_file)\n",
    "    except:\n",
    "        print('Your settings file appears to not have existed.')\n",
    "\n",
    "#input_file = 'csv_example_messy_input.csv'\n",
    "\n",
    "\n",
    "print('importing data ...')\n",
    "data_d = readData(input_file)\n",
    "\n",
    "# If a settings file already exists, we'll just load that and skip training\n",
    "if os.path.exists(settings_file):\n",
    "    print('reading from', settings_file)\n",
    "    with open(settings_file, 'rb') as f:\n",
    "        deduper = dedupe.StaticDedupe(f)\n",
    "else:\n",
    "    # ## Training\n",
    "\n",
    "    # Define the fields dedupe will pay attention to\n",
    "    fields = [\n",
    "        {'field': 'brand_name', 'type': 'String'},\n",
    "        #{'field': 'Address', 'type': 'String'},\n",
    "        #{'field': 'Zip', 'type': 'Exact', 'has missing': True},\n",
    "        #{'field': 'Phone', 'type': 'String', 'has missing': True},\n",
    "        ]\n",
    "\n",
    "    # Create a new deduper object and pass our data model to it.\n",
    "    deduper = dedupe.Dedupe(fields)\n",
    "\n",
    "    # If we have training data saved from a previous run of dedupe,\n",
    "    # look for it and load it in.\n",
    "    # __Note:__ if you want to train from scratch, delete the training_file\n",
    "    if os.path.exists(training_file):\n",
    "        print('reading labeled examples from ', training_file)\n",
    "        with open(training_file, 'rb') as f:\n",
    "            deduper.prepare_training(data_d, f)\n",
    "    else:\n",
    "        deduper.prepare_training(data_d)\n",
    "\n",
    "    # ## Active learning\n",
    "    # Dedupe will find the next pair of records\n",
    "    # it is least certain about and ask you to label them as duplicates\n",
    "    # or not.\n",
    "    # use 'y', 'n' and 'u' keys to flag duplicates\n",
    "    # press 'f' when you are finished\n",
    "    print('starting active labeling...')\n",
    "\n",
    "    dedupe.console_label(deduper)\n",
    "\n",
    "    # Using the examples we just labeled, train the deduper and learn\n",
    "    # blocking predicates\n",
    "    deduper.train()\n",
    "\n",
    "    # When finished, save our training to disk\n",
    "    with open(training_file, 'w') as tf:\n",
    "        deduper.write_training(tf)\n",
    "\n",
    "    # Save our weights and predicates to disk.  If the settings file\n",
    "    # exists, we will skip all the training and learning next time we run\n",
    "    # this file.\n",
    "    with open(settings_file, 'wb') as sf:\n",
    "        deduper.write_settings(sf)\n",
    "\n",
    "# ## Clustering\n",
    "\n",
    "# `partition` will return sets of records that dedupe\n",
    "# believes are all referring to the same entity.\n",
    "\n",
    "print('clustering...')\n",
    "clustered_dupes = deduper.partition(data_d, 0.5)\n",
    "\n",
    "print('# duplicate sets', len(clustered_dupes))\n",
    "\n",
    "# ## Writing Results\n",
    "\n",
    "# Write our original data back out to a CSV with a new column called\n",
    "# 'Cluster ID' which indicates which records refer to each other.\n",
    "\n",
    "cluster_membership = {}\n",
    "for cluster_id, (records, scores) in enumerate(clustered_dupes):\n",
    "    for record_id, score in zip(records, scores):\n",
    "        cluster_membership[record_id] = {\n",
    "            \"Cluster ID\": cluster_id,\n",
    "            \"confidence_score\": score\n",
    "        }\n",
    "\n",
    "with open(output_file, 'w') as f_output, open(input_file) as f_input:\n",
    "\n",
    "    reader = csv.DictReader(f_input)\n",
    "    fieldnames = ['Cluster ID', 'confidence_score'] + reader.fieldnames\n",
    "\n",
    "    writer = csv.DictWriter(f_output, fieldnames=fieldnames)\n",
    "    writer.writeheader()\n",
    "\n",
    "    for row in reader:\n",
    "        row_id = int(row['MedD_drug_id'])\n",
    "        row.update(cluster_membership[row_id])\n",
    "        writer.writerow(row)"
   ]
  },
  {
   "cell_type": "markdown",
   "id": "97b7983c-7acb-4785-b61e-f930586c4ca7",
   "metadata": {
    "papermill": {
     "duration": null,
     "end_time": null,
     "exception": null,
     "start_time": null,
     "status": "pending"
    },
    "tags": []
   },
   "source": [
    "### Post-Processing the Drug Matches\n",
    "\n",
    "When we cluster multiple drug brand names into the same drug, we create a function that picks the longest brand_name to be the cluster name"
   ]
  },
  {
   "cell_type": "code",
   "execution_count": null,
   "id": "d6b01726",
   "metadata": {
    "papermill": {
     "duration": null,
     "end_time": null,
     "exception": null,
     "start_time": null,
     "status": "pending"
    },
    "tags": []
   },
   "outputs": [],
   "source": [
    "def pick_brand(brands):\n",
    "    pick = None\n",
    "    pick_len = 0\n",
    "    for idx, brand in enumerate(brands):\n",
    "        if idx == 0:\n",
    "            pick = brand\n",
    "            pick_len = len(brand)\n",
    "            continue\n",
    "        if len(brand) > pick_len:\n",
    "            pick = brand\n",
    "            pick_len = len(brand)\n",
    "    return pick\n",
    "\n",
    "df = pd.read_csv(output_file)"
   ]
  },
  {
   "cell_type": "code",
   "execution_count": null,
   "id": "9ab7b8c9",
   "metadata": {
    "papermill": {
     "duration": null,
     "end_time": null,
     "exception": null,
     "start_time": null,
     "status": "pending"
    },
    "tags": []
   },
   "outputs": [],
   "source": [
    "df_cluster = pd.DataFrame(df.groupby('Cluster ID')['brand_name'].apply(list))\n",
    "df_cluster['MedD_drug_id'] = df.groupby('Cluster ID')['MedD_drug_id'].apply(list)\n",
    "# df_cluster"
   ]
  },
  {
   "cell_type": "markdown",
   "id": "2969b71d-bd58-488b-bf58-953e42128257",
   "metadata": {
    "papermill": {
     "duration": null,
     "end_time": null,
     "exception": null,
     "start_time": null,
     "status": "pending"
    },
    "tags": []
   },
   "source": [
    "### Exporting Results\n",
    "\n",
    "exporting a lookup table that has unique Medicare drugs with a reference back to the source data in the `MedD_drug_id` field."
   ]
  },
  {
   "cell_type": "code",
   "execution_count": null,
   "id": "c7ea35dc",
   "metadata": {
    "papermill": {
     "duration": null,
     "end_time": null,
     "exception": null,
     "start_time": null,
     "status": "pending"
    },
    "tags": []
   },
   "outputs": [],
   "source": [
    "df_cluster['brand_name_picked'] = df_cluster.brand_name.apply(pick_brand)\n",
    "df_cluster.head(3)"
   ]
  },
  {
   "cell_type": "markdown",
   "id": "0b096206-7d63-42ce-bd48-4c76b6a94312",
   "metadata": {
    "papermill": {
     "duration": null,
     "end_time": null,
     "exception": null,
     "start_time": null,
     "status": "pending"
    },
    "tags": []
   },
   "source": [
    "#### Pickling our table"
   ]
  },
  {
   "cell_type": "code",
   "execution_count": null,
   "id": "30bde5dd",
   "metadata": {
    "papermill": {
     "duration": null,
     "end_time": null,
     "exception": null,
     "start_time": null,
     "status": "pending"
    },
    "tags": []
   },
   "outputs": [],
   "source": [
    "df_cluster.columns = ['brand_names', 'MedD_drug_id', 'brand_name']\n",
    "pickle.dump(df_cluster, open(\"Data/Outputs_Cleanup/Part_d/dedupe_output/MedicareD_Drug_deduplicated_singlebrand.p\", \"wb\" ) )\n",
    "# df_cluster.to_csv('Data/Outputs_Cleanup/Part_d/dedupe_output/MedicareD_Drug_deduplicated_singlebrand.csv', index=False)"
   ]
  }
 ],
 "metadata": {
  "kernelspec": {
   "display_name": "Python 3",
   "language": "python",
   "name": "python3"
  },
  "language_info": {
   "codemirror_mode": {
    "name": "ipython",
    "version": 3
   },
   "file_extension": ".py",
   "mimetype": "text/x-python",
   "name": "python",
   "nbconvert_exporter": "python",
   "pygments_lexer": "ipython3",
   "version": "3.8.8"
  },
  "papermill": {
   "default_parameters": {},
   "duration": 17.154524,
   "end_time": "2021-12-08T17:22:19.925051",
   "environment_variables": {},
   "exception": true,
   "input_path": "Drugs/MedicarePartD_Dedupe/MedicareD_Drug_Dedupe.ipynb",
   "output_path": "Logs/2021-12-08MedicareD_Drug_Dedupe.ipynb",
   "parameters": {
    "retrain": true
   },
   "start_time": "2021-12-08T17:22:02.770527",
   "version": "2.3.3"
  }
 },
 "nbformat": 4,
 "nbformat_minor": 5
}