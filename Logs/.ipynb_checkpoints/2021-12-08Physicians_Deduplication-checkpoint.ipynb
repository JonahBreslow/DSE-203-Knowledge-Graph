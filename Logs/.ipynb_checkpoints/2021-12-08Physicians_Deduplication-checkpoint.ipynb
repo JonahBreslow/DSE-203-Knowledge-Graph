{
 "cells": [
  {
   "cell_type": "markdown",
   "id": "74afe85b",
   "metadata": {
    "tags": [
     "papermill-error-cell-tag"
    ]
   },
   "source": [
    "<span style=\"color:red; font-family:Helvetica Neue, Helvetica, Arial, sans-serif; font-size:2em;\">An Exception was encountered at '<a href=\"#papermill-error-cell\">In [28]</a>'.</span>"
   ]
  },
  {
   "cell_type": "code",
   "execution_count": 1,
   "id": "9264fe3e",
   "metadata": {
    "execution": {
     "iopub.execute_input": "2021-12-08T17:54:22.325200Z",
     "iopub.status.busy": "2021-12-08T17:54:22.324260Z",
     "iopub.status.idle": "2021-12-08T17:54:23.092790Z",
     "shell.execute_reply": "2021-12-08T17:54:23.092790Z"
    },
    "papermill": {
     "duration": 0.808603,
     "end_time": "2021-12-08T17:54:23.093793",
     "exception": false,
     "start_time": "2021-12-08T17:54:22.285190",
     "status": "completed"
    },
    "tags": []
   },
   "outputs": [],
   "source": [
    "import pandas as pd\n",
    "import py_stringmatching as sm\n",
    "import numpy as np"
   ]
  },
  {
   "cell_type": "code",
   "execution_count": 2,
   "id": "338b52ab",
   "metadata": {
    "execution": {
     "iopub.execute_input": "2021-12-08T17:54:23.145814Z",
     "iopub.status.busy": "2021-12-08T17:54:23.145814Z",
     "iopub.status.idle": "2021-12-08T17:54:23.441569Z",
     "shell.execute_reply": "2021-12-08T17:54:23.440618Z"
    },
    "papermill": {
     "duration": 0.322703,
     "end_time": "2021-12-08T17:54:23.441569",
     "exception": false,
     "start_time": "2021-12-08T17:54:23.118866",
     "status": "completed"
    },
    "tags": []
   },
   "outputs": [],
   "source": [
    "sunshine = pd.read_csv('Data/Outputs_Cleanup/Sunshine/physicians_info.csv',dtype=str)\n",
    "sunshine.fillna(value='',inplace=True)"
   ]
  },
  {
   "cell_type": "code",
   "execution_count": 3,
   "id": "e7f70e30",
   "metadata": {
    "execution": {
     "iopub.execute_input": "2021-12-08T17:54:23.551608Z",
     "iopub.status.busy": "2021-12-08T17:54:23.550608Z",
     "iopub.status.idle": "2021-12-08T17:54:24.458959Z",
     "shell.execute_reply": "2021-12-08T17:54:24.458959Z"
    },
    "papermill": {
     "duration": 0.99239,
     "end_time": "2021-12-08T17:54:24.458959",
     "exception": false,
     "start_time": "2021-12-08T17:54:23.466569",
     "status": "completed"
    },
    "tags": []
   },
   "outputs": [],
   "source": [
    "def add_suffix(lname, suffix):\n",
    "    s = lname + ' ' + suffix\n",
    "    return s.strip()\n",
    "\n",
    "sunshine['Physician_Last_Name'] = sunshine.apply(lambda x: add_suffix(x['Physician_Last_Name'],x['Physician_Name_Suffix']),axis=1)"
   ]
  },
  {
   "cell_type": "code",
   "execution_count": 4,
   "id": "5c713db5",
   "metadata": {
    "execution": {
     "iopub.execute_input": "2021-12-08T17:54:24.524961Z",
     "iopub.status.busy": "2021-12-08T17:54:24.524961Z",
     "iopub.status.idle": "2021-12-08T17:54:24.536964Z",
     "shell.execute_reply": "2021-12-08T17:54:24.536964Z"
    },
    "papermill": {
     "duration": 0.054003,
     "end_time": "2021-12-08T17:54:24.537963",
     "exception": false,
     "start_time": "2021-12-08T17:54:24.483960",
     "status": "completed"
    },
    "tags": []
   },
   "outputs": [],
   "source": [
    "sunshine.rename(columns={'Physician_Profile_ID':'id','Physician_First_Name':'fname','Physician_Specialty':'type',\n",
    "                         'Physician_Last_Name':'lname','Recipient_City':'city'},inplace=True)\n",
    "sunshine.drop(columns=['Physician_Middle_Name','Physician_Name_Suffix','Recipient_State','Physician_Primary_Type',\n",
    "                       'Physician_License_State_code1','Physician_License_State_code2','Physician_License_State_code3',\n",
    "                       'Physician_License_State_code4','Physician_License_State_code5','Recipient_Zip_Code'],inplace=True)"
   ]
  },
  {
   "cell_type": "code",
   "execution_count": 5,
   "id": "0845c0be",
   "metadata": {
    "execution": {
     "iopub.execute_input": "2021-12-08T17:54:24.593017Z",
     "iopub.status.busy": "2021-12-08T17:54:24.593017Z",
     "iopub.status.idle": "2021-12-08T17:54:24.789004Z",
     "shell.execute_reply": "2021-12-08T17:54:24.787968Z"
    },
    "papermill": {
     "duration": 0.224001,
     "end_time": "2021-12-08T17:54:24.789004",
     "exception": false,
     "start_time": "2021-12-08T17:54:24.565003",
     "status": "completed"
    },
    "tags": []
   },
   "outputs": [],
   "source": [
    "part_d = pd.read_csv('Data/Outputs_Cleanup/Part_d/prescriber_information.csv',dtype=str)\n",
    "part_d.fillna(value='',inplace=True)\n",
    "part_d.rename(columns={'Prscrbr_NPI':'id','Prscrbr_Last_Org_Name':'lname','Prscrbr_First_Name':'fname',\n",
    "                       'Prscrbr_City':'city','Prscrbr_Type':'type'},inplace=True)"
   ]
  },
  {
   "cell_type": "markdown",
   "id": "97f51a2e",
   "metadata": {
    "papermill": {
     "duration": 0.047043,
     "end_time": "2021-12-08T17:54:24.866013",
     "exception": false,
     "start_time": "2021-12-08T17:54:24.818970",
     "status": "completed"
    },
    "tags": []
   },
   "source": [
    "Cities were hand deduped during this first run. However, in the future we will need to make a city deduper"
   ]
  },
  {
   "cell_type": "code",
   "execution_count": 6,
   "id": "b78dc63a",
   "metadata": {
    "execution": {
     "iopub.execute_input": "2021-12-08T17:54:24.918025Z",
     "iopub.status.busy": "2021-12-08T17:54:24.918025Z",
     "iopub.status.idle": "2021-12-08T17:54:24.932016Z",
     "shell.execute_reply": "2021-12-08T17:54:24.932016Z"
    },
    "papermill": {
     "duration": 0.040952,
     "end_time": "2021-12-08T17:54:24.932971",
     "exception": false,
     "start_time": "2021-12-08T17:54:24.892019",
     "status": "completed"
    },
    "tags": []
   },
   "outputs": [],
   "source": [
    "# sunshine = pd.read_csv('CMS_Sunshine_Physicians.csv',dtype=str)\n",
    "# part_d = pd.read_csv('Medicare_PartD_Physicians.csv',dtype=str)"
   ]
  },
  {
   "cell_type": "code",
   "execution_count": 7,
   "id": "d2ae2972",
   "metadata": {
    "execution": {
     "iopub.execute_input": "2021-12-08T17:54:24.988487Z",
     "iopub.status.busy": "2021-12-08T17:54:24.988487Z",
     "iopub.status.idle": "2021-12-08T17:54:24.996339Z",
     "shell.execute_reply": "2021-12-08T17:54:24.997369Z"
    },
    "papermill": {
     "duration": 0.037352,
     "end_time": "2021-12-08T17:54:24.997369",
     "exception": false,
     "start_time": "2021-12-08T17:54:24.960017",
     "status": "completed"
    },
    "tags": []
   },
   "outputs": [],
   "source": [
    "def processType(x):\n",
    "    s = x.split('|')\n",
    "    return s[-1]"
   ]
  },
  {
   "cell_type": "code",
   "execution_count": 8,
   "id": "eec6be9c",
   "metadata": {
    "execution": {
     "iopub.execute_input": "2021-12-08T17:54:25.063374Z",
     "iopub.status.busy": "2021-12-08T17:54:25.062330Z",
     "iopub.status.idle": "2021-12-08T17:54:25.073376Z",
     "shell.execute_reply": "2021-12-08T17:54:25.074369Z"
    },
    "papermill": {
     "duration": 0.040925,
     "end_time": "2021-12-08T17:54:25.074369",
     "exception": false,
     "start_time": "2021-12-08T17:54:25.033444",
     "status": "completed"
    },
    "tags": []
   },
   "outputs": [],
   "source": [
    "def processData(df):\n",
    "    cols = df.columns.to_list()\n",
    "    for col in cols:\n",
    "        df[col] = df[col].astype(str)\n",
    "        df[col] = df[col].apply(lambda x: x.lower().strip())\n",
    "    df['type'] = df['type'].apply(lambda x: processType(x))\n",
    "    df['combined'] = df['fname'] + ' ' + df['lname'] + ' ' + df['city'] + ' ' + df['type']\n",
    "    return df"
   ]
  },
  {
   "cell_type": "code",
   "execution_count": 9,
   "id": "b9ffd529",
   "metadata": {
    "execution": {
     "iopub.execute_input": "2021-12-08T17:54:25.137330Z",
     "iopub.status.busy": "2021-12-08T17:54:25.137330Z",
     "iopub.status.idle": "2021-12-08T17:54:25.646343Z",
     "shell.execute_reply": "2021-12-08T17:54:25.646343Z"
    },
    "papermill": {
     "duration": 0.547968,
     "end_time": "2021-12-08T17:54:25.646343",
     "exception": false,
     "start_time": "2021-12-08T17:54:25.098375",
     "status": "completed"
    },
    "tags": []
   },
   "outputs": [],
   "source": [
    "sunshine = processData(sunshine)\n",
    "part_d = processData(part_d)"
   ]
  },
  {
   "cell_type": "code",
   "execution_count": 10,
   "id": "c299581d",
   "metadata": {
    "execution": {
     "iopub.execute_input": "2021-12-08T17:54:25.704344Z",
     "iopub.status.busy": "2021-12-08T17:54:25.702341Z",
     "iopub.status.idle": "2021-12-08T17:54:28.914512Z",
     "shell.execute_reply": "2021-12-08T17:54:28.914512Z"
    },
    "papermill": {
     "duration": 3.245164,
     "end_time": "2021-12-08T17:54:28.915549",
     "exception": false,
     "start_time": "2021-12-08T17:54:25.670385",
     "status": "completed"
    },
    "tags": []
   },
   "outputs": [],
   "source": [
    "sunshine_combined_id = sunshine.groupby('combined')['id'].apply(list).reset_index(name='id')\n",
    "part_d_id = part_d.groupby('combined')['id'].apply(list).reset_index(name='id')"
   ]
  },
  {
   "cell_type": "code",
   "execution_count": 11,
   "id": "75bf3125",
   "metadata": {
    "execution": {
     "iopub.execute_input": "2021-12-08T17:54:29.009240Z",
     "iopub.status.busy": "2021-12-08T17:54:28.969560Z",
     "iopub.status.idle": "2021-12-08T17:54:29.072242Z",
     "shell.execute_reply": "2021-12-08T17:54:29.072242Z"
    },
    "papermill": {
     "duration": 0.131729,
     "end_time": "2021-12-08T17:54:29.072242",
     "exception": false,
     "start_time": "2021-12-08T17:54:28.940513",
     "status": "completed"
    },
    "tags": []
   },
   "outputs": [],
   "source": [
    "sunshine.drop(columns=['id'],inplace=True)\n",
    "part_d.drop(columns=['id'],inplace=True)"
   ]
  },
  {
   "cell_type": "code",
   "execution_count": 12,
   "id": "20238cb0",
   "metadata": {
    "execution": {
     "iopub.execute_input": "2021-12-08T17:54:29.128262Z",
     "iopub.status.busy": "2021-12-08T17:54:29.128262Z",
     "iopub.status.idle": "2021-12-08T17:54:29.324248Z",
     "shell.execute_reply": "2021-12-08T17:54:29.324248Z"
    },
    "papermill": {
     "duration": 0.225007,
     "end_time": "2021-12-08T17:54:29.324248",
     "exception": false,
     "start_time": "2021-12-08T17:54:29.099241",
     "status": "completed"
    },
    "tags": []
   },
   "outputs": [],
   "source": [
    "sunshine = sunshine.merge(right=sunshine_combined_id,how='left',on='combined')\n",
    "part_d = part_d.merge(right=part_d_id,how='left',on='combined')"
   ]
  },
  {
   "cell_type": "code",
   "execution_count": 13,
   "id": "d1cb028b",
   "metadata": {
    "execution": {
     "iopub.execute_input": "2021-12-08T17:54:29.386249Z",
     "iopub.status.busy": "2021-12-08T17:54:29.386249Z",
     "iopub.status.idle": "2021-12-08T17:54:29.403252Z",
     "shell.execute_reply": "2021-12-08T17:54:29.403252Z"
    },
    "papermill": {
     "duration": 0.051002,
     "end_time": "2021-12-08T17:54:29.403252",
     "exception": false,
     "start_time": "2021-12-08T17:54:29.352250",
     "status": "completed"
    },
    "tags": []
   },
   "outputs": [],
   "source": [
    "del sunshine_combined_id\n",
    "del part_d_id"
   ]
  },
  {
   "cell_type": "markdown",
   "id": "eb2d4d17",
   "metadata": {
    "papermill": {
     "duration": 0.029999,
     "end_time": "2021-12-08T17:54:29.477295",
     "exception": false,
     "start_time": "2021-12-08T17:54:29.447296",
     "status": "completed"
    },
    "tags": []
   },
   "source": [
    "There are duplicates where the same person has two ids in both dataset.<br>\n",
    "The solution is to use the combined column to create a new unique id.<br>\n",
    "Then we will create lookup tables for the new ID and the combined string.<br>"
   ]
  },
  {
   "cell_type": "markdown",
   "id": "1e8d4443",
   "metadata": {
    "papermill": {
     "duration": 0.025003,
     "end_time": "2021-12-08T17:54:29.527256",
     "exception": false,
     "start_time": "2021-12-08T17:54:29.502253",
     "status": "completed"
    },
    "tags": []
   },
   "source": [
    "Make the lookup tables"
   ]
  },
  {
   "cell_type": "code",
   "execution_count": 14,
   "id": "2dabb636",
   "metadata": {
    "execution": {
     "iopub.execute_input": "2021-12-08T17:54:29.580300Z",
     "iopub.status.busy": "2021-12-08T17:54:29.580300Z",
     "iopub.status.idle": "2021-12-08T17:54:29.593881Z",
     "shell.execute_reply": "2021-12-08T17:54:29.593881Z"
    },
    "papermill": {
     "duration": 0.040622,
     "end_time": "2021-12-08T17:54:29.593881",
     "exception": false,
     "start_time": "2021-12-08T17:54:29.553259",
     "status": "completed"
    },
    "tags": []
   },
   "outputs": [],
   "source": [
    "# sunshine.rename(columns={'id':'Physician_Profile_ID'})[['combined','Physician_Profile_ID']].to_csv('Data/Physicians_Deduplication/Outputs/CMS_Sunshine_Physicians_NewID.csv',index=False)\n",
    "# part_d.rename(columns={'id':'Prscrbr_NPI'})[['combined','Prscrbr_NPI']].to_csv('Data/Physicians_Deduplication/Outputs/Medicare_PartD_Physicians_NewID.csv',index=False)"
   ]
  },
  {
   "cell_type": "code",
   "execution_count": 15,
   "id": "cf602e22",
   "metadata": {
    "execution": {
     "iopub.execute_input": "2021-12-08T17:54:29.652923Z",
     "iopub.status.busy": "2021-12-08T17:54:29.651887Z",
     "iopub.status.idle": "2021-12-08T17:54:29.817890Z",
     "shell.execute_reply": "2021-12-08T17:54:29.817890Z"
    },
    "papermill": {
     "duration": 0.197007,
     "end_time": "2021-12-08T17:54:29.817890",
     "exception": false,
     "start_time": "2021-12-08T17:54:29.620883",
     "status": "completed"
    },
    "tags": []
   },
   "outputs": [],
   "source": [
    "sunshine.drop_duplicates(subset='combined',inplace=True)\n",
    "part_d.drop_duplicates(subset='combined',inplace=True)"
   ]
  },
  {
   "cell_type": "code",
   "execution_count": 16,
   "id": "61f25fb6",
   "metadata": {
    "execution": {
     "iopub.execute_input": "2021-12-08T17:54:29.887929Z",
     "iopub.status.busy": "2021-12-08T17:54:29.886945Z",
     "iopub.status.idle": "2021-12-08T17:54:29.897836Z",
     "shell.execute_reply": "2021-12-08T17:54:29.897836Z"
    },
    "papermill": {
     "duration": 0.052898,
     "end_time": "2021-12-08T17:54:29.897836",
     "exception": false,
     "start_time": "2021-12-08T17:54:29.844938",
     "status": "completed"
    },
    "tags": []
   },
   "outputs": [],
   "source": [
    "sunshine_org = sunshine.copy()\n",
    "part_d_org = part_d.copy()"
   ]
  },
  {
   "cell_type": "markdown",
   "id": "054696fc",
   "metadata": {
    "papermill": {
     "duration": 0.025957,
     "end_time": "2021-12-08T17:54:29.949837",
     "exception": false,
     "start_time": "2021-12-08T17:54:29.923880",
     "status": "completed"
    },
    "tags": []
   },
   "source": [
    "Here we will do a naive matching. Based on just the 'hashID' column. If there is an exact match we will accept this."
   ]
  },
  {
   "cell_type": "code",
   "execution_count": 17,
   "id": "b0ee6292",
   "metadata": {
    "execution": {
     "iopub.execute_input": "2021-12-08T17:54:30.043847Z",
     "iopub.status.busy": "2021-12-08T17:54:30.024837Z",
     "iopub.status.idle": "2021-12-08T17:54:30.135839Z",
     "shell.execute_reply": "2021-12-08T17:54:30.135839Z"
    },
    "papermill": {
     "duration": 0.158001,
     "end_time": "2021-12-08T17:54:30.135839",
     "exception": false,
     "start_time": "2021-12-08T17:54:29.977838",
     "status": "completed"
    },
    "tags": []
   },
   "outputs": [],
   "source": [
    "merged_part_d = part_d.merge(right=sunshine,on='combined',how='left')"
   ]
  },
  {
   "cell_type": "markdown",
   "id": "400a68dc",
   "metadata": {
    "papermill": {
     "duration": 0.027005,
     "end_time": "2021-12-08T17:54:30.188845",
     "exception": false,
     "start_time": "2021-12-08T17:54:30.161840",
     "status": "completed"
    },
    "tags": []
   },
   "source": [
    "Now we will remove the matches and set them aside. We will do a more careful inspection of the remaining unmatched ones."
   ]
  },
  {
   "cell_type": "code",
   "execution_count": 18,
   "id": "f55175e7",
   "metadata": {
    "execution": {
     "iopub.execute_input": "2021-12-08T17:54:30.247841Z",
     "iopub.status.busy": "2021-12-08T17:54:30.247841Z",
     "iopub.status.idle": "2021-12-08T17:54:30.389850Z",
     "shell.execute_reply": "2021-12-08T17:54:30.390847Z"
    },
    "papermill": {
     "duration": 0.177008,
     "end_time": "2021-12-08T17:54:30.390847",
     "exception": false,
     "start_time": "2021-12-08T17:54:30.213839",
     "status": "completed"
    },
    "tags": []
   },
   "outputs": [
    {
     "data": {
      "text/html": [
       "<div>\n",
       "<style scoped>\n",
       "    .dataframe tbody tr th:only-of-type {\n",
       "        vertical-align: middle;\n",
       "    }\n",
       "\n",
       "    .dataframe tbody tr th {\n",
       "        vertical-align: top;\n",
       "    }\n",
       "\n",
       "    .dataframe thead th {\n",
       "        text-align: right;\n",
       "    }\n",
       "</style>\n",
       "<table border=\"1\" class=\"dataframe\">\n",
       "  <thead>\n",
       "    <tr style=\"text-align: right;\">\n",
       "      <th></th>\n",
       "      <th>part_d</th>\n",
       "      <th>sunshine</th>\n",
       "    </tr>\n",
       "  </thead>\n",
       "  <tbody>\n",
       "  </tbody>\n",
       "</table>\n",
       "</div>"
      ],
      "text/plain": [
       "Empty DataFrame\n",
       "Columns: [part_d, sunshine]\n",
       "Index: []"
      ]
     },
     "execution_count": 18,
     "metadata": {},
     "output_type": "execute_result"
    }
   ],
   "source": [
    "#Setting aside matches, keeping pairs together\n",
    "matches = merged_part_d.drop(merged_part_d[(merged_part_d['city_x'].isnull()==True) | (merged_part_d['city_y'].isnull()==True)].index)\n",
    "col = matches.columns.to_list()\n",
    "col.remove('combined')\n",
    "matches.drop(columns = col,inplace=True)\n",
    "matches['combined2'] = matches['combined']\n",
    "matches.rename(columns={'combined':'part_d','combined2':'sunshine'},inplace=True)\n",
    "matches.head()"
   ]
  },
  {
   "cell_type": "code",
   "execution_count": 19,
   "id": "54dccb75",
   "metadata": {
    "execution": {
     "iopub.execute_input": "2021-12-08T17:54:30.463848Z",
     "iopub.status.busy": "2021-12-08T17:54:30.462846Z",
     "iopub.status.idle": "2021-12-08T17:54:30.530854Z",
     "shell.execute_reply": "2021-12-08T17:54:30.529854Z"
    },
    "papermill": {
     "duration": 0.106007,
     "end_time": "2021-12-08T17:54:30.530854",
     "exception": false,
     "start_time": "2021-12-08T17:54:30.424847",
     "status": "completed"
    },
    "tags": []
   },
   "outputs": [],
   "source": [
    "part_d.drop(part_d[part_d['combined'].isin(matches['part_d'].to_list())].index,inplace=True)\n",
    "sunshine.drop(sunshine[sunshine['combined'].isin(matches['sunshine'].to_list())].index,inplace=True)"
   ]
  },
  {
   "cell_type": "code",
   "execution_count": 20,
   "id": "b25e98e1",
   "metadata": {
    "execution": {
     "iopub.execute_input": "2021-12-08T17:54:30.607854Z",
     "iopub.status.busy": "2021-12-08T17:54:30.606854Z",
     "iopub.status.idle": "2021-12-08T17:54:30.624504Z",
     "shell.execute_reply": "2021-12-08T17:54:30.624504Z"
    },
    "papermill": {
     "duration": 0.059653,
     "end_time": "2021-12-08T17:54:30.624504",
     "exception": false,
     "start_time": "2021-12-08T17:54:30.564851",
     "status": "completed"
    },
    "tags": []
   },
   "outputs": [],
   "source": [
    "del merged_part_d"
   ]
  },
  {
   "cell_type": "code",
   "execution_count": 21,
   "id": "5ccd880c",
   "metadata": {
    "execution": {
     "iopub.execute_input": "2021-12-08T17:54:30.681515Z",
     "iopub.status.busy": "2021-12-08T17:54:30.680505Z",
     "iopub.status.idle": "2021-12-08T17:54:35.461622Z",
     "shell.execute_reply": "2021-12-08T17:54:35.461622Z"
    },
    "papermill": {
     "duration": 4.811071,
     "end_time": "2021-12-08T17:54:35.461622",
     "exception": false,
     "start_time": "2021-12-08T17:54:30.650551",
     "status": "completed"
    },
    "tags": []
   },
   "outputs": [],
   "source": [
    "#Create a new column in sunshine that is the combined column whitespace tokenized    \n",
    "#Create a new column in sunshine that is the combined column unigram tokenized\n",
    "#Create a new column in part_d that is the combined column whitespace tokenized\n",
    "#Create a new column in part_d that is the combined column unigram tokenized\n",
    "whitespace_tokenizer = sm.WhitespaceTokenizer()\n",
    "unigram_tokenizer = sm.QgramTokenizer(qval=2)\n",
    "sunshine['whitespace_tok'] = sunshine['combined'].apply(lambda x: whitespace_tokenizer.tokenize(x))\n",
    "sunshine['Qgram_tok'] = sunshine['combined'].apply(lambda x: unigram_tokenizer.tokenize(x))\n",
    "part_d['whitespace_tok'] = part_d['combined'].apply(lambda x: whitespace_tokenizer.tokenize(x))\n",
    "part_d['Qgram_tok'] = part_d['combined'].apply(lambda x: unigram_tokenizer.tokenize(x))"
   ]
  },
  {
   "cell_type": "code",
   "execution_count": 22,
   "id": "edcb0df9",
   "metadata": {
    "execution": {
     "iopub.execute_input": "2021-12-08T17:54:35.528627Z",
     "iopub.status.busy": "2021-12-08T17:54:35.528627Z",
     "iopub.status.idle": "2021-12-08T17:54:35.538623Z",
     "shell.execute_reply": "2021-12-08T17:54:35.538623Z"
    },
    "papermill": {
     "duration": 0.045041,
     "end_time": "2021-12-08T17:54:35.539664",
     "exception": false,
     "start_time": "2021-12-08T17:54:35.494623",
     "status": "completed"
    },
    "tags": []
   },
   "outputs": [],
   "source": [
    "#We will find matches for the sunshine data in the part_d data\n",
    "#This is because the sunshine data is the smaller set\n",
    "#Here is the procedure:    \n",
    "    #For each row in sunshine\n",
    "        #Filter the city in part_d\n",
    "        #Perform Jaccard on the whitespace token set between the remainder and the row\n",
    "        #Filter out for scores higher than .75\n",
    "        #If the remaining dataframe is 0\n",
    "            #Return None\n",
    "        #Else\n",
    "            #Grab the highest matching one as the match\n",
    "            #Save the match into sunshine_match dataframe and part_d_match dataframe\n",
    "        #Remove the row from both part_d_noDups and sunshine_noDups"
   ]
  },
  {
   "cell_type": "code",
   "execution_count": 23,
   "id": "40371ab1",
   "metadata": {
    "execution": {
     "iopub.execute_input": "2021-12-08T17:54:35.603996Z",
     "iopub.status.busy": "2021-12-08T17:54:35.603996Z",
     "iopub.status.idle": "2021-12-08T17:54:35.618126Z",
     "shell.execute_reply": "2021-12-08T17:54:35.618126Z"
    },
    "papermill": {
     "duration": 0.045131,
     "end_time": "2021-12-08T17:54:35.618126",
     "exception": false,
     "start_time": "2021-12-08T17:54:35.572995",
     "status": "completed"
    },
    "tags": []
   },
   "outputs": [],
   "source": [
    "sim_measure = sm.OverlapCoefficient()"
   ]
  },
  {
   "cell_type": "code",
   "execution_count": 24,
   "id": "42e33183",
   "metadata": {
    "execution": {
     "iopub.execute_input": "2021-12-08T17:54:35.691475Z",
     "iopub.status.busy": "2021-12-08T17:54:35.691475Z",
     "iopub.status.idle": "2021-12-08T17:54:35.695516Z",
     "shell.execute_reply": "2021-12-08T17:54:35.694474Z"
    },
    "papermill": {
     "duration": 0.038,
     "end_time": "2021-12-08T17:54:35.695516",
     "exception": false,
     "start_time": "2021-12-08T17:54:35.657516",
     "status": "completed"
    },
    "tags": []
   },
   "outputs": [],
   "source": [
    "matched = []"
   ]
  },
  {
   "cell_type": "code",
   "execution_count": 25,
   "id": "755bbcd3",
   "metadata": {
    "execution": {
     "iopub.execute_input": "2021-12-08T17:54:35.767496Z",
     "iopub.status.busy": "2021-12-08T17:54:35.767496Z",
     "iopub.status.idle": "2021-12-08T17:54:35.774477Z",
     "shell.execute_reply": "2021-12-08T17:54:35.774477Z"
    },
    "papermill": {
     "duration": 0.050957,
     "end_time": "2021-12-08T17:54:35.774477",
     "exception": false,
     "start_time": "2021-12-08T17:54:35.723520",
     "status": "completed"
    },
    "tags": []
   },
   "outputs": [],
   "source": [
    "def find_match(sunshine_row):\n",
    "    #filter part_d for the last name:\n",
    "    df_partD = part_d[part_d['lname']==sunshine_row['lname']].copy()\n",
    "    df_partD.drop(df_partD[df_partD['combined'].isin(matched)].index,inplace=True)\n",
    "    if len(df_partD) == 0:\n",
    "        #Return None\n",
    "        return None\n",
    "    #Perform similarity on the token set between the remainder and the row\n",
    "    df_partD['score'] = df_partD['Qgram_tok'].apply(lambda x: sim_measure.get_sim_score(x, sunshine_row['Qgram_tok']))\n",
    "    #Filter out for scores higher than .75\n",
    "    df_partD.drop(df_partD[df_partD['score']<.8].index,inplace=True)\n",
    "    #If the remaining dataframe is 0\n",
    "    if len(df_partD) == 0:\n",
    "        #Return None\n",
    "        return None\n",
    "    #Else if the remaining dataframe is 1\n",
    "    elif len(df_partD) == 1:\n",
    "        #Return the remaining row's hash_id\n",
    "        match = df_partD.iloc[0]['combined']\n",
    "        matched.append(match)\n",
    "        return match\n",
    "    else:\n",
    "        #Sort the remaining rows by score\n",
    "        df_partD.sort_values(by=['score'],axis=0,ascending=False,ignore_index=True,inplace=True)\n",
    "        #Return the highest one\n",
    "        match = df_partD.iloc[0]['combined']\n",
    "        matched.append(match)\n",
    "        return match"
   ]
  },
  {
   "cell_type": "code",
   "execution_count": 26,
   "id": "68d2c827",
   "metadata": {
    "execution": {
     "iopub.execute_input": "2021-12-08T17:54:35.835520Z",
     "iopub.status.busy": "2021-12-08T17:54:35.834474Z",
     "iopub.status.idle": "2021-12-08T17:54:35.868477Z",
     "shell.execute_reply": "2021-12-08T17:54:35.869520Z"
    },
    "papermill": {
     "duration": 0.064006,
     "end_time": "2021-12-08T17:54:35.869520",
     "exception": false,
     "start_time": "2021-12-08T17:54:35.805514",
     "status": "completed"
    },
    "tags": []
   },
   "outputs": [],
   "source": [
    "from tqdm import tqdm"
   ]
  },
  {
   "cell_type": "code",
   "execution_count": 27,
   "id": "a4e50db0",
   "metadata": {
    "execution": {
     "iopub.execute_input": "2021-12-08T17:54:35.925528Z",
     "iopub.status.busy": "2021-12-08T17:54:35.924521Z",
     "iopub.status.idle": "2021-12-08T17:54:36.346182Z",
     "shell.execute_reply": "2021-12-08T17:54:36.345144Z"
    },
    "papermill": {
     "duration": 0.450656,
     "end_time": "2021-12-08T17:54:36.346182",
     "exception": false,
     "start_time": "2021-12-08T17:54:35.895526",
     "status": "completed"
    },
    "tags": []
   },
   "outputs": [
    {
     "name": "stderr",
     "output_type": "stream",
     "text": [
      "\r",
      "Progress:   0%|          | 0/70518 [00:00<?, ?it/s]"
     ]
    },
    {
     "ename": "AttributeError",
     "evalue": "'DataFrame' object has no attribute '_is_builtin_func'",
     "output_type": "error",
     "traceback": [
      "\u001b[1;31m---------------------------------------------------------------------------\u001b[0m",
      "\u001b[1;31mAttributeError\u001b[0m                            Traceback (most recent call last)",
      "\u001b[1;32m<timed exec>\u001b[0m in \u001b[0;36m<module>\u001b[1;34m\u001b[0m\n",
      "\u001b[1;32m~\\Anaconda3\\lib\\site-packages\\tqdm\\std.py\u001b[0m in \u001b[0;36minner\u001b[1;34m(df, func, *args, **kwargs)\u001b[0m\n\u001b[0;32m    792\u001b[0m \u001b[1;33m\u001b[0m\u001b[0m\n\u001b[0;32m    793\u001b[0m                 \u001b[1;32mtry\u001b[0m\u001b[1;33m:\u001b[0m\u001b[1;33m\u001b[0m\u001b[1;33m\u001b[0m\u001b[0m\n\u001b[1;32m--> 794\u001b[1;33m                     \u001b[0mfunc\u001b[0m \u001b[1;33m=\u001b[0m \u001b[0mdf\u001b[0m\u001b[1;33m.\u001b[0m\u001b[0m_is_builtin_func\u001b[0m\u001b[1;33m(\u001b[0m\u001b[0mfunc\u001b[0m\u001b[1;33m)\u001b[0m\u001b[1;33m\u001b[0m\u001b[1;33m\u001b[0m\u001b[0m\n\u001b[0m\u001b[0;32m    795\u001b[0m                 \u001b[1;32mexcept\u001b[0m \u001b[0mTypeError\u001b[0m\u001b[1;33m:\u001b[0m\u001b[1;33m\u001b[0m\u001b[1;33m\u001b[0m\u001b[0m\n\u001b[0;32m    796\u001b[0m                     \u001b[1;32mpass\u001b[0m\u001b[1;33m\u001b[0m\u001b[1;33m\u001b[0m\u001b[0m\n",
      "\u001b[1;32m~\\AppData\\Roaming\\Python\\Python38\\site-packages\\pandas\\core\\generic.py\u001b[0m in \u001b[0;36m__getattr__\u001b[1;34m(self, name)\u001b[0m\n\u001b[0;32m   5485\u001b[0m         ):\n\u001b[0;32m   5486\u001b[0m             \u001b[1;32mreturn\u001b[0m \u001b[0mself\u001b[0m\u001b[1;33m[\u001b[0m\u001b[0mname\u001b[0m\u001b[1;33m]\u001b[0m\u001b[1;33m\u001b[0m\u001b[1;33m\u001b[0m\u001b[0m\n\u001b[1;32m-> 5487\u001b[1;33m         \u001b[1;32mreturn\u001b[0m \u001b[0mobject\u001b[0m\u001b[1;33m.\u001b[0m\u001b[0m__getattribute__\u001b[0m\u001b[1;33m(\u001b[0m\u001b[0mself\u001b[0m\u001b[1;33m,\u001b[0m \u001b[0mname\u001b[0m\u001b[1;33m)\u001b[0m\u001b[1;33m\u001b[0m\u001b[1;33m\u001b[0m\u001b[0m\n\u001b[0m\u001b[0;32m   5488\u001b[0m \u001b[1;33m\u001b[0m\u001b[0m\n\u001b[0;32m   5489\u001b[0m     \u001b[1;32mdef\u001b[0m \u001b[0m__setattr__\u001b[0m\u001b[1;33m(\u001b[0m\u001b[0mself\u001b[0m\u001b[1;33m,\u001b[0m \u001b[0mname\u001b[0m\u001b[1;33m:\u001b[0m \u001b[0mstr\u001b[0m\u001b[1;33m,\u001b[0m \u001b[0mvalue\u001b[0m\u001b[1;33m)\u001b[0m \u001b[1;33m->\u001b[0m \u001b[1;32mNone\u001b[0m\u001b[1;33m:\u001b[0m\u001b[1;33m\u001b[0m\u001b[1;33m\u001b[0m\u001b[0m\n",
      "\u001b[1;31mAttributeError\u001b[0m: 'DataFrame' object has no attribute '_is_builtin_func'"
     ]
    }
   ],
   "source": [
    "%%time\n",
    "tqdm.pandas(desc=\"Progress\")\n",
    "sunshine['match'] = sunshine.progress_apply(lambda x: find_match(x),axis=1)"
   ]
  },
  {
   "cell_type": "markdown",
   "id": "75f21fef",
   "metadata": {
    "tags": [
     "papermill-error-cell-tag"
    ]
   },
   "source": [
    "<span id=\"papermill-error-cell\" style=\"color:red; font-family:Helvetica Neue, Helvetica, Arial, sans-serif; font-size:2em;\">Execution using papermill encountered an exception here and stopped:</span>"
   ]
  },
  {
   "cell_type": "code",
   "execution_count": 28,
   "id": "cd9856a4",
   "metadata": {
    "execution": {
     "iopub.execute_input": "2021-12-08T17:54:36.411144Z",
     "iopub.status.busy": "2021-12-08T17:54:36.411144Z",
     "iopub.status.idle": "2021-12-08T17:54:36.490143Z",
     "shell.execute_reply": "2021-12-08T17:54:36.487147Z"
    },
    "papermill": {
     "duration": 0.113957,
     "end_time": "2021-12-08T17:54:36.491144",
     "exception": true,
     "start_time": "2021-12-08T17:54:36.377187",
     "status": "failed"
    },
    "tags": []
   },
   "outputs": [
    {
     "ename": "KeyError",
     "evalue": "'match'",
     "output_type": "error",
     "traceback": [
      "\u001b[1;31m---------------------------------------------------------------------------\u001b[0m",
      "\u001b[1;31mKeyError\u001b[0m                                  Traceback (most recent call last)",
      "\u001b[1;32m~\\AppData\\Roaming\\Python\\Python38\\site-packages\\pandas\\core\\indexes\\base.py\u001b[0m in \u001b[0;36mget_loc\u001b[1;34m(self, key, method, tolerance)\u001b[0m\n\u001b[0;32m   3360\u001b[0m             \u001b[1;32mtry\u001b[0m\u001b[1;33m:\u001b[0m\u001b[1;33m\u001b[0m\u001b[1;33m\u001b[0m\u001b[0m\n\u001b[1;32m-> 3361\u001b[1;33m                 \u001b[1;32mreturn\u001b[0m \u001b[0mself\u001b[0m\u001b[1;33m.\u001b[0m\u001b[0m_engine\u001b[0m\u001b[1;33m.\u001b[0m\u001b[0mget_loc\u001b[0m\u001b[1;33m(\u001b[0m\u001b[0mcasted_key\u001b[0m\u001b[1;33m)\u001b[0m\u001b[1;33m\u001b[0m\u001b[1;33m\u001b[0m\u001b[0m\n\u001b[0m\u001b[0;32m   3362\u001b[0m             \u001b[1;32mexcept\u001b[0m \u001b[0mKeyError\u001b[0m \u001b[1;32mas\u001b[0m \u001b[0merr\u001b[0m\u001b[1;33m:\u001b[0m\u001b[1;33m\u001b[0m\u001b[1;33m\u001b[0m\u001b[0m\n",
      "\u001b[1;32m~\\AppData\\Roaming\\Python\\Python38\\site-packages\\pandas\\_libs\\index.pyx\u001b[0m in \u001b[0;36mpandas._libs.index.IndexEngine.get_loc\u001b[1;34m()\u001b[0m\n",
      "\u001b[1;32m~\\AppData\\Roaming\\Python\\Python38\\site-packages\\pandas\\_libs\\index.pyx\u001b[0m in \u001b[0;36mpandas._libs.index.IndexEngine.get_loc\u001b[1;34m()\u001b[0m\n",
      "\u001b[1;32mpandas\\_libs\\hashtable_class_helper.pxi\u001b[0m in \u001b[0;36mpandas._libs.hashtable.PyObjectHashTable.get_item\u001b[1;34m()\u001b[0m\n",
      "\u001b[1;32mpandas\\_libs\\hashtable_class_helper.pxi\u001b[0m in \u001b[0;36mpandas._libs.hashtable.PyObjectHashTable.get_item\u001b[1;34m()\u001b[0m\n",
      "\u001b[1;31mKeyError\u001b[0m: 'match'",
      "\nThe above exception was the direct cause of the following exception:\n",
      "\u001b[1;31mKeyError\u001b[0m                                  Traceback (most recent call last)",
      "\u001b[1;32m<ipython-input-28-d68e33c9f147>\u001b[0m in \u001b[0;36m<module>\u001b[1;34m\u001b[0m\n\u001b[1;32m----> 1\u001b[1;33m \u001b[0mother_matches\u001b[0m \u001b[1;33m=\u001b[0m \u001b[0msunshine\u001b[0m\u001b[1;33m[\u001b[0m\u001b[0msunshine\u001b[0m\u001b[1;33m[\u001b[0m\u001b[1;34m'match'\u001b[0m\u001b[1;33m]\u001b[0m\u001b[1;33m.\u001b[0m\u001b[0misnull\u001b[0m\u001b[1;33m(\u001b[0m\u001b[1;33m)\u001b[0m\u001b[1;33m==\u001b[0m\u001b[1;32mFalse\u001b[0m\u001b[1;33m]\u001b[0m\u001b[1;33m[\u001b[0m\u001b[1;33m[\u001b[0m\u001b[1;34m'match'\u001b[0m\u001b[1;33m,\u001b[0m\u001b[1;34m'combined'\u001b[0m\u001b[1;33m]\u001b[0m\u001b[1;33m]\u001b[0m\u001b[1;33m.\u001b[0m\u001b[0mcopy\u001b[0m\u001b[1;33m(\u001b[0m\u001b[1;33m)\u001b[0m\u001b[1;33m\u001b[0m\u001b[1;33m\u001b[0m\u001b[0m\n\u001b[0m\u001b[0;32m      2\u001b[0m \u001b[0mother_matches\u001b[0m\u001b[1;33m.\u001b[0m\u001b[0mrename\u001b[0m\u001b[1;33m(\u001b[0m\u001b[0mcolumns\u001b[0m\u001b[1;33m=\u001b[0m\u001b[1;33m{\u001b[0m\u001b[1;34m'match'\u001b[0m\u001b[1;33m:\u001b[0m\u001b[1;34m'part_d'\u001b[0m\u001b[1;33m,\u001b[0m\u001b[1;34m'combined'\u001b[0m\u001b[1;33m:\u001b[0m\u001b[1;34m'sunshine'\u001b[0m\u001b[1;33m}\u001b[0m\u001b[1;33m,\u001b[0m\u001b[0minplace\u001b[0m\u001b[1;33m=\u001b[0m\u001b[1;32mTrue\u001b[0m\u001b[1;33m)\u001b[0m\u001b[1;33m\u001b[0m\u001b[1;33m\u001b[0m\u001b[0m\n",
      "\u001b[1;32m~\\AppData\\Roaming\\Python\\Python38\\site-packages\\pandas\\core\\frame.py\u001b[0m in \u001b[0;36m__getitem__\u001b[1;34m(self, key)\u001b[0m\n\u001b[0;32m   3456\u001b[0m             \u001b[1;32mif\u001b[0m \u001b[0mself\u001b[0m\u001b[1;33m.\u001b[0m\u001b[0mcolumns\u001b[0m\u001b[1;33m.\u001b[0m\u001b[0mnlevels\u001b[0m \u001b[1;33m>\u001b[0m \u001b[1;36m1\u001b[0m\u001b[1;33m:\u001b[0m\u001b[1;33m\u001b[0m\u001b[1;33m\u001b[0m\u001b[0m\n\u001b[0;32m   3457\u001b[0m                 \u001b[1;32mreturn\u001b[0m \u001b[0mself\u001b[0m\u001b[1;33m.\u001b[0m\u001b[0m_getitem_multilevel\u001b[0m\u001b[1;33m(\u001b[0m\u001b[0mkey\u001b[0m\u001b[1;33m)\u001b[0m\u001b[1;33m\u001b[0m\u001b[1;33m\u001b[0m\u001b[0m\n\u001b[1;32m-> 3458\u001b[1;33m             \u001b[0mindexer\u001b[0m \u001b[1;33m=\u001b[0m \u001b[0mself\u001b[0m\u001b[1;33m.\u001b[0m\u001b[0mcolumns\u001b[0m\u001b[1;33m.\u001b[0m\u001b[0mget_loc\u001b[0m\u001b[1;33m(\u001b[0m\u001b[0mkey\u001b[0m\u001b[1;33m)\u001b[0m\u001b[1;33m\u001b[0m\u001b[1;33m\u001b[0m\u001b[0m\n\u001b[0m\u001b[0;32m   3459\u001b[0m             \u001b[1;32mif\u001b[0m \u001b[0mis_integer\u001b[0m\u001b[1;33m(\u001b[0m\u001b[0mindexer\u001b[0m\u001b[1;33m)\u001b[0m\u001b[1;33m:\u001b[0m\u001b[1;33m\u001b[0m\u001b[1;33m\u001b[0m\u001b[0m\n\u001b[0;32m   3460\u001b[0m                 \u001b[0mindexer\u001b[0m \u001b[1;33m=\u001b[0m \u001b[1;33m[\u001b[0m\u001b[0mindexer\u001b[0m\u001b[1;33m]\u001b[0m\u001b[1;33m\u001b[0m\u001b[1;33m\u001b[0m\u001b[0m\n",
      "\u001b[1;32m~\\AppData\\Roaming\\Python\\Python38\\site-packages\\pandas\\core\\indexes\\base.py\u001b[0m in \u001b[0;36mget_loc\u001b[1;34m(self, key, method, tolerance)\u001b[0m\n\u001b[0;32m   3361\u001b[0m                 \u001b[1;32mreturn\u001b[0m \u001b[0mself\u001b[0m\u001b[1;33m.\u001b[0m\u001b[0m_engine\u001b[0m\u001b[1;33m.\u001b[0m\u001b[0mget_loc\u001b[0m\u001b[1;33m(\u001b[0m\u001b[0mcasted_key\u001b[0m\u001b[1;33m)\u001b[0m\u001b[1;33m\u001b[0m\u001b[1;33m\u001b[0m\u001b[0m\n\u001b[0;32m   3362\u001b[0m             \u001b[1;32mexcept\u001b[0m \u001b[0mKeyError\u001b[0m \u001b[1;32mas\u001b[0m \u001b[0merr\u001b[0m\u001b[1;33m:\u001b[0m\u001b[1;33m\u001b[0m\u001b[1;33m\u001b[0m\u001b[0m\n\u001b[1;32m-> 3363\u001b[1;33m                 \u001b[1;32mraise\u001b[0m \u001b[0mKeyError\u001b[0m\u001b[1;33m(\u001b[0m\u001b[0mkey\u001b[0m\u001b[1;33m)\u001b[0m \u001b[1;32mfrom\u001b[0m \u001b[0merr\u001b[0m\u001b[1;33m\u001b[0m\u001b[1;33m\u001b[0m\u001b[0m\n\u001b[0m\u001b[0;32m   3364\u001b[0m \u001b[1;33m\u001b[0m\u001b[0m\n\u001b[0;32m   3365\u001b[0m         \u001b[1;32mif\u001b[0m \u001b[0mis_scalar\u001b[0m\u001b[1;33m(\u001b[0m\u001b[0mkey\u001b[0m\u001b[1;33m)\u001b[0m \u001b[1;32mand\u001b[0m \u001b[0misna\u001b[0m\u001b[1;33m(\u001b[0m\u001b[0mkey\u001b[0m\u001b[1;33m)\u001b[0m \u001b[1;32mand\u001b[0m \u001b[1;32mnot\u001b[0m \u001b[0mself\u001b[0m\u001b[1;33m.\u001b[0m\u001b[0mhasnans\u001b[0m\u001b[1;33m:\u001b[0m\u001b[1;33m\u001b[0m\u001b[1;33m\u001b[0m\u001b[0m\n",
      "\u001b[1;31mKeyError\u001b[0m: 'match'"
     ]
    }
   ],
   "source": [
    "other_matches = sunshine[sunshine['match'].isnull()==False][['match','combined']].copy()\n",
    "other_matches.rename(columns={'match':'part_d','combined':'sunshine'},inplace=True)"
   ]
  },
  {
   "cell_type": "code",
   "execution_count": null,
   "id": "2a8fbfa7",
   "metadata": {
    "papermill": {
     "duration": null,
     "end_time": null,
     "exception": null,
     "start_time": null,
     "status": "pending"
    },
    "tags": []
   },
   "outputs": [],
   "source": [
    "matches = pd.concat([matches,other_matches],ignore_index=True)"
   ]
  },
  {
   "cell_type": "code",
   "execution_count": null,
   "id": "95fc44df",
   "metadata": {
    "papermill": {
     "duration": null,
     "end_time": null,
     "exception": null,
     "start_time": null,
     "status": "pending"
    },
    "tags": []
   },
   "outputs": [],
   "source": [
    "part_d.drop(part_d[part_d['combined'].isin(matches['part_d'].to_list())].index,inplace=True)\n",
    "sunshine.drop(sunshine[sunshine['combined'].isin(matches['sunshine'].to_list())].index,inplace=True)"
   ]
  },
  {
   "cell_type": "code",
   "execution_count": null,
   "id": "4848c9f2",
   "metadata": {
    "papermill": {
     "duration": null,
     "end_time": null,
     "exception": null,
     "start_time": null,
     "status": "pending"
    },
    "tags": []
   },
   "outputs": [],
   "source": [
    "sunshine[['id','fname','lname','type','city']].to_csv('Data/Physicians_Deduplication/Outputs/CMS_Sunshine_Physicians_no_matches.csv',index=False)\n",
    "part_d[['id','fname','lname','type','city']].to_csv('Data/Physicians_Deduplication/Outputs/Medicare_PartD_Physicians_no_matches.csv',index=False)"
   ]
  },
  {
   "cell_type": "code",
   "execution_count": null,
   "id": "d3ff9d79",
   "metadata": {
    "papermill": {
     "duration": null,
     "end_time": null,
     "exception": null,
     "start_time": null,
     "status": "pending"
    },
    "tags": []
   },
   "outputs": [],
   "source": [
    "matches.to_csv('Data/Physicians_Deduplication/Outputs/Physician_Matches.csv',index=False)"
   ]
  },
  {
   "cell_type": "code",
   "execution_count": null,
   "id": "2406a73a",
   "metadata": {
    "papermill": {
     "duration": null,
     "end_time": null,
     "exception": null,
     "start_time": null,
     "status": "pending"
    },
    "tags": []
   },
   "outputs": [],
   "source": [
    "sunshine.drop(columns = ['whitespace_tok','Qgram_tok','match'],inplace=True)\n",
    "part_d.drop(columns = ['whitespace_tok','Qgram_tok'],inplace=True)"
   ]
  },
  {
   "cell_type": "code",
   "execution_count": null,
   "id": "d5e25cc0",
   "metadata": {
    "papermill": {
     "duration": null,
     "end_time": null,
     "exception": null,
     "start_time": null,
     "status": "pending"
    },
    "tags": []
   },
   "outputs": [],
   "source": [
    "matches.head()"
   ]
  },
  {
   "cell_type": "code",
   "execution_count": null,
   "id": "da800941",
   "metadata": {
    "papermill": {
     "duration": null,
     "end_time": null,
     "exception": null,
     "start_time": null,
     "status": "pending"
    },
    "tags": []
   },
   "outputs": [],
   "source": [
    "matches = matches.merge(right = part_d_org,how='left',left_on='part_d',right_on='combined')\n",
    "matches = matches.merge(right = sunshine_org[['combined','id']],how='left',left_on='sunshine',right_on='combined')\n",
    "matches.drop(columns=['part_d','sunshine','combined_y'],inplace=True)\n",
    "matches.rename(columns={'combined_x':'combined','id_x':'Prscrbr_NPI','id_y':'Physician_Profile_ID'},inplace=True)\n",
    "matches = matches[['combined','Prscrbr_NPI','Physician_Profile_ID','fname','lname','type','city']]"
   ]
  },
  {
   "cell_type": "code",
   "execution_count": null,
   "id": "94f6f612",
   "metadata": {
    "papermill": {
     "duration": null,
     "end_time": null,
     "exception": null,
     "start_time": null,
     "status": "pending"
    },
    "tags": []
   },
   "outputs": [],
   "source": [
    "# #matches.rename(columns={'part_d':'id'},inplace=True)\n",
    "# #matches = matches.merge(right = part_d_org,how='left',left_on='id',right_on='combined')\n",
    "# matches.drop(columns=['sunshine','combined'],inplace=True)\n",
    "# matches.rename(columns={'id_x':'combined','id_y':'Prscrbr_NPI'},inplace=True)\n",
    "# matches = matches.merge(right = sunshine_org[['combined','id']],how='left',on='combined')\n",
    "# matches.rename(columns={'id':'Physician_Profile_ID'},inplace=True)\n"
   ]
  },
  {
   "cell_type": "code",
   "execution_count": null,
   "id": "b1a039bd",
   "metadata": {
    "papermill": {
     "duration": null,
     "end_time": null,
     "exception": null,
     "start_time": null,
     "status": "pending"
    },
    "tags": []
   },
   "outputs": [],
   "source": [
    "sunshine.rename(columns={'id':'Physician_Profile_ID'},inplace=True)\n",
    "sunshine['Prscrbr_NPI']=np.nan\n",
    "sunshine = sunshine[['combined','Prscrbr_NPI','Physician_Profile_ID','fname','lname','type','city']]"
   ]
  },
  {
   "cell_type": "code",
   "execution_count": null,
   "id": "a50f154f",
   "metadata": {
    "papermill": {
     "duration": null,
     "end_time": null,
     "exception": null,
     "start_time": null,
     "status": "pending"
    },
    "tags": []
   },
   "outputs": [],
   "source": [
    "part_d.rename(columns={'id':'Prscrbr_NPI'},inplace=True)\n",
    "part_d['Physician_Profile_ID']=np.nan\n",
    "part_d = part_d[['combined','Prscrbr_NPI','Physician_Profile_ID','fname','lname','type','city']]"
   ]
  },
  {
   "cell_type": "code",
   "execution_count": null,
   "id": "bd3fb38f",
   "metadata": {
    "papermill": {
     "duration": null,
     "end_time": null,
     "exception": null,
     "start_time": null,
     "status": "pending"
    },
    "tags": []
   },
   "outputs": [],
   "source": [
    "final_output = pd.concat([pd.concat([matches,sunshine],ignore_index=True),part_d],ignore_index=True)\n",
    "final_output.drop(columns=['combined'],inplace=True)\n",
    "final_output.reset_index(inplace=True)\n",
    "final_output.rename(columns={'index':'id'},inplace=True)\n",
    "final_output.to_csv('Data/Physicians_Deduplication/Outputs/Physicians.csv',index=False)\n",
    "final_output.to_pickle('Data/Physicians_Deduplication/Outputs/Physicians.pkl')"
   ]
  },
  {
   "cell_type": "code",
   "execution_count": null,
   "id": "893ac016",
   "metadata": {
    "papermill": {
     "duration": null,
     "end_time": null,
     "exception": null,
     "start_time": null,
     "status": "pending"
    },
    "tags": []
   },
   "outputs": [],
   "source": []
  }
 ],
 "metadata": {
  "kernelspec": {
   "display_name": "Python 3",
   "language": "python",
   "name": "python3"
  },
  "language_info": {
   "codemirror_mode": {
    "name": "ipython",
    "version": 3
   },
   "file_extension": ".py",
   "mimetype": "text/x-python",
   "name": "python",
   "nbconvert_exporter": "python",
   "pygments_lexer": "ipython3",
   "version": "3.8.8"
  },
  "papermill": {
   "default_parameters": {},
   "duration": 18.346439,
   "end_time": "2021-12-08T17:54:38.794143",
   "environment_variables": {},
   "exception": true,
   "input_path": "Physicians/Physicians_Deduplication.ipynb",
   "output_path": "Logs/2021-12-08Physicians_Deduplication.ipynb",
   "parameters": {},
   "start_time": "2021-12-08T17:54:20.447704",
   "version": "2.3.3"
  }
 },
 "nbformat": 4,
 "nbformat_minor": 5
}