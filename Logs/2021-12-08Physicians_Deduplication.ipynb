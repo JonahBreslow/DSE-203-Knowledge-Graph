{
 "cells": [
  {
   "cell_type": "code",
   "execution_count": 1,
   "id": "0420e529",
   "metadata": {
    "execution": {
     "iopub.execute_input": "2021-12-08T18:43:42.541654Z",
     "iopub.status.busy": "2021-12-08T18:43:42.541654Z",
     "iopub.status.idle": "2021-12-08T18:43:43.434785Z",
     "shell.execute_reply": "2021-12-08T18:43:43.434785Z"
    },
    "papermill": {
     "duration": 0.959076,
     "end_time": "2021-12-08T18:43:43.434785",
     "exception": false,
     "start_time": "2021-12-08T18:43:42.475709",
     "status": "completed"
    },
    "tags": []
   },
   "outputs": [],
   "source": [
    "import pandas as pd\n",
    "import py_stringmatching as sm\n",
    "import numpy as np"
   ]
  },
  {
   "cell_type": "code",
   "execution_count": 2,
   "id": "e93c0c87",
   "metadata": {
    "execution": {
     "iopub.execute_input": "2021-12-08T18:43:43.486780Z",
     "iopub.status.busy": "2021-12-08T18:43:43.485782Z",
     "iopub.status.idle": "2021-12-08T18:43:43.767905Z",
     "shell.execute_reply": "2021-12-08T18:43:43.768837Z"
    },
    "papermill": {
     "duration": 0.31001,
     "end_time": "2021-12-08T18:43:43.768837",
     "exception": false,
     "start_time": "2021-12-08T18:43:43.458827",
     "status": "completed"
    },
    "tags": []
   },
   "outputs": [],
   "source": [
    "sunshine = pd.read_csv('Data/Outputs_Cleanup/Sunshine/physicians_info.csv',dtype=str)\n",
    "sunshine.fillna(value='',inplace=True)"
   ]
  },
  {
   "cell_type": "code",
   "execution_count": 3,
   "id": "179e5d86",
   "metadata": {
    "execution": {
     "iopub.execute_input": "2021-12-08T18:43:43.844839Z",
     "iopub.status.busy": "2021-12-08T18:43:43.820842Z",
     "iopub.status.idle": "2021-12-08T18:43:44.752408Z",
     "shell.execute_reply": "2021-12-08T18:43:44.752408Z"
    },
    "papermill": {
     "duration": 0.959572,
     "end_time": "2021-12-08T18:43:44.752408",
     "exception": false,
     "start_time": "2021-12-08T18:43:43.792836",
     "status": "completed"
    },
    "tags": []
   },
   "outputs": [],
   "source": [
    "def add_suffix(lname, suffix):\n",
    "    s = lname + ' ' + suffix\n",
    "    return s.strip()\n",
    "\n",
    "sunshine['Physician_Last_Name'] = sunshine.apply(lambda x: add_suffix(x['Physician_Last_Name'],x['Physician_Name_Suffix']),axis=1)"
   ]
  },
  {
   "cell_type": "code",
   "execution_count": 4,
   "id": "287f8e08",
   "metadata": {
    "execution": {
     "iopub.execute_input": "2021-12-08T18:43:44.817405Z",
     "iopub.status.busy": "2021-12-08T18:43:44.816461Z",
     "iopub.status.idle": "2021-12-08T18:43:44.830405Z",
     "shell.execute_reply": "2021-12-08T18:43:44.830405Z"
    },
    "papermill": {
     "duration": 0.05396,
     "end_time": "2021-12-08T18:43:44.831407",
     "exception": false,
     "start_time": "2021-12-08T18:43:44.777447",
     "status": "completed"
    },
    "tags": []
   },
   "outputs": [],
   "source": [
    "sunshine.rename(columns={'Physician_Profile_ID':'id','Physician_First_Name':'fname','Physician_Specialty':'type',\n",
    "                         'Physician_Last_Name':'lname','Recipient_City':'city'},inplace=True)\n",
    "sunshine.drop(columns=['Physician_Middle_Name','Physician_Name_Suffix','Recipient_State','Physician_Primary_Type',\n",
    "                       'Physician_License_State_code1','Physician_License_State_code2','Physician_License_State_code3',\n",
    "                       'Physician_License_State_code4','Physician_License_State_code5','Recipient_Zip_Code'],inplace=True)"
   ]
  },
  {
   "cell_type": "code",
   "execution_count": 5,
   "id": "7d15bb35",
   "metadata": {
    "execution": {
     "iopub.execute_input": "2021-12-08T18:43:44.884444Z",
     "iopub.status.busy": "2021-12-08T18:43:44.884444Z",
     "iopub.status.idle": "2021-12-08T18:43:45.083408Z",
     "shell.execute_reply": "2021-12-08T18:43:45.083408Z"
    },
    "papermill": {
     "duration": 0.228002,
     "end_time": "2021-12-08T18:43:45.083408",
     "exception": false,
     "start_time": "2021-12-08T18:43:44.855406",
     "status": "completed"
    },
    "tags": []
   },
   "outputs": [],
   "source": [
    "part_d = pd.read_csv('Data/Outputs_Cleanup/Part_d/prescriber_information.csv',dtype=str)\n",
    "part_d.fillna(value='',inplace=True)\n",
    "part_d.rename(columns={'Prscrbr_NPI':'id','Prscrbr_Last_Org_Name':'lname','Prscrbr_First_Name':'fname',\n",
    "                       'Prscrbr_City':'city','Prscrbr_Type':'type'},inplace=True)"
   ]
  },
  {
   "cell_type": "markdown",
   "id": "64728963",
   "metadata": {
    "papermill": {
     "duration": 0.024955,
     "end_time": "2021-12-08T18:43:45.134409",
     "exception": false,
     "start_time": "2021-12-08T18:43:45.109454",
     "status": "completed"
    },
    "tags": []
   },
   "source": [
    "Cities were hand deduped during this first run. However, in the future we will need to make a city deduper"
   ]
  },
  {
   "cell_type": "code",
   "execution_count": 6,
   "id": "41f1cbeb",
   "metadata": {
    "execution": {
     "iopub.execute_input": "2021-12-08T18:43:45.186168Z",
     "iopub.status.busy": "2021-12-08T18:43:45.186168Z",
     "iopub.status.idle": "2021-12-08T18:43:45.195002Z",
     "shell.execute_reply": "2021-12-08T18:43:45.195002Z"
    },
    "papermill": {
     "duration": 0.037637,
     "end_time": "2021-12-08T18:43:45.196043",
     "exception": false,
     "start_time": "2021-12-08T18:43:45.158406",
     "status": "completed"
    },
    "tags": []
   },
   "outputs": [],
   "source": [
    "# sunshine = pd.read_csv('CMS_Sunshine_Physicians.csv',dtype=str)\n",
    "# part_d = pd.read_csv('Medicare_PartD_Physicians.csv',dtype=str)"
   ]
  },
  {
   "cell_type": "code",
   "execution_count": 7,
   "id": "a84a84ea",
   "metadata": {
    "execution": {
     "iopub.execute_input": "2021-12-08T18:43:45.249002Z",
     "iopub.status.busy": "2021-12-08T18:43:45.248002Z",
     "iopub.status.idle": "2021-12-08T18:43:45.258003Z",
     "shell.execute_reply": "2021-12-08T18:43:45.258003Z"
    },
    "papermill": {
     "duration": 0.036953,
     "end_time": "2021-12-08T18:43:45.258003",
     "exception": false,
     "start_time": "2021-12-08T18:43:45.221050",
     "status": "completed"
    },
    "tags": []
   },
   "outputs": [],
   "source": [
    "def processType(x):\n",
    "    s = x.split('|')\n",
    "    return s[-1]"
   ]
  },
  {
   "cell_type": "code",
   "execution_count": 8,
   "id": "dd553d75",
   "metadata": {
    "execution": {
     "iopub.execute_input": "2021-12-08T18:43:45.313003Z",
     "iopub.status.busy": "2021-12-08T18:43:45.313003Z",
     "iopub.status.idle": "2021-12-08T18:43:45.321045Z",
     "shell.execute_reply": "2021-12-08T18:43:45.320044Z"
    },
    "papermill": {
     "duration": 0.037039,
     "end_time": "2021-12-08T18:43:45.321045",
     "exception": false,
     "start_time": "2021-12-08T18:43:45.284006",
     "status": "completed"
    },
    "tags": []
   },
   "outputs": [],
   "source": [
    "def processData(df):\n",
    "    cols = df.columns.to_list()\n",
    "    for col in cols:\n",
    "        df[col] = df[col].astype(str)\n",
    "        df[col] = df[col].apply(lambda x: x.lower().strip())\n",
    "    df['type'] = df['type'].apply(lambda x: processType(x))\n",
    "    df['combined'] = df['fname'] + ' ' + df['lname'] + ' ' + df['city'] + ' ' + df['type']\n",
    "    return df"
   ]
  },
  {
   "cell_type": "code",
   "execution_count": 9,
   "id": "b4079f03",
   "metadata": {
    "execution": {
     "iopub.execute_input": "2021-12-08T18:43:45.377047Z",
     "iopub.status.busy": "2021-12-08T18:43:45.376005Z",
     "iopub.status.idle": "2021-12-08T18:43:45.902050Z",
     "shell.execute_reply": "2021-12-08T18:43:45.902050Z"
    },
    "papermill": {
     "duration": 0.554994,
     "end_time": "2021-12-08T18:43:45.902050",
     "exception": false,
     "start_time": "2021-12-08T18:43:45.347056",
     "status": "completed"
    },
    "tags": []
   },
   "outputs": [],
   "source": [
    "sunshine = processData(sunshine)\n",
    "part_d = processData(part_d)"
   ]
  },
  {
   "cell_type": "code",
   "execution_count": 10,
   "id": "febb2976",
   "metadata": {
    "execution": {
     "iopub.execute_input": "2021-12-08T18:43:45.956015Z",
     "iopub.status.busy": "2021-12-08T18:43:45.956015Z",
     "iopub.status.idle": "2021-12-08T18:43:49.253615Z",
     "shell.execute_reply": "2021-12-08T18:43:49.253615Z"
    },
    "papermill": {
     "duration": 3.327604,
     "end_time": "2021-12-08T18:43:49.253615",
     "exception": false,
     "start_time": "2021-12-08T18:43:45.926011",
     "status": "completed"
    },
    "tags": []
   },
   "outputs": [],
   "source": [
    "sunshine_combined_id = sunshine.groupby('combined')['id'].apply(list).reset_index(name='id')\n",
    "part_d_id = part_d.groupby('combined')['id'].apply(list).reset_index(name='id')"
   ]
  },
  {
   "cell_type": "code",
   "execution_count": 11,
   "id": "c31f0e31",
   "metadata": {
    "execution": {
     "iopub.execute_input": "2021-12-08T18:43:49.310591Z",
     "iopub.status.busy": "2021-12-08T18:43:49.309590Z",
     "iopub.status.idle": "2021-12-08T18:43:49.410629Z",
     "shell.execute_reply": "2021-12-08T18:43:49.410629Z"
    },
    "papermill": {
     "duration": 0.131958,
     "end_time": "2021-12-08T18:43:49.411590",
     "exception": false,
     "start_time": "2021-12-08T18:43:49.279632",
     "status": "completed"
    },
    "tags": []
   },
   "outputs": [],
   "source": [
    "sunshine.drop(columns=['id'],inplace=True)\n",
    "part_d.drop(columns=['id'],inplace=True)"
   ]
  },
  {
   "cell_type": "code",
   "execution_count": 12,
   "id": "ec382d94",
   "metadata": {
    "execution": {
     "iopub.execute_input": "2021-12-08T18:43:49.466592Z",
     "iopub.status.busy": "2021-12-08T18:43:49.465595Z",
     "iopub.status.idle": "2021-12-08T18:43:49.664593Z",
     "shell.execute_reply": "2021-12-08T18:43:49.663593Z"
    },
    "papermill": {
     "duration": 0.227997,
     "end_time": "2021-12-08T18:43:49.664593",
     "exception": false,
     "start_time": "2021-12-08T18:43:49.436596",
     "status": "completed"
    },
    "tags": []
   },
   "outputs": [],
   "source": [
    "sunshine = sunshine.merge(right=sunshine_combined_id,how='left',on='combined')\n",
    "part_d = part_d.merge(right=part_d_id,how='left',on='combined')"
   ]
  },
  {
   "cell_type": "code",
   "execution_count": 13,
   "id": "e7ea9d6f",
   "metadata": {
    "execution": {
     "iopub.execute_input": "2021-12-08T18:43:49.726593Z",
     "iopub.status.busy": "2021-12-08T18:43:49.726593Z",
     "iopub.status.idle": "2021-12-08T18:43:49.742759Z",
     "shell.execute_reply": "2021-12-08T18:43:49.742759Z"
    },
    "papermill": {
     "duration": 0.053209,
     "end_time": "2021-12-08T18:43:49.743801",
     "exception": false,
     "start_time": "2021-12-08T18:43:49.690592",
     "status": "completed"
    },
    "tags": []
   },
   "outputs": [],
   "source": [
    "del sunshine_combined_id\n",
    "del part_d_id"
   ]
  },
  {
   "cell_type": "markdown",
   "id": "c6988af4",
   "metadata": {
    "papermill": {
     "duration": 0.023956,
     "end_time": "2021-12-08T18:43:49.792761",
     "exception": false,
     "start_time": "2021-12-08T18:43:49.768805",
     "status": "completed"
    },
    "tags": []
   },
   "source": [
    "There are duplicates where the same person has two ids in both dataset.<br>\n",
    "The solution is to use the combined column to create a new unique id.<br>\n",
    "Then we will create lookup tables for the new ID and the combined string.<br>"
   ]
  },
  {
   "cell_type": "markdown",
   "id": "7bab347e",
   "metadata": {
    "papermill": {
     "duration": 0.025997,
     "end_time": "2021-12-08T18:43:49.845759",
     "exception": false,
     "start_time": "2021-12-08T18:43:49.819762",
     "status": "completed"
    },
    "tags": []
   },
   "source": [
    "Make the lookup tables"
   ]
  },
  {
   "cell_type": "code",
   "execution_count": 14,
   "id": "94446e23",
   "metadata": {
    "execution": {
     "iopub.execute_input": "2021-12-08T18:43:49.900806Z",
     "iopub.status.busy": "2021-12-08T18:43:49.899881Z",
     "iopub.status.idle": "2021-12-08T18:43:49.917947Z",
     "shell.execute_reply": "2021-12-08T18:43:49.917947Z"
    },
    "papermill": {
     "duration": 0.046184,
     "end_time": "2021-12-08T18:43:49.917947",
     "exception": false,
     "start_time": "2021-12-08T18:43:49.871763",
     "status": "completed"
    },
    "tags": []
   },
   "outputs": [],
   "source": [
    "# sunshine.rename(columns={'id':'Physician_Profile_ID'})[['combined','Physician_Profile_ID']].to_csv('Data/Physicians_Deduplication/Outputs/CMS_Sunshine_Physicians_NewID.csv',index=False)\n",
    "# part_d.rename(columns={'id':'Prscrbr_NPI'})[['combined','Prscrbr_NPI']].to_csv('Data/Physicians_Deduplication/Outputs/Medicare_PartD_Physicians_NewID.csv',index=False)"
   ]
  },
  {
   "cell_type": "code",
   "execution_count": 15,
   "id": "e271f629",
   "metadata": {
    "execution": {
     "iopub.execute_input": "2021-12-08T18:43:49.999951Z",
     "iopub.status.busy": "2021-12-08T18:43:49.999951Z",
     "iopub.status.idle": "2021-12-08T18:43:50.169955Z",
     "shell.execute_reply": "2021-12-08T18:43:50.169955Z"
    },
    "papermill": {
     "duration": 0.202001,
     "end_time": "2021-12-08T18:43:50.169955",
     "exception": false,
     "start_time": "2021-12-08T18:43:49.967954",
     "status": "completed"
    },
    "tags": []
   },
   "outputs": [],
   "source": [
    "sunshine.drop_duplicates(subset='combined',inplace=True)\n",
    "part_d.drop_duplicates(subset='combined',inplace=True)"
   ]
  },
  {
   "cell_type": "code",
   "execution_count": 16,
   "id": "9a22dc94",
   "metadata": {
    "execution": {
     "iopub.execute_input": "2021-12-08T18:43:50.240952Z",
     "iopub.status.busy": "2021-12-08T18:43:50.239955Z",
     "iopub.status.idle": "2021-12-08T18:43:50.247952Z",
     "shell.execute_reply": "2021-12-08T18:43:50.247952Z"
    },
    "papermill": {
     "duration": 0.053037,
     "end_time": "2021-12-08T18:43:50.248991",
     "exception": false,
     "start_time": "2021-12-08T18:43:50.195954",
     "status": "completed"
    },
    "tags": []
   },
   "outputs": [],
   "source": [
    "sunshine_org = sunshine.copy()\n",
    "part_d_org = part_d.copy()"
   ]
  },
  {
   "cell_type": "markdown",
   "id": "904050cd",
   "metadata": {
    "papermill": {
     "duration": 0.027931,
     "end_time": "2021-12-08T18:43:50.329953",
     "exception": false,
     "start_time": "2021-12-08T18:43:50.302022",
     "status": "completed"
    },
    "tags": []
   },
   "source": [
    "Here we will do a naive matching. Based on just the 'hashID' column. If there is an exact match we will accept this."
   ]
  },
  {
   "cell_type": "code",
   "execution_count": 17,
   "id": "9a6b56b3",
   "metadata": {
    "execution": {
     "iopub.execute_input": "2021-12-08T18:43:50.436954Z",
     "iopub.status.busy": "2021-12-08T18:43:50.436954Z",
     "iopub.status.idle": "2021-12-08T18:43:50.518141Z",
     "shell.execute_reply": "2021-12-08T18:43:50.518141Z"
    },
    "papermill": {
     "duration": 0.163138,
     "end_time": "2021-12-08T18:43:50.518141",
     "exception": false,
     "start_time": "2021-12-08T18:43:50.355003",
     "status": "completed"
    },
    "tags": []
   },
   "outputs": [],
   "source": [
    "merged_part_d = part_d.merge(right=sunshine,on='combined',how='left')"
   ]
  },
  {
   "cell_type": "markdown",
   "id": "31d56d14",
   "metadata": {
    "papermill": {
     "duration": 0.027002,
     "end_time": "2021-12-08T18:43:50.599143",
     "exception": false,
     "start_time": "2021-12-08T18:43:50.572141",
     "status": "completed"
    },
    "tags": []
   },
   "source": [
    "Now we will remove the matches and set them aside. We will do a more careful inspection of the remaining unmatched ones."
   ]
  },
  {
   "cell_type": "code",
   "execution_count": 18,
   "id": "1cc84065",
   "metadata": {
    "execution": {
     "iopub.execute_input": "2021-12-08T18:43:50.669143Z",
     "iopub.status.busy": "2021-12-08T18:43:50.666141Z",
     "iopub.status.idle": "2021-12-08T18:43:50.806146Z",
     "shell.execute_reply": "2021-12-08T18:43:50.806146Z"
    },
    "papermill": {
     "duration": 0.175004,
     "end_time": "2021-12-08T18:43:50.806146",
     "exception": false,
     "start_time": "2021-12-08T18:43:50.631142",
     "status": "completed"
    },
    "tags": []
   },
   "outputs": [
    {
     "data": {
      "text/html": [
       "<div>\n",
       "<style scoped>\n",
       "    .dataframe tbody tr th:only-of-type {\n",
       "        vertical-align: middle;\n",
       "    }\n",
       "\n",
       "    .dataframe tbody tr th {\n",
       "        vertical-align: top;\n",
       "    }\n",
       "\n",
       "    .dataframe thead th {\n",
       "        text-align: right;\n",
       "    }\n",
       "</style>\n",
       "<table border=\"1\" class=\"dataframe\">\n",
       "  <thead>\n",
       "    <tr style=\"text-align: right;\">\n",
       "      <th></th>\n",
       "      <th>part_d</th>\n",
       "      <th>sunshine</th>\n",
       "    </tr>\n",
       "  </thead>\n",
       "  <tbody>\n",
       "  </tbody>\n",
       "</table>\n",
       "</div>"
      ],
      "text/plain": [
       "Empty DataFrame\n",
       "Columns: [part_d, sunshine]\n",
       "Index: []"
      ]
     },
     "execution_count": 18,
     "metadata": {},
     "output_type": "execute_result"
    }
   ],
   "source": [
    "#Setting aside matches, keeping pairs together\n",
    "matches = merged_part_d.drop(merged_part_d[(merged_part_d['city_x'].isnull()==True) | (merged_part_d['city_y'].isnull()==True)].index)\n",
    "col = matches.columns.to_list()\n",
    "col.remove('combined')\n",
    "matches.drop(columns = col,inplace=True)\n",
    "matches['combined2'] = matches['combined']\n",
    "matches.rename(columns={'combined':'part_d','combined2':'sunshine'},inplace=True)\n",
    "matches.head()"
   ]
  },
  {
   "cell_type": "code",
   "execution_count": 19,
   "id": "2e1ccca1",
   "metadata": {
    "execution": {
     "iopub.execute_input": "2021-12-08T18:43:50.879147Z",
     "iopub.status.busy": "2021-12-08T18:43:50.879147Z",
     "iopub.status.idle": "2021-12-08T18:43:50.932151Z",
     "shell.execute_reply": "2021-12-08T18:43:50.933181Z"
    },
    "papermill": {
     "duration": 0.095035,
     "end_time": "2021-12-08T18:43:50.933181",
     "exception": false,
     "start_time": "2021-12-08T18:43:50.838146",
     "status": "completed"
    },
    "tags": []
   },
   "outputs": [],
   "source": [
    "part_d.drop(part_d[part_d['combined'].isin(matches['part_d'].to_list())].index,inplace=True)\n",
    "sunshine.drop(sunshine[sunshine['combined'].isin(matches['sunshine'].to_list())].index,inplace=True)"
   ]
  },
  {
   "cell_type": "code",
   "execution_count": 20,
   "id": "9b6bf029",
   "metadata": {
    "execution": {
     "iopub.execute_input": "2021-12-08T18:43:51.001145Z",
     "iopub.status.busy": "2021-12-08T18:43:51.001145Z",
     "iopub.status.idle": "2021-12-08T18:43:51.012119Z",
     "shell.execute_reply": "2021-12-08T18:43:51.012119Z"
    },
    "papermill": {
     "duration": 0.050924,
     "end_time": "2021-12-08T18:43:51.012119",
     "exception": false,
     "start_time": "2021-12-08T18:43:50.961195",
     "status": "completed"
    },
    "tags": []
   },
   "outputs": [],
   "source": [
    "del merged_part_d"
   ]
  },
  {
   "cell_type": "code",
   "execution_count": 21,
   "id": "95ecbedc",
   "metadata": {
    "execution": {
     "iopub.execute_input": "2021-12-08T18:43:51.076118Z",
     "iopub.status.busy": "2021-12-08T18:43:51.075120Z",
     "iopub.status.idle": "2021-12-08T18:43:56.151374Z",
     "shell.execute_reply": "2021-12-08T18:43:56.151374Z"
    },
    "papermill": {
     "duration": 5.113256,
     "end_time": "2021-12-08T18:43:56.152374",
     "exception": false,
     "start_time": "2021-12-08T18:43:51.039118",
     "status": "completed"
    },
    "tags": []
   },
   "outputs": [],
   "source": [
    "#Create a new column in sunshine that is the combined column whitespace tokenized    \n",
    "#Create a new column in sunshine that is the combined column unigram tokenized\n",
    "#Create a new column in part_d that is the combined column whitespace tokenized\n",
    "#Create a new column in part_d that is the combined column unigram tokenized\n",
    "whitespace_tokenizer = sm.WhitespaceTokenizer()\n",
    "unigram_tokenizer = sm.QgramTokenizer(qval=2)\n",
    "sunshine['whitespace_tok'] = sunshine['combined'].apply(lambda x: whitespace_tokenizer.tokenize(x))\n",
    "sunshine['Qgram_tok'] = sunshine['combined'].apply(lambda x: unigram_tokenizer.tokenize(x))\n",
    "part_d['whitespace_tok'] = part_d['combined'].apply(lambda x: whitespace_tokenizer.tokenize(x))\n",
    "part_d['Qgram_tok'] = part_d['combined'].apply(lambda x: unigram_tokenizer.tokenize(x))"
   ]
  },
  {
   "cell_type": "code",
   "execution_count": 22,
   "id": "fc0ade1c",
   "metadata": {
    "execution": {
     "iopub.execute_input": "2021-12-08T18:43:56.229374Z",
     "iopub.status.busy": "2021-12-08T18:43:56.229374Z",
     "iopub.status.idle": "2021-12-08T18:43:56.244380Z",
     "shell.execute_reply": "2021-12-08T18:43:56.245377Z"
    },
    "papermill": {
     "duration": 0.049003,
     "end_time": "2021-12-08T18:43:56.245377",
     "exception": false,
     "start_time": "2021-12-08T18:43:56.196374",
     "status": "completed"
    },
    "tags": []
   },
   "outputs": [],
   "source": [
    "#We will find matches for the sunshine data in the part_d data\n",
    "#This is because the sunshine data is the smaller set\n",
    "#Here is the procedure:    \n",
    "    #For each row in sunshine\n",
    "        #Filter the city in part_d\n",
    "        #Perform Jaccard on the whitespace token set between the remainder and the row\n",
    "        #Filter out for scores higher than .75\n",
    "        #If the remaining dataframe is 0\n",
    "            #Return None\n",
    "        #Else\n",
    "            #Grab the highest matching one as the match\n",
    "            #Save the match into sunshine_match dataframe and part_d_match dataframe\n",
    "        #Remove the row from both part_d_noDups and sunshine_noDups"
   ]
  },
  {
   "cell_type": "code",
   "execution_count": 23,
   "id": "41dd3d5e",
   "metadata": {
    "execution": {
     "iopub.execute_input": "2021-12-08T18:43:56.310380Z",
     "iopub.status.busy": "2021-12-08T18:43:56.310380Z",
     "iopub.status.idle": "2021-12-08T18:43:56.323386Z",
     "shell.execute_reply": "2021-12-08T18:43:56.323386Z"
    },
    "papermill": {
     "duration": 0.046009,
     "end_time": "2021-12-08T18:43:56.323386",
     "exception": false,
     "start_time": "2021-12-08T18:43:56.277377",
     "status": "completed"
    },
    "tags": []
   },
   "outputs": [],
   "source": [
    "sim_measure = sm.OverlapCoefficient()"
   ]
  },
  {
   "cell_type": "code",
   "execution_count": 24,
   "id": "d14c8e11",
   "metadata": {
    "execution": {
     "iopub.execute_input": "2021-12-08T18:43:56.383002Z",
     "iopub.status.busy": "2021-12-08T18:43:56.383002Z",
     "iopub.status.idle": "2021-12-08T18:43:56.385999Z",
     "shell.execute_reply": "2021-12-08T18:43:56.385999Z"
    },
    "papermill": {
     "duration": 0.03301,
     "end_time": "2021-12-08T18:43:56.385999",
     "exception": false,
     "start_time": "2021-12-08T18:43:56.352989",
     "status": "completed"
    },
    "tags": []
   },
   "outputs": [],
   "source": [
    "matched = []"
   ]
  },
  {
   "cell_type": "code",
   "execution_count": 25,
   "id": "965fa083",
   "metadata": {
    "execution": {
     "iopub.execute_input": "2021-12-08T18:43:56.452048Z",
     "iopub.status.busy": "2021-12-08T18:43:56.451029Z",
     "iopub.status.idle": "2021-12-08T18:43:56.468005Z",
     "shell.execute_reply": "2021-12-08T18:43:56.468005Z"
    },
    "papermill": {
     "duration": 0.051004,
     "end_time": "2021-12-08T18:43:56.469004",
     "exception": false,
     "start_time": "2021-12-08T18:43:56.418000",
     "status": "completed"
    },
    "tags": []
   },
   "outputs": [],
   "source": [
    "def find_match(sunshine_row):\n",
    "    #filter part_d for the last name:\n",
    "    df_partD = part_d[part_d['lname']==sunshine_row['lname']].copy()\n",
    "    df_partD.drop(df_partD[df_partD['combined'].isin(matched)].index,inplace=True)\n",
    "    if len(df_partD) == 0:\n",
    "        #Return None\n",
    "        return None\n",
    "    #Perform similarity on the token set between the remainder and the row\n",
    "    df_partD['score'] = df_partD['Qgram_tok'].apply(lambda x: sim_measure.get_sim_score(x, sunshine_row['Qgram_tok']))\n",
    "    #Filter out for scores higher than .75\n",
    "    df_partD.drop(df_partD[df_partD['score']<.8].index,inplace=True)\n",
    "    #If the remaining dataframe is 0\n",
    "    if len(df_partD) == 0:\n",
    "        #Return None\n",
    "        return None\n",
    "    #Else if the remaining dataframe is 1\n",
    "    elif len(df_partD) == 1:\n",
    "        #Return the remaining row's hash_id\n",
    "        match = df_partD.iloc[0]['combined']\n",
    "        matched.append(match)\n",
    "        return match\n",
    "    else:\n",
    "        #Sort the remaining rows by score\n",
    "        df_partD.sort_values(by=['score'],axis=0,ascending=False,ignore_index=True,inplace=True)\n",
    "        #Return the highest one\n",
    "        match = df_partD.iloc[0]['combined']\n",
    "        matched.append(match)\n",
    "        return match"
   ]
  },
  {
   "cell_type": "code",
   "execution_count": 26,
   "id": "1063a113",
   "metadata": {
    "execution": {
     "iopub.execute_input": "2021-12-08T18:43:56.538841Z",
     "iopub.status.busy": "2021-12-08T18:43:56.538841Z",
     "iopub.status.idle": "2021-12-08T18:43:56.611107Z",
     "shell.execute_reply": "2021-12-08T18:43:56.611107Z"
    },
    "papermill": {
     "duration": 0.072241,
     "end_time": "2021-12-08T18:43:56.576127",
     "exception": false,
     "start_time": "2021-12-08T18:43:56.503886",
     "status": "completed"
    },
    "tags": []
   },
   "outputs": [],
   "source": [
    "from tqdm import tqdm"
   ]
  },
  {
   "cell_type": "code",
   "execution_count": null,
   "id": "fb90211a",
   "metadata": {
    "papermill": {
     "duration": null,
     "end_time": null,
     "exception": null,
     "start_time": null,
     "status": "completed"
    },
    "tags": []
   },
   "outputs": [],
   "source": [
    "%%time\n",
    "tqdm.pandas(desc=\"Progress\")\n",
    "sunshine['match'] = sunshine.apply(lambda x: find_match(x),axis=1)"
   ]
  },
  {
   "cell_type": "code",
   "execution_count": null,
   "id": "c715501a",
   "metadata": {
    "papermill": {
     "duration": null,
     "end_time": null,
     "exception": null,
     "start_time": null,
     "status": "completed"
    },
    "tags": []
   },
   "outputs": [],
   "source": [
    "other_matches = sunshine[sunshine['match'].isnull()==False][['match','combined']].copy()\n",
    "other_matches.rename(columns={'match':'part_d','combined':'sunshine'},inplace=True)"
   ]
  },
  {
   "cell_type": "code",
   "execution_count": null,
   "id": "d01f04e2",
   "metadata": {
    "papermill": {
     "duration": null,
     "end_time": null,
     "exception": null,
     "start_time": null,
     "status": "completed"
    },
    "tags": []
   },
   "outputs": [],
   "source": [
    "matches = pd.concat([matches,other_matches],ignore_index=True)"
   ]
  },
  {
   "cell_type": "code",
   "execution_count": null,
   "id": "7922c395",
   "metadata": {
    "papermill": {
     "duration": null,
     "end_time": null,
     "exception": null,
     "start_time": null,
     "status": "completed"
    },
    "tags": []
   },
   "outputs": [],
   "source": [
    "part_d.drop(part_d[part_d['combined'].isin(matches['part_d'].to_list())].index,inplace=True)\n",
    "sunshine.drop(sunshine[sunshine['combined'].isin(matches['sunshine'].to_list())].index,inplace=True)"
   ]
  },
  {
   "cell_type": "code",
   "execution_count": null,
   "id": "3d8b60ec",
   "metadata": {
    "papermill": {
     "duration": null,
     "end_time": null,
     "exception": null,
     "start_time": null,
     "status": "completed"
    },
    "tags": []
   },
   "outputs": [],
   "source": [
    "sunshine[['id','fname','lname','type','city']].to_csv('Data/Physicians_Deduplication/Outputs/CMS_Sunshine_Physicians_no_matches.csv',index=False)\n",
    "part_d[['id','fname','lname','type','city']].to_csv('Data/Physicians_Deduplication/Outputs/Medicare_PartD_Physicians_no_matches.csv',index=False)"
   ]
  },
  {
   "cell_type": "code",
   "execution_count": null,
   "id": "2cbc00a1",
   "metadata": {
    "papermill": {
     "duration": null,
     "end_time": null,
     "exception": null,
     "start_time": null,
     "status": "completed"
    },
    "tags": []
   },
   "outputs": [],
   "source": [
    "matches.to_csv('Data/Physicians_Deduplication/Outputs/Physician_Matches.csv',index=False)"
   ]
  },
  {
   "cell_type": "code",
   "execution_count": null,
   "id": "e29f9514",
   "metadata": {
    "papermill": {
     "duration": null,
     "end_time": null,
     "exception": null,
     "start_time": null,
     "status": "completed"
    },
    "tags": []
   },
   "outputs": [],
   "source": [
    "sunshine.drop(columns = ['whitespace_tok','Qgram_tok','match'],inplace=True)\n",
    "part_d.drop(columns = ['whitespace_tok','Qgram_tok'],inplace=True)"
   ]
  },
  {
   "cell_type": "code",
   "execution_count": null,
   "id": "dd575add",
   "metadata": {
    "papermill": {
     "duration": null,
     "end_time": null,
     "exception": null,
     "start_time": null,
     "status": "completed"
    },
    "tags": []
   },
   "outputs": [],
   "source": [
    "matches.head()"
   ]
  },
  {
   "cell_type": "code",
   "execution_count": null,
   "id": "01fd78e5",
   "metadata": {
    "papermill": {
     "duration": null,
     "end_time": null,
     "exception": null,
     "start_time": null,
     "status": "completed"
    },
    "tags": []
   },
   "outputs": [],
   "source": [
    "matches = matches.merge(right = part_d_org,how='left',left_on='part_d',right_on='combined')\n",
    "matches = matches.merge(right = sunshine_org[['combined','id']],how='left',left_on='sunshine',right_on='combined')\n",
    "matches.drop(columns=['part_d','sunshine','combined_y'],inplace=True)\n",
    "matches.rename(columns={'combined_x':'combined','id_x':'Prscrbr_NPI','id_y':'Physician_Profile_ID'},inplace=True)\n",
    "matches = matches[['combined','Prscrbr_NPI','Physician_Profile_ID','fname','lname','type','city']]"
   ]
  },
  {
   "cell_type": "code",
   "execution_count": null,
   "id": "7132be12",
   "metadata": {
    "papermill": {
     "duration": null,
     "end_time": null,
     "exception": null,
     "start_time": null,
     "status": "completed"
    },
    "tags": []
   },
   "outputs": [],
   "source": [
    "# #matches.rename(columns={'part_d':'id'},inplace=True)\n",
    "# #matches = matches.merge(right = part_d_org,how='left',left_on='id',right_on='combined')\n",
    "# matches.drop(columns=['sunshine','combined'],inplace=True)\n",
    "# matches.rename(columns={'id_x':'combined','id_y':'Prscrbr_NPI'},inplace=True)\n",
    "# matches = matches.merge(right = sunshine_org[['combined','id']],how='left',on='combined')\n",
    "# matches.rename(columns={'id':'Physician_Profile_ID'},inplace=True)\n"
   ]
  },
  {
   "cell_type": "code",
   "execution_count": null,
   "id": "a3d57d33",
   "metadata": {
    "papermill": {
     "duration": null,
     "end_time": null,
     "exception": null,
     "start_time": null,
     "status": "completed"
    },
    "tags": []
   },
   "outputs": [],
   "source": [
    "sunshine.rename(columns={'id':'Physician_Profile_ID'},inplace=True)\n",
    "sunshine['Prscrbr_NPI']=np.nan\n",
    "sunshine = sunshine[['combined','Prscrbr_NPI','Physician_Profile_ID','fname','lname','type','city']]"
   ]
  },
  {
   "cell_type": "code",
   "execution_count": null,
   "id": "9fe64806",
   "metadata": {
    "papermill": {
     "duration": null,
     "end_time": null,
     "exception": null,
     "start_time": null,
     "status": "completed"
    },
    "tags": []
   },
   "outputs": [],
   "source": [
    "part_d.rename(columns={'id':'Prscrbr_NPI'},inplace=True)\n",
    "part_d['Physician_Profile_ID']=np.nan\n",
    "part_d = part_d[['combined','Prscrbr_NPI','Physician_Profile_ID','fname','lname','type','city']]"
   ]
  },
  {
   "cell_type": "code",
   "execution_count": null,
   "id": "3f1612c7",
   "metadata": {
    "papermill": {
     "duration": null,
     "end_time": null,
     "exception": null,
     "start_time": null,
     "status": "completed"
    },
    "tags": []
   },
   "outputs": [],
   "source": [
    "final_output = pd.concat([pd.concat([matches,sunshine],ignore_index=True),part_d],ignore_index=True)\n",
    "final_output.drop(columns=['combined'],inplace=True)\n",
    "final_output.reset_index(inplace=True)\n",
    "final_output.rename(columns={'index':'id'},inplace=True)\n",
    "final_output.to_csv('Data/Physicians_Deduplication/Outputs/Physicians.csv',index=False)\n",
    "final_output.to_pickle('Data/Physicians_Deduplication/Outputs/Physicians.pkl')"
   ]
  },
  {
   "cell_type": "code",
   "execution_count": null,
   "id": "c1730ba8",
   "metadata": {
    "papermill": {
     "duration": null,
     "end_time": null,
     "exception": null,
     "start_time": null,
     "status": "completed"
    },
    "tags": []
   },
   "outputs": [],
   "source": []
  }
 ],
 "metadata": {
  "kernelspec": {
   "display_name": "Python 3",
   "language": "python",
   "name": "python3"
  },
  "language_info": {
   "codemirror_mode": {
    "name": "ipython",
    "version": 3
   },
   "file_extension": ".py",
   "mimetype": "text/x-python",
   "name": "python",
   "nbconvert_exporter": "python",
   "pygments_lexer": "ipython3",
   "version": "3.8.8"
  },
  "papermill": {
   "default_parameters": {},
   "duration": 16.189754,
   "end_time": "2021-12-08T18:43:56.827107",
   "environment_variables": {},
   "exception": null,
   "input_path": "Physicians_Deduplication.ipynb",
   "output_path": "Logs/2021-12-08Physicians_Deduplication.ipynb",
   "parameters": {},
   "start_time": "2021-12-08T18:43:40.637353",
   "version": "2.3.3"
  }
 },
 "nbformat": 4,
 "nbformat_minor": 5
}