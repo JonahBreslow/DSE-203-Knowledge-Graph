{
 "cells": [
  {
   "cell_type": "markdown",
   "id": "907ddb36",
   "metadata": {
    "papermill": {
     "duration": 0.011671,
     "end_time": "2021-12-08T18:29:04.986786",
     "exception": false,
     "start_time": "2021-12-08T18:29:04.975115",
     "status": "completed"
    },
    "tags": []
   },
   "source": [
    "# Medicare Part D Cleanup\n",
    "## Authors: \n",
    "    1. Lam Ho\n",
    "    2. Jonah Breslow\n",
    "    3. Jeffrey Kagan\n",
    "## Purpose:\n",
    "The purpose of this notebook is to do some preliminary cleanup/filtering of the [Medicare Part D Prescribers - by Provider and Drug](https://data.cms.gov/provider-summary-by-type-of-service/medicare-part-d-prescribers/medicare-part-d-prescribers-by-provider-and-drug/data/2019) data. Creating the nodes and edges for Physicians & Prescriptions\n",
    "\n",
    "### Importing modules"
   ]
  },
  {
   "cell_type": "code",
   "execution_count": 1,
   "id": "0d940fbe",
   "metadata": {
    "execution": {
     "iopub.execute_input": "2021-12-08T18:29:05.016785Z",
     "iopub.status.busy": "2021-12-08T18:29:05.015791Z",
     "iopub.status.idle": "2021-12-08T18:29:06.868997Z",
     "shell.execute_reply": "2021-12-08T18:29:06.868997Z"
    },
    "papermill": {
     "duration": 1.86921,
     "end_time": "2021-12-08T18:29:06.868997",
     "exception": false,
     "start_time": "2021-12-08T18:29:04.999787",
     "status": "completed"
    },
    "tags": []
   },
   "outputs": [],
   "source": [
    "from dask import dataframe as dd\n",
    "import re\n",
    "import pickle"
   ]
  },
  {
   "cell_type": "markdown",
   "id": "616d1b72",
   "metadata": {
    "papermill": {
     "duration": 0.023028,
     "end_time": "2021-12-08T18:29:06.912024",
     "exception": false,
     "start_time": "2021-12-08T18:29:06.888996",
     "status": "completed"
    },
    "tags": []
   },
   "source": [
    "### Importing the Medicare Part D Prescriptions Data"
   ]
  },
  {
   "cell_type": "code",
   "execution_count": 2,
   "id": "f9d31284",
   "metadata": {
    "execution": {
     "iopub.execute_input": "2021-12-08T18:29:06.939999Z",
     "iopub.status.busy": "2021-12-08T18:29:06.939999Z",
     "iopub.status.idle": "2021-12-08T18:29:06.946998Z",
     "shell.execute_reply": "2021-12-08T18:29:06.946998Z"
    },
    "papermill": {
     "duration": 0.023953,
     "end_time": "2021-12-08T18:29:06.947997",
     "exception": false,
     "start_time": "2021-12-08T18:29:06.924044",
     "status": "completed"
    },
    "tags": []
   },
   "outputs": [],
   "source": [
    "cols = ['Prscrbr_NPI','Prscrbr_Last_Org_Name','Prscrbr_First_Name','Prscrbr_City',\n",
    "        'Prscrbr_State_Abrvtn','Prscrbr_Type','Brnd_Name','Gnrc_Name',\n",
    "        'Tot_Clms', 'Tot_30day_Fills', 'Tot_Day_Suply', 'Tot_Drug_Cst',\n",
    "        'Tot_Benes', 'GE65_Tot_Clms', 'GE65_Tot_30day_Fills',\n",
    "        'GE65_Tot_Drug_Cst', 'GE65_Tot_Day_Suply','GE65_Tot_Benes']"
   ]
  },
  {
   "cell_type": "code",
   "execution_count": 3,
   "id": "df2e9b48",
   "metadata": {
    "execution": {
     "iopub.execute_input": "2021-12-08T18:29:06.981997Z",
     "iopub.status.busy": "2021-12-08T18:29:06.981997Z",
     "iopub.status.idle": "2021-12-08T18:29:07.026001Z",
     "shell.execute_reply": "2021-12-08T18:29:07.026001Z"
    },
    "papermill": {
     "duration": 0.063999,
     "end_time": "2021-12-08T18:29:07.026001",
     "exception": false,
     "start_time": "2021-12-08T18:29:06.962002",
     "status": "completed"
    },
    "tags": []
   },
   "outputs": [],
   "source": [
    "part_d = dd.read_csv('Data/Medicare_Part_D_Prescribers_by_Provider_and_Drug_2019.csv',usecols=cols)"
   ]
  },
  {
   "cell_type": "markdown",
   "id": "f960b3b0",
   "metadata": {
    "papermill": {
     "duration": 0.011998,
     "end_time": "2021-12-08T18:29:07.051999",
     "exception": false,
     "start_time": "2021-12-08T18:29:07.040001",
     "status": "completed"
    },
    "tags": []
   },
   "source": [
    "### Make the year a part of the data"
   ]
  },
  {
   "cell_type": "code",
   "execution_count": 4,
   "id": "3c7835f4",
   "metadata": {
    "execution": {
     "iopub.execute_input": "2021-12-08T18:29:07.085999Z",
     "iopub.status.busy": "2021-12-08T18:29:07.085999Z",
     "iopub.status.idle": "2021-12-08T18:29:07.089997Z",
     "shell.execute_reply": "2021-12-08T18:29:07.089997Z"
    },
    "papermill": {
     "duration": 0.025984,
     "end_time": "2021-12-08T18:29:07.089997",
     "exception": false,
     "start_time": "2021-12-08T18:29:07.064013",
     "status": "completed"
    },
    "tags": []
   },
   "outputs": [],
   "source": [
    "part_d['Year']='2019'"
   ]
  },
  {
   "cell_type": "markdown",
   "id": "0a1dfcb6",
   "metadata": {
    "papermill": {
     "duration": 0.01104,
     "end_time": "2021-12-08T18:29:07.112038",
     "exception": false,
     "start_time": "2021-12-08T18:29:07.100998",
     "status": "completed"
    },
    "tags": []
   },
   "source": [
    "## Pre-Processing Text Columns"
   ]
  },
  {
   "cell_type": "code",
   "execution_count": 5,
   "id": "8c41c77c",
   "metadata": {
    "execution": {
     "iopub.execute_input": "2021-12-08T18:29:07.139583Z",
     "iopub.status.busy": "2021-12-08T18:29:07.138526Z",
     "iopub.status.idle": "2021-12-08T18:29:07.154580Z",
     "shell.execute_reply": "2021-12-08T18:29:07.154580Z"
    },
    "papermill": {
     "duration": 0.030581,
     "end_time": "2021-12-08T18:29:07.154580",
     "exception": false,
     "start_time": "2021-12-08T18:29:07.123999",
     "status": "completed"
    },
    "tags": []
   },
   "outputs": [],
   "source": [
    "def remove_punc(string):\n",
    "    '''\n",
    "    takes in a string and removed all punctuation.\n",
    "    '''\n",
    "    return re.sub(r'[^\\w\\s]','',string)\n",
    "\n",
    "def preProcess(df):\n",
    "    '''\n",
    "    takes a dataframe, applies the remove_punc function\n",
    "    and then upper cases all text columns\n",
    "    '''\n",
    "    df = df.applymap(lambda s:remove_punc(s).upper() if isinstance(s, str) else s)\n",
    "    return df"
   ]
  },
  {
   "cell_type": "code",
   "execution_count": 6,
   "id": "dee996be",
   "metadata": {
    "execution": {
     "iopub.execute_input": "2021-12-08T18:29:07.196540Z",
     "iopub.status.busy": "2021-12-08T18:29:07.196540Z",
     "iopub.status.idle": "2021-12-08T18:30:02.562480Z",
     "shell.execute_reply": "2021-12-08T18:30:02.570658Z"
    },
    "papermill": {
     "duration": 55.413391,
     "end_time": "2021-12-08T18:30:02.579968",
     "exception": false,
     "start_time": "2021-12-08T18:29:07.166577",
     "status": "completed"
    },
    "tags": []
   },
   "outputs": [],
   "source": [
    "part_d = part_d.map_partitions(preProcess)\n",
    "part_d = part_d.persist()"
   ]
  },
  {
   "cell_type": "markdown",
   "id": "156c6cd2",
   "metadata": {
    "papermill": {
     "duration": 0.014011,
     "end_time": "2021-12-08T18:30:02.675030",
     "exception": false,
     "start_time": "2021-12-08T18:30:02.661019",
     "status": "completed"
    },
    "tags": []
   },
   "source": [
    "### Get prescriber_info (Physician Node data)"
   ]
  },
  {
   "cell_type": "code",
   "execution_count": 7,
   "id": "9f60cba9",
   "metadata": {
    "execution": {
     "iopub.execute_input": "2021-12-08T18:30:02.851410Z",
     "iopub.status.busy": "2021-12-08T18:30:02.731652Z",
     "iopub.status.idle": "2021-12-08T18:30:02.872047Z",
     "shell.execute_reply": "2021-12-08T18:30:02.872047Z"
    },
    "papermill": {
     "duration": 0.184016,
     "end_time": "2021-12-08T18:30:02.872047",
     "exception": false,
     "start_time": "2021-12-08T18:30:02.688031",
     "status": "completed"
    },
    "tags": []
   },
   "outputs": [
    {
     "name": "stdout",
     "output_type": "stream",
     "text": [
      "Wall time: 93.5 ms\n"
     ]
    }
   ],
   "source": [
    "%%time\n",
    "# Get prescriber_info\n",
    "prescr = part_d[['Prscrbr_NPI', 'Prscrbr_Last_Org_Name', 'Prscrbr_First_Name','Prscrbr_City','Prscrbr_Type']]\n",
    "prescr = prescr.drop_duplicates(subset=['Prscrbr_NPI'])"
   ]
  },
  {
   "cell_type": "markdown",
   "id": "af76f68c",
   "metadata": {
    "papermill": {
     "duration": 0.013001,
     "end_time": "2021-12-08T18:30:02.899556",
     "exception": false,
     "start_time": "2021-12-08T18:30:02.886555",
     "status": "completed"
    },
    "tags": []
   },
   "source": [
    "#### Checking for multiple distinct physicians for the same Prescrbr_NPI"
   ]
  },
  {
   "cell_type": "code",
   "execution_count": 8,
   "id": "35e079b7",
   "metadata": {
    "execution": {
     "iopub.execute_input": "2021-12-08T18:30:03.003535Z",
     "iopub.status.busy": "2021-12-08T18:30:02.978955Z",
     "iopub.status.idle": "2021-12-08T18:30:05.026829Z",
     "shell.execute_reply": "2021-12-08T18:30:05.026829Z"
    },
    "papermill": {
     "duration": 2.114263,
     "end_time": "2021-12-08T18:30:05.027829",
     "exception": false,
     "start_time": "2021-12-08T18:30:02.913566",
     "status": "completed"
    },
    "tags": []
   },
   "outputs": [
    {
     "name": "stdout",
     "output_type": "stream",
     "text": [
      "There are 0 Physicians with duplicated node data\n"
     ]
    }
   ],
   "source": [
    "prescrbr_node_dupes = prescr.groupby('Prscrbr_NPI').count()\n",
    "prescrbr_node_dupes = prescrbr_node_dupes[prescrbr_node_dupes.Prscrbr_Last_Org_Name>1].compute()\n",
    "print(\"There are \"+str(prescrbr_node_dupes.shape[0])+ \" Physicians with duplicated node data\")"
   ]
  },
  {
   "cell_type": "code",
   "execution_count": 9,
   "id": "a96a0e96",
   "metadata": {
    "execution": {
     "iopub.execute_input": "2021-12-08T18:30:05.105831Z",
     "iopub.status.busy": "2021-12-08T18:30:05.089834Z",
     "iopub.status.idle": "2021-12-08T18:30:06.267861Z",
     "shell.execute_reply": "2021-12-08T18:30:06.267861Z"
    },
    "papermill": {
     "duration": 1.217032,
     "end_time": "2021-12-08T18:30:06.267861",
     "exception": false,
     "start_time": "2021-12-08T18:30:05.050829",
     "status": "completed"
    },
    "tags": []
   },
   "outputs": [],
   "source": [
    "prescr.to_csv('Data/Outputs_Cleanup/Part_d/prescriber_information.csv',single_file=True,index=False)\n",
    "del prescr"
   ]
  },
  {
   "cell_type": "markdown",
   "id": "d66ea06a",
   "metadata": {
    "papermill": {
     "duration": 0.015,
     "end_time": "2021-12-08T18:30:06.304851",
     "exception": false,
     "start_time": "2021-12-08T18:30:06.289851",
     "status": "completed"
    },
    "tags": []
   },
   "source": [
    "### Get Drug information (Drug Node data)"
   ]
  },
  {
   "cell_type": "code",
   "execution_count": 10,
   "id": "5d49348a",
   "metadata": {
    "execution": {
     "iopub.execute_input": "2021-12-08T18:30:06.430443Z",
     "iopub.status.busy": "2021-12-08T18:30:06.430443Z",
     "iopub.status.idle": "2021-12-08T18:30:07.185569Z",
     "shell.execute_reply": "2021-12-08T18:30:07.185569Z"
    },
    "papermill": {
     "duration": 0.862716,
     "end_time": "2021-12-08T18:30:07.186571",
     "exception": false,
     "start_time": "2021-12-08T18:30:06.323855",
     "status": "completed"
    },
    "tags": []
   },
   "outputs": [
    {
     "data": {
      "text/plain": [
       "['C:/Users/10294029/Documents/GitHub/DSE-203-Knowledge-Graph/Data/Outputs_Cleanup/Part_d/drug_information.csv']"
      ]
     },
     "execution_count": 10,
     "metadata": {},
     "output_type": "execute_result"
    }
   ],
   "source": [
    "drugs = part_d[['Brnd_Name','Gnrc_Name']].drop_duplicates()\n",
    "# drugs = part_d[['Brnd_Name']].drop_duplicates()\n",
    "drugs = drugs.reset_index()\n",
    "drugs.columns = ['MedD_drug_id','Brnd_Name','Gnrc_Name']\n",
    "# drugs.columns = ['MedD_drug_id','Brnd_Name']\n",
    "\n",
    "drugs_node_out = drugs.copy()[['MedD_drug_id', 'Brnd_Name']]\n",
    "drugs_node_out.columns = ['MedD_drug_id', 'brand_name']\n",
    "#drugs['MedD_drug_id'] = \"MedD\"+drugs.MedD_drug_id.astype(str)\n",
    "drugs_node_out.to_csv('Data/Outputs_Cleanup/Part_d/drug_information.csv',single_file=True,index=False)"
   ]
  },
  {
   "cell_type": "markdown",
   "id": "a60dbec2",
   "metadata": {
    "papermill": {
     "duration": 0.017008,
     "end_time": "2021-12-08T18:30:07.219577",
     "exception": false,
     "start_time": "2021-12-08T18:30:07.202569",
     "status": "completed"
    },
    "tags": []
   },
   "source": [
    "### Get Prescription information (Prescription Node data)"
   ]
  },
  {
   "cell_type": "code",
   "execution_count": 11,
   "id": "efbfafd2",
   "metadata": {
    "execution": {
     "iopub.execute_input": "2021-12-08T18:30:07.290567Z",
     "iopub.status.busy": "2021-12-08T18:30:07.290567Z",
     "iopub.status.idle": "2021-12-08T18:30:14.865844Z",
     "shell.execute_reply": "2021-12-08T18:30:14.858793Z"
    },
    "papermill": {
     "duration": 7.629234,
     "end_time": "2021-12-08T18:30:14.865844",
     "exception": false,
     "start_time": "2021-12-08T18:30:07.236610",
     "status": "completed"
    },
    "tags": []
   },
   "outputs": [
    {
     "name": "stdout",
     "output_type": "stream",
     "text": [
      "Wall time: 7.59 s\n"
     ]
    }
   ],
   "source": [
    "%%time\n",
    "prescriptions = (part_d[['Prscrbr_NPI','Brnd_Name','Gnrc_Name','Tot_Clms',\n",
    "               'Tot_30day_Fills','Tot_Day_Suply','Tot_Drug_Cst',\n",
    "               'Tot_Benes','GE65_Tot_Clms','GE65_Tot_30day_Fills',\n",
    "               'GE65_Tot_Drug_Cst','GE65_Tot_Day_Suply','GE65_Tot_Benes','Year']]\n",
    "                 .merge(drugs,'left',['Brnd_Name','Gnrc_Name'])\n",
    "                 .drop(columns = ['Brnd_Name','Gnrc_Name'])\n",
    "                )\n",
    "\n",
    "pickle.dump(prescriptions.compute(), open( \"Data/Outputs_Cleanup/Part_d/prescription_information.p\", \"wb\" ) )\n",
    "# prescriptions.to_csv('../Data/Outputs_Cleanup/Part_d/prescription_information.csv',single_file=True,index=False)"
   ]
  },
  {
   "cell_type": "code",
   "execution_count": null,
   "id": "5dc18b51",
   "metadata": {
    "papermill": {
     "duration": 0.019049,
     "end_time": "2021-12-08T18:30:14.913720",
     "exception": false,
     "start_time": "2021-12-08T18:30:14.894671",
     "status": "completed"
    },
    "tags": []
   },
   "outputs": [],
   "source": []
  },
  {
   "cell_type": "code",
   "execution_count": null,
   "id": "c58ea8b3",
   "metadata": {
    "papermill": {
     "duration": 0.014998,
     "end_time": "2021-12-08T18:30:14.944671",
     "exception": false,
     "start_time": "2021-12-08T18:30:14.929673",
     "status": "completed"
    },
    "tags": []
   },
   "outputs": [],
   "source": []
  }
 ],
 "metadata": {
  "kernelspec": {
   "display_name": "Python 3",
   "language": "python",
   "name": "python3"
  },
  "language_info": {
   "codemirror_mode": {
    "name": "ipython",
    "version": 3
   },
   "file_extension": ".py",
   "mimetype": "text/x-python",
   "name": "python",
   "nbconvert_exporter": "python",
   "pygments_lexer": "ipython3",
   "version": "3.8.8"
  },
  "papermill": {
   "default_parameters": {},
   "duration": 74.448635,
   "end_time": "2021-12-08T18:30:17.598045",
   "environment_variables": {},
   "exception": null,
   "input_path": "Part_D_Cleanup.ipynb",
   "output_path": "Logs/2021-12-08Part_D_Cleanup.ipynb",
   "parameters": {},
   "start_time": "2021-12-08T18:29:03.149410",
   "version": "2.3.3"
  }
 },
 "nbformat": 4,
 "nbformat_minor": 5
}