{
 "cells": [
  {
   "cell_type": "markdown",
   "id": "ec0fa8a9",
   "metadata": {
    "papermill": {
     "duration": 0.013037,
     "end_time": "2021-12-08T18:42:57.714007",
     "exception": false,
     "start_time": "2021-12-08T18:42:57.700970",
     "status": "completed"
    },
    "tags": []
   },
   "source": [
    "# OpenFDA Manufacturer - Sunshine Act Manufacturer Matching\n",
    "## Authors: \n",
    "    1. Lam Ho\n",
    "    2. Jonah Breslow\n",
    "    3. Jeffrey Kagan\n",
    "## Purpose:\n",
    "The purpose of this notebook is to match the manufacturer entities from the OpenFDA data to the manufacturer entities in the Sunshine Act data. For this procedure, we utilized the Dedupe.io python implementation.\n",
    "\n",
    "### Importing modules"
   ]
  },
  {
   "cell_type": "code",
   "execution_count": 1,
   "id": "fff1a927",
   "metadata": {
    "execution": {
     "iopub.execute_input": "2021-12-08T18:42:57.747974Z",
     "iopub.status.busy": "2021-12-08T18:42:57.747974Z",
     "iopub.status.idle": "2021-12-08T18:42:58.898515Z",
     "shell.execute_reply": "2021-12-08T18:42:58.897516Z"
    },
    "papermill": {
     "duration": 1.170544,
     "end_time": "2021-12-08T18:42:58.898515",
     "exception": false,
     "start_time": "2021-12-08T18:42:57.727971",
     "status": "completed"
    },
    "tags": []
   },
   "outputs": [],
   "source": [
    "#!/usr/bin/python\n",
    "# -*- coding: utf-8 -*-\n",
    "\"\"\"\n",
    "This code demonstrates how to use RecordLink with two comma separated\n",
    "values (CSV) files. We have listings of products from two different\n",
    "online stores. The task is to link products between the datasets.\n",
    "\n",
    "The output will be a CSV with our linkded results.\n",
    "\n",
    "\"\"\"\n",
    "import os\n",
    "import csv\n",
    "import re\n",
    "import logging\n",
    "import optparse\n",
    "import pandas as pd\n",
    "import numpy as np\n",
    "import pickle\n",
    "\n",
    "import dedupe\n",
    "from unidecode import unidecode"
   ]
  },
  {
   "cell_type": "markdown",
   "id": "7dfb6a10-9bad-4fe9-a06c-d88ad6fead8e",
   "metadata": {
    "papermill": {
     "duration": 0.018006,
     "end_time": "2021-12-08T18:42:58.936522",
     "exception": false,
     "start_time": "2021-12-08T18:42:58.918516",
     "status": "completed"
    },
    "tags": []
   },
   "source": [
    "### Importing Data"
   ]
  },
  {
   "cell_type": "code",
   "execution_count": 2,
   "id": "9fa3a0bf",
   "metadata": {
    "execution": {
     "iopub.execute_input": "2021-12-08T18:42:58.978517Z",
     "iopub.status.busy": "2021-12-08T18:42:58.978517Z",
     "iopub.status.idle": "2021-12-08T18:42:59.009514Z",
     "shell.execute_reply": "2021-12-08T18:42:59.009514Z"
    },
    "papermill": {
     "duration": 0.054001,
     "end_time": "2021-12-08T18:42:59.009514",
     "exception": false,
     "start_time": "2021-12-08T18:42:58.955513",
     "status": "completed"
    },
    "tags": []
   },
   "outputs": [],
   "source": [
    "sunshine_manuf = pd.read_csv('Data/Outputs_Cleanup/Sunshine/pharmCo_info.csv')\n",
    "df = sunshine_manuf[['Applicable_Manufacturer_or_Applicable_GPO_Making_Payment_Name']]\n",
    "df.columns = ['manufacturer_name']\n",
    "df.to_csv('Data/Outputs_Cleanup/Sunshine/pharmCo_manufacturer_dedupe_input.csv', index=False)\n",
    "#df.head()"
   ]
  },
  {
   "cell_type": "code",
   "execution_count": 3,
   "id": "8d79f763",
   "metadata": {
    "execution": {
     "iopub.execute_input": "2021-12-08T18:42:59.050517Z",
     "iopub.status.busy": "2021-12-08T18:42:59.050517Z",
     "iopub.status.idle": "2021-12-08T18:42:59.105517Z",
     "shell.execute_reply": "2021-12-08T18:42:59.105517Z"
    },
    "papermill": {
     "duration": 0.077003,
     "end_time": "2021-12-08T18:42:59.105517",
     "exception": false,
     "start_time": "2021-12-08T18:42:59.028514",
     "status": "completed"
    },
    "tags": []
   },
   "outputs": [],
   "source": [
    "# openfda_manuf = pd.read_csv('Data/Outputs_Cleanup/FDA/openfda_manufacturer_deduplicated_single_manuf.csv')#df = openfda_manuf[['manufacturer_name']]\n",
    "openfda_manuf = pickle.load(open(\"Data/Outputs_Cleanup/FDA/openfda_manufacturer_deduplicated_single_manuf.p\", \"rb\" )).reset_index()\n",
    "df = openfda_manuf[['manufacturer_name']]\n",
    "#df.columns = ['manufacturer_name']\n",
    "df.to_csv('Data/Outputs_Cleanup/FDA/openfda_manufacturer_dedupe_input.csv', index=False)"
   ]
  },
  {
   "cell_type": "markdown",
   "id": "065989e0-7129-4da1-9532-70dba21ed057",
   "metadata": {
    "papermill": {
     "duration": 0.014999,
     "end_time": "2021-12-08T18:42:59.143518",
     "exception": false,
     "start_time": "2021-12-08T18:42:59.128519",
     "status": "completed"
    },
    "tags": []
   },
   "source": [
    "### Running the Dedupe procedure"
   ]
  },
  {
   "cell_type": "code",
   "execution_count": 4,
   "id": "cab6a163",
   "metadata": {
    "execution": {
     "iopub.execute_input": "2021-12-08T18:42:59.189516Z",
     "iopub.status.busy": "2021-12-08T18:42:59.189516Z",
     "iopub.status.idle": "2021-12-08T18:42:59.200518Z",
     "shell.execute_reply": "2021-12-08T18:42:59.200518Z"
    },
    "papermill": {
     "duration": 0.037003,
     "end_time": "2021-12-08T18:42:59.200518",
     "exception": false,
     "start_time": "2021-12-08T18:42:59.163515",
     "status": "completed"
    },
    "tags": []
   },
   "outputs": [],
   "source": [
    "def preProcess(column):\n",
    "    \"\"\"\n",
    "    Do a little bit of data cleaning with the help of Unidecode and Regex.\n",
    "    Things like casing, extra spaces, quotes and new lines can be ignored.\n",
    "    \"\"\"\n",
    "\n",
    "    column = unidecode(column)\n",
    "    column = re.sub('\\n', ' ', column)\n",
    "    column = re.sub('-', '', column)\n",
    "    column = re.sub('/', ' ', column)\n",
    "    column = re.sub(\"'\", '', column)\n",
    "    column = re.sub(\",\", '', column)\n",
    "    column = re.sub(\":\", ' ', column)\n",
    "    column = re.sub('  +', ' ', column)\n",
    "    column = column.strip().strip('\"').strip(\"'\").lower().strip()\n",
    "    if not column:\n",
    "        column = None\n",
    "    return column\n",
    "\n",
    "\n",
    "def readData(filename):\n",
    "    \"\"\"\n",
    "    Read in our data from a CSV file and create a dictionary of records,\n",
    "    where the key is a unique record ID.\n",
    "    \"\"\"\n",
    "\n",
    "    data_d = {}\n",
    "\n",
    "    with open(filename) as f:\n",
    "        reader = csv.DictReader(f)\n",
    "        for i, row in enumerate(reader):\n",
    "            clean_row = dict([(k, preProcess(v)) for (k, v) in row.items()])\n",
    "            data_d[filename + str(i)] = dict(clean_row)\n",
    "\n",
    "    return data_d"
   ]
  },
  {
   "cell_type": "markdown",
   "id": "f29b68ae-45f2-4931-93b7-70af61fe103d",
   "metadata": {
    "papermill": {
     "duration": 0.013996,
     "end_time": "2021-12-08T18:42:59.232515",
     "exception": false,
     "start_time": "2021-12-08T18:42:59.218519",
     "status": "completed"
    },
    "tags": []
   },
   "source": [
    "## Parameters"
   ]
  },
  {
   "cell_type": "code",
   "execution_count": 5,
   "id": "c1cc1024-25a3-4d9b-9978-753e9fddc43b",
   "metadata": {
    "execution": {
     "iopub.execute_input": "2021-12-08T18:42:59.264521Z",
     "iopub.status.busy": "2021-12-08T18:42:59.264521Z",
     "iopub.status.idle": "2021-12-08T18:42:59.279517Z",
     "shell.execute_reply": "2021-12-08T18:42:59.282517Z"
    },
    "papermill": {
     "duration": 0.035001,
     "end_time": "2021-12-08T18:42:59.282517",
     "exception": false,
     "start_time": "2021-12-08T18:42:59.247516",
     "status": "completed"
    },
    "tags": [
     "parameters"
    ]
   },
   "outputs": [],
   "source": [
    "retrain = False"
   ]
  },
  {
   "cell_type": "code",
   "execution_count": 6,
   "id": "b4b01ce5",
   "metadata": {
    "execution": {
     "iopub.execute_input": "2021-12-08T18:42:59.314518Z",
     "iopub.status.busy": "2021-12-08T18:42:59.314518Z",
     "iopub.status.idle": "2021-12-08T18:42:59.328363Z",
     "shell.execute_reply": "2021-12-08T18:42:59.328363Z"
    },
    "papermill": {
     "duration": 0.030846,
     "end_time": "2021-12-08T18:42:59.328363",
     "exception": false,
     "start_time": "2021-12-08T18:42:59.297517",
     "status": "completed"
    },
    "tags": [
     "injected-parameters"
    ]
   },
   "outputs": [],
   "source": [
    "# Parameters\n",
    "retrain = False\n"
   ]
  },
  {
   "cell_type": "code",
   "execution_count": 7,
   "id": "12bcf8b3",
   "metadata": {
    "execution": {
     "iopub.execute_input": "2021-12-08T18:42:59.367362Z",
     "iopub.status.busy": "2021-12-08T18:42:59.367362Z",
     "iopub.status.idle": "2021-12-08T18:43:13.428923Z",
     "shell.execute_reply": "2021-12-08T18:43:13.428923Z"
    },
    "papermill": {
     "duration": 14.087559,
     "end_time": "2021-12-08T18:43:13.429920",
     "exception": false,
     "start_time": "2021-12-08T18:42:59.342361",
     "status": "completed"
    },
    "tags": []
   },
   "outputs": [
    {
     "name": "stdout",
     "output_type": "stream",
     "text": [
      "importing data ...\n",
      "reading from Data/Outputs_Cleanup/Manufacturer_entity_matching/data_matching_learned_settings\n"
     ]
    },
    {
     "name": "stderr",
     "output_type": "stream",
     "text": [
      "INFO:dedupe.api:Predicate set:\n"
     ]
    },
    {
     "name": "stderr",
     "output_type": "stream",
     "text": [
      "INFO:dedupe.api:(SimplePredicate: (sameSevenCharStartPredicate, manufacturer_name), TfidfNGramSearchPredicate: (0.2, manufacturer_name))\n"
     ]
    },
    {
     "name": "stderr",
     "output_type": "stream",
     "text": [
      "INFO:dedupe.api:(SimplePredicate: (sameFiveCharStartPredicate, manufacturer_name), SimplePredicate: (commonTwoTokens, manufacturer_name))\n"
     ]
    },
    {
     "name": "stdout",
     "output_type": "stream",
     "text": [
      "clustering...\n"
     ]
    },
    {
     "name": "stderr",
     "output_type": "stream",
     "text": [
      "INFO:dedupe.canopy_index:Removing stop word  c\n"
     ]
    },
    {
     "name": "stderr",
     "output_type": "stream",
     "text": [
      "INFO:dedupe.canopy_index:Removing stop word  i\n"
     ]
    },
    {
     "name": "stderr",
     "output_type": "stream",
     "text": [
      "INFO:dedupe.canopy_index:Removing stop word an\n"
     ]
    },
    {
     "name": "stderr",
     "output_type": "stream",
     "text": [
      "INFO:dedupe.canopy_index:Removing stop word di\n"
     ]
    },
    {
     "name": "stderr",
     "output_type": "stream",
     "text": [
      "INFO:dedupe.canopy_index:Removing stop word en\n"
     ]
    },
    {
     "name": "stderr",
     "output_type": "stream",
     "text": [
      "INFO:dedupe.canopy_index:Removing stop word es\n"
     ]
    },
    {
     "name": "stderr",
     "output_type": "stream",
     "text": [
      "INFO:dedupe.canopy_index:Removing stop word in\n"
     ]
    },
    {
     "name": "stderr",
     "output_type": "stream",
     "text": [
      "INFO:dedupe.canopy_index:Removing stop word me\n"
     ]
    },
    {
     "name": "stderr",
     "output_type": "stream",
     "text": [
      "INFO:dedupe.canopy_index:Removing stop word ng\n"
     ]
    },
    {
     "name": "stderr",
     "output_type": "stream",
     "text": [
      "INFO:dedupe.canopy_index:Removing stop word o \n"
     ]
    },
    {
     "name": "stderr",
     "output_type": "stream",
     "text": [
      "INFO:dedupe.canopy_index:Removing stop word ra\n"
     ]
    },
    {
     "name": "stderr",
     "output_type": "stream",
     "text": [
      "INFO:dedupe.canopy_index:Removing stop word t \n"
     ]
    },
    {
     "name": "stderr",
     "output_type": "stream",
     "text": [
      "INFO:dedupe.canopy_index:Removing stop word e \n"
     ]
    },
    {
     "name": "stderr",
     "output_type": "stream",
     "text": [
      "INFO:dedupe.canopy_index:Removing stop word or\n"
     ]
    },
    {
     "name": "stderr",
     "output_type": "stream",
     "text": [
      "INFO:dedupe.canopy_index:Removing stop word ac\n"
     ]
    },
    {
     "name": "stderr",
     "output_type": "stream",
     "text": [
      "INFO:dedupe.canopy_index:Removing stop word ch\n"
     ]
    },
    {
     "name": "stderr",
     "output_type": "stream",
     "text": [
      "INFO:dedupe.canopy_index:Removing stop word lc\n"
     ]
    },
    {
     "name": "stderr",
     "output_type": "stream",
     "text": [
      "INFO:dedupe.canopy_index:Removing stop word te\n"
     ]
    },
    {
     "name": "stderr",
     "output_type": "stream",
     "text": [
      "INFO:dedupe.canopy_index:Removing stop word  p\n"
     ]
    },
    {
     "name": "stderr",
     "output_type": "stream",
     "text": [
      "INFO:dedupe.canopy_index:Removing stop word ar\n"
     ]
    },
    {
     "name": "stderr",
     "output_type": "stream",
     "text": [
      "INFO:dedupe.canopy_index:Removing stop word ce\n"
     ]
    },
    {
     "name": "stderr",
     "output_type": "stream",
     "text": [
      "INFO:dedupe.canopy_index:Removing stop word ha\n"
     ]
    },
    {
     "name": "stderr",
     "output_type": "stream",
     "text": [
      "INFO:dedupe.canopy_index:Removing stop word ma\n"
     ]
    },
    {
     "name": "stderr",
     "output_type": "stream",
     "text": [
      "INFO:dedupe.canopy_index:Removing stop word rm\n"
     ]
    },
    {
     "name": "stderr",
     "output_type": "stream",
     "text": [
      "INFO:dedupe.canopy_index:Removing stop word er\n"
     ]
    },
    {
     "name": "stderr",
     "output_type": "stream",
     "text": [
      "INFO:dedupe.canopy_index:Removing stop word ri\n"
     ]
    },
    {
     "name": "stderr",
     "output_type": "stream",
     "text": [
      "INFO:dedupe.canopy_index:Removing stop word nc\n"
     ]
    },
    {
     "name": "stderr",
     "output_type": "stream",
     "text": [
      "INFO:dedupe.canopy_index:Removing stop word he\n"
     ]
    },
    {
     "name": "stderr",
     "output_type": "stream",
     "text": [
      "INFO:dedupe.canopy_index:Removing stop word y \n"
     ]
    },
    {
     "name": "stderr",
     "output_type": "stream",
     "text": [
      "INFO:dedupe.canopy_index:Removing stop word a \n"
     ]
    },
    {
     "name": "stderr",
     "output_type": "stream",
     "text": [
      "INFO:dedupe.canopy_index:Removing stop word ol\n"
     ]
    },
    {
     "name": "stderr",
     "output_type": "stream",
     "text": [
      "INFO:dedupe.canopy_index:Removing stop word  s\n"
     ]
    },
    {
     "name": "stderr",
     "output_type": "stream",
     "text": [
      "INFO:dedupe.canopy_index:Removing stop word li\n"
     ]
    },
    {
     "name": "stderr",
     "output_type": "stream",
     "text": [
      "INFO:dedupe.canopy_index:Removing stop word l \n"
     ]
    },
    {
     "name": "stderr",
     "output_type": "stream",
     "text": [
      "INFO:dedupe.canopy_index:Removing stop word ed\n"
     ]
    },
    {
     "name": "stderr",
     "output_type": "stream",
     "text": [
      "INFO:dedupe.canopy_index:Removing stop word ro\n"
     ]
    },
    {
     "name": "stderr",
     "output_type": "stream",
     "text": [
      "INFO:dedupe.canopy_index:Removing stop word  d\n"
     ]
    },
    {
     "name": "stderr",
     "output_type": "stream",
     "text": [
      "INFO:dedupe.canopy_index:Removing stop word at\n"
     ]
    },
    {
     "name": "stdout",
     "output_type": "stream",
     "text": [
      "# duplicate sets 385\n"
     ]
    }
   ],
   "source": [
    " # ## Setup\n",
    "output_file = 'Data/Outputs_Cleanup/Manufacturer_entity_matching/data_matching_output.csv'\n",
    "settings_file = 'Data/Outputs_Cleanup/Manufacturer_entity_matching/data_matching_learned_settings'\n",
    "training_file = 'Data/Outputs_Cleanup/Manufacturer_entity_matching/data_matching_training.json'\n",
    "\n",
    "if retrain == True:\n",
    "    try:\n",
    "        os.remove(settings_file)\n",
    "    except:\n",
    "        print('Your settings file appears to not have existed.')\n",
    "\n",
    "left_file = 'Data/Outputs_Cleanup/Sunshine/pharmCo_manufacturer_dedupe_input.csv'\n",
    "right_file = 'Data/Outputs_Cleanup/FDA/openfda_manufacturer_dedupe_input.csv'\n",
    "\n",
    "print('importing data ...')\n",
    "data_1 = readData(left_file)\n",
    "data_2 = readData(right_file)\n",
    "\n",
    "def descriptions():\n",
    "    for dataset in (data_1, data_2):\n",
    "        for record in dataset.values():\n",
    "            yield record['description']\n",
    "\n",
    "# ## Training\n",
    "\n",
    "if os.path.exists(settings_file):\n",
    "    print('reading from', settings_file)\n",
    "    with open(settings_file, 'rb') as sf:\n",
    "        linker = dedupe.StaticRecordLink(sf)\n",
    "\n",
    "else:\n",
    "    # Define the fields the linker will pay attention to\n",
    "    #\n",
    "    # Notice how we are telling the linker to use a custom field comparator\n",
    "    # for the 'price' field.\n",
    "    fields = [\n",
    "        {'field': 'manufacturer_name', 'type': 'String'},\n",
    "        #{'field': 'title', 'type': 'Text', 'corpus': descriptions()},\n",
    "        #{'field': 'description', 'type': 'Text',\n",
    "        # 'has missing': True, 'corpus': descriptions()},\n",
    "        #{'field': 'price', 'type': 'Price', 'has missing': True}\n",
    "    ]\n",
    "\n",
    "    # Create a new linker object and pass our data model to it.\n",
    "    linker = dedupe.RecordLink(fields)\n",
    "\n",
    "    # If we have training data saved from a previous run of linker,\n",
    "    # look for it an load it in.\n",
    "    # __Note:__ if you want to train from scratch, delete the training_file\n",
    "    if os.path.exists(training_file):\n",
    "        print('reading labeled examples from ', training_file)\n",
    "        with open(training_file) as tf:\n",
    "            linker.prepare_training(data_1,\n",
    "                                    data_2,\n",
    "                                    training_file=tf,\n",
    "                                    sample_size=15000)\n",
    "    else:\n",
    "        linker.prepare_training(data_1, data_2, sample_size=15000)\n",
    "\n",
    "    # ## Active learning\n",
    "    # Dedupe will find the next pair of records\n",
    "    # it is least certain about and ask you to label them as matches\n",
    "    # or not.\n",
    "    # use 'y', 'n' and 'u' keys to flag duplicates\n",
    "    # press 'f' when you are finished\n",
    "    print('starting active labeling...')\n",
    "\n",
    "    dedupe.console_label(linker)\n",
    "\n",
    "    linker.train()\n",
    "\n",
    "    # When finished, save our training away to disk\n",
    "    with open(training_file, 'w') as tf:\n",
    "        linker.write_training(tf)\n",
    "\n",
    "    # Save our weights and predicates to disk.  If the settings file\n",
    "    # exists, we will skip all the training and learning next time we run\n",
    "    # this file.\n",
    "    with open(settings_file, 'wb') as sf:\n",
    "        linker.write_settings(sf)\n",
    "\n",
    "# ## Blocking\n",
    "\n",
    "# ## Clustering\n",
    "\n",
    "# Find the threshold that will maximize a weighted average of our\n",
    "# precision and recall.  When we set the recall weight to 2, we are\n",
    "# saying we care twice as much about recall as we do precision.\n",
    "#\n",
    "# If we had more data, we would not pass in all the blocked data into\n",
    "# this function but a representative sample.\n",
    "\n",
    "print('clustering...')\n",
    "linked_records = linker.join(data_1, data_2, 0.0)\n",
    "\n",
    "print('# duplicate sets', len(linked_records))\n",
    "# ## Writing Results\n",
    "\n",
    "# Write our original data back out to a CSV with a new column called\n",
    "# 'Cluster ID' which indicates which records refer to each other.\n",
    "\n",
    "cluster_membership = {}\n",
    "for cluster_id, (cluster, score) in enumerate(linked_records):\n",
    "    for record_id in cluster:\n",
    "        cluster_membership[record_id] = {'Cluster ID': cluster_id,\n",
    "                                         'Link Score': score}\n",
    "\n",
    "with open(output_file, 'w') as f:\n",
    "\n",
    "    header_unwritten = True\n",
    "\n",
    "    for fileno, filename in enumerate((left_file, right_file)):\n",
    "        with open(filename) as f_input:\n",
    "            reader = csv.DictReader(f_input)\n",
    "\n",
    "            if header_unwritten:\n",
    "\n",
    "                fieldnames = (['Cluster ID', 'Link Score', 'source file'] +\n",
    "                              reader.fieldnames)\n",
    "\n",
    "                writer = csv.DictWriter(f, fieldnames=fieldnames)\n",
    "                writer.writeheader()\n",
    "\n",
    "                header_unwritten = False\n",
    "\n",
    "            for row_id, row in enumerate(reader):\n",
    "\n",
    "                record_id = filename + str(row_id)\n",
    "                cluster_details = cluster_membership.get(record_id, {})\n",
    "                row['source file'] = fileno\n",
    "                row.update(cluster_details)\n",
    "\n",
    "                writer.writerow(row)"
   ]
  },
  {
   "cell_type": "markdown",
   "id": "ea34fdc2-3d52-4246-9cd7-aaa7c79b2508",
   "metadata": {
    "papermill": {
     "duration": 0.060996,
     "end_time": "2021-12-08T18:43:13.535923",
     "exception": false,
     "start_time": "2021-12-08T18:43:13.474927",
     "status": "completed"
    },
    "tags": []
   },
   "source": [
    "### Post-Processing the Manufacturer Matches"
   ]
  },
  {
   "cell_type": "code",
   "execution_count": 8,
   "id": "8c02b294",
   "metadata": {
    "execution": {
     "iopub.execute_input": "2021-12-08T18:43:13.688926Z",
     "iopub.status.busy": "2021-12-08T18:43:13.687925Z",
     "iopub.status.idle": "2021-12-08T18:43:13.776925Z",
     "shell.execute_reply": "2021-12-08T18:43:13.777927Z"
    },
    "papermill": {
     "duration": 0.155,
     "end_time": "2021-12-08T18:43:13.777927",
     "exception": false,
     "start_time": "2021-12-08T18:43:13.622927",
     "status": "completed"
    },
    "tags": []
   },
   "outputs": [],
   "source": [
    "# Reading in Dedupe output\n",
    "df = pd.read_csv('Data/Outputs_Cleanup/Manufacturer_entity_matching/data_matching_output.csv')\n",
    "# Splitting out by input file\n",
    "df_fda = df[df['source file'] == 1]\n",
    "df_sunshine = df[df['source file'] == 0]\n",
    "\n",
    "# Loading the keys that point to the source data\n",
    "df_fda = df_fda.merge(openfda_manuf[['manufacturer_name', 'fda_manuf_id']], how='left', on='manufacturer_name')\n",
    "df_sunshine = df_sunshine.merge(sunshine_manuf,'left',left_on='manufacturer_name',right_on='Applicable_Manufacturer_or_Applicable_GPO_Making_Payment_Name')\n",
    "df_sunshine.drop(columns = ['Applicable_Manufacturer_or_Applicable_GPO_Making_Payment_Name'],inplace=True)\n",
    "\n",
    "\n",
    "manuf_merge = pd.concat([df_fda, df_sunshine], axis=0).sort_values('Cluster ID')\n",
    "manuf_merge['fda_manuf_id']  = manuf_merge['fda_manuf_id'].fillna('[]')\n",
    "manuf_merge['Applicable_Manufacturer_or_Applicable_GPO_Making_Payment_ID'] = manuf_merge['Applicable_Manufacturer_or_Applicable_GPO_Making_Payment_ID'].fillna('[]')\n",
    "# manuf_merge"
   ]
  },
  {
   "cell_type": "markdown",
   "id": "757a8a0d-526d-43c0-914e-d61e10ccd05f",
   "metadata": {
    "papermill": {
     "duration": 0.042999,
     "end_time": "2021-12-08T18:43:13.862924",
     "exception": false,
     "start_time": "2021-12-08T18:43:13.819925",
     "status": "completed"
    },
    "tags": []
   },
   "source": [
    "### Aggregating Matches"
   ]
  },
  {
   "cell_type": "code",
   "execution_count": 9,
   "id": "cdfd151d",
   "metadata": {
    "execution": {
     "iopub.execute_input": "2021-12-08T18:43:13.949932Z",
     "iopub.status.busy": "2021-12-08T18:43:13.948936Z",
     "iopub.status.idle": "2021-12-08T18:43:14.001928Z",
     "shell.execute_reply": "2021-12-08T18:43:14.000928Z"
    },
    "papermill": {
     "duration": 0.094002,
     "end_time": "2021-12-08T18:43:14.001928",
     "exception": false,
     "start_time": "2021-12-08T18:43:13.907926",
     "status": "completed"
    },
    "tags": []
   },
   "outputs": [],
   "source": [
    "# splitting out the matches and the unmatches\n",
    "manuf_merge_matched= manuf_merge[~manuf_merge['Cluster ID'].isna()]\n",
    "manuf_merge_unmatched= manuf_merge[manuf_merge['Cluster ID'].isna()]\n",
    "\n",
    "# Aggregating all the matches into a single record (list)\n",
    "manuf_merge_matched = manuf_merge_matched.groupby('Cluster ID').agg(list)"
   ]
  },
  {
   "cell_type": "markdown",
   "id": "d1f1a85d-dc77-465c-9452-bc3e9564eb35",
   "metadata": {
    "papermill": {
     "duration": 0.047999,
     "end_time": "2021-12-08T18:43:14.091930",
     "exception": false,
     "start_time": "2021-12-08T18:43:14.043931",
     "status": "completed"
    },
    "tags": []
   },
   "source": [
    "### Choosing Manufacturer Name"
   ]
  },
  {
   "cell_type": "code",
   "execution_count": 10,
   "id": "e37e4821",
   "metadata": {
    "execution": {
     "iopub.execute_input": "2021-12-08T18:43:14.182930Z",
     "iopub.status.busy": "2021-12-08T18:43:14.181934Z",
     "iopub.status.idle": "2021-12-08T18:43:14.189929Z",
     "shell.execute_reply": "2021-12-08T18:43:14.190933Z"
    },
    "papermill": {
     "duration": 0.055004,
     "end_time": "2021-12-08T18:43:14.190933",
     "exception": false,
     "start_time": "2021-12-08T18:43:14.135929",
     "status": "completed"
    },
    "tags": []
   },
   "outputs": [],
   "source": [
    "# UDF that picks the non empty list within a list\n",
    "def pick_list(x):\n",
    "    my_pick = None\n",
    "    for each in x:\n",
    "        if each == '[]':\n",
    "            continue\n",
    "        else:\n",
    "            my_pick = each\n",
    "    return my_pick\n",
    "\n",
    "manuf_merge_matched['fda_manuf_id'] = manuf_merge_matched['fda_manuf_id'].apply(lambda x: pick_list(x))\n",
    "manuf_merge_matched['Applicable_Manufacturer_or_Applicable_GPO_Making_Payment_ID'] = manuf_merge_matched['Applicable_Manufacturer_or_Applicable_GPO_Making_Payment_ID'].apply(lambda x: pick_list(x))"
   ]
  },
  {
   "cell_type": "code",
   "execution_count": 11,
   "id": "9f7af81d",
   "metadata": {
    "execution": {
     "iopub.execute_input": "2021-12-08T18:43:14.279932Z",
     "iopub.status.busy": "2021-12-08T18:43:14.278930Z",
     "iopub.status.idle": "2021-12-08T18:43:14.300932Z",
     "shell.execute_reply": "2021-12-08T18:43:14.301934Z"
    },
    "papermill": {
     "duration": 0.071006,
     "end_time": "2021-12-08T18:43:14.301934",
     "exception": false,
     "start_time": "2021-12-08T18:43:14.230928",
     "status": "completed"
    },
    "tags": []
   },
   "outputs": [],
   "source": [
    "# UDF that picks the longest name\n",
    "def pick_longest(x):\n",
    "    longest = None\n",
    "    longest_len = 0\n",
    "    for idx, each in enumerate(x):\n",
    "        if idx == 0:\n",
    "            longest = each\n",
    "            longest_len = len(each)\n",
    "            continue\n",
    "        if len(each) > longest_len:\n",
    "            longest = each\n",
    "            longest_len = len(each)  \n",
    "    return longest\n",
    "\n",
    "manuf_merge_matched['manufacturer_name'] = manuf_merge_matched['manufacturer_name'].apply(lambda x: pick_longest(x))\n",
    "manuf_merge_matched = manuf_merge_matched[['manufacturer_name', 'fda_manuf_id', 'Applicable_Manufacturer_or_Applicable_GPO_Making_Payment_ID']]\n",
    "manuf_merge = pd.concat([manuf_merge_matched,manuf_merge_unmatched])\n",
    "manuf_merge = manuf_merge[['manufacturer_name', 'fda_manuf_id', 'Applicable_Manufacturer_or_Applicable_GPO_Making_Payment_ID']]"
   ]
  },
  {
   "cell_type": "markdown",
   "id": "d20f3d24-073a-4c47-8c84-f41f65460181",
   "metadata": {
    "papermill": {
     "duration": 0.033002,
     "end_time": "2021-12-08T18:43:14.376550",
     "exception": false,
     "start_time": "2021-12-08T18:43:14.343548",
     "status": "completed"
    },
    "tags": []
   },
   "source": [
    "### Creating `manuf_id`"
   ]
  },
  {
   "cell_type": "code",
   "execution_count": 12,
   "id": "8129b321",
   "metadata": {
    "execution": {
     "iopub.execute_input": "2021-12-08T18:43:14.468588Z",
     "iopub.status.busy": "2021-12-08T18:43:14.467552Z",
     "iopub.status.idle": "2021-12-08T18:43:14.477550Z",
     "shell.execute_reply": "2021-12-08T18:43:14.477550Z"
    },
    "papermill": {
     "duration": 0.056973,
     "end_time": "2021-12-08T18:43:14.477550",
     "exception": false,
     "start_time": "2021-12-08T18:43:14.420577",
     "status": "completed"
    },
    "tags": []
   },
   "outputs": [],
   "source": [
    "# # Creating a matched ID\n",
    "manuf_merge.reset_index(inplace=True)\n",
    "manuf_merge.drop(columns = ['index'],inplace=True)\n",
    "manuf_merge.reset_index(inplace=True)\n",
    "manuf_merge.rename(columns = {'index':'manuf_id'},inplace=True)"
   ]
  },
  {
   "cell_type": "code",
   "execution_count": 13,
   "id": "e0011f98",
   "metadata": {
    "execution": {
     "iopub.execute_input": "2021-12-08T18:43:14.560551Z",
     "iopub.status.busy": "2021-12-08T18:43:14.560551Z",
     "iopub.status.idle": "2021-12-08T18:43:14.571553Z",
     "shell.execute_reply": "2021-12-08T18:43:14.572556Z"
    },
    "papermill": {
     "duration": 0.057985,
     "end_time": "2021-12-08T18:43:14.572556",
     "exception": false,
     "start_time": "2021-12-08T18:43:14.514571",
     "status": "completed"
    },
    "tags": []
   },
   "outputs": [],
   "source": [
    "manuf_merge['Applicable_Manufacturer_or_Applicable_GPO_Making_Payment_ID'] =(\n",
    "    np.where(manuf_merge['Applicable_Manufacturer_or_Applicable_GPO_Making_Payment_ID']=='[]',\n",
    "             np.NaN,\n",
    "             manuf_merge['Applicable_Manufacturer_or_Applicable_GPO_Making_Payment_ID'] \n",
    "            )\n",
    ")\n",
    "\n",
    "manuf_merge['fda_manuf_id'] =(\n",
    "    np.where(manuf_merge['fda_manuf_id']=='[]',\n",
    "             np.NaN,\n",
    "             manuf_merge['fda_manuf_id'] \n",
    "            )\n",
    ")"
   ]
  },
  {
   "cell_type": "markdown",
   "id": "236f8482-fd34-4857-bdca-679af9887806",
   "metadata": {
    "papermill": {
     "duration": 0.033999,
     "end_time": "2021-12-08T18:43:14.648551",
     "exception": false,
     "start_time": "2021-12-08T18:43:14.614552",
     "status": "completed"
    },
    "tags": []
   },
   "source": [
    "### Exporting Data"
   ]
  },
  {
   "cell_type": "code",
   "execution_count": 14,
   "id": "6fbc6b7c",
   "metadata": {
    "execution": {
     "iopub.execute_input": "2021-12-08T18:43:14.726554Z",
     "iopub.status.busy": "2021-12-08T18:43:14.726554Z",
     "iopub.status.idle": "2021-12-08T18:43:14.744555Z",
     "shell.execute_reply": "2021-12-08T18:43:14.744555Z"
    },
    "papermill": {
     "duration": 0.059,
     "end_time": "2021-12-08T18:43:14.745554",
     "exception": false,
     "start_time": "2021-12-08T18:43:14.686554",
     "status": "completed"
    },
    "tags": []
   },
   "outputs": [],
   "source": [
    "pickle.dump(manuf_merge, open( \"Data/Outputs_Cleanup/Manufacturer_entity_matching/Manufacturer_Matching_lookup.p\", \"wb\" ) )"
   ]
  },
  {
   "cell_type": "code",
   "execution_count": null,
   "id": "a26a7dbf-450a-4788-829e-38a24b78c8d0",
   "metadata": {
    "papermill": {
     "duration": 0.040001,
     "end_time": "2021-12-08T18:43:14.818554",
     "exception": false,
     "start_time": "2021-12-08T18:43:14.778553",
     "status": "completed"
    },
    "tags": []
   },
   "outputs": [],
   "source": []
  }
 ],
 "metadata": {
  "kernelspec": {
   "display_name": "Python 3",
   "language": "python",
   "name": "python3"
  },
  "language_info": {
   "codemirror_mode": {
    "name": "ipython",
    "version": 3
   },
   "file_extension": ".py",
   "mimetype": "text/x-python",
   "name": "python",
   "nbconvert_exporter": "python",
   "pygments_lexer": "ipython3",
   "version": "3.8.8"
  },
  "papermill": {
   "default_parameters": {},
   "duration": 20.258919,
   "end_time": "2021-12-08T18:43:16.145657",
   "environment_variables": {},
   "exception": null,
   "input_path": "Manufacturer_Matching.ipynb",
   "output_path": "Logs/2021-12-08Manufacturer_Matching.ipynb",
   "parameters": {
    "retrain": false
   },
   "start_time": "2021-12-08T18:42:55.886738",
   "version": "2.3.3"
  }
 },
 "nbformat": 4,
 "nbformat_minor": 5
}