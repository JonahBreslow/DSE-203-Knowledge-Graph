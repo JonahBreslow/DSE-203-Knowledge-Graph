{
 "cells": [
  {
   "cell_type": "markdown",
   "id": "dd66d166",
   "metadata": {
    "papermill": {
     "duration": 0.029956,
     "end_time": "2021-12-08T18:30:20.774639",
     "exception": false,
     "start_time": "2021-12-08T18:30:20.744683",
     "status": "completed"
    },
    "tags": []
   },
   "source": [
    "# Sunshine Act Cleanup\n",
    "## Authors: \n",
    "    1. Lam Ho\n",
    "    2. Jonah Breslow\n",
    "    3. Jeffrey Kagan\n",
    "## Purpose:\n",
    "The purpose of this notebook is to do some preliminary cleanup/filtering of the [Center for Medicare & Medicaid Services](https://openpaymentsdata.cms.gov) data. Primarily, filter the data to just California to limit the amount of data we need to load into the Neo4J graph.\n",
    "\n",
    "### Importing modules"
   ]
  },
  {
   "cell_type": "code",
   "execution_count": 1,
   "id": "b36f9742",
   "metadata": {
    "execution": {
     "iopub.execute_input": "2021-12-08T18:30:20.832641Z",
     "iopub.status.busy": "2021-12-08T18:30:20.832641Z",
     "iopub.status.idle": "2021-12-08T18:30:23.795349Z",
     "shell.execute_reply": "2021-12-08T18:30:23.796348Z"
    },
    "papermill": {
     "duration": 2.995703,
     "end_time": "2021-12-08T18:30:23.796348",
     "exception": false,
     "start_time": "2021-12-08T18:30:20.800645",
     "status": "completed"
    },
    "tags": []
   },
   "outputs": [],
   "source": [
    "from dask import dataframe as dd\n",
    "import re"
   ]
  },
  {
   "cell_type": "code",
   "execution_count": 2,
   "id": "83e41232",
   "metadata": {
    "execution": {
     "iopub.execute_input": "2021-12-08T18:30:23.874352Z",
     "iopub.status.busy": "2021-12-08T18:30:23.873355Z",
     "iopub.status.idle": "2021-12-08T18:30:23.892351Z",
     "shell.execute_reply": "2021-12-08T18:30:23.892351Z"
    },
    "papermill": {
     "duration": 0.062003,
     "end_time": "2021-12-08T18:30:23.892351",
     "exception": false,
     "start_time": "2021-12-08T18:30:23.830348",
     "status": "completed"
    },
    "tags": []
   },
   "outputs": [],
   "source": [
    "cols = ['Covered_Recipient_Type','Teaching_Hospital_CCN','Teaching_Hospital_ID','Teaching_Hospital_Name',\n",
    "       'Physician_Profile_ID','Physician_First_Name','Physician_Middle_Name','Physician_Last_Name','Physician_Name_Suffix',\n",
    "       'Recipient_City','Recipient_State','Physician_Primary_Type','Physician_Specialty','Physician_License_State_code1','Physician_License_State_code2',\n",
    "       'Physician_License_State_code3','Physician_License_State_code4','Physician_License_State_code5',\n",
    "       'Submitting_Applicable_Manufacturer_or_Applicable_GPO_Name','Applicable_Manufacturer_or_Applicable_GPO_Making_Payment_ID',\n",
    "       'Applicable_Manufacturer_or_Applicable_GPO_Making_Payment_Name',\n",
    "       'Applicable_Manufacturer_or_Applicable_GPO_Making_Payment_State',\n",
    "       'Total_Amount_of_Payment_USDollars','Date_of_Payment','Number_of_Payments_Included_in_Total_Amount',\n",
    "       'Form_of_Payment_or_Transfer_of_Value','Nature_of_Payment_or_Transfer_of_Value','City_of_Travel',\n",
    "       'State_of_Travel', 'Country_of_Travel','Physician_Ownership_Indicator','Third_Party_Payment_Recipient_Indicator',\n",
    "       'Name_of_Third_Party_Entity_Receiving_Payment_or_Transfer_of_Value','Charity_Indicator','Third_Party_Equals_Covered_Recipient_Indicator',\n",
    "       'Record_ID','Related_Product_Indicator','Covered_or_Noncovered_Indicator_1',\n",
    "       'Indicate_Drug_or_Biological_or_Device_or_Medical_Supply_1',\n",
    "       'Product_Category_or_Therapeutic_Area_1','Name_of_Drug_or_Biological_or_Device_or_Medical_Supply_1',\n",
    "       'Associated_Drug_or_Biological_NDC_1','Covered_or_Noncovered_Indicator_2',\n",
    "       'Indicate_Drug_or_Biological_or_Device_or_Medical_Supply_2',\n",
    "       'Product_Category_or_Therapeutic_Area_2',\n",
    "       'Name_of_Drug_or_Biological_or_Device_or_Medical_Supply_2',\n",
    "       'Associated_Drug_or_Biological_NDC_2',\n",
    "       'Covered_or_Noncovered_Indicator_3',\n",
    "       'Indicate_Drug_or_Biological_or_Device_or_Medical_Supply_3',\n",
    "       'Product_Category_or_Therapeutic_Area_3',\n",
    "       'Name_of_Drug_or_Biological_or_Device_or_Medical_Supply_3',\n",
    "       'Associated_Drug_or_Biological_NDC_3',\n",
    "       'Covered_or_Noncovered_Indicator_4',\n",
    "       'Indicate_Drug_or_Biological_or_Device_or_Medical_Supply_4',\n",
    "       'Product_Category_or_Therapeutic_Area_4',\n",
    "       'Name_of_Drug_or_Biological_or_Device_or_Medical_Supply_4',\n",
    "       'Associated_Drug_or_Biological_NDC_4',\n",
    "       'Covered_or_Noncovered_Indicator_5',\n",
    "       'Indicate_Drug_or_Biological_or_Device_or_Medical_Supply_5',\n",
    "       'Product_Category_or_Therapeutic_Area_5',\n",
    "       'Name_of_Drug_or_Biological_or_Device_or_Medical_Supply_5',\n",
    "       'Associated_Drug_or_Biological_NDC_5','Recipient_Zip_Code']"
   ]
  },
  {
   "cell_type": "code",
   "execution_count": 3,
   "id": "44d55442",
   "metadata": {
    "execution": {
     "iopub.execute_input": "2021-12-08T18:30:23.958349Z",
     "iopub.status.busy": "2021-12-08T18:30:23.958349Z",
     "iopub.status.idle": "2021-12-08T18:30:24.018253Z",
     "shell.execute_reply": "2021-12-08T18:30:24.018253Z"
    },
    "papermill": {
     "duration": 0.092904,
     "end_time": "2021-12-08T18:30:24.018253",
     "exception": false,
     "start_time": "2021-12-08T18:30:23.925349",
     "status": "completed"
    },
    "tags": []
   },
   "outputs": [],
   "source": [
    "#Load the data\n",
    "sunshine = dd.read_csv('Data/OP_DTL_GNRL_PGYR2019_P06302021.csv',dtype=str,usecols=cols)"
   ]
  },
  {
   "cell_type": "markdown",
   "id": "5098aeb2",
   "metadata": {
    "papermill": {
     "duration": 0.028001,
     "end_time": "2021-12-08T18:30:24.078252",
     "exception": false,
     "start_time": "2021-12-08T18:30:24.050251",
     "status": "completed"
    },
    "tags": []
   },
   "source": [
    "## Pre-Processing Text Columns"
   ]
  },
  {
   "cell_type": "code",
   "execution_count": 4,
   "id": "d50f0523",
   "metadata": {
    "execution": {
     "iopub.execute_input": "2021-12-08T18:30:24.152268Z",
     "iopub.status.busy": "2021-12-08T18:30:24.151250Z",
     "iopub.status.idle": "2021-12-08T18:30:24.161283Z",
     "shell.execute_reply": "2021-12-08T18:30:24.161283Z"
    },
    "papermill": {
     "duration": 0.050027,
     "end_time": "2021-12-08T18:30:24.161283",
     "exception": false,
     "start_time": "2021-12-08T18:30:24.111256",
     "status": "completed"
    },
    "tags": []
   },
   "outputs": [],
   "source": [
    "def remove_punc(string):\n",
    "    '''\n",
    "    takes in a string and removed all punctuation.\n",
    "    '''\n",
    "    return re.sub(r'[^\\w\\s]','',string)\n",
    "\n",
    "def preProcess(df):\n",
    "    '''\n",
    "    takes a dataframe, applies the remove_punc function\n",
    "    and then upper cases all text columns\n",
    "    '''\n",
    "    df = df.applymap(lambda s:remove_punc(s).upper() if isinstance(s, str) else s)\n",
    "    return df"
   ]
  },
  {
   "cell_type": "markdown",
   "id": "8bfc13c4",
   "metadata": {
    "papermill": {
     "duration": 0.029002,
     "end_time": "2021-12-08T18:30:24.229255",
     "exception": false,
     "start_time": "2021-12-08T18:30:24.200253",
     "status": "completed"
    },
    "tags": []
   },
   "source": [
    "### CA Filter\n",
    "1. Filter only for California \n",
    "2. Persisting `cadf` in memory so we don't need to repeat this filtering step every time we want to create a new output file"
   ]
  },
  {
   "cell_type": "code",
   "execution_count": 5,
   "id": "6031d288",
   "metadata": {
    "execution": {
     "iopub.execute_input": "2021-12-08T18:30:24.364259Z",
     "iopub.status.busy": "2021-12-08T18:30:24.364259Z",
     "iopub.status.idle": "2021-12-08T18:34:04.019126Z",
     "shell.execute_reply": "2021-12-08T18:34:04.016098Z"
    },
    "papermill": {
     "duration": 219.755829,
     "end_time": "2021-12-08T18:34:04.020083",
     "exception": false,
     "start_time": "2021-12-08T18:30:24.264254",
     "status": "completed"
    },
    "tags": []
   },
   "outputs": [
    {
     "name": "stdout",
     "output_type": "stream",
     "text": [
      "Wall time: 3min 39s\n"
     ]
    }
   ],
   "source": [
    "%%time\n",
    "cadf = sunshine[sunshine['Recipient_State']=='CA']\n",
    "cadf = cadf.map_partitions(preProcess)\n",
    "cadf = cadf.persist()\n",
    "del sunshine"
   ]
  },
  {
   "cell_type": "markdown",
   "id": "4c8f8771",
   "metadata": {
    "papermill": {
     "duration": 0.038001,
     "end_time": "2021-12-08T18:34:04.108347",
     "exception": false,
     "start_time": "2021-12-08T18:34:04.070346",
     "status": "completed"
    },
    "tags": []
   },
   "source": [
    "### Creating Hospital-Payment edge"
   ]
  },
  {
   "cell_type": "code",
   "execution_count": 6,
   "id": "3f65d417",
   "metadata": {
    "execution": {
     "iopub.execute_input": "2021-12-08T18:34:04.270352Z",
     "iopub.status.busy": "2021-12-08T18:34:04.270352Z",
     "iopub.status.idle": "2021-12-08T18:34:08.461716Z",
     "shell.execute_reply": "2021-12-08T18:34:08.461716Z"
    },
    "papermill": {
     "duration": 4.317406,
     "end_time": "2021-12-08T18:34:08.461716",
     "exception": false,
     "start_time": "2021-12-08T18:34:04.144310",
     "status": "completed"
    },
    "tags": []
   },
   "outputs": [
    {
     "name": "stdout",
     "output_type": "stream",
     "text": [
      "Wall time: 4.21 s\n"
     ]
    },
    {
     "data": {
      "text/plain": [
       "['C:/Users/10294029/Documents/GitHub/DSE-203-Knowledge-Graph/Data/Outputs_Cleanup/Sunshine/hospitals_payment.csv']"
      ]
     },
     "execution_count": 6,
     "metadata": {},
     "output_type": "execute_result"
    }
   ],
   "source": [
    "%%time\n",
    "# Hospital ID and Payment ID\n",
    "hosp = cadf[cadf['Covered_Recipient_Type']=='COVERED RECIPIENT TEACHING HOSPITAL'][['Record_ID','Teaching_Hospital_ID']]\n",
    "hosp.to_csv('Data/Outputs_Cleanup/Sunshine/hospitals_payment.csv',single_file=True,index=False)"
   ]
  },
  {
   "cell_type": "markdown",
   "id": "7c592f0a",
   "metadata": {
    "papermill": {
     "duration": 0.024963,
     "end_time": "2021-12-08T18:34:08.524439",
     "exception": false,
     "start_time": "2021-12-08T18:34:08.499476",
     "status": "completed"
    },
    "tags": []
   },
   "source": [
    "### Creating Hospital-State edge"
   ]
  },
  {
   "cell_type": "code",
   "execution_count": 7,
   "id": "37a69eea",
   "metadata": {
    "execution": {
     "iopub.execute_input": "2021-12-08T18:34:08.611436Z",
     "iopub.status.busy": "2021-12-08T18:34:08.604442Z",
     "iopub.status.idle": "2021-12-08T18:34:08.620438Z",
     "shell.execute_reply": "2021-12-08T18:34:08.620438Z"
    },
    "papermill": {
     "duration": 0.071003,
     "end_time": "2021-12-08T18:34:08.621438",
     "exception": false,
     "start_time": "2021-12-08T18:34:08.550435",
     "status": "completed"
    },
    "tags": []
   },
   "outputs": [
    {
     "name": "stdout",
     "output_type": "stream",
     "text": [
      "Wall time: 34 ms\n"
     ]
    }
   ],
   "source": [
    "%%time\n",
    "# Hospitals and states\n",
    "hosp = cadf[cadf['Covered_Recipient_Type']=='COVERED RECIPIENT TEACHING HOSPITAL'][['Recipient_State','Teaching_Hospital_ID']]\n",
    "hosp = hosp.drop_duplicates(subset=['Teaching_Hospital_ID'])"
   ]
  },
  {
   "cell_type": "code",
   "execution_count": 8,
   "id": "40b80454",
   "metadata": {
    "execution": {
     "iopub.execute_input": "2021-12-08T18:34:08.732437Z",
     "iopub.status.busy": "2021-12-08T18:34:08.709485Z",
     "iopub.status.idle": "2021-12-08T18:34:09.109225Z",
     "shell.execute_reply": "2021-12-08T18:34:09.108193Z"
    },
    "papermill": {
     "duration": 0.457784,
     "end_time": "2021-12-08T18:34:09.109225",
     "exception": false,
     "start_time": "2021-12-08T18:34:08.651441",
     "status": "completed"
    },
    "tags": []
   },
   "outputs": [
    {
     "name": "stdout",
     "output_type": "stream",
     "text": [
      "There are 0 hospitals with more than 1 associated state\n"
     ]
    }
   ],
   "source": [
    "hospital_state_dupes = hosp.groupby('Teaching_Hospital_ID').count().compute()\n",
    "hosp_state_dupes = hospital_state_dupes[hospital_state_dupes.Recipient_State>1]\n",
    "print(\"There are \"+str(hosp_state_dupes.shape[0])+ \" hospitals with more than 1 associated state\")"
   ]
  },
  {
   "cell_type": "code",
   "execution_count": 9,
   "id": "5cecd366",
   "metadata": {
    "execution": {
     "iopub.execute_input": "2021-12-08T18:34:09.171188Z",
     "iopub.status.busy": "2021-12-08T18:34:09.170186Z",
     "iopub.status.idle": "2021-12-08T18:34:09.517027Z",
     "shell.execute_reply": "2021-12-08T18:34:09.517027Z"
    },
    "papermill": {
     "duration": 0.382793,
     "end_time": "2021-12-08T18:34:09.517027",
     "exception": false,
     "start_time": "2021-12-08T18:34:09.134234",
     "status": "completed"
    },
    "tags": []
   },
   "outputs": [
    {
     "data": {
      "text/plain": [
       "['C:/Users/10294029/Documents/GitHub/DSE-203-Knowledge-Graph/Data/Outputs_Cleanup/Sunshine/hosp_states.csv']"
      ]
     },
     "execution_count": 9,
     "metadata": {},
     "output_type": "execute_result"
    }
   ],
   "source": [
    "hosp.to_csv('Data/Outputs_Cleanup/Sunshine/hosp_states.csv',single_file=True,index=False)"
   ]
  },
  {
   "cell_type": "markdown",
   "id": "b5ccd21e",
   "metadata": {
    "papermill": {
     "duration": 0.024999,
     "end_time": "2021-12-08T18:34:09.567922",
     "exception": false,
     "start_time": "2021-12-08T18:34:09.542923",
     "status": "completed"
    },
    "tags": []
   },
   "source": [
    "### Crating Hospital Node"
   ]
  },
  {
   "cell_type": "code",
   "execution_count": 10,
   "id": "10cffecd",
   "metadata": {
    "execution": {
     "iopub.execute_input": "2021-12-08T18:34:09.632923Z",
     "iopub.status.busy": "2021-12-08T18:34:09.632923Z",
     "iopub.status.idle": "2021-12-08T18:34:09.643926Z",
     "shell.execute_reply": "2021-12-08T18:34:09.643926Z"
    },
    "papermill": {
     "duration": 0.049003,
     "end_time": "2021-12-08T18:34:09.643926",
     "exception": false,
     "start_time": "2021-12-08T18:34:09.594923",
     "status": "completed"
    },
    "tags": []
   },
   "outputs": [
    {
     "name": "stdout",
     "output_type": "stream",
     "text": [
      "Wall time: 5.03 ms\n"
     ]
    }
   ],
   "source": [
    "%%time\n",
    "# Hospitals' other information\n",
    "hosp = cadf[cadf['Covered_Recipient_Type']=='COVERED RECIPIENT TEACHING HOSPITAL'][['Teaching_Hospital_CCN',\n",
    "                                                                                    'Teaching_Hospital_ID',\n",
    "                                                                                    'Teaching_Hospital_Name']]\n",
    "hosp = hosp.drop_duplicates(subset=['Teaching_Hospital_ID'])"
   ]
  },
  {
   "cell_type": "code",
   "execution_count": 11,
   "id": "43a8a5e0",
   "metadata": {
    "execution": {
     "iopub.execute_input": "2021-12-08T18:34:09.727201Z",
     "iopub.status.busy": "2021-12-08T18:34:09.722240Z",
     "iopub.status.idle": "2021-12-08T18:34:10.068086Z",
     "shell.execute_reply": "2021-12-08T18:34:10.068086Z"
    },
    "papermill": {
     "duration": 0.395889,
     "end_time": "2021-12-08T18:34:10.068086",
     "exception": false,
     "start_time": "2021-12-08T18:34:09.672197",
     "status": "completed"
    },
    "tags": []
   },
   "outputs": [
    {
     "name": "stdout",
     "output_type": "stream",
     "text": [
      "There are 0 hospitals with more than 1 associated state\n"
     ]
    }
   ],
   "source": [
    "hospital_node_dupes = hosp.groupby('Teaching_Hospital_ID').count().compute()\n",
    "hosp_node_dupes = hospital_node_dupes[hospital_node_dupes.Teaching_Hospital_CCN>1]\n",
    "print(\"There are \"+str(hosp_node_dupes.shape[0])+ \" hospitals with more than 1 associated state\")"
   ]
  },
  {
   "cell_type": "code",
   "execution_count": 12,
   "id": "e0456139",
   "metadata": {
    "execution": {
     "iopub.execute_input": "2021-12-08T18:34:10.131109Z",
     "iopub.status.busy": "2021-12-08T18:34:10.131109Z",
     "iopub.status.idle": "2021-12-08T18:34:10.494701Z",
     "shell.execute_reply": "2021-12-08T18:34:10.494701Z"
    },
    "papermill": {
     "duration": 0.397614,
     "end_time": "2021-12-08T18:34:10.494701",
     "exception": false,
     "start_time": "2021-12-08T18:34:10.097087",
     "status": "completed"
    },
    "tags": []
   },
   "outputs": [],
   "source": [
    "hosp.to_csv('Data/Outputs_Cleanup/Sunshine/hosp_info.csv',single_file=True,index=False)\n",
    "del hosp"
   ]
  },
  {
   "cell_type": "markdown",
   "id": "574cae92",
   "metadata": {
    "papermill": {
     "duration": 0.027068,
     "end_time": "2021-12-08T18:34:10.547766",
     "exception": false,
     "start_time": "2021-12-08T18:34:10.520698",
     "status": "completed"
    },
    "tags": []
   },
   "source": [
    "### Creating Physician-Payment edge"
   ]
  },
  {
   "cell_type": "code",
   "execution_count": 13,
   "id": "255ac6ab",
   "metadata": {
    "execution": {
     "iopub.execute_input": "2021-12-08T18:34:10.616699Z",
     "iopub.status.busy": "2021-12-08T18:34:10.616699Z",
     "iopub.status.idle": "2021-12-08T18:34:30.996752Z",
     "shell.execute_reply": "2021-12-08T18:34:30.996752Z"
    },
    "papermill": {
     "duration": 20.418096,
     "end_time": "2021-12-08T18:34:30.997794",
     "exception": false,
     "start_time": "2021-12-08T18:34:10.579698",
     "status": "completed"
    },
    "tags": []
   },
   "outputs": [
    {
     "name": "stdout",
     "output_type": "stream",
     "text": [
      "Wall time: 20.3 s\n"
     ]
    },
    {
     "data": {
      "text/plain": [
       "['C:/Users/10294029/Documents/GitHub/DSE-203-Knowledge-Graph/Data/Outputs_Cleanup/Sunshine/physicians_payments.csv']"
      ]
     },
     "execution_count": 13,
     "metadata": {},
     "output_type": "execute_result"
    }
   ],
   "source": [
    "%%time\n",
    "# Physician ID and Payment ID\n",
    "physicians = cadf[cadf['Covered_Recipient_Type']=='COVERED RECIPIENT PHYSICIAN'][['Record_ID','Physician_Profile_ID']]\n",
    "physicians.to_csv('Data/Outputs_Cleanup/Sunshine/physicians_payments.csv',single_file=True,index=False)"
   ]
  },
  {
   "cell_type": "markdown",
   "id": "dc726d70",
   "metadata": {
    "papermill": {
     "duration": 0.034791,
     "end_time": "2021-12-08T18:34:31.066542",
     "exception": false,
     "start_time": "2021-12-08T18:34:31.031751",
     "status": "completed"
    },
    "tags": []
   },
   "source": [
    "### Creating Physician-State edge"
   ]
  },
  {
   "cell_type": "code",
   "execution_count": 14,
   "id": "e0e74181",
   "metadata": {
    "execution": {
     "iopub.execute_input": "2021-12-08T18:34:31.201550Z",
     "iopub.status.busy": "2021-12-08T18:34:31.181546Z",
     "iopub.status.idle": "2021-12-08T18:34:31.245438Z",
     "shell.execute_reply": "2021-12-08T18:34:31.244438Z"
    },
    "papermill": {
     "duration": 0.138894,
     "end_time": "2021-12-08T18:34:31.245438",
     "exception": false,
     "start_time": "2021-12-08T18:34:31.106544",
     "status": "completed"
    },
    "tags": []
   },
   "outputs": [
    {
     "name": "stdout",
     "output_type": "stream",
     "text": [
      "Wall time: 54.8 ms\n"
     ]
    }
   ],
   "source": [
    "%%time\n",
    "# Physicians and states\n",
    "physicians = cadf[cadf['Covered_Recipient_Type']=='COVERED RECIPIENT PHYSICIAN'][['Recipient_State','Physician_Profile_ID']]\n",
    "physicians = physicians.drop_duplicates(subset=['Physician_Profile_ID'])"
   ]
  },
  {
   "cell_type": "code",
   "execution_count": 15,
   "id": "fc85536c",
   "metadata": {
    "execution": {
     "iopub.execute_input": "2021-12-08T18:34:31.373115Z",
     "iopub.status.busy": "2021-12-08T18:34:31.368111Z",
     "iopub.status.idle": "2021-12-08T18:34:43.149545Z",
     "shell.execute_reply": "2021-12-08T18:34:43.150550Z"
    },
    "papermill": {
     "duration": 11.849115,
     "end_time": "2021-12-08T18:34:43.150550",
     "exception": false,
     "start_time": "2021-12-08T18:34:31.301435",
     "status": "completed"
    },
    "tags": []
   },
   "outputs": [
    {
     "name": "stdout",
     "output_type": "stream",
     "text": [
      "There are 0 physcians with more than 1 associated state\n"
     ]
    }
   ],
   "source": [
    "physician_state_dupes = physicians.groupby('Physician_Profile_ID').count()\n",
    "physician_state_dupes = physician_state_dupes[physician_state_dupes.Recipient_State>1].compute()\n",
    "print(\"There are \"+str(physician_state_dupes.shape[0])+ \" physcians with more than 1 associated state\")"
   ]
  },
  {
   "cell_type": "code",
   "execution_count": 16,
   "id": "da76d701",
   "metadata": {
    "execution": {
     "iopub.execute_input": "2021-12-08T18:34:43.259547Z",
     "iopub.status.busy": "2021-12-08T18:34:43.259547Z",
     "iopub.status.idle": "2021-12-08T18:34:43.275546Z",
     "shell.execute_reply": "2021-12-08T18:34:43.275546Z"
    },
    "papermill": {
     "duration": 0.091001,
     "end_time": "2021-12-08T18:34:43.275546",
     "exception": false,
     "start_time": "2021-12-08T18:34:43.184545",
     "status": "completed"
    },
    "tags": []
   },
   "outputs": [
    {
     "name": "stdout",
     "output_type": "stream",
     "text": [
      "Wall time: 26 ms\n"
     ]
    }
   ],
   "source": [
    "%%time\n",
    "# Physicians and states\n",
    "physicians = cadf[cadf['Covered_Recipient_Type']=='Covered Recipient Physician'][['Recipient_State','Physician_Profile_ID']]\n",
    "physicians = physicians.drop_duplicates(subset=['Physician_Profile_ID'])"
   ]
  },
  {
   "cell_type": "markdown",
   "id": "f0ac75a0",
   "metadata": {
    "papermill": {
     "duration": 0.036002,
     "end_time": "2021-12-08T18:34:43.344548",
     "exception": false,
     "start_time": "2021-12-08T18:34:43.308546",
     "status": "completed"
    },
    "tags": []
   },
   "source": [
    "### Physician Node"
   ]
  },
  {
   "cell_type": "code",
   "execution_count": 17,
   "id": "2ca2d271",
   "metadata": {
    "execution": {
     "iopub.execute_input": "2021-12-08T18:34:43.433574Z",
     "iopub.status.busy": "2021-12-08T18:34:43.433574Z",
     "iopub.status.idle": "2021-12-08T18:34:43.815556Z",
     "shell.execute_reply": "2021-12-08T18:34:43.815556Z"
    },
    "papermill": {
     "duration": 0.438009,
     "end_time": "2021-12-08T18:34:43.815556",
     "exception": false,
     "start_time": "2021-12-08T18:34:43.377547",
     "status": "completed"
    },
    "tags": []
   },
   "outputs": [
    {
     "data": {
      "text/plain": [
       "['C:/Users/10294029/Documents/GitHub/DSE-203-Knowledge-Graph/Data/Outputs_Cleanup/Sunshine/physicians_state.csv']"
      ]
     },
     "execution_count": 17,
     "metadata": {},
     "output_type": "execute_result"
    }
   ],
   "source": [
    "physicians.to_csv('Data/Outputs_Cleanup/Sunshine/physicians_state.csv',single_file=True,index=False)"
   ]
  },
  {
   "cell_type": "markdown",
   "id": "b5e5de62",
   "metadata": {
    "papermill": {
     "duration": 0.044003,
     "end_time": "2021-12-08T18:34:43.893563",
     "exception": false,
     "start_time": "2021-12-08T18:34:43.849560",
     "status": "completed"
    },
    "tags": []
   },
   "source": [
    "### Creating Physician Node"
   ]
  },
  {
   "cell_type": "code",
   "execution_count": 18,
   "id": "cf70ea53",
   "metadata": {
    "execution": {
     "iopub.execute_input": "2021-12-08T18:34:44.020565Z",
     "iopub.status.busy": "2021-12-08T18:34:44.020565Z",
     "iopub.status.idle": "2021-12-08T18:34:44.035563Z",
     "shell.execute_reply": "2021-12-08T18:34:44.035563Z"
    },
    "papermill": {
     "duration": 0.102004,
     "end_time": "2021-12-08T18:34:44.035563",
     "exception": false,
     "start_time": "2021-12-08T18:34:43.933559",
     "status": "completed"
    },
    "tags": []
   },
   "outputs": [
    {
     "name": "stdout",
     "output_type": "stream",
     "text": [
      "Wall time: 12 ms\n"
     ]
    }
   ],
   "source": [
    "%%time\n",
    "# Physicians other information\n",
    "physicians = cadf[cadf['Covered_Recipient_Type']=='COVERED RECIPIENT PHYSICIAN'][['Physician_Profile_ID','Physician_First_Name','Physician_Middle_Name','Physician_Last_Name','Physician_Name_Suffix',\n",
    "       'Recipient_City','Recipient_State','Physician_Primary_Type','Physician_Specialty','Physician_License_State_code1','Physician_License_State_code2',\n",
    "       'Physician_License_State_code3','Physician_License_State_code4','Physician_License_State_code5','Recipient_Zip_Code']]\n",
    "physicians = physicians.drop_duplicates(subset=['Physician_Profile_ID'])"
   ]
  },
  {
   "cell_type": "code",
   "execution_count": 19,
   "id": "ac0d33c0",
   "metadata": {
    "execution": {
     "iopub.execute_input": "2021-12-08T18:34:44.227910Z",
     "iopub.status.busy": "2021-12-08T18:34:44.227910Z",
     "iopub.status.idle": "2021-12-08T18:35:01.758006Z",
     "shell.execute_reply": "2021-12-08T18:35:01.756968Z"
    },
    "papermill": {
     "duration": 17.683399,
     "end_time": "2021-12-08T18:35:01.758966",
     "exception": false,
     "start_time": "2021-12-08T18:34:44.075567",
     "status": "completed"
    },
    "tags": []
   },
   "outputs": [
    {
     "name": "stdout",
     "output_type": "stream",
     "text": [
      "There are 0 physcians with duplicated node data\n"
     ]
    }
   ],
   "source": [
    "physician_node_dupes = physicians.groupby('Physician_Profile_ID').count()\n",
    "physician_node_dupes =physician_node_dupes[physician_node_dupes.Physician_First_Name>1].compute()\n",
    "print(\"There are \"+str(physician_node_dupes.shape[0])+ \" physcians with duplicated node data\")"
   ]
  },
  {
   "cell_type": "code",
   "execution_count": 20,
   "id": "2aebb01a",
   "metadata": {
    "execution": {
     "iopub.execute_input": "2021-12-08T18:35:01.861968Z",
     "iopub.status.busy": "2021-12-08T18:35:01.848966Z",
     "iopub.status.idle": "2021-12-08T18:35:15.679818Z",
     "shell.execute_reply": "2021-12-08T18:35:15.679818Z"
    },
    "papermill": {
     "duration": 13.879853,
     "end_time": "2021-12-08T18:35:15.680819",
     "exception": false,
     "start_time": "2021-12-08T18:35:01.800966",
     "status": "completed"
    },
    "tags": []
   },
   "outputs": [],
   "source": [
    "physicians.to_csv('Data/Outputs_Cleanup/Sunshine/physicians_info.csv',single_file=True,index=False)\n",
    "del physicians"
   ]
  },
  {
   "cell_type": "markdown",
   "id": "71f9cd21",
   "metadata": {
    "papermill": {
     "duration": 0.030002,
     "end_time": "2021-12-08T18:35:15.751758",
     "exception": false,
     "start_time": "2021-12-08T18:35:15.721756",
     "status": "completed"
    },
    "tags": []
   },
   "source": [
    "### Creating Payment Node"
   ]
  },
  {
   "cell_type": "code",
   "execution_count": 21,
   "id": "c0f6f349",
   "metadata": {
    "execution": {
     "iopub.execute_input": "2021-12-08T18:35:15.850861Z",
     "iopub.status.busy": "2021-12-08T18:35:15.828830Z",
     "iopub.status.idle": "2021-12-08T18:35:22.141248Z",
     "shell.execute_reply": "2021-12-08T18:35:22.142249Z"
    },
    "papermill": {
     "duration": 6.354115,
     "end_time": "2021-12-08T18:35:22.142249",
     "exception": false,
     "start_time": "2021-12-08T18:35:15.788134",
     "status": "completed"
    },
    "tags": []
   },
   "outputs": [
    {
     "name": "stdout",
     "output_type": "stream",
     "text": [
      "Wall time: 6.3 s\n"
     ]
    }
   ],
   "source": [
    "%%time\n",
    "# Payment information\n",
    "payments = cadf[['Record_ID','Total_Amount_of_Payment_USDollars','Date_of_Payment','Number_of_Payments_Included_in_Total_Amount',\n",
    "                 'Form_of_Payment_or_Transfer_of_Value','Nature_of_Payment_or_Transfer_of_Value']]\n",
    "payments.to_csv('Data/Outputs_Cleanup/Sunshine/payments.csv',single_file=True,index=False)\n",
    "del payments"
   ]
  },
  {
   "cell_type": "markdown",
   "id": "e061ed17",
   "metadata": {
    "papermill": {
     "duration": 0.045006,
     "end_time": "2021-12-08T18:35:22.225253",
     "exception": false,
     "start_time": "2021-12-08T18:35:22.180247",
     "status": "completed"
    },
    "tags": []
   },
   "source": [
    "### Creating PharmCo-Payment Edge"
   ]
  },
  {
   "cell_type": "code",
   "execution_count": 22,
   "id": "3f26e31e",
   "metadata": {
    "execution": {
     "iopub.execute_input": "2021-12-08T18:35:22.356486Z",
     "iopub.status.busy": "2021-12-08T18:35:22.356486Z",
     "iopub.status.idle": "2021-12-08T18:35:25.805584Z",
     "shell.execute_reply": "2021-12-08T18:35:25.805584Z"
    },
    "papermill": {
     "duration": 3.53032,
     "end_time": "2021-12-08T18:35:25.806582",
     "exception": false,
     "start_time": "2021-12-08T18:35:22.276262",
     "status": "completed"
    },
    "tags": []
   },
   "outputs": [
    {
     "name": "stdout",
     "output_type": "stream",
     "text": [
      "Wall time: 3.43 s\n"
     ]
    },
    {
     "data": {
      "text/plain": [
       "['C:/Users/10294029/Documents/GitHub/DSE-203-Knowledge-Graph/Data/Outputs_Cleanup/Sunshine/pharmCo_payments.csv']"
      ]
     },
     "execution_count": 22,
     "metadata": {},
     "output_type": "execute_result"
    }
   ],
   "source": [
    "%%time\n",
    "# Pharmco and Record ID\n",
    "pharmCo = cadf[['Record_ID','Applicable_Manufacturer_or_Applicable_GPO_Making_Payment_ID']]\n",
    "pharmCo.to_csv('Data/Outputs_Cleanup/Sunshine/pharmCo_payments.csv',single_file=True,index=False)"
   ]
  },
  {
   "cell_type": "markdown",
   "id": "a2466b04",
   "metadata": {
    "papermill": {
     "duration": 0.032005,
     "end_time": "2021-12-08T18:35:25.885573",
     "exception": false,
     "start_time": "2021-12-08T18:35:25.853568",
     "status": "completed"
    },
    "tags": []
   },
   "source": [
    "### Creating PharmCo-State Edge"
   ]
  },
  {
   "cell_type": "code",
   "execution_count": 23,
   "id": "9ec3dd67",
   "metadata": {
    "execution": {
     "iopub.execute_input": "2021-12-08T18:35:25.986173Z",
     "iopub.status.busy": "2021-12-08T18:35:25.985163Z",
     "iopub.status.idle": "2021-12-08T18:35:25.993166Z",
     "shell.execute_reply": "2021-12-08T18:35:25.993166Z"
    },
    "papermill": {
     "duration": 0.071594,
     "end_time": "2021-12-08T18:35:25.993166",
     "exception": false,
     "start_time": "2021-12-08T18:35:25.921572",
     "status": "completed"
    },
    "tags": []
   },
   "outputs": [
    {
     "name": "stdout",
     "output_type": "stream",
     "text": [
      "Wall time: 24.6 ms"
     ]
    },
    {
     "name": "stdout",
     "output_type": "stream",
     "text": [
      "\n"
     ]
    }
   ],
   "source": [
    "%%time\n",
    "# Pharmco and state\n",
    "pharmCo = cadf[['Applicable_Manufacturer_or_Applicable_GPO_Making_Payment_ID','Applicable_Manufacturer_or_Applicable_GPO_Making_Payment_State']]\n",
    "pharmCo = pharmCo.drop_duplicates()"
   ]
  },
  {
   "cell_type": "code",
   "execution_count": 24,
   "id": "c127e3df",
   "metadata": {
    "execution": {
     "iopub.execute_input": "2021-12-08T18:35:26.091406Z",
     "iopub.status.busy": "2021-12-08T18:35:26.090391Z",
     "iopub.status.idle": "2021-12-08T18:35:26.640730Z",
     "shell.execute_reply": "2021-12-08T18:35:26.640730Z"
    },
    "papermill": {
     "duration": 0.616562,
     "end_time": "2021-12-08T18:35:26.640730",
     "exception": false,
     "start_time": "2021-12-08T18:35:26.024168",
     "status": "completed"
    },
    "tags": []
   },
   "outputs": [
    {
     "name": "stdout",
     "output_type": "stream",
     "text": [
      "There are 0 PharmCo's with multiple states\n"
     ]
    }
   ],
   "source": [
    "pharmco_state_dupes = pharmCo.groupby('Applicable_Manufacturer_or_Applicable_GPO_Making_Payment_ID').count()\n",
    "pharmco_state_dupes = pharmco_state_dupes[pharmco_state_dupes.Applicable_Manufacturer_or_Applicable_GPO_Making_Payment_State>1].compute()\n",
    "print(\"There are \"+str(pharmco_state_dupes.shape[0])+ \" PharmCo's with multiple states\")"
   ]
  },
  {
   "cell_type": "code",
   "execution_count": 25,
   "id": "1d4d20a1",
   "metadata": {
    "execution": {
     "iopub.execute_input": "2021-12-08T18:35:26.711738Z",
     "iopub.status.busy": "2021-12-08T18:35:26.711738Z",
     "iopub.status.idle": "2021-12-08T18:35:27.129745Z",
     "shell.execute_reply": "2021-12-08T18:35:27.129745Z"
    },
    "papermill": {
     "duration": 0.457969,
     "end_time": "2021-12-08T18:35:27.129745",
     "exception": false,
     "start_time": "2021-12-08T18:35:26.671776",
     "status": "completed"
    },
    "tags": []
   },
   "outputs": [
    {
     "data": {
      "text/plain": [
       "['C:/Users/10294029/Documents/GitHub/DSE-203-Knowledge-Graph/Data/Outputs_Cleanup/Sunshine/pharmCo_states.csv']"
      ]
     },
     "execution_count": 25,
     "metadata": {},
     "output_type": "execute_result"
    }
   ],
   "source": [
    "pharmCo.to_csv('Data/Outputs_Cleanup/Sunshine/pharmCo_states.csv',single_file=True,index=False)"
   ]
  },
  {
   "cell_type": "markdown",
   "id": "1e828249",
   "metadata": {
    "papermill": {
     "duration": 0.030981,
     "end_time": "2021-12-08T18:35:27.195748",
     "exception": false,
     "start_time": "2021-12-08T18:35:27.164767",
     "status": "completed"
    },
    "tags": []
   },
   "source": [
    "### Creating PharmCo Node\n",
    "Interesting note: `Applicable_Manufacturer_or_Applicable_GPO_Making_Payment_Name` is not always the same for the same `Applicable_Manufacturer_or_Applicable_GPO_Making_Payment_ID`. To handle this, we are just selecting the first one. There are only a couple dupes and they are clearly the same PharmaCo"
   ]
  },
  {
   "cell_type": "code",
   "execution_count": 26,
   "id": "52697fc0",
   "metadata": {
    "execution": {
     "iopub.execute_input": "2021-12-08T18:35:27.271747Z",
     "iopub.status.busy": "2021-12-08T18:35:27.271747Z",
     "iopub.status.idle": "2021-12-08T18:35:27.289746Z",
     "shell.execute_reply": "2021-12-08T18:35:27.289746Z"
    },
    "papermill": {
     "duration": 0.060968,
     "end_time": "2021-12-08T18:35:27.289746",
     "exception": false,
     "start_time": "2021-12-08T18:35:27.228778",
     "status": "completed"
    },
    "tags": []
   },
   "outputs": [
    {
     "name": "stdout",
     "output_type": "stream",
     "text": [
      "Wall time: 3.04 ms\n"
     ]
    }
   ],
   "source": [
    "%%time\n",
    "# Pharmco other information\n",
    "pharmCo = cadf[['Applicable_Manufacturer_or_Applicable_GPO_Making_Payment_ID',\n",
    "#                 'Submitting_Applicable_Manufacturer_or_Applicable_GPO_Name',\n",
    "                'Applicable_Manufacturer_or_Applicable_GPO_Making_Payment_Name']].drop_duplicates('Applicable_Manufacturer_or_Applicable_GPO_Making_Payment_ID')"
   ]
  },
  {
   "cell_type": "code",
   "execution_count": 27,
   "id": "9470ef2e",
   "metadata": {
    "execution": {
     "iopub.execute_input": "2021-12-08T18:35:27.388750Z",
     "iopub.status.busy": "2021-12-08T18:35:27.382753Z",
     "iopub.status.idle": "2021-12-08T18:35:27.810036Z",
     "shell.execute_reply": "2021-12-08T18:35:27.810036Z"
    },
    "papermill": {
     "duration": 0.487237,
     "end_time": "2021-12-08T18:35:27.810036",
     "exception": false,
     "start_time": "2021-12-08T18:35:27.322799",
     "status": "completed"
    },
    "tags": []
   },
   "outputs": [
    {
     "name": "stdout",
     "output_type": "stream",
     "text": [
      "There are 0 PharmCo's with duplicate node data\n"
     ]
    }
   ],
   "source": [
    "pharmco_node_dupes = pharmCo.groupby('Applicable_Manufacturer_or_Applicable_GPO_Making_Payment_ID').count()\n",
    "pharmco_node_dupes = pharmco_node_dupes[pharmco_node_dupes.Applicable_Manufacturer_or_Applicable_GPO_Making_Payment_Name>1].compute()\n",
    "print(\"There are \"+str(pharmco_node_dupes.shape[0])+ \" PharmCo's with duplicate node data\")"
   ]
  },
  {
   "cell_type": "code",
   "execution_count": 28,
   "id": "2376bc2d",
   "metadata": {
    "execution": {
     "iopub.execute_input": "2021-12-08T18:35:27.888045Z",
     "iopub.status.busy": "2021-12-08T18:35:27.887042Z",
     "iopub.status.idle": "2021-12-08T18:35:28.242432Z",
     "shell.execute_reply": "2021-12-08T18:35:28.243441Z"
    },
    "papermill": {
     "duration": 0.400355,
     "end_time": "2021-12-08T18:35:28.243441",
     "exception": false,
     "start_time": "2021-12-08T18:35:27.843086",
     "status": "completed"
    },
    "tags": []
   },
   "outputs": [
    {
     "data": {
      "text/plain": [
       "['C:/Users/10294029/Documents/GitHub/DSE-203-Knowledge-Graph/Data/Outputs_Cleanup/Sunshine/pharmCo_info.csv']"
      ]
     },
     "execution_count": 28,
     "metadata": {},
     "output_type": "execute_result"
    }
   ],
   "source": [
    "pharmCo.to_csv('Data/Outputs_Cleanup/Sunshine/pharmCo_info.csv',single_file=True,index=False)"
   ]
  },
  {
   "cell_type": "code",
   "execution_count": 29,
   "id": "e4faf5eb",
   "metadata": {
    "execution": {
     "iopub.execute_input": "2021-12-08T18:35:28.354954Z",
     "iopub.status.busy": "2021-12-08T18:35:28.354954Z",
     "iopub.status.idle": "2021-12-08T18:35:42.379844Z",
     "shell.execute_reply": "2021-12-08T18:35:42.379844Z"
    },
    "papermill": {
     "duration": 14.083545,
     "end_time": "2021-12-08T18:35:42.380842",
     "exception": false,
     "start_time": "2021-12-08T18:35:28.297297",
     "status": "completed"
    },
    "tags": []
   },
   "outputs": [
    {
     "name": "stdout",
     "output_type": "stream",
     "text": [
      "Wall time: 14 s\n"
     ]
    },
    {
     "data": {
      "text/plain": [
       "['C:/Users/10294029/Documents/GitHub/DSE-203-Knowledge-Graph/Data/Outputs_Cleanup/Sunshine/record_drugs.csv']"
      ]
     },
     "execution_count": 29,
     "metadata": {},
     "output_type": "execute_result"
    }
   ],
   "source": [
    "%%time\n",
    "# Pharmco other information\n",
    "pharmCo = cadf[['Record_ID','Covered_or_Noncovered_Indicator_1','Related_Product_Indicator',\n",
    "                'Indicate_Drug_or_Biological_or_Device_or_Medical_Supply_1','Product_Category_or_Therapeutic_Area_1',\n",
    "                'Name_of_Drug_or_Biological_or_Device_or_Medical_Supply_1','Associated_Drug_or_Biological_NDC_1','Covered_or_Noncovered_Indicator_2',\n",
    "                'Indicate_Drug_or_Biological_or_Device_or_Medical_Supply_2','Product_Category_or_Therapeutic_Area_2',\n",
    "                'Name_of_Drug_or_Biological_or_Device_or_Medical_Supply_2','Associated_Drug_or_Biological_NDC_2',\n",
    "                'Covered_or_Noncovered_Indicator_3','Indicate_Drug_or_Biological_or_Device_or_Medical_Supply_3',\n",
    "                'Product_Category_or_Therapeutic_Area_3','Name_of_Drug_or_Biological_or_Device_or_Medical_Supply_3',\n",
    "                'Associated_Drug_or_Biological_NDC_3','Covered_or_Noncovered_Indicator_4',\n",
    "                'Indicate_Drug_or_Biological_or_Device_or_Medical_Supply_4','Product_Category_or_Therapeutic_Area_4',\n",
    "                'Name_of_Drug_or_Biological_or_Device_or_Medical_Supply_4','Associated_Drug_or_Biological_NDC_4',\n",
    "                'Covered_or_Noncovered_Indicator_5','Indicate_Drug_or_Biological_or_Device_or_Medical_Supply_5',\n",
    "                'Product_Category_or_Therapeutic_Area_5','Name_of_Drug_or_Biological_or_Device_or_Medical_Supply_5',\n",
    "                'Associated_Drug_or_Biological_NDC_5']]\n",
    "pharmCo.to_csv('Data/Outputs_Cleanup/Sunshine/record_drugs.csv',single_file=True,index=False)"
   ]
  },
  {
   "cell_type": "code",
   "execution_count": null,
   "id": "6eec51dd",
   "metadata": {
    "papermill": {
     "duration": 0.036115,
     "end_time": "2021-12-08T18:35:42.461136",
     "exception": false,
     "start_time": "2021-12-08T18:35:42.425021",
     "status": "completed"
    },
    "tags": []
   },
   "outputs": [],
   "source": []
  },
  {
   "cell_type": "code",
   "execution_count": null,
   "id": "7486a2de",
   "metadata": {
    "papermill": {
     "duration": 0.036001,
     "end_time": "2021-12-08T18:35:42.542134",
     "exception": false,
     "start_time": "2021-12-08T18:35:42.506133",
     "status": "completed"
    },
    "tags": []
   },
   "outputs": [],
   "source": []
  }
 ],
 "metadata": {
  "kernelspec": {
   "display_name": "Python 3",
   "language": "python",
   "name": "python3"
  },
  "language_info": {
   "codemirror_mode": {
    "name": "ipython",
    "version": 3
   },
   "file_extension": ".py",
   "mimetype": "text/x-python",
   "name": "python",
   "nbconvert_exporter": "python",
   "pygments_lexer": "ipython3",
   "version": "3.8.8"
  },
  "papermill": {
   "default_parameters": {},
   "duration": 327.557248,
   "end_time": "2021-12-08T18:35:45.721116",
   "environment_variables": {},
   "exception": null,
   "input_path": "Sunshine_Act_Cleanup.ipynb",
   "output_path": "Logs/2021-12-08Sunshine_Act_Cleanup.ipynb",
   "parameters": {},
   "start_time": "2021-12-08T18:30:18.163868",
   "version": "2.3.3"
  }
 },
 "nbformat": 4,
 "nbformat_minor": 5
}