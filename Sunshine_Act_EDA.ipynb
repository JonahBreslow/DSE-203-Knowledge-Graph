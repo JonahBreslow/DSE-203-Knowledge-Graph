{
 "cells": [
  {
   "cell_type": "markdown",
   "id": "21861bcb-6c2c-49a5-9e09-9f6069b0beea",
   "metadata": {},
   "source": [
    "# Sunshine Act Data Exploration \n",
    "## Purpose:\n",
    "The purpose of this notebook is to explore the different type of files provided from the [Center for Medicare & Medicaid Services](https://openpaymentsdata.cms.gov).\n",
    "\n",
    "### Importing modules"
   ]
  },
  {
   "cell_type": "code",
   "execution_count": 5,
   "id": "15aba03f-8217-40bd-ac09-1869413eb747",
   "metadata": {},
   "outputs": [],
   "source": [
    "import pandas as pd\n",
    "import numpy as np\n",
    "import random"
   ]
  },
  {
   "cell_type": "markdown",
   "id": "26a309e3-b892-49aa-9ec2-4a9902c57d0c",
   "metadata": {},
   "source": [
    "### Loading Data\n",
    "since the source data is over 5 million records, I will just randomly sample 10,000 records for exploration"
   ]
  },
  {
   "cell_type": "code",
   "execution_count": 17,
   "id": "9452e582-7be8-4e4d-bffc-ae60fc067efe",
   "metadata": {},
   "outputs": [
    {
     "name": "stderr",
     "output_type": "stream",
     "text": [
      "/Users/jonahbreslow/opt/anaconda3/lib/python3.8/site-packages/IPython/core/interactiveshell.py:3441: DtypeWarning: Columns (67,72) have mixed types.Specify dtype option on import or set low_memory=False.\n",
      "  exec(code_obj, self.user_global_ns, self.user_ns)\n"
     ]
    }
   ],
   "source": [
    "filename = 'Data/Sunshine_Act/OP_DTL_GNRL_PGYR2020_P06302021.csv'\n",
    "\n",
    "# number of records in file (excludes header)\n",
    "n = sum(1 for line in open(filename)) - 1\n",
    "\n",
    "# desired sample size\n",
    "s = 10000 \n",
    "\n",
    "# skipping all lines not in our random 10,000 record sample\n",
    "skip = sorted(random.sample(range(1,n+1),n-s))\n",
    "payments_general = pd.read_csv(filename, skiprows=skip)"
   ]
  },
  {
   "cell_type": "markdown",
   "id": "e08fb72d-b5c3-4d5e-9f7a-a48f240da090",
   "metadata": {},
   "source": [
    "Below is the schema of the data"
   ]
  },
  {
   "cell_type": "code",
   "execution_count": 15,
   "id": "1f4ee3c7-42cd-4053-af5e-b2407d86a65b",
   "metadata": {},
   "outputs": [
    {
     "name": "stdout",
     "output_type": "stream",
     "text": [
      "<class 'pandas.core.frame.DataFrame'>\n",
      "RangeIndex: 10000 entries, 0 to 9999\n",
      "Data columns (total 75 columns):\n",
      " #   Column                                                             Non-Null Count  Dtype  \n",
      "---  ------                                                             --------------  -----  \n",
      " 0   Change_Type                                                        10000 non-null  object \n",
      " 1   Covered_Recipient_Type                                             10000 non-null  object \n",
      " 2   Teaching_Hospital_CCN                                              58 non-null     float64\n",
      " 3   Teaching_Hospital_ID                                               58 non-null     float64\n",
      " 4   Teaching_Hospital_Name                                             58 non-null     object \n",
      " 5   Physician_Profile_ID                                               9942 non-null   float64\n",
      " 6   Physician_First_Name                                               9942 non-null   object \n",
      " 7   Physician_Middle_Name                                              6413 non-null   object \n",
      " 8   Physician_Last_Name                                                9942 non-null   object \n",
      " 9   Physician_Name_Suffix                                              253 non-null    object \n",
      " 10  Recipient_Primary_Business_Street_Address_Line1                    10000 non-null  object \n",
      " 11  Recipient_Primary_Business_Street_Address_Line2                    3533 non-null   object \n",
      " 12  Recipient_City                                                     10000 non-null  object \n",
      " 13  Recipient_State                                                    10000 non-null  object \n",
      " 14  Recipient_Zip_Code                                                 10000 non-null  object \n",
      " 15  Recipient_Country                                                  10000 non-null  object \n",
      " 16  Recipient_Province                                                 0 non-null      float64\n",
      " 17  Recipient_Postal_Code                                              0 non-null      float64\n",
      " 18  Physician_Primary_Type                                             9942 non-null   object \n",
      " 19  Physician_Specialty                                                9942 non-null   object \n",
      " 20  Physician_License_State_code1                                      9942 non-null   object \n",
      " 21  Physician_License_State_code2                                      193 non-null    object \n",
      " 22  Physician_License_State_code3                                      34 non-null     object \n",
      " 23  Physician_License_State_code4                                      9 non-null      object \n",
      " 24  Physician_License_State_code5                                      2 non-null      object \n",
      " 25  Submitting_Applicable_Manufacturer_or_Applicable_GPO_Name          10000 non-null  object \n",
      " 26  Applicable_Manufacturer_or_Applicable_GPO_Making_Payment_ID        10000 non-null  int64  \n",
      " 27  Applicable_Manufacturer_or_Applicable_GPO_Making_Payment_Name      10000 non-null  object \n",
      " 28  Applicable_Manufacturer_or_Applicable_GPO_Making_Payment_State     9891 non-null   object \n",
      " 29  Applicable_Manufacturer_or_Applicable_GPO_Making_Payment_Country   10000 non-null  object \n",
      " 30  Total_Amount_of_Payment_USDollars                                  10000 non-null  float64\n",
      " 31  Date_of_Payment                                                    10000 non-null  object \n",
      " 32  Number_of_Payments_Included_in_Total_Amount                        10000 non-null  int64  \n",
      " 33  Form_of_Payment_or_Transfer_of_Value                               10000 non-null  object \n",
      " 34  Nature_of_Payment_or_Transfer_of_Value                             10000 non-null  object \n",
      " 35  City_of_Travel                                                     274 non-null    object \n",
      " 36  State_of_Travel                                                    270 non-null    object \n",
      " 37  Country_of_Travel                                                  274 non-null    object \n",
      " 38  Physician_Ownership_Indicator                                      9942 non-null   object \n",
      " 39  Third_Party_Payment_Recipient_Indicator                            10000 non-null  object \n",
      " 40  Name_of_Third_Party_Entity_Receiving_Payment_or_Transfer_of_Value  106 non-null    object \n",
      " 41  Charity_Indicator                                                  4011 non-null   object \n",
      " 42  Third_Party_Equals_Covered_Recipient_Indicator                     133 non-null    object \n",
      " 43  Contextual_Information                                             798 non-null    object \n",
      " 44  Delay_in_Publication_Indicator                                     10000 non-null  object \n",
      " 45  Record_ID                                                          10000 non-null  int64  \n",
      " 46  Dispute_Status_for_Publication                                     10000 non-null  object \n",
      " 47  Related_Product_Indicator                                          10000 non-null  object \n",
      " 48  Covered_or_Noncovered_Indicator_1                                  9499 non-null   object \n",
      " 49  Indicate_Drug_or_Biological_or_Device_or_Medical_Supply_1          9309 non-null   object \n",
      " 50  Product_Category_or_Therapeutic_Area_1                             9267 non-null   object \n",
      " 51  Name_of_Drug_or_Biological_or_Device_or_Medical_Supply_1           9281 non-null   object \n",
      " 52  Associated_Drug_or_Biological_NDC_1                                7189 non-null   object \n",
      " 53  Covered_or_Noncovered_Indicator_2                                  1812 non-null   object \n",
      " 54  Indicate_Drug_or_Biological_or_Device_or_Medical_Supply_2          1804 non-null   object \n",
      " 55  Product_Category_or_Therapeutic_Area_2                             1801 non-null   object \n",
      " 56  Name_of_Drug_or_Biological_or_Device_or_Medical_Supply_2           1804 non-null   object \n",
      " 57  Associated_Drug_or_Biological_NDC_2                                1562 non-null   object \n",
      " 58  Covered_or_Noncovered_Indicator_3                                  519 non-null    object \n",
      " 59  Indicate_Drug_or_Biological_or_Device_or_Medical_Supply_3          517 non-null    object \n",
      " 60  Product_Category_or_Therapeutic_Area_3                             517 non-null    object \n",
      " 61  Name_of_Drug_or_Biological_or_Device_or_Medical_Supply_3           517 non-null    object \n",
      " 62  Associated_Drug_or_Biological_NDC_3                                367 non-null    object \n",
      " 63  Covered_or_Noncovered_Indicator_4                                  175 non-null    object \n",
      " 64  Indicate_Drug_or_Biological_or_Device_or_Medical_Supply_4          174 non-null    object \n",
      " 65  Product_Category_or_Therapeutic_Area_4                             174 non-null    object \n",
      " 66  Name_of_Drug_or_Biological_or_Device_or_Medical_Supply_4           174 non-null    object \n",
      " 67  Associated_Drug_or_Biological_NDC_4                                122 non-null    object \n",
      " 68  Covered_or_Noncovered_Indicator_5                                  71 non-null     object \n",
      " 69  Indicate_Drug_or_Biological_or_Device_or_Medical_Supply_5          71 non-null     object \n",
      " 70  Product_Category_or_Therapeutic_Area_5                             71 non-null     object \n",
      " 71  Name_of_Drug_or_Biological_or_Device_or_Medical_Supply_5           71 non-null     object \n",
      " 72  Associated_Drug_or_Biological_NDC_5                                36 non-null     object \n",
      " 73  Program_Year                                                       10000 non-null  int64  \n",
      " 74  Payment_Publication_Date                                           10000 non-null  object \n",
      "dtypes: float64(6), int64(4), object(65)\n",
      "memory usage: 5.7+ MB\n"
     ]
    }
   ],
   "source": [
    "payments_general.info()"
   ]
  },
  {
   "cell_type": "code",
   "execution_count": 10,
   "id": "c8a120b5-e4b3-4f88-8d3c-423c94c14367",
   "metadata": {},
   "outputs": [],
   "source": [
    "# payments_general"
   ]
  },
  {
   "cell_type": "code",
   "execution_count": null,
   "id": "5b8aca25-52a1-4d76-9f50-2d07b036a9bb",
   "metadata": {},
   "outputs": [],
   "source": []
  }
 ],
 "metadata": {
  "kernelspec": {
   "display_name": "Python 3 (ipykernel)",
   "language": "python",
   "name": "python3"
  },
  "language_info": {
   "codemirror_mode": {
    "name": "ipython",
    "version": 3
   },
   "file_extension": ".py",
   "mimetype": "text/x-python",
   "name": "python",
   "nbconvert_exporter": "python",
   "pygments_lexer": "ipython3",
   "version": "3.8.5"
  }
 },
 "nbformat": 4,
 "nbformat_minor": 5
}
