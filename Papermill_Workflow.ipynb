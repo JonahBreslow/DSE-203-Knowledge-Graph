{
 "cells": [
  {
   "cell_type": "markdown",
   "id": "51921f00-2b53-4667-9a77-62b9bf6c6988",
   "metadata": {},
   "source": [
    "# Papermill Workflow"
   ]
  },
  {
   "cell_type": "code",
   "execution_count": 1,
   "id": "bbfb1c67-19cc-44ef-a78a-791122221a7b",
   "metadata": {},
   "outputs": [],
   "source": [
    "import papermill as pm\n",
    "from datetime import date\n",
    "import ipyparallel as ipp"
   ]
  },
  {
   "cell_type": "code",
   "execution_count": 2,
   "id": "dab4067b-69f7-4b82-8fdf-bd669bf306d8",
   "metadata": {},
   "outputs": [],
   "source": [
    "today = str(date.today())"
   ]
  },
  {
   "cell_type": "markdown",
   "id": "93348a4f-5674-4fb8-b037-350708fc9b2f",
   "metadata": {},
   "source": [
    "## Making a `run_notebook` function"
   ]
  },
  {
   "cell_type": "code",
   "execution_count": 3,
   "id": "9319e197-d705-4520-a528-2d47b1a73eb9",
   "metadata": {},
   "outputs": [],
   "source": [
    "def run_notebook (inpath, outpath, parameters):\n",
    "    pm.execute_notebook(inpath,\n",
    "                    outpath,\n",
    "                    parameters\n",
    "                   )\n",
    "    "
   ]
  },
  {
   "cell_type": "markdown",
   "id": "4a87fc84-13bd-4fdb-90ac-f86a310fd0c6",
   "metadata": {},
   "source": [
    "## Pre-Processing Notebooks\n",
    "### OpenFDA Drug Data"
   ]
  },
  {
   "cell_type": "code",
   "execution_count": 5,
   "id": "d58c3c05-a044-4d32-ada7-4c58ca69c958",
   "metadata": {},
   "outputs": [
    {
     "data": {
      "application/vnd.jupyter.widget-view+json": {
       "model_id": "a83b212332a8497e84e9b11cb422baae",
       "version_major": 2,
       "version_minor": 0
      },
      "text/plain": [
       "Executing:   0%|          | 0/16 [00:00<?, ?cell/s]"
      ]
     },
     "metadata": {},
     "output_type": "display_data"
    },
    {
     "name": "stdout",
     "output_type": "stream",
     "text": [
      "Wall time: 10.2 s\n"
     ]
    }
   ],
   "source": [
    "%%time\n",
    "\n",
    "run_notebook('OpenFDA_DrugLabel.ipynb',\n",
    "            'Logs/'+today+'_OpenFDA_DrugLabel.ipynb',\n",
    "             ## Changing the `run_flatten` parameter to True makes this notebook take multiple hours to run\n",
    "            {'run_flatten':False}\n",
    "            )"
   ]
  },
  {
   "cell_type": "markdown",
   "id": "d81a62f0-8dcf-437d-939e-dcaf5b1fb0d8",
   "metadata": {},
   "source": [
    "### Medicare Part D Prescriptions Data"
   ]
  },
  {
   "cell_type": "code",
   "execution_count": 6,
   "id": "4dd0f8c6-676e-439c-8e16-4004f1a9c984",
   "metadata": {},
   "outputs": [
    {
     "data": {
      "application/vnd.jupyter.widget-view+json": {
       "model_id": "41b04589a4e74235a79b650f43ef96f4",
       "version_major": 2,
       "version_minor": 0
      },
      "text/plain": [
       "Executing:   0%|          | 0/21 [00:00<?, ?cell/s]"
      ]
     },
     "metadata": {},
     "output_type": "display_data"
    },
    {
     "name": "stdout",
     "output_type": "stream",
     "text": [
      "Wall time: 1min 14s\n"
     ]
    }
   ],
   "source": [
    "%%time\n",
    "run_notebook('Part_D_Cleanup.ipynb',\n",
    "            'Logs/'+today+'Part_D_Cleanup.ipynb',\n",
    "             {}\n",
    "            )"
   ]
  },
  {
   "cell_type": "markdown",
   "id": "8627c778-0abf-4638-8d81-0330b1830b32",
   "metadata": {},
   "source": [
    "### Sunshine Act Payments Data"
   ]
  },
  {
   "cell_type": "code",
   "execution_count": 7,
   "id": "908383e0-a2a5-4ea8-8cd9-398023918a21",
   "metadata": {},
   "outputs": [
    {
     "data": {
      "application/vnd.jupyter.widget-view+json": {
       "model_id": "1406e72f8c6d46d39c06e1c885b6cbf6",
       "version_major": 2,
       "version_minor": 0
      },
      "text/plain": [
       "Executing:   0%|          | 0/45 [00:00<?, ?cell/s]"
      ]
     },
     "metadata": {},
     "output_type": "display_data"
    },
    {
     "name": "stdout",
     "output_type": "stream",
     "text": [
      "Wall time: 5min 28s\n"
     ]
    }
   ],
   "source": [
    "%%time\n",
    "run_notebook('Sunshine_Act_Cleanup.ipynb',\n",
    "            'Logs/'+today+'Sunshine_Act_Cleanup.ipynb',\n",
    "             {}\n",
    "            )"
   ]
  },
  {
   "cell_type": "markdown",
   "id": "356595b3-235a-46dd-8824-ce5e9844e5a6",
   "metadata": {},
   "source": [
    "## Drug Entity Resolution\n",
    "1. Medicare Part D"
   ]
  },
  {
   "cell_type": "code",
   "execution_count": 8,
   "id": "62a4e222-a7f7-4c55-a55a-e4f1ccae7166",
   "metadata": {},
   "outputs": [
    {
     "data": {
      "application/vnd.jupyter.widget-view+json": {
       "model_id": "60d1e81c0c8749d3bc118c6bb0461196",
       "version_major": 2,
       "version_minor": 0
      },
      "text/plain": [
       "Executing:   0%|          | 0/16 [00:00<?, ?cell/s]"
      ]
     },
     "metadata": {},
     "output_type": "display_data"
    }
   ],
   "source": [
    "run_notebook('MedicareD_Drug_Dedupe.ipynb',\n",
    "            'Logs/'+today+'MedicareD_Drug_Dedupe.ipynb',\n",
    "             {'retrain':False}\n",
    "            )\n"
   ]
  },
  {
   "cell_type": "markdown",
   "id": "83498384-caa7-4b7b-a6d2-8f94d775e52d",
   "metadata": {},
   "source": [
    "2. OpenFDA"
   ]
  },
  {
   "cell_type": "code",
   "execution_count": 9,
   "id": "0c804f40-3e71-4626-8282-869eca45e217",
   "metadata": {},
   "outputs": [
    {
     "data": {
      "application/vnd.jupyter.widget-view+json": {
       "model_id": "a0b6e290e4624a549b1770c87c7c660a",
       "version_major": 2,
       "version_minor": 0
      },
      "text/plain": [
       "Executing:   0%|          | 0/15 [00:00<?, ?cell/s]"
      ]
     },
     "metadata": {},
     "output_type": "display_data"
    }
   ],
   "source": [
    "run_notebook('Openfda_Drug_Deduplicated.ipynb',\n",
    "            'Logs/'+today+'Openfda_Drug_Deduplicated.ipynb',\n",
    "             {}\n",
    "            )"
   ]
  },
  {
   "cell_type": "markdown",
   "id": "ef6852cd-5f1e-40c8-84e2-3f4466b70e91",
   "metadata": {},
   "source": [
    "3. Matching Medicare Part D and OpenFDA"
   ]
  },
  {
   "cell_type": "code",
   "execution_count": 10,
   "id": "1d23089c-1cdc-4670-90d3-08ba47685753",
   "metadata": {},
   "outputs": [
    {
     "data": {
      "application/vnd.jupyter.widget-view+json": {
       "model_id": "d0e984b9e6da4a10922ea40d2081b20d",
       "version_major": 2,
       "version_minor": 0
      },
      "text/plain": [
       "Executing:   0%|          | 0/23 [00:00<?, ?cell/s]"
      ]
     },
     "metadata": {},
     "output_type": "display_data"
    }
   ],
   "source": [
    "run_notebook('Drug_Matching_Openfda-MedicareD.ipynb',\n",
    "            'Logs/'+today+'Drug_Matching_Openfda-MedicareD.ipynb',\n",
    "             {'retrain':False}\n",
    "            )"
   ]
  },
  {
   "cell_type": "markdown",
   "id": "aaa5dc11-10c3-47d6-9c42-f18e8c312fd4",
   "metadata": {},
   "source": [
    "4. Deduplicating the Sunshine Act Drug data"
   ]
  },
  {
   "cell_type": "code",
   "execution_count": 11,
   "id": "0f6645da-3ab3-4b7e-8661-5a35ba84b425",
   "metadata": {},
   "outputs": [
    {
     "data": {
      "application/vnd.jupyter.widget-view+json": {
       "model_id": "6848d2571e1b4f0986e2db4e29b522ff",
       "version_major": 2,
       "version_minor": 0
      },
      "text/plain": [
       "Executing:   0%|          | 0/6 [00:00<?, ?cell/s]"
      ]
     },
     "metadata": {},
     "output_type": "display_data"
    }
   ],
   "source": [
    "run_notebook('Sunshine_Drug_Distinctified.ipynb',\n",
    "            'Logs/'+today+'Sunshine_Drug_Distinctified-MedicareD.ipynb',\n",
    "             {}\n",
    "            )"
   ]
  },
  {
   "cell_type": "markdown",
   "id": "a4a27e16-0d9b-4656-8ac4-3437c55e0b01",
   "metadata": {},
   "source": [
    "5. Matching Unique Sunshine Act Drug Data to pre-matched `Medicare-OpenFDA` Drug data"
   ]
  },
  {
   "cell_type": "code",
   "execution_count": 12,
   "id": "2c51f126-a33a-41a4-8f6c-50a6deef0a01",
   "metadata": {},
   "outputs": [
    {
     "data": {
      "application/vnd.jupyter.widget-view+json": {
       "model_id": "a43bf1219cde4e8a8767751c4a65674f",
       "version_major": 2,
       "version_minor": 0
      },
      "text/plain": [
       "Executing:   0%|          | 0/15 [00:00<?, ?cell/s]"
      ]
     },
     "metadata": {},
     "output_type": "display_data"
    }
   ],
   "source": [
    "run_notebook('Final_Drug_Matching.ipynb',\n",
    "            'Logs/'+today+'Final_Drug_Matching.ipynb',\n",
    "             {'retrain':False}\n",
    "            )"
   ]
  },
  {
   "cell_type": "markdown",
   "id": "a76e27a1-0145-4c42-9f63-ee288e06d517",
   "metadata": {},
   "source": [
    "## Manufacturer Entity Resolution\n",
    "1. Getting unique manufacturer entities from the OpenFDA data"
   ]
  },
  {
   "cell_type": "code",
   "execution_count": 13,
   "id": "784674ff-51de-4790-a8e5-744b64eac586",
   "metadata": {},
   "outputs": [
    {
     "data": {
      "application/vnd.jupyter.widget-view+json": {
       "model_id": "650ae8959b684634aae09c35fc1a0414",
       "version_major": 2,
       "version_minor": 0
      },
      "text/plain": [
       "Executing:   0%|          | 0/16 [00:00<?, ?cell/s]"
      ]
     },
     "metadata": {},
     "output_type": "display_data"
    }
   ],
   "source": [
    "run_notebook('openfda_manufacturer_Dedupe.ipynb',\n",
    "            'Logs/'+today+'openfda_manufacturer_Dedupe.ipynb',\n",
    "             {'retrain':False}\n",
    "            )"
   ]
  },
  {
   "cell_type": "markdown",
   "id": "87f9408d-42ee-4c84-b280-6c388a5207c1",
   "metadata": {},
   "source": [
    "2. Matching unique OpenFDA manufacturers with Sunshine Act Manufacturers"
   ]
  },
  {
   "cell_type": "code",
   "execution_count": 14,
   "id": "eeb65868-fd9c-496c-996f-ae28c447d01c",
   "metadata": {},
   "outputs": [
    {
     "data": {
      "application/vnd.jupyter.widget-view+json": {
       "model_id": "8c9e2d1bdab442078d121fec76b310f6",
       "version_major": 2,
       "version_minor": 0
      },
      "text/plain": [
       "Executing:   0%|          | 0/24 [00:00<?, ?cell/s]"
      ]
     },
     "metadata": {},
     "output_type": "display_data"
    }
   ],
   "source": [
    "run_notebook('Manufacturer_Matching.ipynb',\n",
    "            'Logs/'+today+'Manufacturer_Matching.ipynb',\n",
    "             {'retrain':False}\n",
    "            )"
   ]
  },
  {
   "cell_type": "markdown",
   "id": "72002371-ff95-4a0b-b850-2b71f0e07df6",
   "metadata": {},
   "source": [
    "## Physician Entity Resolution\n",
    "1. Find physician matches in Sunshine Act (payments) data and Medicare Part D (Prescriptions) data"
   ]
  },
  {
   "cell_type": "code",
   "execution_count": 16,
   "id": "bc16cb1c-7de4-487c-9f66-72aedf498de0",
   "metadata": {},
   "outputs": [],
   "source": [
    "run_notebook('Physicians_Deduplication.ipynb',\n",
    "            'Logs/'+today+'Physicians_Deduplication.ipynb',\n",
    "             {}\n",
    "            )"
   ]
  },
  {
   "cell_type": "markdown",
   "id": "8e98ad3f-fcd8-4769-9bd8-3308133de9ed",
   "metadata": {},
   "source": [
    "## Final Integration Procedure & Node/Edge Creation"
   ]
  },
  {
   "cell_type": "code",
   "execution_count": 17,
   "id": "2892d4d8-d5a3-4c86-8799-3a7d3eecadf2",
   "metadata": {},
   "outputs": [
    {
     "data": {
      "application/vnd.jupyter.widget-view+json": {
       "model_id": "450967fdabf4434aada61dc400cbfd0f",
       "version_major": 2,
       "version_minor": 0
      },
      "text/plain": [
       "Executing:   0%|          | 0/26 [00:00<?, ?cell/s]"
      ]
     },
     "metadata": {},
     "output_type": "display_data"
    }
   ],
   "source": [
    "run_notebook('Data_Integration.ipynb',\n",
    "            'Logs/'+today+'Data_Integration.ipynb',\n",
    "             {}\n",
    "            )"
   ]
  },
  {
   "cell_type": "code",
   "execution_count": null,
   "id": "fd67708c-0f07-4be7-a76e-983484bccf0d",
   "metadata": {},
   "outputs": [],
   "source": []
  }
 ],
 "metadata": {
  "kernelspec": {
   "display_name": "Python 3",
   "language": "python",
   "name": "python3"
  },
  "language_info": {
   "codemirror_mode": {
    "name": "ipython",
    "version": 3
   },
   "file_extension": ".py",
   "mimetype": "text/x-python",
   "name": "python",
   "nbconvert_exporter": "python",
   "pygments_lexer": "ipython3",
   "version": "3.8.8"
  },
  "toc-autonumbering": false,
  "toc-showmarkdowntxt": false
 },
 "nbformat": 4,
 "nbformat_minor": 5
}
