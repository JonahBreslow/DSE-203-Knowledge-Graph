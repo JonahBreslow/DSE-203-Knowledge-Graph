{
 "cells": [
  {
   "cell_type": "code",
   "execution_count": 1,
   "metadata": {},
   "outputs": [],
   "source": [
    "from dask import dataframe as dd"
   ]
  },
  {
   "cell_type": "code",
   "execution_count": 2,
   "metadata": {},
   "outputs": [],
   "source": [
    "cols = ['Prscrbr_NPI','Prscrbr_Last_Org_Name','Prscrbr_First_Name','Prscrbr_City',\n",
    "        'Prscrbr_State_Abrvtn','Prscrbr_Type','Brnd_Name','Gnrc_Name',\n",
    "        'Tot_Clms', 'Tot_30day_Fills', 'Tot_Day_Suply', 'Tot_Drug_Cst',\n",
    "        'Tot_Benes', 'GE65_Tot_Clms', 'GE65_Tot_30day_Fills',\n",
    "        'GE65_Tot_Drug_Cst', 'GE65_Tot_Day_Suply','GE65_Tot_Benes']"
   ]
  },
  {
   "cell_type": "code",
   "execution_count": 3,
   "metadata": {},
   "outputs": [],
   "source": [
    "part_d = dd.read_csv('../Data/Medicare_Part_D_Prescribers_by_Provider_and_Drug_2019.csv',usecols=cols)"
   ]
  },
  {
   "cell_type": "code",
   "execution_count": 4,
   "metadata": {},
   "outputs": [
    {
     "data": {
      "text/html": [
       "<div>\n",
       "<style scoped>\n",
       "    .dataframe tbody tr th:only-of-type {\n",
       "        vertical-align: middle;\n",
       "    }\n",
       "\n",
       "    .dataframe tbody tr th {\n",
       "        vertical-align: top;\n",
       "    }\n",
       "\n",
       "    .dataframe thead th {\n",
       "        text-align: right;\n",
       "    }\n",
       "</style>\n",
       "<table border=\"1\" class=\"dataframe\">\n",
       "  <thead>\n",
       "    <tr style=\"text-align: right;\">\n",
       "      <th></th>\n",
       "      <th>Prscrbr_NPI</th>\n",
       "      <th>Prscrbr_Last_Org_Name</th>\n",
       "      <th>Prscrbr_First_Name</th>\n",
       "      <th>Prscrbr_City</th>\n",
       "      <th>Prscrbr_State_Abrvtn</th>\n",
       "      <th>Prscrbr_Type</th>\n",
       "      <th>Brnd_Name</th>\n",
       "      <th>Gnrc_Name</th>\n",
       "      <th>Tot_Clms</th>\n",
       "      <th>Tot_30day_Fills</th>\n",
       "      <th>Tot_Day_Suply</th>\n",
       "      <th>Tot_Drug_Cst</th>\n",
       "      <th>Tot_Benes</th>\n",
       "      <th>GE65_Tot_Clms</th>\n",
       "      <th>GE65_Tot_30day_Fills</th>\n",
       "      <th>GE65_Tot_Drug_Cst</th>\n",
       "      <th>GE65_Tot_Day_Suply</th>\n",
       "      <th>GE65_Tot_Benes</th>\n",
       "    </tr>\n",
       "  </thead>\n",
       "  <tbody>\n",
       "    <tr>\n",
       "      <th>0</th>\n",
       "      <td>1003000837</td>\n",
       "      <td>John</td>\n",
       "      <td>Richard</td>\n",
       "      <td>Santa Maria</td>\n",
       "      <td>CA</td>\n",
       "      <td>Nurse Practitioner</td>\n",
       "      <td>Escitalopram Oxalate</td>\n",
       "      <td>Escitalopram Oxalate</td>\n",
       "      <td>54</td>\n",
       "      <td>58.0</td>\n",
       "      <td>544</td>\n",
       "      <td>407.28</td>\n",
       "      <td>NaN</td>\n",
       "      <td>NaN</td>\n",
       "      <td>NaN</td>\n",
       "      <td>NaN</td>\n",
       "      <td>NaN</td>\n",
       "      <td>NaN</td>\n",
       "    </tr>\n",
       "    <tr>\n",
       "      <th>1</th>\n",
       "      <td>1003001363</td>\n",
       "      <td>Stevens</td>\n",
       "      <td>Charles</td>\n",
       "      <td>El Centro</td>\n",
       "      <td>CA</td>\n",
       "      <td>Pain Management</td>\n",
       "      <td>Acetaminophen-Codeine</td>\n",
       "      <td>Acetaminophen With Codeine</td>\n",
       "      <td>31</td>\n",
       "      <td>31.0</td>\n",
       "      <td>879</td>\n",
       "      <td>629.18</td>\n",
       "      <td>13.0</td>\n",
       "      <td>NaN</td>\n",
       "      <td>NaN</td>\n",
       "      <td>NaN</td>\n",
       "      <td>NaN</td>\n",
       "      <td>NaN</td>\n",
       "    </tr>\n",
       "    <tr>\n",
       "      <th>2</th>\n",
       "      <td>1003001363</td>\n",
       "      <td>Stevens</td>\n",
       "      <td>Charles</td>\n",
       "      <td>El Centro</td>\n",
       "      <td>CA</td>\n",
       "      <td>Pain Management</td>\n",
       "      <td>Amitiza</td>\n",
       "      <td>Lubiprostone</td>\n",
       "      <td>45</td>\n",
       "      <td>45.0</td>\n",
       "      <td>1350</td>\n",
       "      <td>17152.97</td>\n",
       "      <td>21.0</td>\n",
       "      <td>20.0</td>\n",
       "      <td>20.0</td>\n",
       "      <td>7683.43</td>\n",
       "      <td>600.0</td>\n",
       "      <td>NaN</td>\n",
       "    </tr>\n",
       "    <tr>\n",
       "      <th>3</th>\n",
       "      <td>1003001363</td>\n",
       "      <td>Stevens</td>\n",
       "      <td>Charles</td>\n",
       "      <td>El Centro</td>\n",
       "      <td>CA</td>\n",
       "      <td>Pain Management</td>\n",
       "      <td>Amitriptyline Hcl</td>\n",
       "      <td>Amitriptyline Hcl</td>\n",
       "      <td>95</td>\n",
       "      <td>97.0</td>\n",
       "      <td>2883</td>\n",
       "      <td>1976.63</td>\n",
       "      <td>35.0</td>\n",
       "      <td>22.0</td>\n",
       "      <td>24.0</td>\n",
       "      <td>308.41</td>\n",
       "      <td>720.0</td>\n",
       "      <td>12.0</td>\n",
       "    </tr>\n",
       "    <tr>\n",
       "      <th>4</th>\n",
       "      <td>1003001363</td>\n",
       "      <td>Stevens</td>\n",
       "      <td>Charles</td>\n",
       "      <td>El Centro</td>\n",
       "      <td>CA</td>\n",
       "      <td>Pain Management</td>\n",
       "      <td>Baclofen</td>\n",
       "      <td>Baclofen</td>\n",
       "      <td>211</td>\n",
       "      <td>213.0</td>\n",
       "      <td>6390</td>\n",
       "      <td>4637.66</td>\n",
       "      <td>73.0</td>\n",
       "      <td>79.0</td>\n",
       "      <td>81.0</td>\n",
       "      <td>1642.86</td>\n",
       "      <td>2430.0</td>\n",
       "      <td>34.0</td>\n",
       "    </tr>\n",
       "  </tbody>\n",
       "</table>\n",
       "</div>"
      ],
      "text/plain": [
       "   Prscrbr_NPI Prscrbr_Last_Org_Name Prscrbr_First_Name Prscrbr_City  \\\n",
       "0   1003000837                  John            Richard  Santa Maria   \n",
       "1   1003001363               Stevens            Charles    El Centro   \n",
       "2   1003001363               Stevens            Charles    El Centro   \n",
       "3   1003001363               Stevens            Charles    El Centro   \n",
       "4   1003001363               Stevens            Charles    El Centro   \n",
       "\n",
       "  Prscrbr_State_Abrvtn        Prscrbr_Type              Brnd_Name  \\\n",
       "0                   CA  Nurse Practitioner   Escitalopram Oxalate   \n",
       "1                   CA     Pain Management  Acetaminophen-Codeine   \n",
       "2                   CA     Pain Management                Amitiza   \n",
       "3                   CA     Pain Management      Amitriptyline Hcl   \n",
       "4                   CA     Pain Management               Baclofen   \n",
       "\n",
       "                    Gnrc_Name  Tot_Clms  Tot_30day_Fills  Tot_Day_Suply  \\\n",
       "0        Escitalopram Oxalate        54             58.0            544   \n",
       "1  Acetaminophen With Codeine        31             31.0            879   \n",
       "2                Lubiprostone        45             45.0           1350   \n",
       "3           Amitriptyline Hcl        95             97.0           2883   \n",
       "4                    Baclofen       211            213.0           6390   \n",
       "\n",
       "   Tot_Drug_Cst  Tot_Benes  GE65_Tot_Clms  GE65_Tot_30day_Fills  \\\n",
       "0        407.28        NaN            NaN                   NaN   \n",
       "1        629.18       13.0            NaN                   NaN   \n",
       "2      17152.97       21.0           20.0                  20.0   \n",
       "3       1976.63       35.0           22.0                  24.0   \n",
       "4       4637.66       73.0           79.0                  81.0   \n",
       "\n",
       "   GE65_Tot_Drug_Cst  GE65_Tot_Day_Suply  GE65_Tot_Benes  \n",
       "0                NaN                 NaN             NaN  \n",
       "1                NaN                 NaN             NaN  \n",
       "2            7683.43               600.0             NaN  \n",
       "3             308.41               720.0            12.0  \n",
       "4            1642.86              2430.0            34.0  "
      ]
     },
     "execution_count": 4,
     "metadata": {},
     "output_type": "execute_result"
    }
   ],
   "source": [
    "part_d.head()"
   ]
  },
  {
   "cell_type": "code",
   "execution_count": 5,
   "metadata": {},
   "outputs": [
    {
     "data": {
      "text/plain": [
       "Index(['Prscrbr_NPI', 'Prscrbr_Last_Org_Name', 'Prscrbr_First_Name',\n",
       "       'Prscrbr_City', 'Prscrbr_State_Abrvtn', 'Prscrbr_Type', 'Brnd_Name',\n",
       "       'Gnrc_Name', 'Tot_Clms', 'Tot_30day_Fills', 'Tot_Day_Suply',\n",
       "       'Tot_Drug_Cst', 'Tot_Benes', 'GE65_Tot_Clms', 'GE65_Tot_30day_Fills',\n",
       "       'GE65_Tot_Drug_Cst', 'GE65_Tot_Day_Suply', 'GE65_Tot_Benes'],\n",
       "      dtype='object')"
      ]
     },
     "execution_count": 5,
     "metadata": {},
     "output_type": "execute_result"
    }
   ],
   "source": [
    "part_d.columns"
   ]
  },
  {
   "cell_type": "code",
   "execution_count": 6,
   "metadata": {},
   "outputs": [],
   "source": [
    "# Make the year a part of the data\n",
    "part_d['Year']='2019'"
   ]
  },
  {
   "cell_type": "code",
   "execution_count": 7,
   "metadata": {},
   "outputs": [
    {
     "name": "stdout",
     "output_type": "stream",
     "text": [
      "Wall time: 3.66 s\n"
     ]
    }
   ],
   "source": [
    "%%time\n",
    "# Get prescriber_info\n",
    "prescr = part_d[['Prscrbr_NPI', 'Prscrbr_Last_Org_Name', 'Prscrbr_First_Name','Prscrbr_City','Prscrbr_Type']]\n",
    "prescr = prescr.drop_duplicates(subset=['Prscrbr_NPI'])\n",
    "prescr.to_csv('../Data/Outputs_Cleanup/Part_d/prescriber_information.csv',single_file=True,index=False)\n",
    "del prescr"
   ]
  },
  {
   "cell_type": "code",
   "execution_count": 8,
   "metadata": {},
   "outputs": [
    {
     "name": "stdout",
     "output_type": "stream",
     "text": [
      "Wall time: 24.9 s\n"
     ]
    },
    {
     "data": {
      "text/plain": [
       "['D:/CLASSES/DSE203/Final Project/DSE-203-Knowledge-Graph/Data/Outputs_Cleanup/Part_d/drug_information.csv']"
      ]
     },
     "execution_count": 8,
     "metadata": {},
     "output_type": "execute_result"
    }
   ],
   "source": [
    "%%time\n",
    "drug = part_d[['Prscrbr_NPI','Brnd_Name','Gnrc_Name','Tot_Clms',\n",
    "               'Tot_30day_Fills','Tot_Day_Suply','Tot_Drug_Cst',\n",
    "               'Tot_Benes','GE65_Tot_Clms','GE65_Tot_30day_Fills',\n",
    "               'GE65_Tot_Drug_Cst','GE65_Tot_Day_Suply','GE65_Tot_Benes','Year']]\n",
    "\n",
    "drug.to_csv('../Data/Outputs_Cleanup/Part_d/drug_information.csv',single_file=True,index=False)"
   ]
  },
  {
   "cell_type": "code",
   "execution_count": null,
   "metadata": {},
   "outputs": [],
   "source": []
  }
 ],
 "metadata": {
  "kernelspec": {
   "display_name": "Python 3",
   "language": "python",
   "name": "python3"
  },
  "language_info": {
   "codemirror_mode": {
    "name": "ipython",
    "version": 3
   },
   "file_extension": ".py",
   "mimetype": "text/x-python",
   "name": "python",
   "nbconvert_exporter": "python",
   "pygments_lexer": "ipython3",
   "version": "3.8.5"
  }
 },
 "nbformat": 4,
 "nbformat_minor": 4
}
