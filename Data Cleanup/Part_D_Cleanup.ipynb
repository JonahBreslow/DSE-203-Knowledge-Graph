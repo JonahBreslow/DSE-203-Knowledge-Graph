{
 "cells": [
  {
   "cell_type": "markdown",
   "metadata": {},
   "source": [
    "# Medicare Part D Cleanup\n",
    "## Authors: \n",
    "    1. Lam Ho\n",
    "    2. Jonah Breslow\n",
    "    3. Jeffrey Kagan\n",
    "## Purpose:\n",
    "The purpose of this notebook is to do some preliminary cleanup/filtering of the [Medicare Part D Prescribers - by Provider and Drug](https://data.cms.gov/provider-summary-by-type-of-service/medicare-part-d-prescribers/medicare-part-d-prescribers-by-provider-and-drug/data/2019) data. Creating the nodes and edges for Physicians & Prescriptions\n",
    "\n",
    "### Importing modules"
   ]
  },
  {
   "cell_type": "code",
   "execution_count": 1,
   "metadata": {},
   "outputs": [],
   "source": [
    "from dask import dataframe as dd\n",
    "import re"
   ]
  },
  {
   "cell_type": "code",
   "execution_count": 2,
   "metadata": {},
   "outputs": [],
   "source": [
    "cols = ['Prscrbr_NPI','Prscrbr_Last_Org_Name','Prscrbr_First_Name','Prscrbr_City',\n",
    "        'Prscrbr_State_Abrvtn','Prscrbr_Type','Brnd_Name','Gnrc_Name',\n",
    "        'Tot_Clms', 'Tot_30day_Fills', 'Tot_Day_Suply', 'Tot_Drug_Cst',\n",
    "        'Tot_Benes', 'GE65_Tot_Clms', 'GE65_Tot_30day_Fills',\n",
    "        'GE65_Tot_Drug_Cst', 'GE65_Tot_Day_Suply','GE65_Tot_Benes']"
   ]
  },
  {
   "cell_type": "code",
   "execution_count": 3,
   "metadata": {},
   "outputs": [],
   "source": [
    "part_d = dd.read_csv('../Data/Medicare_Part_D_Prescribers_by_Provider_and_Drug_2019.csv',usecols=cols)"
   ]
  },
  {
   "cell_type": "code",
   "execution_count": 4,
   "metadata": {},
   "outputs": [],
   "source": [
    "# part_d.head()"
   ]
  },
  {
   "cell_type": "code",
   "execution_count": 5,
   "metadata": {},
   "outputs": [
    {
     "data": {
      "text/plain": [
       "Index(['Prscrbr_NPI', 'Prscrbr_Last_Org_Name', 'Prscrbr_First_Name',\n",
       "       'Prscrbr_City', 'Prscrbr_State_Abrvtn', 'Prscrbr_Type', 'Brnd_Name',\n",
       "       'Gnrc_Name', 'Tot_Clms', 'Tot_30day_Fills', 'Tot_Day_Suply',\n",
       "       'Tot_Drug_Cst', 'Tot_Benes', 'GE65_Tot_Clms', 'GE65_Tot_30day_Fills',\n",
       "       'GE65_Tot_Drug_Cst', 'GE65_Tot_Day_Suply', 'GE65_Tot_Benes'],\n",
       "      dtype='object')"
      ]
     },
     "execution_count": 5,
     "metadata": {},
     "output_type": "execute_result"
    }
   ],
   "source": [
    "part_d.columns"
   ]
  },
  {
   "cell_type": "markdown",
   "metadata": {},
   "source": [
    "### Make the year a part of the data"
   ]
  },
  {
   "cell_type": "code",
   "execution_count": 6,
   "metadata": {},
   "outputs": [],
   "source": [
    "part_d['Year']='2019'"
   ]
  },
  {
   "cell_type": "markdown",
   "metadata": {},
   "source": [
    "## Pre-Processing Text Columns"
   ]
  },
  {
   "cell_type": "code",
   "execution_count": 7,
   "metadata": {},
   "outputs": [],
   "source": [
    "def remove_punc(string):\n",
    "    '''\n",
    "    takes in a string and removed all punctuation.\n",
    "    '''\n",
    "    return re.sub(r'[^\\w\\s]','',string)\n",
    "\n",
    "def preProcess(df):\n",
    "    '''\n",
    "    takes a dataframe, applies the remove_punc function\n",
    "    and then upper cases all text columns\n",
    "    '''\n",
    "    df = df.applymap(lambda s:remove_punc(s).upper() if isinstance(s, str) else s)\n",
    "    return df"
   ]
  },
  {
   "cell_type": "code",
   "execution_count": 8,
   "metadata": {},
   "outputs": [],
   "source": [
    "part_d = part_d.map_partitions(preProcess)\n",
    "part_d = part_d.persist()"
   ]
  },
  {
   "cell_type": "markdown",
   "metadata": {},
   "source": [
    "### Get prescriber_info (Physician Node)"
   ]
  },
  {
   "cell_type": "code",
   "execution_count": 9,
   "metadata": {},
   "outputs": [
    {
     "name": "stdout",
     "output_type": "stream",
     "text": [
      "CPU times: user 11.6 ms, sys: 993 µs, total: 12.6 ms\n",
      "Wall time: 16.2 ms\n"
     ]
    }
   ],
   "source": [
    "%%time\n",
    "# Get prescriber_info\n",
    "prescr = part_d[['Prscrbr_NPI', 'Prscrbr_Last_Org_Name', 'Prscrbr_First_Name','Prscrbr_City','Prscrbr_Type']]\n",
    "prescr = prescr.drop_duplicates(subset=['Prscrbr_NPI'])"
   ]
  },
  {
   "cell_type": "markdown",
   "metadata": {},
   "source": [
    "#### Checking for multiple distinct physicians for the same Prescrbr_NPI"
   ]
  },
  {
   "cell_type": "code",
   "execution_count": 10,
   "metadata": {},
   "outputs": [
    {
     "name": "stdout",
     "output_type": "stream",
     "text": [
      "There are 0 Physicians with duplicated node data\n"
     ]
    }
   ],
   "source": [
    "prescrbr_node_dupes = prescr.groupby('Prscrbr_NPI').count()\n",
    "prescrbr_node_dupes = prescrbr_node_dupes[prescrbr_node_dupes.Prscrbr_Last_Org_Name>1].compute()\n",
    "print(\"There are \"+str(prescrbr_node_dupes.shape[0])+ \" Physicians with duplicated node data\")"
   ]
  },
  {
   "cell_type": "code",
   "execution_count": 11,
   "metadata": {},
   "outputs": [],
   "source": [
    "prescr.to_csv('../Data/Outputs_Cleanup/Part_d/prescriber_information.csv',single_file=True,index=False)\n",
    "del prescr"
   ]
  },
  {
   "cell_type": "markdown",
   "metadata": {},
   "source": [
    "### Get Drug information (Drug Node)"
   ]
  },
  {
   "cell_type": "code",
   "execution_count": 12,
   "metadata": {},
   "outputs": [
    {
     "data": {
      "text/plain": [
       "['/Users/jeff_1/Documents/DSE/DSE203/DSE-203-Knowledge-Graph/Data/Outputs_Cleanup/Part_d/drug_information.csv']"
      ]
     },
     "execution_count": 12,
     "metadata": {},
     "output_type": "execute_result"
    }
   ],
   "source": [
    "drugs = part_d[['Brnd_Name','Gnrc_Name']].drop_duplicates()\n",
    "drugs = drugs.reset_index()\n",
    "drugs.columns = ['MedD_drug_id','Brnd_Name','Gnrc_Name']\n",
    "drugs_node_out = drugs.copy()[['MedD_drug_id', 'Brnd_Name']]\n",
    "drugs_node_out.columns = ['MedD_drug_id', 'brand_name']\n",
    "#drugs['MedD_drug_id'] = \"MedD\"+drugs.MedD_drug_id.astype(str)\n",
    "drugs_node_out.to_csv('../Data/Outputs_Cleanup/Part_d/drug_information.csv',single_file=True,index=False)"
   ]
  },
  {
   "cell_type": "markdown",
   "metadata": {},
   "source": [
    "part_dGet Prescription information (Prescription Node)"
   ]
  },
  {
   "cell_type": "code",
   "execution_count": 13,
   "metadata": {},
   "outputs": [
    {
     "name": "stdout",
     "output_type": "stream",
     "text": [
      "CPU times: user 20.9 s, sys: 1.21 s, total: 22.1 s\n",
      "Wall time: 21.8 s\n"
     ]
    },
    {
     "data": {
      "text/plain": [
       "['/Users/jeff_1/Documents/DSE/DSE203/DSE-203-Knowledge-Graph/Data/Outputs_Cleanup/Part_d/prescription_information.csv']"
      ]
     },
     "execution_count": 13,
     "metadata": {},
     "output_type": "execute_result"
    }
   ],
   "source": [
    "%%time\n",
    "prescriptions = (part_d[['Prscrbr_NPI','Brnd_Name','Gnrc_Name','Tot_Clms',\n",
    "               'Tot_30day_Fills','Tot_Day_Suply','Tot_Drug_Cst',\n",
    "               'Tot_Benes','GE65_Tot_Clms','GE65_Tot_30day_Fills',\n",
    "               'GE65_Tot_Drug_Cst','GE65_Tot_Day_Suply','GE65_Tot_Benes','Year']]\n",
    "                 .merge(drugs,'left',['Brnd_Name','Gnrc_Name'])\n",
    "                 .drop(columns = ['Brnd_Name','Gnrc_Name'])\n",
    "                )\n",
    "\n",
    "prescriptions.to_csv('../Data/Outputs_Cleanup/Part_d/prescription_information.csv',single_file=True,index=False)"
   ]
  },
  {
   "cell_type": "code",
   "execution_count": 14,
   "metadata": {},
   "outputs": [
    {
     "data": {
      "text/html": [
       "<div>\n",
       "<style scoped>\n",
       "    .dataframe tbody tr th:only-of-type {\n",
       "        vertical-align: middle;\n",
       "    }\n",
       "\n",
       "    .dataframe tbody tr th {\n",
       "        vertical-align: top;\n",
       "    }\n",
       "\n",
       "    .dataframe thead th {\n",
       "        text-align: right;\n",
       "    }\n",
       "</style>\n",
       "<table border=\"1\" class=\"dataframe\">\n",
       "  <thead>\n",
       "    <tr style=\"text-align: right;\">\n",
       "      <th></th>\n",
       "      <th>Prscrbr_NPI</th>\n",
       "      <th>Prscrbr_Last_Org_Name</th>\n",
       "      <th>Prscrbr_First_Name</th>\n",
       "      <th>Prscrbr_City</th>\n",
       "      <th>Prscrbr_State_Abrvtn</th>\n",
       "      <th>Prscrbr_Type</th>\n",
       "      <th>Brnd_Name</th>\n",
       "      <th>Gnrc_Name</th>\n",
       "      <th>Tot_Clms</th>\n",
       "      <th>Tot_30day_Fills</th>\n",
       "      <th>Tot_Day_Suply</th>\n",
       "      <th>Tot_Drug_Cst</th>\n",
       "      <th>Tot_Benes</th>\n",
       "      <th>GE65_Tot_Clms</th>\n",
       "      <th>GE65_Tot_30day_Fills</th>\n",
       "      <th>GE65_Tot_Drug_Cst</th>\n",
       "      <th>GE65_Tot_Day_Suply</th>\n",
       "      <th>GE65_Tot_Benes</th>\n",
       "      <th>Year</th>\n",
       "    </tr>\n",
       "  </thead>\n",
       "  <tbody>\n",
       "    <tr>\n",
       "      <th>0</th>\n",
       "      <td>1003000837</td>\n",
       "      <td>JOHN</td>\n",
       "      <td>RICHARD</td>\n",
       "      <td>SANTA MARIA</td>\n",
       "      <td>CA</td>\n",
       "      <td>NURSE PRACTITIONER</td>\n",
       "      <td>ESCITALOPRAM OXALATE</td>\n",
       "      <td>ESCITALOPRAM OXALATE</td>\n",
       "      <td>54</td>\n",
       "      <td>58.0</td>\n",
       "      <td>544</td>\n",
       "      <td>407.28</td>\n",
       "      <td>NaN</td>\n",
       "      <td>NaN</td>\n",
       "      <td>NaN</td>\n",
       "      <td>NaN</td>\n",
       "      <td>NaN</td>\n",
       "      <td>NaN</td>\n",
       "      <td>2019</td>\n",
       "    </tr>\n",
       "    <tr>\n",
       "      <th>1</th>\n",
       "      <td>1003001363</td>\n",
       "      <td>STEVENS</td>\n",
       "      <td>CHARLES</td>\n",
       "      <td>EL CENTRO</td>\n",
       "      <td>CA</td>\n",
       "      <td>PAIN MANAGEMENT</td>\n",
       "      <td>ACETAMINOPHENCODEINE</td>\n",
       "      <td>ACETAMINOPHEN WITH CODEINE</td>\n",
       "      <td>31</td>\n",
       "      <td>31.0</td>\n",
       "      <td>879</td>\n",
       "      <td>629.18</td>\n",
       "      <td>13.0</td>\n",
       "      <td>NaN</td>\n",
       "      <td>NaN</td>\n",
       "      <td>NaN</td>\n",
       "      <td>NaN</td>\n",
       "      <td>NaN</td>\n",
       "      <td>2019</td>\n",
       "    </tr>\n",
       "    <tr>\n",
       "      <th>2</th>\n",
       "      <td>1003001363</td>\n",
       "      <td>STEVENS</td>\n",
       "      <td>CHARLES</td>\n",
       "      <td>EL CENTRO</td>\n",
       "      <td>CA</td>\n",
       "      <td>PAIN MANAGEMENT</td>\n",
       "      <td>AMITIZA</td>\n",
       "      <td>LUBIPROSTONE</td>\n",
       "      <td>45</td>\n",
       "      <td>45.0</td>\n",
       "      <td>1350</td>\n",
       "      <td>17152.97</td>\n",
       "      <td>21.0</td>\n",
       "      <td>20.0</td>\n",
       "      <td>20.0</td>\n",
       "      <td>7683.43</td>\n",
       "      <td>600.0</td>\n",
       "      <td>NaN</td>\n",
       "      <td>2019</td>\n",
       "    </tr>\n",
       "    <tr>\n",
       "      <th>3</th>\n",
       "      <td>1003001363</td>\n",
       "      <td>STEVENS</td>\n",
       "      <td>CHARLES</td>\n",
       "      <td>EL CENTRO</td>\n",
       "      <td>CA</td>\n",
       "      <td>PAIN MANAGEMENT</td>\n",
       "      <td>AMITRIPTYLINE HCL</td>\n",
       "      <td>AMITRIPTYLINE HCL</td>\n",
       "      <td>95</td>\n",
       "      <td>97.0</td>\n",
       "      <td>2883</td>\n",
       "      <td>1976.63</td>\n",
       "      <td>35.0</td>\n",
       "      <td>22.0</td>\n",
       "      <td>24.0</td>\n",
       "      <td>308.41</td>\n",
       "      <td>720.0</td>\n",
       "      <td>12.0</td>\n",
       "      <td>2019</td>\n",
       "    </tr>\n",
       "    <tr>\n",
       "      <th>4</th>\n",
       "      <td>1003001363</td>\n",
       "      <td>STEVENS</td>\n",
       "      <td>CHARLES</td>\n",
       "      <td>EL CENTRO</td>\n",
       "      <td>CA</td>\n",
       "      <td>PAIN MANAGEMENT</td>\n",
       "      <td>BACLOFEN</td>\n",
       "      <td>BACLOFEN</td>\n",
       "      <td>211</td>\n",
       "      <td>213.0</td>\n",
       "      <td>6390</td>\n",
       "      <td>4637.66</td>\n",
       "      <td>73.0</td>\n",
       "      <td>79.0</td>\n",
       "      <td>81.0</td>\n",
       "      <td>1642.86</td>\n",
       "      <td>2430.0</td>\n",
       "      <td>34.0</td>\n",
       "      <td>2019</td>\n",
       "    </tr>\n",
       "    <tr>\n",
       "      <th>...</th>\n",
       "      <td>...</td>\n",
       "      <td>...</td>\n",
       "      <td>...</td>\n",
       "      <td>...</td>\n",
       "      <td>...</td>\n",
       "      <td>...</td>\n",
       "      <td>...</td>\n",
       "      <td>...</td>\n",
       "      <td>...</td>\n",
       "      <td>...</td>\n",
       "      <td>...</td>\n",
       "      <td>...</td>\n",
       "      <td>...</td>\n",
       "      <td>...</td>\n",
       "      <td>...</td>\n",
       "      <td>...</td>\n",
       "      <td>...</td>\n",
       "      <td>...</td>\n",
       "      <td>...</td>\n",
       "    </tr>\n",
       "    <tr>\n",
       "      <th>165351</th>\n",
       "      <td>1992999551</td>\n",
       "      <td>MOLAI</td>\n",
       "      <td>INDIRA</td>\n",
       "      <td>ESCONDIDO</td>\n",
       "      <td>CA</td>\n",
       "      <td>INTERNAL MEDICINE</td>\n",
       "      <td>XARELTO</td>\n",
       "      <td>RIVAROXABAN</td>\n",
       "      <td>31</td>\n",
       "      <td>51.0</td>\n",
       "      <td>1450</td>\n",
       "      <td>22451.35</td>\n",
       "      <td>NaN</td>\n",
       "      <td>NaN</td>\n",
       "      <td>NaN</td>\n",
       "      <td>NaN</td>\n",
       "      <td>NaN</td>\n",
       "      <td>NaN</td>\n",
       "      <td>2019</td>\n",
       "    </tr>\n",
       "    <tr>\n",
       "      <th>165352</th>\n",
       "      <td>1992999551</td>\n",
       "      <td>MOLAI</td>\n",
       "      <td>INDIRA</td>\n",
       "      <td>ESCONDIDO</td>\n",
       "      <td>CA</td>\n",
       "      <td>INTERNAL MEDICINE</td>\n",
       "      <td>ZALEPLON</td>\n",
       "      <td>ZALEPLON</td>\n",
       "      <td>12</td>\n",
       "      <td>12.0</td>\n",
       "      <td>330</td>\n",
       "      <td>135.50</td>\n",
       "      <td>NaN</td>\n",
       "      <td>12.0</td>\n",
       "      <td>12.0</td>\n",
       "      <td>135.50</td>\n",
       "      <td>330.0</td>\n",
       "      <td>NaN</td>\n",
       "      <td>2019</td>\n",
       "    </tr>\n",
       "    <tr>\n",
       "      <th>165353</th>\n",
       "      <td>1992999551</td>\n",
       "      <td>MOLAI</td>\n",
       "      <td>INDIRA</td>\n",
       "      <td>ESCONDIDO</td>\n",
       "      <td>CA</td>\n",
       "      <td>INTERNAL MEDICINE</td>\n",
       "      <td>ZOLPIDEM TARTRATE</td>\n",
       "      <td>ZOLPIDEM TARTRATE</td>\n",
       "      <td>27</td>\n",
       "      <td>27.0</td>\n",
       "      <td>800</td>\n",
       "      <td>311.59</td>\n",
       "      <td>NaN</td>\n",
       "      <td>27.0</td>\n",
       "      <td>27.0</td>\n",
       "      <td>311.59</td>\n",
       "      <td>800.0</td>\n",
       "      <td>NaN</td>\n",
       "      <td>2019</td>\n",
       "    </tr>\n",
       "    <tr>\n",
       "      <th>165354</th>\n",
       "      <td>1992999569</td>\n",
       "      <td>YUEN</td>\n",
       "      <td>JENNY</td>\n",
       "      <td>SAN FRANCISCO</td>\n",
       "      <td>CA</td>\n",
       "      <td>OPTOMETRY</td>\n",
       "      <td>AZELASTINE HCL</td>\n",
       "      <td>AZELASTINE HCL</td>\n",
       "      <td>17</td>\n",
       "      <td>18.5</td>\n",
       "      <td>472</td>\n",
       "      <td>461.76</td>\n",
       "      <td>NaN</td>\n",
       "      <td>17.0</td>\n",
       "      <td>18.5</td>\n",
       "      <td>461.76</td>\n",
       "      <td>472.0</td>\n",
       "      <td>NaN</td>\n",
       "      <td>2019</td>\n",
       "    </tr>\n",
       "    <tr>\n",
       "      <th>165355</th>\n",
       "      <td>1992999569</td>\n",
       "      <td>YUEN</td>\n",
       "      <td>JENNY</td>\n",
       "      <td>SAN FRANCISCO</td>\n",
       "      <td>CA</td>\n",
       "      <td>OPTOMETRY</td>\n",
       "      <td>OLOPATADINE HCL</td>\n",
       "      <td>OLOPATADINE HCL</td>\n",
       "      <td>12</td>\n",
       "      <td>12.0</td>\n",
       "      <td>340</td>\n",
       "      <td>148.75</td>\n",
       "      <td>NaN</td>\n",
       "      <td>12.0</td>\n",
       "      <td>12.0</td>\n",
       "      <td>148.75</td>\n",
       "      <td>340.0</td>\n",
       "      <td>NaN</td>\n",
       "      <td>2019</td>\n",
       "    </tr>\n",
       "  </tbody>\n",
       "</table>\n",
       "<p>2394082 rows × 19 columns</p>\n",
       "</div>"
      ],
      "text/plain": [
       "        Prscrbr_NPI Prscrbr_Last_Org_Name Prscrbr_First_Name   Prscrbr_City  \\\n",
       "0        1003000837                  JOHN            RICHARD    SANTA MARIA   \n",
       "1        1003001363               STEVENS            CHARLES      EL CENTRO   \n",
       "2        1003001363               STEVENS            CHARLES      EL CENTRO   \n",
       "3        1003001363               STEVENS            CHARLES      EL CENTRO   \n",
       "4        1003001363               STEVENS            CHARLES      EL CENTRO   \n",
       "...             ...                   ...                ...            ...   \n",
       "165351   1992999551                 MOLAI             INDIRA      ESCONDIDO   \n",
       "165352   1992999551                 MOLAI             INDIRA      ESCONDIDO   \n",
       "165353   1992999551                 MOLAI             INDIRA      ESCONDIDO   \n",
       "165354   1992999569                  YUEN              JENNY  SAN FRANCISCO   \n",
       "165355   1992999569                  YUEN              JENNY  SAN FRANCISCO   \n",
       "\n",
       "       Prscrbr_State_Abrvtn        Prscrbr_Type             Brnd_Name  \\\n",
       "0                        CA  NURSE PRACTITIONER  ESCITALOPRAM OXALATE   \n",
       "1                        CA     PAIN MANAGEMENT  ACETAMINOPHENCODEINE   \n",
       "2                        CA     PAIN MANAGEMENT               AMITIZA   \n",
       "3                        CA     PAIN MANAGEMENT     AMITRIPTYLINE HCL   \n",
       "4                        CA     PAIN MANAGEMENT              BACLOFEN   \n",
       "...                     ...                 ...                   ...   \n",
       "165351                   CA   INTERNAL MEDICINE               XARELTO   \n",
       "165352                   CA   INTERNAL MEDICINE              ZALEPLON   \n",
       "165353                   CA   INTERNAL MEDICINE     ZOLPIDEM TARTRATE   \n",
       "165354                   CA           OPTOMETRY        AZELASTINE HCL   \n",
       "165355                   CA           OPTOMETRY       OLOPATADINE HCL   \n",
       "\n",
       "                         Gnrc_Name  Tot_Clms  Tot_30day_Fills  Tot_Day_Suply  \\\n",
       "0             ESCITALOPRAM OXALATE        54             58.0            544   \n",
       "1       ACETAMINOPHEN WITH CODEINE        31             31.0            879   \n",
       "2                     LUBIPROSTONE        45             45.0           1350   \n",
       "3                AMITRIPTYLINE HCL        95             97.0           2883   \n",
       "4                         BACLOFEN       211            213.0           6390   \n",
       "...                            ...       ...              ...            ...   \n",
       "165351                 RIVAROXABAN        31             51.0           1450   \n",
       "165352                    ZALEPLON        12             12.0            330   \n",
       "165353           ZOLPIDEM TARTRATE        27             27.0            800   \n",
       "165354              AZELASTINE HCL        17             18.5            472   \n",
       "165355             OLOPATADINE HCL        12             12.0            340   \n",
       "\n",
       "        Tot_Drug_Cst  Tot_Benes  GE65_Tot_Clms  GE65_Tot_30day_Fills  \\\n",
       "0             407.28        NaN            NaN                   NaN   \n",
       "1             629.18       13.0            NaN                   NaN   \n",
       "2           17152.97       21.0           20.0                  20.0   \n",
       "3            1976.63       35.0           22.0                  24.0   \n",
       "4            4637.66       73.0           79.0                  81.0   \n",
       "...              ...        ...            ...                   ...   \n",
       "165351      22451.35        NaN            NaN                   NaN   \n",
       "165352        135.50        NaN           12.0                  12.0   \n",
       "165353        311.59        NaN           27.0                  27.0   \n",
       "165354        461.76        NaN           17.0                  18.5   \n",
       "165355        148.75        NaN           12.0                  12.0   \n",
       "\n",
       "        GE65_Tot_Drug_Cst  GE65_Tot_Day_Suply  GE65_Tot_Benes  Year  \n",
       "0                     NaN                 NaN             NaN  2019  \n",
       "1                     NaN                 NaN             NaN  2019  \n",
       "2                 7683.43               600.0             NaN  2019  \n",
       "3                  308.41               720.0            12.0  2019  \n",
       "4                 1642.86              2430.0            34.0  2019  \n",
       "...                   ...                 ...             ...   ...  \n",
       "165351                NaN                 NaN             NaN  2019  \n",
       "165352             135.50               330.0             NaN  2019  \n",
       "165353             311.59               800.0             NaN  2019  \n",
       "165354             461.76               472.0             NaN  2019  \n",
       "165355             148.75               340.0             NaN  2019  \n",
       "\n",
       "[2394082 rows x 19 columns]"
      ]
     },
     "execution_count": 14,
     "metadata": {},
     "output_type": "execute_result"
    }
   ],
   "source": [
    "#prescriptions.compute()\n",
    "part_d.compute()"
   ]
  },
  {
   "cell_type": "code",
   "execution_count": null,
   "metadata": {},
   "outputs": [],
   "source": []
  }
 ],
 "metadata": {
  "kernelspec": {
   "display_name": "Python 3",
   "language": "python",
   "name": "python3"
  },
  "language_info": {
   "codemirror_mode": {
    "name": "ipython",
    "version": 3
   },
   "file_extension": ".py",
   "mimetype": "text/x-python",
   "name": "python",
   "nbconvert_exporter": "python",
   "pygments_lexer": "ipython3",
   "version": "3.8.8"
  }
 },
 "nbformat": 4,
 "nbformat_minor": 4
}
