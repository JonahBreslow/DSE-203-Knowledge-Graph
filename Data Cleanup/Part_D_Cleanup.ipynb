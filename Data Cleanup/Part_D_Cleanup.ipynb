{
 "cells": [
  {
   "cell_type": "code",
   "execution_count": 9,
   "metadata": {},
   "outputs": [],
   "source": [
    "from dask import dataframe as dd"
   ]
  },
  {
   "cell_type": "code",
   "execution_count": 10,
   "metadata": {},
   "outputs": [],
   "source": [
    "cols = ['Prscrbr_NPI','Prscrbr_Last_Org_Name','Prscrbr_First_Name','Prscrbr_City',\n",
    "        'Prscrbr_State_Abrvtn','Prscrbr_Type','Brnd_Name','Gnrc_Name',\n",
    "        'Tot_Clms', 'Tot_30day_Fills', 'Tot_Day_Suply', 'Tot_Drug_Cst',\n",
    "        'Tot_Benes', 'GE65_Tot_Clms', 'GE65_Tot_30day_Fills',\n",
    "        'GE65_Tot_Drug_Cst', 'GE65_Tot_Day_Suply','GE65_Tot_Benes']"
   ]
  },
  {
   "cell_type": "code",
   "execution_count": 11,
   "metadata": {},
   "outputs": [],
   "source": [
    "part_d = dd.read_csv('../Data/Medicare_Part_D_Prescribers_by_Provider_and_Drug_2019.csv',usecols=cols)"
   ]
  },
  {
   "cell_type": "code",
   "execution_count": 13,
   "metadata": {},
   "outputs": [],
   "source": [
    "# Make the year a part of the data\n",
    "part_d['Year']='2019'"
   ]
  },
  {
   "cell_type": "code",
   "execution_count": 7,
   "metadata": {},
   "outputs": [
    {
     "name": "stdout",
     "output_type": "stream",
     "text": [
      "Wall time: 3.66 s\n"
     ]
    }
   ],
   "source": [
    "%%time\n",
    "# Get prescriber_info\n",
    "prescr = part_d[['Prscrbr_NPI', 'Prscrbr_Last_Org_Name', 'Prscrbr_First_Name','Prscrbr_City','Prscrbr_Type']]\n",
    "prescr = prescr.drop_duplicates(subset=['Prscrbr_NPI'])\n",
    "prescr.to_csv('../Data/Outputs_Cleanup/Part_d/prescriber_information.csv',single_file=True,index=False)\n",
    "del prescr"
   ]
  },
  {
   "cell_type": "code",
   "execution_count": 14,
   "metadata": {},
   "outputs": [
    {
     "name": "stdout",
     "output_type": "stream",
     "text": [
      "Wall time: 3.6 s\n"
     ]
    },
    {
     "data": {
      "text/plain": [
       "['D:/CLASSES/DSE203/Final Project/DSE-203-Knowledge-Graph/Data/Outputs_Cleanup/Part_d/prescriber_state.csv']"
      ]
     },
     "execution_count": 14,
     "metadata": {},
     "output_type": "execute_result"
    }
   ],
   "source": [
    "%%time\n",
    "# link prescriber to state\n",
    "prescr = part_d[['Prscrbr_NPI','Prscrbr_State_Abrvtn']]\n",
    "prescr = prescr.drop_duplicates(subset=['Prscrbr_NPI'])\n",
    "prescr.to_csv('../Data/Outputs_Cleanup/Part_d/prescriber_state.csv',single_file=True,index=False)"
   ]
  },
  {
   "cell_type": "code",
   "execution_count": 8,
   "metadata": {},
   "outputs": [
    {
     "name": "stdout",
     "output_type": "stream",
     "text": [
      "Wall time: 24.9 s\n"
     ]
    },
    {
     "data": {
      "text/plain": [
       "['D:/CLASSES/DSE203/Final Project/DSE-203-Knowledge-Graph/Data/Outputs_Cleanup/Part_d/drug_information.csv']"
      ]
     },
     "execution_count": 8,
     "metadata": {},
     "output_type": "execute_result"
    }
   ],
   "source": [
    "%%time\n",
    "drug = part_d[['Prscrbr_NPI','Brnd_Name','Gnrc_Name','Tot_Clms',\n",
    "               'Tot_30day_Fills','Tot_Day_Suply','Tot_Drug_Cst',\n",
    "               'Tot_Benes','GE65_Tot_Clms','GE65_Tot_30day_Fills',\n",
    "               'GE65_Tot_Drug_Cst','GE65_Tot_Day_Suply','GE65_Tot_Benes','Year']]\n",
    "\n",
    "drug.to_csv('../Data/Outputs_Cleanup/Part_d/drug_information.csv',single_file=True,index=False)"
   ]
  },
  {
   "cell_type": "code",
   "execution_count": null,
   "metadata": {},
   "outputs": [],
   "source": []
  }
 ],
 "metadata": {
  "kernelspec": {
   "display_name": "Python 3",
   "language": "python",
   "name": "python3"
  },
  "language_info": {
   "codemirror_mode": {
    "name": "ipython",
    "version": 3
   },
   "file_extension": ".py",
   "mimetype": "text/x-python",
   "name": "python",
   "nbconvert_exporter": "python",
   "pygments_lexer": "ipython3",
   "version": "3.8.5"
  }
 },
 "nbformat": 4,
 "nbformat_minor": 4
}
