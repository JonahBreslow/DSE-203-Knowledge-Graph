{
 "cells": [
  {
   "cell_type": "markdown",
   "metadata": {},
   "source": [
    "# Sunshine Act Cleanup\n",
    "## Authors: \n",
    "    1. Lam Ho\n",
    "    2. Jonah Breslow\n",
    "    3. Jeffrey Kagan\n",
    "## Purpose:\n",
    "The purpose of this notebook is to do some preliminary cleanup/filtering of the [Center for Medicare & Medicaid Services](https://openpaymentsdata.cms.gov) data. Primarily, filter the data to just California to limit the amount of data we need to load into the Neo4J graph.\n",
    "\n",
    "### Importing modules"
   ]
  },
  {
   "cell_type": "code",
   "execution_count": 1,
   "metadata": {},
   "outputs": [],
   "source": [
    "from dask import dataframe as dd\n",
    "import re\n",
    "# import string\n",
    "# from pandas.api.types import is_string_dtype\n",
    "# from pandas.api.types import is_numeric_dtype\n",
    "# from unidecode import unidecode"
   ]
  },
  {
   "cell_type": "code",
   "execution_count": 2,
   "metadata": {},
   "outputs": [],
   "source": [
    "cols = ['Covered_Recipient_Type','Teaching_Hospital_CCN','Teaching_Hospital_ID','Teaching_Hospital_Name',\n",
    "       'Physician_Profile_ID','Physician_First_Name','Physician_Middle_Name','Physician_Last_Name','Physician_Name_Suffix',\n",
    "       'Recipient_City','Recipient_State','Physician_Primary_Type','Physician_Specialty','Physician_License_State_code1','Physician_License_State_code2',\n",
    "       'Physician_License_State_code3','Physician_License_State_code4','Physician_License_State_code5',\n",
    "       'Submitting_Applicable_Manufacturer_or_Applicable_GPO_Name','Applicable_Manufacturer_or_Applicable_GPO_Making_Payment_ID',\n",
    "       'Applicable_Manufacturer_or_Applicable_GPO_Making_Payment_Name',\n",
    "       'Applicable_Manufacturer_or_Applicable_GPO_Making_Payment_State',\n",
    "       'Total_Amount_of_Payment_USDollars','Date_of_Payment','Number_of_Payments_Included_in_Total_Amount',\n",
    "       'Form_of_Payment_or_Transfer_of_Value','Nature_of_Payment_or_Transfer_of_Value','City_of_Travel',\n",
    "       'State_of_Travel', 'Country_of_Travel','Physician_Ownership_Indicator','Third_Party_Payment_Recipient_Indicator',\n",
    "       'Name_of_Third_Party_Entity_Receiving_Payment_or_Transfer_of_Value','Charity_Indicator','Third_Party_Equals_Covered_Recipient_Indicator',\n",
    "       'Record_ID','Related_Product_Indicator','Covered_or_Noncovered_Indicator_1',\n",
    "       'Indicate_Drug_or_Biological_or_Device_or_Medical_Supply_1',\n",
    "       'Product_Category_or_Therapeutic_Area_1','Name_of_Drug_or_Biological_or_Device_or_Medical_Supply_1',\n",
    "       'Associated_Drug_or_Biological_NDC_1','Covered_or_Noncovered_Indicator_2',\n",
    "       'Indicate_Drug_or_Biological_or_Device_or_Medical_Supply_2',\n",
    "       'Product_Category_or_Therapeutic_Area_2',\n",
    "       'Name_of_Drug_or_Biological_or_Device_or_Medical_Supply_2',\n",
    "       'Associated_Drug_or_Biological_NDC_2',\n",
    "       'Covered_or_Noncovered_Indicator_3',\n",
    "       'Indicate_Drug_or_Biological_or_Device_or_Medical_Supply_3',\n",
    "       'Product_Category_or_Therapeutic_Area_3',\n",
    "       'Name_of_Drug_or_Biological_or_Device_or_Medical_Supply_3',\n",
    "       'Associated_Drug_or_Biological_NDC_3',\n",
    "       'Covered_or_Noncovered_Indicator_4',\n",
    "       'Indicate_Drug_or_Biological_or_Device_or_Medical_Supply_4',\n",
    "       'Product_Category_or_Therapeutic_Area_4',\n",
    "       'Name_of_Drug_or_Biological_or_Device_or_Medical_Supply_4',\n",
    "       'Associated_Drug_or_Biological_NDC_4',\n",
    "       'Covered_or_Noncovered_Indicator_5',\n",
    "       'Indicate_Drug_or_Biological_or_Device_or_Medical_Supply_5',\n",
    "       'Product_Category_or_Therapeutic_Area_5',\n",
    "       'Name_of_Drug_or_Biological_or_Device_or_Medical_Supply_5',\n",
    "       'Associated_Drug_or_Biological_NDC_5','Recipient_Zip_Code']"
   ]
  },
  {
   "cell_type": "code",
   "execution_count": 3,
   "metadata": {},
   "outputs": [],
   "source": [
    "#Load the data\n",
    "sunshine = dd.read_csv('../Data/OP_DTL_GNRL_PGYR2019_P06302021.csv',dtype=str,usecols=cols)"
   ]
  },
  {
   "cell_type": "code",
   "execution_count": 4,
   "metadata": {},
   "outputs": [],
   "source": [
    "# Dealing with missing data for recipient state\n",
    "def licensedCA(row):\n",
    "    if row['Recipient_State']=='CA' or row['Physician_License_State_code1']=='CA' or row['Physician_License_State_code1']=='CA' or row['Physician_License_State_code2']=='CA' or row['Physician_License_State_code3']=='CA' or row['Physician_License_State_code4']=='CA' or row['Physician_License_State_code5']=='CA':\n",
    "        return True\n",
    "    return False\n",
    "\n",
    "sunshine['Licensed_In_CA'] = sunshine.apply(licensedCA,axis=1,meta=str)\n",
    "        "
   ]
  },
  {
   "cell_type": "markdown",
   "metadata": {
    "tags": []
   },
   "source": [
    "## Pre-Processing Text Columns"
   ]
  },
  {
   "cell_type": "code",
   "execution_count": 5,
   "metadata": {},
   "outputs": [],
   "source": [
    "def remove_punc(string):\n",
    "    '''\n",
    "    takes in a string and removed all punctuation.\n",
    "    '''\n",
    "    return re.sub(r'[^\\w\\s]','',string)\n",
    "\n",
    "def preProcess(df):\n",
    "    '''\n",
    "    takes a dataframe, applies the remove_punc function\n",
    "    and then upper cases all text columns\n",
    "    '''\n",
    "    df = df.applymap(lambda s:remove_punc(s).upper() if isinstance(s, str) else s)\n",
    "    return df"
   ]
  },
  {
   "cell_type": "markdown",
   "metadata": {},
   "source": [
    "### CA Filter\n",
    "1. Filter only for California \n",
    "2. Persisting `cadf` in memory so we don't need to repeat this filtering step every time we want to create a new output file"
   ]
  },
  {
   "cell_type": "code",
   "execution_count": 6,
   "metadata": {},
   "outputs": [
    {
     "name": "stdout",
     "output_type": "stream",
     "text": [
      "CPU times: user 4min 49s, sys: 8.81 s, total: 4min 58s\n",
      "Wall time: 4min 31s\n"
     ]
    }
   ],
   "source": [
    "%%time\n",
    "cadf = sunshine[sunshine['Licensed_In_CA']==True]\n",
    "cadf = cadf.map_partitions(preProcess)\n",
    "cadf = cadf.persist()\n",
    "del sunshine"
   ]
  },
  {
   "cell_type": "markdown",
   "metadata": {},
   "source": [
    "### Creating Hospital-Payment edge"
   ]
  },
  {
   "cell_type": "code",
   "execution_count": 56,
   "metadata": {},
   "outputs": [
    {
     "name": "stdout",
     "output_type": "stream",
     "text": [
      "CPU times: user 184 ms, sys: 50.2 ms, total: 234 ms\n",
      "Wall time: 226 ms\n"
     ]
    },
    {
     "data": {
      "text/plain": [
       "['/Users/jonahbreslow/Documents/DSE/2020-jfbreslow/DSE203/DSE-203-Knowledge-Graph/Data Cleanup/../Data/Outputs_Cleanup/Sunshine/hospitals_payment.csv']"
      ]
     },
     "execution_count": 56,
     "metadata": {},
     "output_type": "execute_result"
    }
   ],
   "source": [
    "%%time\n",
    "# Hospital ID and Payment ID\n",
    "hosp = cadf[cadf['Covered_Recipient_Type']=='COVERED RECIPIENT TEACHING HOSPITAL'][['Record_ID','Teaching_Hospital_ID']]\n",
    "hosp.to_csv('../Data/Outputs_Cleanup/Sunshine/hospitals_payment.csv',single_file=True,index=False)"
   ]
  },
  {
   "cell_type": "markdown",
   "metadata": {},
   "source": [
    "### Creating Hospital-State edge"
   ]
  },
  {
   "cell_type": "code",
   "execution_count": 57,
   "metadata": {},
   "outputs": [
    {
     "name": "stdout",
     "output_type": "stream",
     "text": [
      "CPU times: user 7.25 ms, sys: 434 µs, total: 7.69 ms\n",
      "Wall time: 7.65 ms\n"
     ]
    }
   ],
   "source": [
    "%%time\n",
    "# Hospitals and states\n",
    "hosp = cadf[cadf['Covered_Recipient_Type']=='COVERED RECIPIENT TEACHING HOSPITAL'][['Recipient_State','Teaching_Hospital_ID']]\n",
    "hosp = hosp.drop_duplicates(subset=['Teaching_Hospital_ID'])"
   ]
  },
  {
   "cell_type": "code",
   "execution_count": 58,
   "metadata": {},
   "outputs": [
    {
     "name": "stdout",
     "output_type": "stream",
     "text": [
      "There are 0 hospitals with more than 1 associated state\n"
     ]
    }
   ],
   "source": [
    "hospital_state_dupes = hosp.groupby('Teaching_Hospital_ID').count().compute()\n",
    "hosp_state_dupes = hospital_state_dupes[hospital_state_dupes.Recipient_State>1]\n",
    "print(\"There are \"+str(hosp_state_dupes.shape[0])+ \" hospitals with more than 1 associated state\")"
   ]
  },
  {
   "cell_type": "code",
   "execution_count": 59,
   "metadata": {},
   "outputs": [
    {
     "data": {
      "text/plain": [
       "['/Users/jonahbreslow/Documents/DSE/2020-jfbreslow/DSE203/DSE-203-Knowledge-Graph/Data Cleanup/../Data/Outputs_Cleanup/Sunshine/hosp_states.csv']"
      ]
     },
     "execution_count": 59,
     "metadata": {},
     "output_type": "execute_result"
    }
   ],
   "source": [
    "hosp.to_csv('../Data/Outputs_Cleanup/Sunshine/hosp_states.csv',single_file=True,index=False)"
   ]
  },
  {
   "cell_type": "markdown",
   "metadata": {},
   "source": [
    "### Crating Hospital Node"
   ]
  },
  {
   "cell_type": "code",
   "execution_count": 60,
   "metadata": {},
   "outputs": [
    {
     "name": "stdout",
     "output_type": "stream",
     "text": [
      "CPU times: user 3.44 ms, sys: 161 µs, total: 3.6 ms\n",
      "Wall time: 3.64 ms\n"
     ]
    }
   ],
   "source": [
    "%%time\n",
    "# Hospitals' other information\n",
    "hosp = cadf[cadf['Covered_Recipient_Type']=='COVERED RECIPIENT TEACHING HOSPITAL'][['Teaching_Hospital_CCN',\n",
    "                                                                                    'Teaching_Hospital_ID',\n",
    "                                                                                    'Teaching_Hospital_Name']]\n",
    "hosp = hosp.drop_duplicates(subset=['Teaching_Hospital_ID'])"
   ]
  },
  {
   "cell_type": "code",
   "execution_count": 61,
   "metadata": {},
   "outputs": [
    {
     "name": "stdout",
     "output_type": "stream",
     "text": [
      "There are 0 hospitals with more than 1 associated state\n"
     ]
    }
   ],
   "source": [
    "hospital_node_dupes = hosp.groupby('Teaching_Hospital_ID').count().compute()\n",
    "hosp_node_dupes = hospital_node_dupes[hospital_node_dupes.Teaching_Hospital_CCN>1]\n",
    "print(\"There are \"+str(hosp_node_dupes.shape[0])+ \" hospitals with more than 1 associated state\")"
   ]
  },
  {
   "cell_type": "code",
   "execution_count": 62,
   "metadata": {},
   "outputs": [],
   "source": [
    "hosp.to_csv('../Data/Outputs_Cleanup/Sunshine/hosp_info.csv',single_file=True,index=False)\n",
    "del hosp"
   ]
  },
  {
   "cell_type": "markdown",
   "metadata": {},
   "source": [
    "### Creating Physician-Payment edge"
   ]
  },
  {
   "cell_type": "code",
   "execution_count": 63,
   "metadata": {},
   "outputs": [
    {
     "name": "stdout",
     "output_type": "stream",
     "text": [
      "CPU times: user 2.44 s, sys: 160 ms, total: 2.6 s\n",
      "Wall time: 2.57 s\n"
     ]
    },
    {
     "data": {
      "text/plain": [
       "['/Users/jonahbreslow/Documents/DSE/2020-jfbreslow/DSE203/DSE-203-Knowledge-Graph/Data Cleanup/../Data/Outputs_Cleanup/Sunshine/physicians_payments.csv']"
      ]
     },
     "execution_count": 63,
     "metadata": {},
     "output_type": "execute_result"
    }
   ],
   "source": [
    "%%time\n",
    "# Physician ID and Payment ID\n",
    "physicians = cadf[cadf['Covered_Recipient_Type']=='COVERED RECIPIENT PHYSICIAN'][['Record_ID','Physician_Profile_ID']]\n",
    "physicians.to_csv('../Data/Outputs_Cleanup/Sunshine/physicians_payments.csv',single_file=True,index=False)"
   ]
  },
  {
   "cell_type": "markdown",
   "metadata": {},
   "source": [
    "### Creating Physician-State edge"
   ]
  },
  {
   "cell_type": "code",
   "execution_count": 64,
   "metadata": {},
   "outputs": [
    {
     "name": "stdout",
     "output_type": "stream",
     "text": [
      "CPU times: user 2.45 ms, sys: 40 µs, total: 2.49 ms\n",
      "Wall time: 2.45 ms\n"
     ]
    }
   ],
   "source": [
    "%%time\n",
    "# Physicians and states\n",
    "physicians = cadf[cadf['Covered_Recipient_Type']=='COVERED RECIPIENT PHYSICIAN'][['Recipient_State','Physician_Profile_ID']]\n",
    "physicians = physicians.drop_duplicates(subset=['Physician_Profile_ID'])"
   ]
  },
  {
   "cell_type": "code",
   "execution_count": 65,
   "metadata": {},
   "outputs": [
    {
     "name": "stdout",
     "output_type": "stream",
     "text": [
      "There are 0 physcians with more than 1 associated state\n"
     ]
    }
   ],
   "source": [
    "physician_state_dupes = physicians.groupby('Physician_Profile_ID').count()\n",
    "physician_state_dupes = physician_state_dupes[physician_state_dupes.Recipient_State>1].compute()\n",
    "print(\"There are \"+str(physician_state_dupes.shape[0])+ \" physcians with more than 1 associated state\")"
   ]
  },
  {
   "cell_type": "code",
   "execution_count": null,
   "metadata": {},
   "outputs": [],
   "source": [
    "%%time\n",
    "# Physicians and states\n",
    "physicians = cadf[cadf['Covered_Recipient_Type']=='Covered Recipient Physician'][['Recipient_State','Physician_Profile_ID']]\n",
    "physicians = physicians.drop_duplicates(subset=['Physician_Profile_ID'])"
   ]
  },
  {
   "cell_type": "markdown",
   "metadata": {},
   "source": [
    "### Physician Node"
   ]
  },
  {
   "cell_type": "code",
   "execution_count": 66,
   "metadata": {},
   "outputs": [
    {
     "data": {
      "text/plain": [
       "['/Users/jonahbreslow/Documents/DSE/2020-jfbreslow/DSE203/DSE-203-Knowledge-Graph/Data Cleanup/../Data/Outputs_Cleanup/Sunshine/physicians_state.csv']"
      ]
     },
     "execution_count": 66,
     "metadata": {},
     "output_type": "execute_result"
    }
   ],
   "source": [
    "physicians.to_csv('../Data/Outputs_Cleanup/Sunshine/physicians_state.csv',single_file=True,index=False)"
   ]
  },
  {
   "cell_type": "markdown",
   "metadata": {},
   "source": [
    "### Creating Physician Node"
   ]
  },
  {
   "cell_type": "code",
   "execution_count": 67,
   "metadata": {},
   "outputs": [
    {
     "name": "stdout",
     "output_type": "stream",
     "text": [
      "CPU times: user 3.2 ms, sys: 87 µs, total: 3.29 ms\n",
      "Wall time: 3.24 ms\n"
     ]
    }
   ],
   "source": [
    "%%time\n",
    "# Physicians other information\n",
    "physicians = cadf[cadf['Covered_Recipient_Type']=='COVERED RECIPIENT PHYSICIAN'][['Physician_Profile_ID','Physician_First_Name','Physician_Middle_Name','Physician_Last_Name','Physician_Name_Suffix',\n",
    "       'Recipient_City','Recipient_State','Physician_Primary_Type','Physician_Specialty','Physician_License_State_code1','Physician_License_State_code2',\n",
    "       'Physician_License_State_code3','Physician_License_State_code4','Physician_License_State_code5','Recipient_Zip_Code']]\n",
    "physicians = physicians.drop_duplicates(subset=['Physician_Profile_ID'])"
   ]
  },
  {
   "cell_type": "code",
   "execution_count": 69,
   "metadata": {},
   "outputs": [
    {
     "name": "stdout",
     "output_type": "stream",
     "text": [
      "There are 0 physcians with duplicated node data\n"
     ]
    }
   ],
   "source": [
    "physician_node_dupes = physicians.groupby('Physician_Profile_ID').count()\n",
    "physician_node_dupes =physician_node_dupes[physician_node_dupes.Physician_First_Name>1].compute()\n",
    "print(\"There are \"+str(physician_node_dupes.shape[0])+ \" physcians with duplicated node data\")"
   ]
  },
  {
   "cell_type": "code",
   "execution_count": 70,
   "metadata": {},
   "outputs": [],
   "source": [
    "physicians.to_csv('../Data/Outputs_Cleanup/Sunshine/physicians_info.csv',single_file=True,index=False)\n",
    "del physicians"
   ]
  },
  {
   "cell_type": "markdown",
   "metadata": {},
   "source": [
    "### Creating Payment Node"
   ]
  },
  {
   "cell_type": "code",
   "execution_count": 71,
   "metadata": {},
   "outputs": [
    {
     "name": "stdout",
     "output_type": "stream",
     "text": [
      "CPU times: user 2.9 s, sys: 80.5 ms, total: 2.98 s\n",
      "Wall time: 2.97 s\n"
     ]
    }
   ],
   "source": [
    "%%time\n",
    "# Payment information\n",
    "payments = cadf[['Record_ID','Total_Amount_of_Payment_USDollars','Date_of_Payment','Number_of_Payments_Included_in_Total_Amount',\n",
    "                 'Form_of_Payment_or_Transfer_of_Value','Nature_of_Payment_or_Transfer_of_Value']]\n",
    "payments.to_csv('../Data/Outputs_Cleanup/Sunshine/payments.csv',single_file=True,index=False)\n",
    "del payments"
   ]
  },
  {
   "cell_type": "markdown",
   "metadata": {},
   "source": [
    "### Creating PharmCo-Payment Edge"
   ]
  },
  {
   "cell_type": "code",
   "execution_count": 72,
   "metadata": {},
   "outputs": [
    {
     "name": "stdout",
     "output_type": "stream",
     "text": [
      "CPU times: user 1.6 s, sys: 36.2 ms, total: 1.64 s\n",
      "Wall time: 1.63 s\n"
     ]
    },
    {
     "data": {
      "text/plain": [
       "['/Users/jonahbreslow/Documents/DSE/2020-jfbreslow/DSE203/DSE-203-Knowledge-Graph/Data Cleanup/../Data/Outputs_Cleanup/Sunshine/pharmCo_payments.csv']"
      ]
     },
     "execution_count": 72,
     "metadata": {},
     "output_type": "execute_result"
    }
   ],
   "source": [
    "%%time\n",
    "# Pharmco and Record ID\n",
    "pharmCo = cadf[['Record_ID','Applicable_Manufacturer_or_Applicable_GPO_Making_Payment_ID']]\n",
    "pharmCo.to_csv('../Data/Outputs_Cleanup/Sunshine/pharmCo_payments.csv',single_file=True,index=False)"
   ]
  },
  {
   "cell_type": "markdown",
   "metadata": {},
   "source": [
    "### Creating PharmCo-State Edge"
   ]
  },
  {
   "cell_type": "code",
   "execution_count": 73,
   "metadata": {},
   "outputs": [
    {
     "name": "stdout",
     "output_type": "stream",
     "text": [
      "CPU times: user 2.11 ms, sys: 85 µs, total: 2.19 ms\n",
      "Wall time: 2.15 ms\n"
     ]
    }
   ],
   "source": [
    "%%time\n",
    "# Pharmco and state\n",
    "pharmCo = cadf[['Applicable_Manufacturer_or_Applicable_GPO_Making_Payment_ID','Applicable_Manufacturer_or_Applicable_GPO_Making_Payment_State']]\n",
    "pharmCo = pharmCo.drop_duplicates()"
   ]
  },
  {
   "cell_type": "code",
   "execution_count": 74,
   "metadata": {},
   "outputs": [
    {
     "name": "stdout",
     "output_type": "stream",
     "text": [
      "There are 0 PharmCo's with multiple states\n"
     ]
    }
   ],
   "source": [
    "pharmco_state_dupes = pharmCo.groupby('Applicable_Manufacturer_or_Applicable_GPO_Making_Payment_ID').count()\n",
    "pharmco_state_dupes = pharmco_state_dupes[pharmco_state_dupes.Applicable_Manufacturer_or_Applicable_GPO_Making_Payment_State>1].compute()\n",
    "print(\"There are \"+str(pharmco_state_dupes.shape[0])+ \" PharmCo's with multiple states\")"
   ]
  },
  {
   "cell_type": "code",
   "execution_count": 75,
   "metadata": {},
   "outputs": [
    {
     "data": {
      "text/plain": [
       "['/Users/jonahbreslow/Documents/DSE/2020-jfbreslow/DSE203/DSE-203-Knowledge-Graph/Data Cleanup/../Data/Outputs_Cleanup/Sunshine/pharmCo_states.csv']"
      ]
     },
     "execution_count": 75,
     "metadata": {},
     "output_type": "execute_result"
    }
   ],
   "source": [
    "pharmCo.to_csv('../Data/Outputs_Cleanup/Sunshine/pharmCo_states.csv',single_file=True,index=False)"
   ]
  },
  {
   "cell_type": "markdown",
   "metadata": {},
   "source": [
    "### Creating PharmCo Node\n",
    "Interesting note: `Applicable_Manufacturer_or_Applicable_GPO_Making_Payment_Name` is not always the same for the same `Applicable_Manufacturer_or_Applicable_GPO_Making_Payment_ID`. To handle this, we are just selecting the first one. There are only a couple dupes and they are clearly the same PharmaCo"
   ]
  },
  {
   "cell_type": "code",
   "execution_count": 76,
   "metadata": {},
   "outputs": [
    {
     "name": "stdout",
     "output_type": "stream",
     "text": [
      "CPU times: user 2.19 ms, sys: 71 µs, total: 2.26 ms\n",
      "Wall time: 2.24 ms\n"
     ]
    }
   ],
   "source": [
    "%%time\n",
    "# Pharmco other information\n",
    "pharmCo = cadf[['Applicable_Manufacturer_or_Applicable_GPO_Making_Payment_ID',\n",
    "#                 'Submitting_Applicable_Manufacturer_or_Applicable_GPO_Name',\n",
    "                'Applicable_Manufacturer_or_Applicable_GPO_Making_Payment_Name']].drop_duplicates('Applicable_Manufacturer_or_Applicable_GPO_Making_Payment_ID')"
   ]
  },
  {
   "cell_type": "code",
   "execution_count": 77,
   "metadata": {},
   "outputs": [
    {
     "name": "stdout",
     "output_type": "stream",
     "text": [
      "There are 0 PharmCo's with duplicate node data\n"
     ]
    }
   ],
   "source": [
    "pharmco_node_dupes = pharmCo.groupby('Applicable_Manufacturer_or_Applicable_GPO_Making_Payment_ID').count()\n",
    "pharmco_node_dupes = pharmco_node_dupes[pharmco_node_dupes.Applicable_Manufacturer_or_Applicable_GPO_Making_Payment_Name>1].compute()\n",
    "print(\"There are \"+str(pharmco_node_dupes.shape[0])+ \" PharmCo's with duplicate node data\")"
   ]
  },
  {
   "cell_type": "code",
   "execution_count": 78,
   "metadata": {},
   "outputs": [
    {
     "data": {
      "text/plain": [
       "['/Users/jonahbreslow/Documents/DSE/2020-jfbreslow/DSE203/DSE-203-Knowledge-Graph/Data Cleanup/../Data/Outputs_Cleanup/Sunshine/pharmCo_info.csv']"
      ]
     },
     "execution_count": 78,
     "metadata": {},
     "output_type": "execute_result"
    }
   ],
   "source": [
    "pharmCo.to_csv('../Data/Outputs_Cleanup/Sunshine/pharmCo_info.csv',single_file=True,index=False)"
   ]
  },
  {
   "cell_type": "code",
   "execution_count": 79,
   "metadata": {},
   "outputs": [
    {
     "name": "stdout",
     "output_type": "stream",
     "text": [
      "CPU times: user 5.32 s, sys: 112 ms, total: 5.43 s\n",
      "Wall time: 5.48 s\n"
     ]
    },
    {
     "data": {
      "text/plain": [
       "['/Users/jonahbreslow/Documents/DSE/2020-jfbreslow/DSE203/DSE-203-Knowledge-Graph/Data Cleanup/../Data/Outputs_Cleanup/Sunshine/record_drugs.csv']"
      ]
     },
     "execution_count": 79,
     "metadata": {},
     "output_type": "execute_result"
    }
   ],
   "source": [
    "%%time\n",
    "# Pharmco other information\n",
    "pharmCo = cadf[['Record_ID','Covered_or_Noncovered_Indicator_1','Related_Product_Indicator',\n",
    "                'Indicate_Drug_or_Biological_or_Device_or_Medical_Supply_1','Product_Category_or_Therapeutic_Area_1',\n",
    "                'Name_of_Drug_or_Biological_or_Device_or_Medical_Supply_1','Associated_Drug_or_Biological_NDC_1','Covered_or_Noncovered_Indicator_2',\n",
    "                'Indicate_Drug_or_Biological_or_Device_or_Medical_Supply_2','Product_Category_or_Therapeutic_Area_2',\n",
    "                'Name_of_Drug_or_Biological_or_Device_or_Medical_Supply_2','Associated_Drug_or_Biological_NDC_2',\n",
    "                'Covered_or_Noncovered_Indicator_3','Indicate_Drug_or_Biological_or_Device_or_Medical_Supply_3',\n",
    "                'Product_Category_or_Therapeutic_Area_3','Name_of_Drug_or_Biological_or_Device_or_Medical_Supply_3',\n",
    "                'Associated_Drug_or_Biological_NDC_3','Covered_or_Noncovered_Indicator_4',\n",
    "                'Indicate_Drug_or_Biological_or_Device_or_Medical_Supply_4','Product_Category_or_Therapeutic_Area_4',\n",
    "                'Name_of_Drug_or_Biological_or_Device_or_Medical_Supply_4','Associated_Drug_or_Biological_NDC_4',\n",
    "                'Covered_or_Noncovered_Indicator_5','Indicate_Drug_or_Biological_or_Device_or_Medical_Supply_5',\n",
    "                'Product_Category_or_Therapeutic_Area_5','Name_of_Drug_or_Biological_or_Device_or_Medical_Supply_5',\n",
    "                'Associated_Drug_or_Biological_NDC_5']]\n",
    "pharmCo.to_csv('../Data/Outputs_Cleanup/Sunshine/record_drugs.csv',single_file=True,index=False)"
   ]
  },
  {
   "cell_type": "code",
   "execution_count": null,
   "metadata": {},
   "outputs": [],
   "source": []
  },
  {
   "cell_type": "code",
   "execution_count": null,
   "metadata": {},
   "outputs": [],
   "source": []
  }
 ],
 "metadata": {
  "kernelspec": {
   "display_name": "Python 3 (ipykernel)",
   "language": "python",
   "name": "python3"
  },
  "language_info": {
   "codemirror_mode": {
    "name": "ipython",
    "version": 3
   },
   "file_extension": ".py",
   "mimetype": "text/x-python",
   "name": "python",
   "nbconvert_exporter": "python",
   "pygments_lexer": "ipython3",
   "version": "3.8.5"
  }
 },
 "nbformat": 4,
 "nbformat_minor": 4
}
