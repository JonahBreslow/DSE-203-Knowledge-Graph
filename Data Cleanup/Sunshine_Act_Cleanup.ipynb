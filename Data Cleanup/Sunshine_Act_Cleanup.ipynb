{
 "cells": [
  {
   "cell_type": "code",
   "execution_count": 1,
   "metadata": {},
   "outputs": [],
   "source": [
    "from dask import dataframe as dd"
   ]
  },
  {
   "cell_type": "code",
   "execution_count": 2,
   "metadata": {},
   "outputs": [],
   "source": [
    "cols = ['Covered_Recipient_Type','Teaching_Hospital_CCN','Teaching_Hospital_ID','Teaching_Hospital_Name',\n",
    "       'Physician_Profile_ID','Physician_First_Name','Physician_Middle_Name','Physician_Last_Name','Physician_Name_Suffix',\n",
    "       'Recipient_State','Physician_Primary_Type','Physician_Specialty','Physician_License_State_code1','Physician_License_State_code2',\n",
    "       'Physician_License_State_code3','Physician_License_State_code4','Physician_License_State_code5',\n",
    "       'Submitting_Applicable_Manufacturer_or_Applicable_GPO_Name','Applicable_Manufacturer_or_Applicable_GPO_Making_Payment_ID',\n",
    "       'Applicable_Manufacturer_or_Applicable_GPO_Making_Payment_Name',\n",
    "       'Applicable_Manufacturer_or_Applicable_GPO_Making_Payment_State',\n",
    "       'Total_Amount_of_Payment_USDollars','Date_of_Payment','Number_of_Payments_Included_in_Total_Amount',\n",
    "       'Form_of_Payment_or_Transfer_of_Value','Nature_of_Payment_or_Transfer_of_Value','City_of_Travel',\n",
    "       'State_of_Travel', 'Country_of_Travel','Physician_Ownership_Indicator','Third_Party_Payment_Recipient_Indicator',\n",
    "       'Name_of_Third_Party_Entity_Receiving_Payment_or_Transfer_of_Value','Charity_Indicator','Third_Party_Equals_Covered_Recipient_Indicator',\n",
    "       'Record_ID','Related_Product_Indicator','Covered_or_Noncovered_Indicator_1',\n",
    "       'Indicate_Drug_or_Biological_or_Device_or_Medical_Supply_1',\n",
    "       'Product_Category_or_Therapeutic_Area_1','Name_of_Drug_or_Biological_or_Device_or_Medical_Supply_1',\n",
    "       'Associated_Drug_or_Biological_NDC_1','Covered_or_Noncovered_Indicator_2',\n",
    "       'Indicate_Drug_or_Biological_or_Device_or_Medical_Supply_2',\n",
    "       'Product_Category_or_Therapeutic_Area_2',\n",
    "       'Name_of_Drug_or_Biological_or_Device_or_Medical_Supply_2',\n",
    "       'Associated_Drug_or_Biological_NDC_2',\n",
    "       'Covered_or_Noncovered_Indicator_3',\n",
    "       'Indicate_Drug_or_Biological_or_Device_or_Medical_Supply_3',\n",
    "       'Product_Category_or_Therapeutic_Area_3',\n",
    "       'Name_of_Drug_or_Biological_or_Device_or_Medical_Supply_3',\n",
    "       'Associated_Drug_or_Biological_NDC_3',\n",
    "       'Covered_or_Noncovered_Indicator_4',\n",
    "       'Indicate_Drug_or_Biological_or_Device_or_Medical_Supply_4',\n",
    "       'Product_Category_or_Therapeutic_Area_4',\n",
    "       'Name_of_Drug_or_Biological_or_Device_or_Medical_Supply_4',\n",
    "       'Associated_Drug_or_Biological_NDC_4',\n",
    "       'Covered_or_Noncovered_Indicator_5',\n",
    "       'Indicate_Drug_or_Biological_or_Device_or_Medical_Supply_5',\n",
    "       'Product_Category_or_Therapeutic_Area_5',\n",
    "       'Name_of_Drug_or_Biological_or_Device_or_Medical_Supply_5',\n",
    "       'Associated_Drug_or_Biological_NDC_5','Recipient_Zip_Code']"
   ]
  },
  {
   "cell_type": "code",
   "execution_count": 3,
   "metadata": {},
   "outputs": [],
   "source": [
    "#Load the data\n",
    "sunshine = dd.read_csv('../Data/OP_DTL_GNRL_PGYR2019_P06302021.csv',dtype=str,usecols=cols)"
   ]
  },
  {
   "cell_type": "code",
   "execution_count": 4,
   "metadata": {},
   "outputs": [],
   "source": [
    "# Dealing with missing data for recipient state\n",
    "def licensedCA(row):\n",
    "    if row['Recipient_State']=='CA' or row['Physician_License_State_code1']=='CA' or row['Physician_License_State_code1']=='CA' or row['Physician_License_State_code2']=='CA' or row['Physician_License_State_code3']=='CA' or row['Physician_License_State_code4']=='CA' or row['Physician_License_State_code5']=='CA':\n",
    "        return True\n",
    "    return False\n",
    "\n",
    "sunshine['Licensed_In_CA'] = sunshine.apply(licensedCA,axis=1,meta=str)\n",
    "        "
   ]
  },
  {
   "cell_type": "code",
   "execution_count": 5,
   "metadata": {},
   "outputs": [],
   "source": [
    "#Filter only for california\n",
    "cadf = sunshine[sunshine['Licensed_In_CA']==True]\n",
    "del sunshine"
   ]
  },
  {
   "cell_type": "code",
   "execution_count": 7,
   "metadata": {},
   "outputs": [
    {
     "data": {
      "text/plain": [
       "['D:/CLASSES/DSE203/Final Project/DSE-203-Knowledge-Graph/Data/Outputs_Cleanup/hospitals_payment.csv']"
      ]
     },
     "execution_count": 7,
     "metadata": {},
     "output_type": "execute_result"
    }
   ],
   "source": [
    "%%time\n",
    "# Hospital ID and Payment ID\n",
    "hosp = cadf[cadf['Covered_Recipient_Type']=='Covered Recipient Teaching Hospital'][['Record_ID','Teaching_Hospital_ID']]\n",
    "hosp.to_csv('../Data/Outputs_Cleanup/hospitals_payment.csv',single_file=True,index=False)"
   ]
  },
  {
   "cell_type": "code",
   "execution_count": 8,
   "metadata": {},
   "outputs": [
    {
     "data": {
      "text/plain": [
       "['D:/CLASSES/DSE203/Final Project/DSE-203-Knowledge-Graph/Data/Outputs_Cleanup/hosp_states.csv']"
      ]
     },
     "execution_count": 8,
     "metadata": {},
     "output_type": "execute_result"
    }
   ],
   "source": [
    "%%time\n",
    "# Hospitals and states\n",
    "hosp = cadf[cadf['Covered_Recipient_Type']=='Covered Recipient Teaching Hospital'][['Recipient_State','Teaching_Hospital_ID']]\n",
    "hosp = hosp.drop_duplicates(subset=['Teaching_Hospital_ID'])\n",
    "hosp.to_csv('../Data/Outputs_Cleanup/hosp_states.csv',single_file=True,index=False)"
   ]
  },
  {
   "cell_type": "code",
   "execution_count": 9,
   "metadata": {},
   "outputs": [],
   "source": [
    "%%time\n",
    "# Hospitals' other information\n",
    "hosp = cadf[cadf['Covered_Recipient_Type']=='Covered Recipient Teaching Hospital'][['Teaching_Hospital_CCN','Teaching_Hospital_ID','Teaching_Hospital_Name']]\n",
    "hosp = hosp.drop_duplicates(subset=['Teaching_Hospital_ID'])\n",
    "hosp.to_csv('../Data/Outputs_Cleanup/hosp_info.csv',single_file=True,index=False)\n",
    "del hosp"
   ]
  },
  {
   "cell_type": "code",
   "execution_count": 10,
   "metadata": {},
   "outputs": [
    {
     "data": {
      "text/plain": [
       "['D:/CLASSES/DSE203/Final Project/DSE-203-Knowledge-Graph/Data/Outputs_Cleanup/physicians_payments.csv']"
      ]
     },
     "execution_count": 10,
     "metadata": {},
     "output_type": "execute_result"
    }
   ],
   "source": [
    "%%time\n",
    "# Physician ID and Payment ID\n",
    "physicians = cadf[cadf['Covered_Recipient_Type']=='Covered Recipient Physician'][['Record_ID','Physician_Profile_ID']]\n",
    "physicians.to_csv('../Data/Outputs_Cleanup/physicians_payments.csv',single_file=True,index=False)"
   ]
  },
  {
   "cell_type": "code",
   "execution_count": 12,
   "metadata": {},
   "outputs": [
    {
     "name": "stdout",
     "output_type": "stream",
     "text": [
      "Wall time: 5min 50s\n"
     ]
    },
    {
     "data": {
      "text/plain": [
       "['D:/CLASSES/DSE203/Final Project/DSE-203-Knowledge-Graph/Data/Outputs_Cleanup/physicians_state.csv']"
      ]
     },
     "execution_count": 12,
     "metadata": {},
     "output_type": "execute_result"
    }
   ],
   "source": [
    "%%time\n",
    "# Physicians and states\n",
    "physicians = cadf[cadf['Covered_Recipient_Type']=='Covered Recipient Physician'][['Recipient_State','Physician_Profile_ID']]\n",
    "physicians = physicians.drop_duplicates(subset=['Physician_Profile_ID'])\n",
    "physicians.to_csv('../Data/Outputs_Cleanup/physicians_state.csv',single_file=True,index=False)"
   ]
  },
  {
   "cell_type": "code",
   "execution_count": 13,
   "metadata": {},
   "outputs": [
    {
     "name": "stdout",
     "output_type": "stream",
     "text": [
      "Wall time: 5min 49s\n"
     ]
    }
   ],
   "source": [
    "%%time\n",
    "# Physicians other information\n",
    "physicians = cadf[cadf['Covered_Recipient_Type']=='Covered Recipient Physician'][['Physician_Profile_ID','Physician_First_Name','Physician_Middle_Name','Physician_Last_Name','Physician_Name_Suffix',\n",
    "       'Recipient_State','Physician_Primary_Type','Physician_Specialty','Physician_License_State_code1','Physician_License_State_code2',\n",
    "       'Physician_License_State_code3','Physician_License_State_code4','Physician_License_State_code5','Recipient_Zip_Code']]\n",
    "physicians = physicians.drop_duplicates(subset=['Physician_Profile_ID'])\n",
    "physicians.to_csv('../Data/Outputs_Cleanup/physicians_info.csv',single_file=True,index=False)\n",
    "del physicians"
   ]
  },
  {
   "cell_type": "code",
   "execution_count": 14,
   "metadata": {},
   "outputs": [
    {
     "name": "stdout",
     "output_type": "stream",
     "text": [
      "Wall time: 5min 50s\n"
     ]
    }
   ],
   "source": [
    "%%time\n",
    "# Payment information\n",
    "payments = cadf[['Record_ID','Total_Amount_of_Payment_USDollars','Date_of_Payment','Number_of_Payments_Included_in_Total_Amount',\n",
    "                 'Form_of_Payment_or_Transfer_of_Value','Nature_of_Payment_or_Transfer_of_Value']]\n",
    "payments.to_csv('../Data/Outputs_Cleanup/payments.csv',single_file=True,index=False)\n",
    "del payments"
   ]
  },
  {
   "cell_type": "code",
   "execution_count": 15,
   "metadata": {},
   "outputs": [
    {
     "name": "stdout",
     "output_type": "stream",
     "text": [
      "Wall time: 5min 52s\n"
     ]
    },
    {
     "data": {
      "text/plain": [
       "['D:/CLASSES/DSE203/Final Project/DSE-203-Knowledge-Graph/Data/Outputs_Cleanup/pharmCo_payments.csv']"
      ]
     },
     "execution_count": 15,
     "metadata": {},
     "output_type": "execute_result"
    }
   ],
   "source": [
    "%%time\n",
    "# Pharmco and Record ID\n",
    "pharmCo = cadf[['Record_ID','Applicable_Manufacturer_or_Applicable_GPO_Making_Payment_ID']]\n",
    "pharmCo.to_csv('../Data/Outputs_Cleanup/pharmCo_payments.csv',single_file=True,index=False)"
   ]
  },
  {
   "cell_type": "code",
   "execution_count": 16,
   "metadata": {},
   "outputs": [
    {
     "name": "stdout",
     "output_type": "stream",
     "text": [
      "Wall time: 5min 52s\n"
     ]
    },
    {
     "data": {
      "text/plain": [
       "['D:/CLASSES/DSE203/Final Project/DSE-203-Knowledge-Graph/Data/Outputs_Cleanup/pharmCo_states.csv']"
      ]
     },
     "execution_count": 16,
     "metadata": {},
     "output_type": "execute_result"
    }
   ],
   "source": [
    "%%time\n",
    "# Pharmco and state\n",
    "pharmCo = cadf[['Applicable_Manufacturer_or_Applicable_GPO_Making_Payment_ID','Applicable_Manufacturer_or_Applicable_GPO_Making_Payment_State']]\n",
    "pharmCo.to_csv('../Data/Outputs_Cleanup/pharmCo_states.csv',single_file=True,index=False)"
   ]
  },
  {
   "cell_type": "code",
   "execution_count": 6,
   "metadata": {},
   "outputs": [
    {
     "name": "stdout",
     "output_type": "stream",
     "text": [
      "Wall time: 7min 12s\n"
     ]
    },
    {
     "data": {
      "text/plain": [
       "['D:/CLASSES/DSE203/Final Project/DSE-203-Knowledge-Graph/Data/Outputs_Cleanup/pharmCo_info.csv']"
      ]
     },
     "execution_count": 6,
     "metadata": {},
     "output_type": "execute_result"
    }
   ],
   "source": [
    "%%time\n",
    "# Pharmco other information\n",
    "pharmCo = cadf[['Applicable_Manufacturer_or_Applicable_GPO_Making_Payment_ID','Submitting_Applicable_Manufacturer_or_Applicable_GPO_Name',\n",
    "                'Applicable_Manufacturer_or_Applicable_GPO_Making_Payment_Name','Related_Product_Indicator']]\n",
    "pharmCo.to_csv('../Data/Outputs_Cleanup/pharmCo_info.csv',single_file=True,index=False)"
   ]
  },
  {
   "cell_type": "code",
   "execution_count": 7,
   "metadata": {},
   "outputs": [
    {
     "name": "stdout",
     "output_type": "stream",
     "text": [
      "Wall time: 6min 13s\n"
     ]
    },
    {
     "data": {
      "text/plain": [
       "['D:/CLASSES/DSE203/Final Project/DSE-203-Knowledge-Graph/Data/Outputs_Cleanup/record_drugs.csv']"
      ]
     },
     "execution_count": 7,
     "metadata": {},
     "output_type": "execute_result"
    }
   ],
   "source": [
    "%%time\n",
    "# Pharmco other information\n",
    "pharmCo = cadf[['Record_ID','Covered_or_Noncovered_Indicator_1',\n",
    "                'Indicate_Drug_or_Biological_or_Device_or_Medical_Supply_1','Product_Category_or_Therapeutic_Area_1',\n",
    "                'Name_of_Drug_or_Biological_or_Device_or_Medical_Supply_1','Associated_Drug_or_Biological_NDC_1','Covered_or_Noncovered_Indicator_2',\n",
    "                'Indicate_Drug_or_Biological_or_Device_or_Medical_Supply_2','Product_Category_or_Therapeutic_Area_2',\n",
    "                'Name_of_Drug_or_Biological_or_Device_or_Medical_Supply_2','Associated_Drug_or_Biological_NDC_2',\n",
    "                'Covered_or_Noncovered_Indicator_3','Indicate_Drug_or_Biological_or_Device_or_Medical_Supply_3',\n",
    "                'Product_Category_or_Therapeutic_Area_3','Name_of_Drug_or_Biological_or_Device_or_Medical_Supply_3',\n",
    "                'Associated_Drug_or_Biological_NDC_3','Covered_or_Noncovered_Indicator_4',\n",
    "                'Indicate_Drug_or_Biological_or_Device_or_Medical_Supply_4','Product_Category_or_Therapeutic_Area_4',\n",
    "                'Name_of_Drug_or_Biological_or_Device_or_Medical_Supply_4','Associated_Drug_or_Biological_NDC_4',\n",
    "                'Covered_or_Noncovered_Indicator_5','Indicate_Drug_or_Biological_or_Device_or_Medical_Supply_5',\n",
    "                'Product_Category_or_Therapeutic_Area_5','Name_of_Drug_or_Biological_or_Device_or_Medical_Supply_5',\n",
    "                'Associated_Drug_or_Biological_NDC_5']]\n",
    "pharmCo.to_csv('../Data/Outputs_Cleanup/record_drugs.csv',single_file=True,index=False)"
   ]
  },
  {
   "cell_type": "code",
   "execution_count": null,
   "metadata": {},
   "outputs": [],
   "source": []
  }
 ],
 "metadata": {
  "kernelspec": {
   "display_name": "Python 3",
   "language": "python",
   "name": "python3"
  },
  "language_info": {
   "codemirror_mode": {
    "name": "ipython",
    "version": 3
   },
   "file_extension": ".py",
   "mimetype": "text/x-python",
   "name": "python",
   "nbconvert_exporter": "python",
   "pygments_lexer": "ipython3",
   "version": "3.8.5"
  }
 },
 "nbformat": 4,
 "nbformat_minor": 4
}
