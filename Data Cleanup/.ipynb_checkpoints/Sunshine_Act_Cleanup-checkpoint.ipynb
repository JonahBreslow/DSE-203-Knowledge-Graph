{
 "cells": [
  {
   "cell_type": "code",
   "execution_count": 12,
   "metadata": {},
   "outputs": [],
   "source": [
    "from dask import dataframe as dd"
   ]
  },
  {
   "cell_type": "code",
   "execution_count": 13,
   "metadata": {},
   "outputs": [],
   "source": [
    "cols = ['Covered_Recipient_Type','Teaching_Hospital_CCN','Teaching_Hospital_ID','Teaching_Hospital_Name',\n",
    "       'Physician_Profile_ID','Physician_First_Name','Physician_Middle_Name','Physician_Last_Name','Physician_Name_Suffix',\n",
    "       'Recipient_State','Physician_Primary_Type','Physician_Specialty','Physician_License_State_code1','Physician_License_State_code2',\n",
    "       'Physician_License_State_code3','Physician_License_State_code4','Physician_License_State_code5',\n",
    "       'Submitting_Applicable_Manufacturer_or_Applicable_GPO_Name','Applicable_Manufacturer_or_Applicable_GPO_Making_Payment_ID',\n",
    "       'Applicable_Manufacturer_or_Applicable_GPO_Making_Payment_Name',\n",
    "       'Applicable_Manufacturer_or_Applicable_GPO_Making_Payment_State',\n",
    "       'Total_Amount_of_Payment_USDollars','Date_of_Payment','Number_of_Payments_Included_in_Total_Amount',\n",
    "       'Form_of_Payment_or_Transfer_of_Value','Nature_of_Payment_or_Transfer_of_Value','City_of_Travel',\n",
    "       'State_of_Travel', 'Country_of_Travel','Physician_Ownership_Indicator','Third_Party_Payment_Recipient_Indicator',\n",
    "       'Name_of_Third_Party_Entity_Receiving_Payment_or_Transfer_of_Value','Charity_Indicator','Third_Party_Equals_Covered_Recipient_Indicator',\n",
    "       'Record_ID','Related_Product_Indicator','Covered_or_Noncovered_Indicator_1',\n",
    "       'Indicate_Drug_or_Biological_or_Device_or_Medical_Supply_1',\n",
    "       'Product_Category_or_Therapeutic_Area_1','Name_of_Drug_or_Biological_or_Device_or_Medical_Supply_1',\n",
    "       'Associated_Drug_or_Biological_NDC_1','Covered_or_Noncovered_Indicator_2',\n",
    "       'Indicate_Drug_or_Biological_or_Device_or_Medical_Supply_2',\n",
    "       'Product_Category_or_Therapeutic_Area_2',\n",
    "       'Name_of_Drug_or_Biological_or_Device_or_Medical_Supply_2',\n",
    "       'Associated_Drug_or_Biological_NDC_2',\n",
    "       'Covered_or_Noncovered_Indicator_3',\n",
    "       'Indicate_Drug_or_Biological_or_Device_or_Medical_Supply_3',\n",
    "       'Product_Category_or_Therapeutic_Area_3',\n",
    "       'Name_of_Drug_or_Biological_or_Device_or_Medical_Supply_3',\n",
    "       'Associated_Drug_or_Biological_NDC_3',\n",
    "       'Covered_or_Noncovered_Indicator_4',\n",
    "       'Indicate_Drug_or_Biological_or_Device_or_Medical_Supply_4',\n",
    "       'Product_Category_or_Therapeutic_Area_4',\n",
    "       'Name_of_Drug_or_Biological_or_Device_or_Medical_Supply_4',\n",
    "       'Associated_Drug_or_Biological_NDC_4',\n",
    "       'Covered_or_Noncovered_Indicator_5',\n",
    "       'Indicate_Drug_or_Biological_or_Device_or_Medical_Supply_5',\n",
    "       'Product_Category_or_Therapeutic_Area_5',\n",
    "       'Name_of_Drug_or_Biological_or_Device_or_Medical_Supply_5',\n",
    "       'Associated_Drug_or_Biological_NDC_5','Recipient_Zip_Code']"
   ]
  },
  {
   "cell_type": "code",
   "execution_count": 14,
   "metadata": {},
   "outputs": [],
   "source": [
    "#Load the data\n",
    "sunshine = dd.read_csv('../Data/OP_DTL_GNRL_PGYR2019_P06302021.csv',dtype=str,usecols=cols)"
   ]
  },
  {
   "cell_type": "code",
   "execution_count": 15,
   "metadata": {},
   "outputs": [],
   "source": [
    "# Dealing with missing data for recipient state\n",
    "def licensedCA(row):\n",
    "    if row['Recipient_State']=='CA' or row['Physician_License_State_code1']=='CA' or row['Physician_License_State_code1']=='CA' or row['Physician_License_State_code2']=='CA' or row['Physician_License_State_code3']=='CA' or row['Physician_License_State_code4']=='CA' or row['Physician_License_State_code5']=='CA':\n",
    "        return True\n",
    "    return False\n",
    "\n",
    "sunshine['Licensed_In_CA'] = sunshine.apply(licensedCA,axis=1,meta=str)\n",
    "        "
   ]
  },
  {
   "cell_type": "code",
   "execution_count": 16,
   "metadata": {},
   "outputs": [
    {
     "name": "stdout",
     "output_type": "stream",
     "text": [
      "CPU times: user 3min 49s, sys: 6.56 s, total: 3min 55s\n",
      "Wall time: 3min 26s\n"
     ]
    }
   ],
   "source": [
    "%%time\n",
    "'''\n",
    "1. Filter only for California \n",
    "2. Persisting `cadf` in memory so we don't need to repeat this filtering step every time we \n",
    "   want to create a new output file\n",
    "'''\n",
    "cadf = sunshine[sunshine['Licensed_In_CA']==True]\n",
    "cadf = cadf.persist()\n",
    "del sunshine"
   ]
  },
  {
   "cell_type": "code",
   "execution_count": 17,
   "metadata": {},
   "outputs": [
    {
     "name": "stdout",
     "output_type": "stream",
     "text": [
      "CPU times: user 176 ms, sys: 44.1 ms, total: 220 ms\n",
      "Wall time: 252 ms\n"
     ]
    },
    {
     "data": {
      "text/plain": [
       "['/Users/jonahbreslow/Documents/DSE/2020-jfbreslow/DSE203/DSE-203-Knowledge-Graph/Data Cleanup/../Data/Outputs_Cleanup/Sunshine/hospitals_payment.csv']"
      ]
     },
     "execution_count": 17,
     "metadata": {},
     "output_type": "execute_result"
    }
   ],
   "source": [
    "%%time\n",
    "# Hospital ID and Payment ID\n",
    "hosp = cadf[cadf['Covered_Recipient_Type']=='Covered Recipient Teaching Hospital'][['Record_ID','Teaching_Hospital_ID']]\n",
    "hosp.to_csv('../Data/Outputs_Cleanup/Sunshine/hospitals_payment.csv',single_file=True,index=False)"
   ]
  },
  {
   "cell_type": "code",
   "execution_count": 18,
   "metadata": {},
   "outputs": [
    {
     "name": "stdout",
     "output_type": "stream",
     "text": [
      "CPU times: user 199 ms, sys: 13.5 ms, total: 212 ms\n",
      "Wall time: 206 ms\n"
     ]
    },
    {
     "data": {
      "text/plain": [
       "['/Users/jonahbreslow/Documents/DSE/2020-jfbreslow/DSE203/DSE-203-Knowledge-Graph/Data Cleanup/../Data/Outputs_Cleanup/Sunshine/hosp_states.csv']"
      ]
     },
     "execution_count": 18,
     "metadata": {},
     "output_type": "execute_result"
    }
   ],
   "source": [
    "%%time\n",
    "# Hospitals and states\n",
    "hosp = cadf[cadf['Covered_Recipient_Type']=='Covered Recipient Teaching Hospital'][['Recipient_State','Teaching_Hospital_ID']]\n",
    "hosp = hosp.drop_duplicates(subset=['Teaching_Hospital_ID'])\n",
    "hosp.to_csv('../Data/Outputs_Cleanup/Sunshine/hosp_states.csv',single_file=True,index=False)"
   ]
  },
  {
   "cell_type": "code",
   "execution_count": 19,
   "metadata": {},
   "outputs": [
    {
     "name": "stdout",
     "output_type": "stream",
     "text": [
      "CPU times: user 188 ms, sys: 12.7 ms, total: 201 ms\n",
      "Wall time: 197 ms\n"
     ]
    }
   ],
   "source": [
    "%%time\n",
    "# Hospitals' other information\n",
    "hosp = cadf[cadf['Covered_Recipient_Type']=='Covered Recipient Teaching Hospital'][['Teaching_Hospital_CCN','Teaching_Hospital_ID','Teaching_Hospital_Name']]\n",
    "hosp = hosp.drop_duplicates(subset=['Teaching_Hospital_ID'])\n",
    "hosp.to_csv('../Data/Outputs_Cleanup/Sunshine/hosp_info.csv',single_file=True,index=False)\n",
    "del hosp"
   ]
  },
  {
   "cell_type": "code",
   "execution_count": 20,
   "metadata": {},
   "outputs": [
    {
     "name": "stdout",
     "output_type": "stream",
     "text": [
      "CPU times: user 2.58 s, sys: 139 ms, total: 2.72 s\n",
      "Wall time: 2.72 s\n"
     ]
    },
    {
     "data": {
      "text/plain": [
       "['/Users/jonahbreslow/Documents/DSE/2020-jfbreslow/DSE203/DSE-203-Knowledge-Graph/Data Cleanup/../Data/Outputs_Cleanup/Sunshine/physicians_payments.csv']"
      ]
     },
     "execution_count": 20,
     "metadata": {},
     "output_type": "execute_result"
    }
   ],
   "source": [
    "%%time\n",
    "# Physician ID and Payment ID\n",
    "physicians = cadf[cadf['Covered_Recipient_Type']=='Covered Recipient Physician'][['Record_ID','Physician_Profile_ID']]\n",
    "physicians.to_csv('../Data/Outputs_Cleanup/Sunshine/physicians_payments.csv',single_file=True,index=False)"
   ]
  },
  {
   "cell_type": "code",
   "execution_count": 21,
   "metadata": {},
   "outputs": [
    {
     "name": "stdout",
     "output_type": "stream",
     "text": [
      "CPU times: user 1.55 s, sys: 49.7 ms, total: 1.6 s\n",
      "Wall time: 1.46 s\n"
     ]
    },
    {
     "data": {
      "text/plain": [
       "['/Users/jonahbreslow/Documents/DSE/2020-jfbreslow/DSE203/DSE-203-Knowledge-Graph/Data Cleanup/../Data/Outputs_Cleanup/Sunshine/physicians_state.csv']"
      ]
     },
     "execution_count": 21,
     "metadata": {},
     "output_type": "execute_result"
    }
   ],
   "source": [
    "%%time\n",
    "# Physicians and states\n",
    "physicians = cadf[cadf['Covered_Recipient_Type']=='Covered Recipient Physician'][['Recipient_State','Physician_Profile_ID']]\n",
    "physicians = physicians.drop_duplicates(subset=['Physician_Profile_ID'])\n",
    "physicians.to_csv('../Data/Outputs_Cleanup/Sunshine/physicians_state.csv',single_file=True,index=False)"
   ]
  },
  {
   "cell_type": "code",
   "execution_count": 22,
   "metadata": {},
   "outputs": [
    {
     "name": "stdout",
     "output_type": "stream",
     "text": [
      "CPU times: user 2.16 s, sys: 62.9 ms, total: 2.22 s\n",
      "Wall time: 2.08 s\n"
     ]
    }
   ],
   "source": [
    "%%time\n",
    "# Physicians other information\n",
    "physicians = cadf[cadf['Covered_Recipient_Type']=='Covered Recipient Physician'][['Physician_Profile_ID','Physician_First_Name','Physician_Middle_Name','Physician_Last_Name','Physician_Name_Suffix',\n",
    "       'Recipient_State','Physician_Primary_Type','Physician_Specialty','Physician_License_State_code1','Physician_License_State_code2',\n",
    "       'Physician_License_State_code3','Physician_License_State_code4','Physician_License_State_code5','Recipient_Zip_Code']]\n",
    "physicians = physicians.drop_duplicates(subset=['Physician_Profile_ID'])\n",
    "physicians.to_csv('../Data/Outputs_Cleanup/Sunshine/physicians_info.csv',single_file=True,index=False)\n",
    "del physicians"
   ]
  },
  {
   "cell_type": "code",
   "execution_count": 23,
   "metadata": {},
   "outputs": [
    {
     "name": "stdout",
     "output_type": "stream",
     "text": [
      "CPU times: user 3.12 s, sys: 90.4 ms, total: 3.21 s\n",
      "Wall time: 3.21 s\n"
     ]
    }
   ],
   "source": [
    "%%time\n",
    "# Payment information\n",
    "payments = cadf[['Record_ID','Total_Amount_of_Payment_USDollars','Date_of_Payment','Number_of_Payments_Included_in_Total_Amount',\n",
    "                 'Form_of_Payment_or_Transfer_of_Value','Nature_of_Payment_or_Transfer_of_Value']]\n",
    "payments.to_csv('../Data/Outputs_Cleanup/Sunshine/payments.csv',single_file=True,index=False)\n",
    "del payments"
   ]
  },
  {
   "cell_type": "code",
   "execution_count": 24,
   "metadata": {},
   "outputs": [
    {
     "name": "stdout",
     "output_type": "stream",
     "text": [
      "CPU times: user 1.7 s, sys: 47.8 ms, total: 1.75 s\n",
      "Wall time: 1.77 s\n"
     ]
    },
    {
     "data": {
      "text/plain": [
       "['/Users/jonahbreslow/Documents/DSE/2020-jfbreslow/DSE203/DSE-203-Knowledge-Graph/Data Cleanup/../Data/Outputs_Cleanup/Sunshine/pharmCo_payments.csv']"
      ]
     },
     "execution_count": 24,
     "metadata": {},
     "output_type": "execute_result"
    }
   ],
   "source": [
    "%%time\n",
    "# Pharmco and Record ID\n",
    "pharmCo = cadf[['Record_ID','Applicable_Manufacturer_or_Applicable_GPO_Making_Payment_ID']]\n",
    "pharmCo.to_csv('../Data/Outputs_Cleanup/Sunshine/pharmCo_payments.csv',single_file=True,index=False)"
   ]
  },
  {
   "cell_type": "code",
   "execution_count": 25,
   "metadata": {},
   "outputs": [
    {
     "name": "stdout",
     "output_type": "stream",
     "text": [
      "CPU times: user 1.5 s, sys: 33.6 ms, total: 1.53 s\n",
      "Wall time: 1.52 s\n"
     ]
    },
    {
     "data": {
      "text/plain": [
       "['/Users/jonahbreslow/Documents/DSE/2020-jfbreslow/DSE203/DSE-203-Knowledge-Graph/Data Cleanup/../Data/Outputs_Cleanup/Sunshine/pharmCo_states.csv']"
      ]
     },
     "execution_count": 25,
     "metadata": {},
     "output_type": "execute_result"
    }
   ],
   "source": [
    "%%time\n",
    "# Pharmco and state\n",
    "pharmCo = cadf[['Applicable_Manufacturer_or_Applicable_GPO_Making_Payment_ID','Applicable_Manufacturer_or_Applicable_GPO_Making_Payment_State']]\n",
    "pharmCo.to_csv('../Data/Outputs_Cleanup/Sunshine/pharmCo_states.csv',single_file=True,index=False)"
   ]
  },
  {
   "cell_type": "code",
   "execution_count": 26,
   "metadata": {},
   "outputs": [
    {
     "name": "stdout",
     "output_type": "stream",
     "text": [
      "CPU times: user 2.66 s, sys: 88.1 ms, total: 2.75 s\n",
      "Wall time: 2.78 s\n"
     ]
    },
    {
     "data": {
      "text/plain": [
       "['/Users/jonahbreslow/Documents/DSE/2020-jfbreslow/DSE203/DSE-203-Knowledge-Graph/Data Cleanup/../Data/Outputs_Cleanup/Sunshine/pharmCo_info.csv']"
      ]
     },
     "execution_count": 26,
     "metadata": {},
     "output_type": "execute_result"
    }
   ],
   "source": [
    "%%time\n",
    "# Pharmco other information\n",
    "pharmCo = cadf[['Applicable_Manufacturer_or_Applicable_GPO_Making_Payment_ID','Submitting_Applicable_Manufacturer_or_Applicable_GPO_Name',\n",
    "                'Applicable_Manufacturer_or_Applicable_GPO_Making_Payment_Name','Related_Product_Indicator']]\n",
    "pharmCo.to_csv('../Data/Outputs_Cleanup/Sunshine/pharmCo_info.csv',single_file=True,index=False)"
   ]
  },
  {
   "cell_type": "code",
   "execution_count": null,
   "metadata": {},
   "outputs": [],
   "source": [
    "%%time\n",
    "# Pharmco other information\n",
    "pharmCo = cadf[['Record_ID','Covered_or_Noncovered_Indicator_1',\n",
    "                'Indicate_Drug_or_Biological_or_Device_or_Medical_Supply_1','Product_Category_or_Therapeutic_Area_1',\n",
    "                'Name_of_Drug_or_Biological_or_Device_or_Medical_Supply_1','Associated_Drug_or_Biological_NDC_1','Covered_or_Noncovered_Indicator_2',\n",
    "                'Indicate_Drug_or_Biological_or_Device_or_Medical_Supply_2','Product_Category_or_Therapeutic_Area_2',\n",
    "                'Name_of_Drug_or_Biological_or_Device_or_Medical_Supply_2','Associated_Drug_or_Biological_NDC_2',\n",
    "                'Covered_or_Noncovered_Indicator_3','Indicate_Drug_or_Biological_or_Device_or_Medical_Supply_3',\n",
    "                'Product_Category_or_Therapeutic_Area_3','Name_of_Drug_or_Biological_or_Device_or_Medical_Supply_3',\n",
    "                'Associated_Drug_or_Biological_NDC_3','Covered_or_Noncovered_Indicator_4',\n",
    "                'Indicate_Drug_or_Biological_or_Device_or_Medical_Supply_4','Product_Category_or_Therapeutic_Area_4',\n",
    "                'Name_of_Drug_or_Biological_or_Device_or_Medical_Supply_4','Associated_Drug_or_Biological_NDC_4',\n",
    "                'Covered_or_Noncovered_Indicator_5','Indicate_Drug_or_Biological_or_Device_or_Medical_Supply_5',\n",
    "                'Product_Category_or_Therapeutic_Area_5','Name_of_Drug_or_Biological_or_Device_or_Medical_Supply_5',\n",
    "                'Associated_Drug_or_Biological_NDC_5']]\n",
    "pharmCo.to_csv('../Data/Outputs_Cleanup/Sunshine/record_drugs.csv',single_file=True,index=False)"
   ]
  },
  {
   "cell_type": "code",
   "execution_count": null,
   "metadata": {},
   "outputs": [],
   "source": []
  },
  {
   "cell_type": "code",
   "execution_count": null,
   "metadata": {},
   "outputs": [],
   "source": []
  }
 ],
 "metadata": {
  "kernelspec": {
   "display_name": "Python 3 (ipykernel)",
   "language": "python",
   "name": "python3"
  },
  "language_info": {
   "codemirror_mode": {
    "name": "ipython",
    "version": 3
   },
   "file_extension": ".py",
   "mimetype": "text/x-python",
   "name": "python",
   "nbconvert_exporter": "python",
   "pygments_lexer": "ipython3",
   "version": "3.8.5"
  }
 },
 "nbformat": 4,
 "nbformat_minor": 4
}
