{
 "cells": [
  {
   "cell_type": "markdown",
   "id": "bdbc2897-402b-419b-850b-cf8555cc67df",
   "metadata": {},
   "source": [
    "# Data Integration\n",
    " Purpose: This Notebook Takes all the matched entities from Drugs, Manufacturer, and Physician entity resolutions and creates the tables to be loaded into Neo4j\n",
    " \n",
    "## Importing dependencies"
   ]
  },
  {
   "cell_type": "code",
   "execution_count": 343,
   "id": "7adf1b0b-e791-4d77-8033-79911d1fc454",
   "metadata": {},
   "outputs": [],
   "source": [
    "import pandas as pd\n",
    "import numpy as np\n",
    "import pickle"
   ]
  },
  {
   "cell_type": "markdown",
   "id": "fe7e7e2f-c7ce-4070-8d85-d65637fb3229",
   "metadata": {},
   "source": [
    "## Importing Entity Resolution Lookup tables\n",
    "### Manufacturer Node"
   ]
  },
  {
   "cell_type": "code",
   "execution_count": 484,
   "id": "3529896e-f923-459d-9da7-ba9687deee28",
   "metadata": {},
   "outputs": [
    {
     "data": {
      "text/html": [
       "<div>\n",
       "<style scoped>\n",
       "    .dataframe tbody tr th:only-of-type {\n",
       "        vertical-align: middle;\n",
       "    }\n",
       "\n",
       "    .dataframe tbody tr th {\n",
       "        vertical-align: top;\n",
       "    }\n",
       "\n",
       "    .dataframe thead th {\n",
       "        text-align: right;\n",
       "    }\n",
       "</style>\n",
       "<table border=\"1\" class=\"dataframe\">\n",
       "  <thead>\n",
       "    <tr style=\"text-align: right;\">\n",
       "      <th></th>\n",
       "      <th>manuf_id</th>\n",
       "      <th>manufacturer_name</th>\n",
       "      <th>fda_manuf_id</th>\n",
       "      <th>Applicable_Manufacturer_or_Applicable_GPO_Making_Payment_ID</th>\n",
       "    </tr>\n",
       "  </thead>\n",
       "  <tbody>\n",
       "    <tr>\n",
       "      <th>0</th>\n",
       "      <td>0</td>\n",
       "      <td>LANTHEUS MEDICAL IMAGING INC</td>\n",
       "      <td>20843</td>\n",
       "      <td>100000005400.0</td>\n",
       "    </tr>\n",
       "    <tr>\n",
       "      <th>1</th>\n",
       "      <td>1</td>\n",
       "      <td>SEBELA PHARMACEUTICALS INC</td>\n",
       "      <td>2940</td>\n",
       "      <td>100000066371.0</td>\n",
       "    </tr>\n",
       "    <tr>\n",
       "      <th>2</th>\n",
       "      <td>2</td>\n",
       "      <td>BRAINTREE LABORATORIES INC</td>\n",
       "      <td>31992</td>\n",
       "      <td>100000000153.0</td>\n",
       "    </tr>\n",
       "    <tr>\n",
       "      <th>3</th>\n",
       "      <td>3</td>\n",
       "      <td>BIODELIVERY SCIENCES INTERNATIONAL INC</td>\n",
       "      <td>18033</td>\n",
       "      <td>100000061387.0</td>\n",
       "    </tr>\n",
       "    <tr>\n",
       "      <th>4</th>\n",
       "      <td>4</td>\n",
       "      <td>CHIESI USA INC</td>\n",
       "      <td>212</td>\n",
       "      <td>100000010860.0</td>\n",
       "    </tr>\n",
       "    <tr>\n",
       "      <th>...</th>\n",
       "      <td>...</td>\n",
       "      <td>...</td>\n",
       "      <td>...</td>\n",
       "      <td>...</td>\n",
       "    </tr>\n",
       "    <tr>\n",
       "      <th>10642</th>\n",
       "      <td>10642</td>\n",
       "      <td>LABORIE MEDICAL TECHNOLOGIES CORP</td>\n",
       "      <td>NaN</td>\n",
       "      <td>100000136464.0</td>\n",
       "    </tr>\n",
       "    <tr>\n",
       "      <th>10643</th>\n",
       "      <td>10643</td>\n",
       "      <td>ERBE ELEKTROMEDIZIN GMBH</td>\n",
       "      <td>NaN</td>\n",
       "      <td>100000806830.0</td>\n",
       "    </tr>\n",
       "    <tr>\n",
       "      <th>10644</th>\n",
       "      <td>10644</td>\n",
       "      <td>IPSEN PHARMA SAS</td>\n",
       "      <td>NaN</td>\n",
       "      <td>100000010667.0</td>\n",
       "    </tr>\n",
       "    <tr>\n",
       "      <th>10645</th>\n",
       "      <td>10645</td>\n",
       "      <td>MEDTEC INC</td>\n",
       "      <td>NaN</td>\n",
       "      <td>100000011192.0</td>\n",
       "    </tr>\n",
       "    <tr>\n",
       "      <th>10646</th>\n",
       "      <td>10646</td>\n",
       "      <td>HT MEDICAL LLC</td>\n",
       "      <td>NaN</td>\n",
       "      <td>100000216782.0</td>\n",
       "    </tr>\n",
       "  </tbody>\n",
       "</table>\n",
       "<p>11754 rows × 4 columns</p>\n",
       "</div>"
      ],
      "text/plain": [
       "       manuf_id                       manufacturer_name fda_manuf_id  \\\n",
       "0             0            LANTHEUS MEDICAL IMAGING INC        20843   \n",
       "1             1              SEBELA PHARMACEUTICALS INC         2940   \n",
       "2             2              BRAINTREE LABORATORIES INC        31992   \n",
       "3             3  BIODELIVERY SCIENCES INTERNATIONAL INC        18033   \n",
       "4             4                          CHIESI USA INC          212   \n",
       "...         ...                                     ...          ...   \n",
       "10642     10642       LABORIE MEDICAL TECHNOLOGIES CORP          NaN   \n",
       "10643     10643                ERBE ELEKTROMEDIZIN GMBH          NaN   \n",
       "10644     10644                        IPSEN PHARMA SAS          NaN   \n",
       "10645     10645                              MEDTEC INC          NaN   \n",
       "10646     10646                          HT MEDICAL LLC          NaN   \n",
       "\n",
       "      Applicable_Manufacturer_or_Applicable_GPO_Making_Payment_ID  \n",
       "0                                         100000005400.0           \n",
       "1                                         100000066371.0           \n",
       "2                                         100000000153.0           \n",
       "3                                         100000061387.0           \n",
       "4                                         100000010860.0           \n",
       "...                                                  ...           \n",
       "10642                                     100000136464.0           \n",
       "10643                                     100000806830.0           \n",
       "10644                                     100000010667.0           \n",
       "10645                                     100000011192.0           \n",
       "10646                                     100000216782.0           \n",
       "\n",
       "[11754 rows x 4 columns]"
      ]
     },
     "execution_count": 484,
     "metadata": {},
     "output_type": "execute_result"
    }
   ],
   "source": [
    "# manuf_lookup = pd.read_csv('../Data/Outputs_Cleanup/Manufacturer_entity_matching/Manufacturer_Matching_lookup.csv')\n",
    "manuf_lookup = pickle.load(open('../Data/Outputs_Cleanup/Manufacturer_entity_matching/Manufacturer_Matching_lookup.p','rb'))\n",
    "manuf_lookup[['manuf_id','manufacturer_name']].to_csv('../Nodes/Manufacturer.csv')\n",
    "manuf_lookup.explode('fda_manuf_id')"
   ]
  },
  {
   "cell_type": "markdown",
   "id": "7cdbbffe-c7fe-4787-8282-264469665af7",
   "metadata": {},
   "source": [
    "### Drug Node"
   ]
  },
  {
   "cell_type": "code",
   "execution_count": 485,
   "id": "30446394-61f0-4d57-b7ba-20f4373ff81f",
   "metadata": {},
   "outputs": [],
   "source": [
    "def string_to_ordered_list (x):\n",
    "    '''\n",
    "    Function that takes a string that looks like a list, and converts it to an ordered list\n",
    "    '''\n",
    "    ordered_list = None\n",
    "    try: \n",
    "        str_list = str(x).replace('[','').replace(']','').replace(' ','').replace(\"'\",'').split(',')\n",
    "        str_list = list(map(int,str_list))\n",
    "        str_set = set(str_list)\n",
    "        ordered_list = sorted(list(str_set))\n",
    "    except:\n",
    "        ordered_list = np.NaN\n",
    "    \n",
    "    \n",
    "    return ordered_list"
   ]
  },
  {
   "cell_type": "code",
   "execution_count": 486,
   "id": "2bf34735-a538-4b8a-985d-c5a2bc207504",
   "metadata": {},
   "outputs": [],
   "source": [
    "## Importing drug matching output\n",
    "drug_node = pd.read_csv('../Data/Outputs_Cleanup/Sunshine_dedupe_drug_integration/final_drug_lookup.csv')\n",
    "## Importing drug information from the deduped FDA data\n",
    "openfda_drug_dedupe = pickle.load(open( \"../Data/Outputs_Cleanup/FDA/Openfda_Drug_deduplicated.p\", \"rb\" ))\n",
    "\n",
    "## Sorting the fda_drug_id list column so that when we convert to a string, it will \n",
    "## match the fda_drug_id list column in the drug_node dataframe\n",
    "openfda_drug_dedupe = openfda_drug_dedupe.applymap(set).applymap(list)\n",
    "openfda_drug_dedupe.fda_drug_id = openfda_drug_dedupe.fda_drug_id.apply(sorted)\n",
    "\n",
    "## converting the fda_drug_id string column into a sorted list column\n",
    "drug_node['fda_drug_id'] = drug_node.fda_drug_id.apply(string_to_ordered_list)\n",
    "\n",
    "## converting fda_drug_id columns in drug_node df and openfda_drug_dedupe df \n",
    "## to string from list for merging\n",
    "drug_node['fda_drug_id'] = drug_node['fda_drug_id'].astype(str)\n",
    "openfda_drug_dedupe['fda_drug_id'] = openfda_drug_dedupe['fda_drug_id'].astype(str)\n",
    "drug_node = drug_node.merge(openfda_drug_dedupe,'left','fda_drug_id')\n",
    "\n",
    "## Dropping id's into other datasources\n",
    "drug_node_output = drug_node.drop(columns = ['fda_drug_id','MedD_drug_Id','sunshine_drug_id','manufacturer_name'])\n",
    "drug_node_output.to_csv('../Nodes/Drug_Node.csv')"
   ]
  },
  {
   "cell_type": "markdown",
   "id": "5a0773b2-f522-4de2-b0af-a8057c002a9a",
   "metadata": {},
   "source": [
    "## Starting with the Sunshine Data\n",
    "### Hospital Node"
   ]
  },
  {
   "cell_type": "code",
   "execution_count": 430,
   "id": "516fd314-7ef6-46b8-9f7e-976d915d6705",
   "metadata": {},
   "outputs": [],
   "source": [
    "hospital_node = pd.read_csv('../Data/Outputs_Cleanup/Sunshine/hosp_info.csv')\n",
    "hospital_node.to_csv('../Nodes/Hospital_Node.csv')"
   ]
  },
  {
   "cell_type": "markdown",
   "id": "e17b4b37-0b5e-4efc-a782-97119df7b95c",
   "metadata": {},
   "source": [
    "### Payments Node"
   ]
  },
  {
   "cell_type": "code",
   "execution_count": 489,
   "id": "8d407349-8fa9-49dc-acfa-407efb69d629",
   "metadata": {},
   "outputs": [],
   "source": [
    "payments_node = pd.read_csv('../Data/Outputs_Cleanup/Sunshine/payments.csv')\n",
    "payments_node.to_csv('../Nodes/Payments_Node.csv')\n",
    "# payments_node"
   ]
  },
  {
   "cell_type": "markdown",
   "id": "559ef4f0-7034-40f4-889c-a9356b1bbb4a",
   "metadata": {},
   "source": [
    "### Manufacturer-Payments Edge"
   ]
  },
  {
   "cell_type": "code",
   "execution_count": 432,
   "id": "e2f6e93c-38c1-412f-a065-4859332e3e2b",
   "metadata": {},
   "outputs": [],
   "source": [
    "manuf_payments_edge = pd.read_csv('../Data/Outputs_Cleanup/Sunshine/pharmCo_payments.csv')\n",
    "manuf_payments_edge = manuf_payments_edge.merge(manuf_lookup,'left','Applicable_Manufacturer_or_Applicable_GPO_Making_Payment_ID')\n",
    "manuf_payments_edge = manuf_payments_edge[['Record_ID','manuf_id']]\n",
    "manuf_payments_edge.to_csv('../Edges/Manufacturer_Payment_Edge.csv')"
   ]
  },
  {
   "cell_type": "markdown",
   "id": "9709889e-a69e-4dda-8b4c-1ed1acd9b5ac",
   "metadata": {},
   "source": [
    "### Payment-Drug Edge"
   ]
  },
  {
   "cell_type": "code",
   "execution_count": 478,
   "id": "00b26c6d-53e7-4431-b1a1-e4c4a0e6651b",
   "metadata": {},
   "outputs": [],
   "source": [
    "payment_drug_edge = pd.read_csv('../Data/Outputs_Cleanup/Sunshine/record_drugs.csv')\n",
    "cols = ['Record_ID','Name_of_Drug_or_Biological_or_Device_or_Medical_Supply_1',\n",
    "        'Name_of_Drug_or_Biological_or_Device_or_Medical_Supply_2',\n",
    "        'Name_of_Drug_or_Biological_or_Device_or_Medical_Supply_3',\n",
    "        'Name_of_Drug_or_Biological_or_Device_or_Medical_Supply_4',\n",
    "        'Name_of_Drug_or_Biological_or_Device_or_Medical_Supply_5'\n",
    "       ]\n",
    "payment_drug_edge = payment_drug_edge[cols].melt(id_vars = 'Record_ID')\n",
    "payment_drug_edge.dropna(inplace=True)\n",
    "payment_drug_edge = payment_drug_edge[['Record_ID','value']]\n",
    "payment_drug_edge.columns = ['Record_ID','sunshine_drug_id']\n",
    "drug_node[['drug_id','sunshine_drug_id']].dropna()\n",
    "payment_drug_edge = payment_drug_edge.merge(drug_node[['drug_id','sunshine_drug_id']].dropna(),\n",
    "                                           'left',\n",
    "                                           'sunshine_drug_id')\n",
    "payment_drug_edge = payment_drug_edge[~payment_drug_edge.drug_id.isna()][['Record_ID','drug_id']]\n",
    "\n",
    "payment_drug_edge.drug_id= payment_drug_edge.drug_id.astype(int)\n",
    "payment_drug_edge.to_csv('../Edges/Payment_Drug_Edge.csv')"
   ]
  },
  {
   "cell_type": "markdown",
   "id": "e8cb7cb0-d8b3-4fd0-ba40-3450dc09434b",
   "metadata": {},
   "source": [
    "### Manufacturer-Drug edge"
   ]
  },
  {
   "cell_type": "code",
   "execution_count": 454,
   "id": "b2618127-bf1b-4649-b058-58067012ce09",
   "metadata": {},
   "outputs": [],
   "source": [
    "openfda_manuf_dedupe = pickle.load(open( \"../Data/Outputs_Cleanup/FDA/openfda_manufacturer_deduplicated_single_manuf.p\", \"rb\" ))\n",
    "\n",
    "manuf_drug_edge = drug_node[['drug_id','manufacturer_name']]\n",
    "manuf_drug_edge = manuf_drug_edge.explode('manufacturer_name')\n",
    "manuf_drug_edge.dropna(inplace=True)\n",
    "manuf_drug_edge = manuf_drug_edge.merge(openfda_manuf_dedupe.explode('manuf_names'),'left',left_on='manufacturer_name',right_on='manuf_names')\n",
    "# manuf_drug_edge\n",
    "# manuf_lookup\n",
    "manuf_drug_edge = manuf_drug_edge[['drug_id','fda_manuf_id','manufacturer_name_y']].explode('fda_manuf_id')\n",
    "manuf_drug_edge = manuf_drug_edge.drop_duplicates(['drug_id','manufacturer_name_y'])[['drug_id','fda_manuf_id']]\n",
    "manuf_drug_edge['fda_manuf_id'] = manuf_drug_edge['fda_manuf_id'].astype(str)\n",
    "manuf_drug_edge = manuf_drug_edge.merge(manuf_lookup.explode('fda_manuf_id'),'left','fda_manuf_id')\n",
    "manuf_drug_edge = manuf_drug_edge[['drug_id','manuf_id']]\n",
    "manuf_drug_edge.to_csv('../Edges/Manufacturer_Drug_Edge.csv')"
   ]
  },
  {
   "cell_type": "markdown",
   "id": "8f7e155e-7534-4bc7-a152-66c95374f123",
   "metadata": {},
   "source": [
    "### Prescription Node"
   ]
  },
  {
   "cell_type": "code",
   "execution_count": null,
   "id": "a84fd7bb-9a2e-424e-b11f-c049ebe2fbac",
   "metadata": {},
   "outputs": [],
   "source": []
  },
  {
   "cell_type": "code",
   "execution_count": null,
   "id": "e389921b-1ce8-4cde-ac5a-250067fda999",
   "metadata": {},
   "outputs": [],
   "source": []
  }
 ],
 "metadata": {
  "kernelspec": {
   "display_name": "Python 3 (ipykernel)",
   "language": "python",
   "name": "python3"
  },
  "language_info": {
   "codemirror_mode": {
    "name": "ipython",
    "version": 3
   },
   "file_extension": ".py",
   "mimetype": "text/x-python",
   "name": "python",
   "nbconvert_exporter": "python",
   "pygments_lexer": "ipython3",
   "version": "3.8.5"
  }
 },
 "nbformat": 4,
 "nbformat_minor": 5
}
