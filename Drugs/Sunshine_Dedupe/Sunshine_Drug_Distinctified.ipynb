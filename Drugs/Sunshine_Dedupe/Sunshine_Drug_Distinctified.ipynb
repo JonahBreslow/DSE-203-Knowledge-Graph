{
 "cells": [
  {
   "cell_type": "markdown",
   "id": "4b64fdd0-f932-4730-a0f3-b9b1089cc11d",
   "metadata": {},
   "source": [
    "# Dedupe Preparation\n",
    "Description: Convert Medicare Part D into a dedupe input by obtaining unique values from Medicare Part D, \n",
    "and assigning an Id column to the resulting dataframe.\n",
    "\n",
    "INPUT: drug_information.csv (From Medicare Part D 2019)\n",
    "\n",
    "OUTPUT: dataID.csv"
   ]
  },
  {
   "cell_type": "code",
   "execution_count": 1,
   "id": "90185859-3f4c-48ae-b903-d10b9f6733bd",
   "metadata": {},
   "outputs": [],
   "source": [
    "import pandas as pd"
   ]
  },
  {
   "cell_type": "code",
   "execution_count": 2,
   "id": "b0dbd085-61e9-459a-bcbd-5c3457559c12",
   "metadata": {},
   "outputs": [
    {
     "name": "stderr",
     "output_type": "stream",
     "text": [
      "/opt/anaconda3/lib/python3.8/site-packages/IPython/core/interactiveshell.py:3165: DtypeWarning: Columns (22,23,24,25) have mixed types.Specify dtype option on import or set low_memory=False.\n",
      "  has_raised = await self.run_ast_nodes(code_ast.body, cell_name,\n"
     ]
    }
   ],
   "source": [
    "file = 'record_drugs.csv'\n",
    "df = pd.read_csv(file)\n"
   ]
  },
  {
   "cell_type": "code",
   "execution_count": 25,
   "id": "077682ec-f3ad-4395-92ad-71b257f1e892",
   "metadata": {},
   "outputs": [],
   "source": [
    "#print(df.columns)\n",
    "#df.head()"
   ]
  },
  {
   "cell_type": "code",
   "execution_count": 24,
   "id": "08eb832f-9b80-40e3-b807-5c95a35727b0",
   "metadata": {},
   "outputs": [
    {
     "name": "stderr",
     "output_type": "stream",
     "text": [
      "<ipython-input-24-22d44239a4b2>:15: SettingWithCopyWarning: \n",
      "A value is trying to be set on a copy of a slice from a DataFrame.\n",
      "Try using .loc[row_indexer,col_indexer] = value instead\n",
      "\n",
      "See the caveats in the documentation: https://pandas.pydata.org/pandas-docs/stable/user_guide/indexing.html#returning-a-view-versus-a-copy\n",
      "  df_indicator['drug_' + str(each + 1)] = df_indicator['Name_of_Drug_or_Biological_or_Device_or_Medical_Supply_' + str(each + 1)] + \"#\" +  df_indicator['Indicate_Drug_or_Biological_or_Device_or_Medical_Supply_' + str(each + 1)]\n"
     ]
    }
   ],
   "source": [
    "df_indicator = df[[\n",
    "    'Indicate_Drug_or_Biological_or_Device_or_Medical_Supply_1',\n",
    "    'Indicate_Drug_or_Biological_or_Device_or_Medical_Supply_2',\n",
    "    'Indicate_Drug_or_Biological_or_Device_or_Medical_Supply_3',\n",
    "    'Indicate_Drug_or_Biological_or_Device_or_Medical_Supply_4',\n",
    "    'Indicate_Drug_or_Biological_or_Device_or_Medical_Supply_5',\n",
    "    'Name_of_Drug_or_Biological_or_Device_or_Medical_Supply_1',\n",
    "    'Name_of_Drug_or_Biological_or_Device_or_Medical_Supply_2',\n",
    "    'Name_of_Drug_or_Biological_or_Device_or_Medical_Supply_3',\n",
    "    'Name_of_Drug_or_Biological_or_Device_or_Medical_Supply_4',\n",
    "    'Name_of_Drug_or_Biological_or_Device_or_Medical_Supply_5'\n",
    "]]\n",
    "\n",
    "for each in range(5):\n",
    "    df_indicator['drug_' + str(each + 1)] = df_indicator['Name_of_Drug_or_Biological_or_Device_or_Medical_Supply_' + str(each + 1)] + \"#\" +  df_indicator['Indicate_Drug_or_Biological_or_Device_or_Medical_Supply_' + str(each + 1)]\n",
    "\n",
    "df_indicator = df_indicator[['drug_1', 'drug_2', 'drug_3', 'drug_4', 'drug_5',]]\n",
    "df_melted = df_indicator.melt(id_vars=None, value_vars=[df_indicator.columns])\n",
    "df_melted.dropna(inplace=True)\n",
    "df_melted = df_melted['value'].str.split('#', expand=True)\n",
    "df_melted.drop_duplicates(inplace=True)\n",
    "df_melted.columns = ['Name', 'Indicator']\n",
    "df_melted = df_melted[df_melted.Indicator != 'DEVICE']\n",
    "df_melted.to_csv('sunshine_drugs.csv')"
   ]
  }
 ],
 "metadata": {
  "kernelspec": {
   "display_name": "Python 3",
   "language": "python",
   "name": "python3"
  },
  "language_info": {
   "codemirror_mode": {
    "name": "ipython",
    "version": 3
   },
   "file_extension": ".py",
   "mimetype": "text/x-python",
   "name": "python",
   "nbconvert_exporter": "python",
   "pygments_lexer": "ipython3",
   "version": "3.8.8"
  }
 },
 "nbformat": 4,
 "nbformat_minor": 5
}
