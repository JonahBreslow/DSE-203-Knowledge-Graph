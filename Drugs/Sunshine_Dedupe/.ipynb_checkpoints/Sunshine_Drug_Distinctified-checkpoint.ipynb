{
 "cells": [
  {
   "cell_type": "markdown",
   "id": "480e97b6",
   "metadata": {},
   "source": [
    "# Sunshine Act Drug Deduplication\n",
    "## Authors: \n",
    "    1. Lam Ho\n",
    "    2. Jonah Breslow\n",
    "    3. Jeffrey Kagan\n",
    "## Purpose:\n",
    "The purpose of this notebook is to deduplicate the drug node data from the Sunshine Act data.\n",
    "\n",
    "### Importing modules"
   ]
  },
  {
   "cell_type": "code",
   "execution_count": 1,
   "id": "5c713e01",
   "metadata": {},
   "outputs": [],
   "source": [
    "import pandas as pd\n",
    "import pickle"
   ]
  },
  {
   "cell_type": "markdown",
   "id": "4debe54b-8563-47bf-a9e6-16314ae56810",
   "metadata": {},
   "source": [
    "### Importing the Sunshine Act drug data"
   ]
  },
  {
   "cell_type": "code",
   "execution_count": 2,
   "id": "37804f80",
   "metadata": {},
   "outputs": [
    {
     "name": "stderr",
     "output_type": "stream",
     "text": [
      "C:\\Users\\10294029\\Anaconda3\\lib\\site-packages\\IPython\\core\\interactiveshell.py:3437: DtypeWarning: Columns (17,18,19,20,22,23,24,25) have mixed types.Specify dtype option on import or set low_memory=False.\n",
      "  exec(code_obj, self.user_global_ns, self.user_ns)\n"
     ]
    }
   ],
   "source": [
    "file = '../../Data/Outputs_Cleanup/Sunshine/record_drugs.csv'\n",
    "df = pd.read_csv(file)\n"
   ]
  },
  {
   "cell_type": "markdown",
   "id": "902caded-b68d-43e9-8165-a4b45b110ad4",
   "metadata": {},
   "source": [
    "### Reshaping the Sunshine Drug Data for Deduplication then Exporting"
   ]
  },
  {
   "cell_type": "code",
   "execution_count": 3,
   "id": "3233d7f6",
   "metadata": {},
   "outputs": [
    {
     "name": "stderr",
     "output_type": "stream",
     "text": [
      "<ipython-input-3-5d036a5a34d6>:15: SettingWithCopyWarning: \n",
      "A value is trying to be set on a copy of a slice from a DataFrame.\n",
      "Try using .loc[row_indexer,col_indexer] = value instead\n",
      "\n",
      "See the caveats in the documentation: https://pandas.pydata.org/pandas-docs/stable/user_guide/indexing.html#returning-a-view-versus-a-copy\n",
      "  df_indicator['drug_' + str(each + 1)] = df_indicator['Name_of_Drug_or_Biological_or_Device_or_Medical_Supply_' + str(each + 1)] + \"#\" +  df_indicator['Indicate_Drug_or_Biological_or_Device_or_Medical_Supply_' + str(each + 1)]\n"
     ]
    }
   ],
   "source": [
    "df_indicator = df[[\n",
    "    'Indicate_Drug_or_Biological_or_Device_or_Medical_Supply_1',\n",
    "    'Indicate_Drug_or_Biological_or_Device_or_Medical_Supply_2',\n",
    "    'Indicate_Drug_or_Biological_or_Device_or_Medical_Supply_3',\n",
    "    'Indicate_Drug_or_Biological_or_Device_or_Medical_Supply_4',\n",
    "    'Indicate_Drug_or_Biological_or_Device_or_Medical_Supply_5',\n",
    "    'Name_of_Drug_or_Biological_or_Device_or_Medical_Supply_1',\n",
    "    'Name_of_Drug_or_Biological_or_Device_or_Medical_Supply_2',\n",
    "    'Name_of_Drug_or_Biological_or_Device_or_Medical_Supply_3',\n",
    "    'Name_of_Drug_or_Biological_or_Device_or_Medical_Supply_4',\n",
    "    'Name_of_Drug_or_Biological_or_Device_or_Medical_Supply_5'\n",
    "]]\n",
    "\n",
    "for each in range(5):\n",
    "    df_indicator['drug_' + str(each + 1)] = df_indicator['Name_of_Drug_or_Biological_or_Device_or_Medical_Supply_' + str(each + 1)] + \"#\" +  df_indicator['Indicate_Drug_or_Biological_or_Device_or_Medical_Supply_' + str(each + 1)]\n",
    "\n",
    "df_indicator = df_indicator[['drug_1', 'drug_2', 'drug_3', 'drug_4', 'drug_5',]]\n",
    "df_melted = df_indicator.melt(id_vars=None, value_vars=[df_indicator.columns])\n",
    "df_melted.dropna(inplace=True)\n",
    "df_melted = df_melted['value'].str.split('#', expand=True)\n",
    "df_melted.drop_duplicates(inplace=True)\n",
    "df_melted.columns = ['brand_name', 'Indicator']\n",
    "df_melted = df_melted[df_melted.Indicator != 'DEVICE']\n",
    "df_melted = df_melted[['brand_name']]\n",
    "pickle.dump(df_melted, open(\"../../Data/Outputs_Cleanup/Sunshine/sunshine_drugs_distinct.p\", \"wb\" ) )\n",
    "df_melted.to_csv('../../Data/Outputs_Cleanup/Sunshine/sunshine_drugs_distinct.csv', index=False)"
   ]
  }
 ],
 "metadata": {
  "kernelspec": {
   "display_name": "Python 3",
   "language": "python",
   "name": "python3"
  },
  "language_info": {
   "codemirror_mode": {
    "name": "ipython",
    "version": 3
   },
   "file_extension": ".py",
   "mimetype": "text/x-python",
   "name": "python",
   "nbconvert_exporter": "python",
   "pygments_lexer": "ipython3",
   "version": "3.8.8"
  }
 },
 "nbformat": 4,
 "nbformat_minor": 5
}
