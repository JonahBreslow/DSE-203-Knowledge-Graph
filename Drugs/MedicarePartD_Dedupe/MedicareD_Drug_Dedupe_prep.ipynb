{
 "cells": [
  {
   "cell_type": "markdown",
   "id": "4b64fdd0-f932-4730-a0f3-b9b1089cc11d",
   "metadata": {},
   "source": [
    "# Dedupe Preparation\n",
    "Description: Convert Medicare Part D into a dedupe input by obtaining unique values from Medicare Part D, \n",
    "and assigning an Id column to the resulting dataframe.\n",
    "\n",
    "INPUT: drug_information.csv (From Medicare Part D 2019)\n",
    "\n",
    "OUTPUT: dataID.csv"
   ]
  },
  {
   "cell_type": "code",
   "execution_count": 1,
   "id": "90185859-3f4c-48ae-b903-d10b9f6733bd",
   "metadata": {},
   "outputs": [],
   "source": [
    "import pandas as pd\n",
    "import os"
   ]
  },
  {
   "cell_type": "code",
   "execution_count": 2,
   "id": "c80cdfb1-9fc9-4662-a66c-aaa2e230c6aa",
   "metadata": {},
   "outputs": [],
   "source": [
    "# current_directory = os.getcwd()\n",
    "# current_directory = current_directory.split('/')\n",
    "# current_dir_len = len(current_directory)\n",
    "# desired_index = current_directory.index('DSE-203-Knowledge-Graph')\n",
    "\n",
    "# print(desired_index)\n",
    "# print(current_dir_len)\n",
    "\n",
    "# print(current_directory)\n",
    "# # print(os.getcwd())\n",
    "# # os.chdir('DSE-203-Knowledge-Graph')\n",
    "# # print(os.getcwd())"
   ]
  },
  {
   "cell_type": "code",
   "execution_count": 3,
   "id": "b0dbd085-61e9-459a-bcbd-5c3457559c12",
   "metadata": {},
   "outputs": [],
   "source": [
    "file = '../../Data/Outputs_Cleanup/Part_d/partD_raw_drug_information.csv'\n",
    "df = pd.read_csv(file)\n",
    "unique = {'brand_name': df['Brnd_Name'].sort_values().unique()}"
   ]
  },
  {
   "cell_type": "code",
   "execution_count": 4,
   "id": "077682ec-f3ad-4395-92ad-71b257f1e892",
   "metadata": {},
   "outputs": [
    {
     "data": {
      "text/html": [
       "<div>\n",
       "<style scoped>\n",
       "    .dataframe tbody tr th:only-of-type {\n",
       "        vertical-align: middle;\n",
       "    }\n",
       "\n",
       "    .dataframe tbody tr th {\n",
       "        vertical-align: top;\n",
       "    }\n",
       "\n",
       "    .dataframe thead th {\n",
       "        text-align: right;\n",
       "    }\n",
       "</style>\n",
       "<table border=\"1\" class=\"dataframe\">\n",
       "  <thead>\n",
       "    <tr style=\"text-align: right;\">\n",
       "      <th></th>\n",
       "      <th>brand_name</th>\n",
       "      <th>MedD_drug_Id</th>\n",
       "    </tr>\n",
       "  </thead>\n",
       "  <tbody>\n",
       "    <tr>\n",
       "      <th>0</th>\n",
       "      <td>1ST TIER UNIFINE PENTIPS PLUS</td>\n",
       "      <td>0</td>\n",
       "    </tr>\n",
       "    <tr>\n",
       "      <th>1</th>\n",
       "      <td>ABACAVIR</td>\n",
       "      <td>1</td>\n",
       "    </tr>\n",
       "    <tr>\n",
       "      <th>2</th>\n",
       "      <td>ABACAVIRLAMIVUDINE</td>\n",
       "      <td>2</td>\n",
       "    </tr>\n",
       "    <tr>\n",
       "      <th>3</th>\n",
       "      <td>ABACAVIRLAMIVUDINEZIDOVUDINE</td>\n",
       "      <td>3</td>\n",
       "    </tr>\n",
       "    <tr>\n",
       "      <th>4</th>\n",
       "      <td>ABILIFY</td>\n",
       "      <td>4</td>\n",
       "    </tr>\n",
       "    <tr>\n",
       "      <th>...</th>\n",
       "      <td>...</td>\n",
       "      <td>...</td>\n",
       "    </tr>\n",
       "    <tr>\n",
       "      <th>2322</th>\n",
       "      <td>ZYMAXID</td>\n",
       "      <td>2322</td>\n",
       "    </tr>\n",
       "    <tr>\n",
       "      <th>2323</th>\n",
       "      <td>ZYPREXA</td>\n",
       "      <td>2323</td>\n",
       "    </tr>\n",
       "    <tr>\n",
       "      <th>2324</th>\n",
       "      <td>ZYPREXA RELPREVV</td>\n",
       "      <td>2324</td>\n",
       "    </tr>\n",
       "    <tr>\n",
       "      <th>2325</th>\n",
       "      <td>ZYPREXA ZYDIS</td>\n",
       "      <td>2325</td>\n",
       "    </tr>\n",
       "    <tr>\n",
       "      <th>2326</th>\n",
       "      <td>ZYTIGA</td>\n",
       "      <td>2326</td>\n",
       "    </tr>\n",
       "  </tbody>\n",
       "</table>\n",
       "<p>2327 rows × 2 columns</p>\n",
       "</div>"
      ],
      "text/plain": [
       "                         brand_name  MedD_drug_Id\n",
       "0     1ST TIER UNIFINE PENTIPS PLUS             0\n",
       "1                          ABACAVIR             1\n",
       "2                ABACAVIRLAMIVUDINE             2\n",
       "3      ABACAVIRLAMIVUDINEZIDOVUDINE             3\n",
       "4                           ABILIFY             4\n",
       "...                             ...           ...\n",
       "2322                        ZYMAXID          2322\n",
       "2323                        ZYPREXA          2323\n",
       "2324               ZYPREXA RELPREVV          2324\n",
       "2325                  ZYPREXA ZYDIS          2325\n",
       "2326                         ZYTIGA          2326\n",
       "\n",
       "[2327 rows x 2 columns]"
      ]
     },
     "execution_count": 4,
     "metadata": {},
     "output_type": "execute_result"
    }
   ],
   "source": [
    "length = len(unique['brand_name'])\n",
    "\n",
    "indices = [each for each in range(length)]\n",
    "\n",
    "df_out = pd.DataFrame(unique)\n",
    "df_out['MedD_drug_Id'] = indices\n",
    "df_out"
   ]
  },
  {
   "cell_type": "code",
   "execution_count": 5,
   "id": "08eb832f-9b80-40e3-b807-5c95a35727b0",
   "metadata": {},
   "outputs": [],
   "source": [
    "df_out.to_csv('../../Data/Outputs_Cleanup/Part_d/partD_dedupe_input_drugs.csv')"
   ]
  }
 ],
 "metadata": {
  "kernelspec": {
   "display_name": "Python 3",
   "language": "python",
   "name": "python3"
  },
  "language_info": {
   "codemirror_mode": {
    "name": "ipython",
    "version": 3
   },
   "file_extension": ".py",
   "mimetype": "text/x-python",
   "name": "python",
   "nbconvert_exporter": "python",
   "pygments_lexer": "ipython3",
   "version": "3.8.8"
  }
 },
 "nbformat": 4,
 "nbformat_minor": 5
}
