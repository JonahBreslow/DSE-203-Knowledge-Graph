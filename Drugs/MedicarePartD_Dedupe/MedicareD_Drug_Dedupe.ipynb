{
 "cells": [
  {
   "cell_type": "code",
   "execution_count": 1,
   "metadata": {},
   "outputs": [],
   "source": [
    "#!/usr/bin/python\n",
    "# -*- coding: utf-8 -*-\n",
    "\"\"\"\n",
    "This code demonstrates how to use dedupe with a comma separated values\n",
    "(CSV) file. All operations are performed in memory, so will run very\n",
    "quickly on datasets up to ~10,000 rows.\n",
    "\n",
    "We start with a CSV file containing our messy data. In this example,\n",
    "it is listings of early childhood education centers in Chicago\n",
    "compiled from several different sources.\n",
    "\n",
    "The output will be a CSV with our clustered results.\n",
    "\n",
    "For larger datasets, see our [mysql_example](mysql_example.html)\n",
    "\"\"\"\n",
    "\n",
    "import os\n",
    "import csv\n",
    "import re\n",
    "import logging\n",
    "import optparse\n",
    "import pandas as pd\n",
    "import pickle\n",
    "\n",
    "import dedupe\n",
    "from unidecode import unidecode"
   ]
  },
  {
   "cell_type": "code",
   "execution_count": 2,
   "metadata": {},
   "outputs": [],
   "source": [
    "def preProcess(column):\n",
    "    \"\"\"\n",
    "    Do a little bit of data cleaning with the help of Unidecode and Regex.\n",
    "    Things like casing, extra spaces, quotes and new lines can be ignored.\n",
    "    \"\"\"\n",
    "    column = unidecode(column)\n",
    "    column = re.sub('  +', ' ', column)\n",
    "    column = re.sub('\\n', ' ', column)\n",
    "    column = column.strip().strip('\"').strip(\"'\").lower().strip()\n",
    "    # If data is missing, indicate that by setting the value to `None`\n",
    "    if not column:\n",
    "        column = None\n",
    "    return column\n",
    "\n",
    "\n",
    "def readData(filename):\n",
    "    \"\"\"\n",
    "    Read in our data from a CSV file and create a dictionary of records,\n",
    "    where the key is a unique record ID and each value is dict\n",
    "    \"\"\"\n",
    "\n",
    "    data_d = {}\n",
    "    with open(filename) as f:\n",
    "        reader = csv.DictReader(f)\n",
    "        for row in reader:\n",
    "            clean_row = [(k, preProcess(v)) for (k, v) in row.items()]\n",
    "            row_id = int(row['MedD_drug_id'])\n",
    "            data_d[row_id] = dict(clean_row)\n",
    "\n",
    "    return data_d"
   ]
  },
  {
   "cell_type": "code",
   "execution_count": 3,
   "metadata": {},
   "outputs": [
    {
     "name": "stdin",
     "output_type": "stream",
     "text": [
      "Do you want to add on to your training (y/n). If you wanted to start over, delete your .json file y\n"
     ]
    },
    {
     "name": "stderr",
     "output_type": "stream",
     "text": [
      "INFO:dedupe.api:reading training from file\n"
     ]
    },
    {
     "name": "stdout",
     "output_type": "stream",
     "text": [
      "importing data ...\n",
      "reading labeled examples from  ../../Data/Outputs_Cleanup/Part_d/dedupe_output/csv_example_training.json\n"
     ]
    },
    {
     "name": "stderr",
     "output_type": "stream",
     "text": [
      "INFO:dedupe.training:Final predicate set:\n",
      "INFO:dedupe.training:SimplePredicate: (wholeFieldPredicate, brand_name)\n",
      "INFO:dedupe.training:Final predicate set:\n",
      "INFO:dedupe.training:TfidfNGramCanopyPredicate: (0.8, brand_name)\n",
      "INFO:dedupe.training:SimplePredicate: (commonThreeTokens, brand_name)\n",
      "brand_name : methylphenidate er\n",
      "\n",
      "brand_name : methylphenidate er la\n",
      "\n",
      "13/10 positive, 16/10 negative\n",
      "Do these records refer to the same thing?\n",
      "(y)es / (n)o / (u)nsure / (f)inished\n"
     ]
    },
    {
     "name": "stdout",
     "output_type": "stream",
     "text": [
      "starting active labeling...\n"
     ]
    },
    {
     "name": "stdin",
     "output_type": "stream",
     "text": [
      " y\n"
     ]
    },
    {
     "name": "stderr",
     "output_type": "stream",
     "text": [
      "brand_name : minocycline hcl\n",
      "\n",
      "brand_name : minocycline hcl er\n",
      "\n",
      "14/10 positive, 16/10 negative\n",
      "Do these records refer to the same thing?\n",
      "(y)es / (n)o / (u)nsure / (f)inished / (p)revious\n"
     ]
    },
    {
     "name": "stdin",
     "output_type": "stream",
     "text": [
      " y\n"
     ]
    },
    {
     "name": "stderr",
     "output_type": "stream",
     "text": [
      "INFO:dedupe.training:Final predicate set:\n",
      "INFO:dedupe.training:TfidfNGramCanopyPredicate: (0.8, brand_name)\n",
      "INFO:dedupe.training:SimplePredicate: (firstTwoTokensPredicate, brand_name)\n",
      "brand_name : lamotrigine\n",
      "\n",
      "brand_name : lamotrigine odt\n",
      "\n",
      "15/10 positive, 16/10 negative\n",
      "Do these records refer to the same thing?\n",
      "(y)es / (n)o / (u)nsure / (f)inished / (p)revious\n"
     ]
    },
    {
     "name": "stdin",
     "output_type": "stream",
     "text": [
      " y\n"
     ]
    },
    {
     "name": "stderr",
     "output_type": "stream",
     "text": [
      "brand_name : clinimix e\n",
      "\n",
      "brand_name : clinimix\n",
      "\n",
      "16/10 positive, 16/10 negative\n",
      "Do these records refer to the same thing?\n",
      "(y)es / (n)o / (u)nsure / (f)inished / (p)revious\n"
     ]
    },
    {
     "name": "stdin",
     "output_type": "stream",
     "text": [
      " f\n"
     ]
    },
    {
     "name": "stderr",
     "output_type": "stream",
     "text": [
      "Finished labeling\n",
      "INFO:dedupe.training:Final predicate set:\n",
      "INFO:dedupe.training:SimplePredicate: (sameSevenCharStartPredicate, brand_name)\n",
      "INFO:rlr.crossvalidation:using cross validation to find optimum alpha...\n",
      "INFO:rlr.crossvalidation:optimum alpha: 0.010000, score 0.31230397151054107\n",
      "INFO:dedupe.training:Final predicate set:\n",
      "INFO:dedupe.training:(TfidfNGramCanopyPredicate: (0.8, brand_name), SimplePredicate: (sortedAcronym, brand_name), SimplePredicate: (sameSevenCharStartPredicate, brand_name))\n",
      "INFO:dedupe.training:(TfidfTextCanopyPredicate: (0.6, brand_name), SimplePredicate: (sameSevenCharStartPredicate, brand_name), TfidfNGramCanopyPredicate: (0.4, brand_name))\n",
      "INFO:dedupe.training:(SimplePredicate: (firstTwoTokensPredicate, brand_name), TfidfTextCanopyPredicate: (0.2, brand_name), LevenshteinCanopyPredicate: (4, brand_name))\n",
      "INFO:dedupe.training:(SimplePredicate: (commonThreeTokens, brand_name), SimplePredicate: (nearIntegersPredicate, brand_name), TfidfTextCanopyPredicate: (0.8, brand_name))\n"
     ]
    },
    {
     "name": "stdout",
     "output_type": "stream",
     "text": [
      "clustering...\n",
      "# duplicate sets 2268\n"
     ]
    }
   ],
   "source": [
    "# ## Setup\n",
    "input_file = '../../Data/Outputs_Cleanup/Part_d/drug_information.csv'\n",
    "output_file = '../../Data/Outputs_Cleanup/Part_d/dedupe_output/MedicareD_drug_deduplicated.csv'\n",
    "settings_file = '../../Data/Outputs_Cleanup/Part_d/dedupe_output/csv_example_learned_settings'\n",
    "training_file = '../../Data/Outputs_Cleanup/Part_d/dedupe_output/csv_example_training.json'\n",
    "\n",
    "retrain = input('Do you want to add on to your training (y/n). If you wanted to start over, delete your .json file')\n",
    "isretrain = True if retrain == 'y' else False\n",
    "\n",
    "if isretrain == True:\n",
    "    try:\n",
    "        os.remove(settings_file)\n",
    "    except:\n",
    "        print('Your settings file appears to not have existed.')\n",
    "\n",
    "#input_file = 'csv_example_messy_input.csv'\n",
    "\n",
    "\n",
    "print('importing data ...')\n",
    "data_d = readData(input_file)\n",
    "\n",
    "# If a settings file already exists, we'll just load that and skip training\n",
    "if os.path.exists(settings_file):\n",
    "    print('reading from', settings_file)\n",
    "    with open(settings_file, 'rb') as f:\n",
    "        deduper = dedupe.StaticDedupe(f)\n",
    "else:\n",
    "    # ## Training\n",
    "\n",
    "    # Define the fields dedupe will pay attention to\n",
    "    fields = [\n",
    "        {'field': 'brand_name', 'type': 'String'},\n",
    "        #{'field': 'Address', 'type': 'String'},\n",
    "        #{'field': 'Zip', 'type': 'Exact', 'has missing': True},\n",
    "        #{'field': 'Phone', 'type': 'String', 'has missing': True},\n",
    "        ]\n",
    "\n",
    "    # Create a new deduper object and pass our data model to it.\n",
    "    deduper = dedupe.Dedupe(fields)\n",
    "\n",
    "    # If we have training data saved from a previous run of dedupe,\n",
    "    # look for it and load it in.\n",
    "    # __Note:__ if you want to train from scratch, delete the training_file\n",
    "    if os.path.exists(training_file):\n",
    "        print('reading labeled examples from ', training_file)\n",
    "        with open(training_file, 'rb') as f:\n",
    "            deduper.prepare_training(data_d, f)\n",
    "    else:\n",
    "        deduper.prepare_training(data_d)\n",
    "\n",
    "    # ## Active learning\n",
    "    # Dedupe will find the next pair of records\n",
    "    # it is least certain about and ask you to label them as duplicates\n",
    "    # or not.\n",
    "    # use 'y', 'n' and 'u' keys to flag duplicates\n",
    "    # press 'f' when you are finished\n",
    "    print('starting active labeling...')\n",
    "\n",
    "    dedupe.console_label(deduper)\n",
    "\n",
    "    # Using the examples we just labeled, train the deduper and learn\n",
    "    # blocking predicates\n",
    "    deduper.train()\n",
    "\n",
    "    # When finished, save our training to disk\n",
    "    with open(training_file, 'w') as tf:\n",
    "        deduper.write_training(tf)\n",
    "\n",
    "    # Save our weights and predicates to disk.  If the settings file\n",
    "    # exists, we will skip all the training and learning next time we run\n",
    "    # this file.\n",
    "    with open(settings_file, 'wb') as sf:\n",
    "        deduper.write_settings(sf)\n",
    "\n",
    "# ## Clustering\n",
    "\n",
    "# `partition` will return sets of records that dedupe\n",
    "# believes are all referring to the same entity.\n",
    "\n",
    "print('clustering...')\n",
    "clustered_dupes = deduper.partition(data_d, 0.5)\n",
    "\n",
    "print('# duplicate sets', len(clustered_dupes))\n",
    "\n",
    "# ## Writing Results\n",
    "\n",
    "# Write our original data back out to a CSV with a new column called\n",
    "# 'Cluster ID' which indicates which records refer to each other.\n",
    "\n",
    "cluster_membership = {}\n",
    "for cluster_id, (records, scores) in enumerate(clustered_dupes):\n",
    "    for record_id, score in zip(records, scores):\n",
    "        cluster_membership[record_id] = {\n",
    "            \"Cluster ID\": cluster_id,\n",
    "            \"confidence_score\": score\n",
    "        }\n",
    "\n",
    "with open(output_file, 'w') as f_output, open(input_file) as f_input:\n",
    "\n",
    "    reader = csv.DictReader(f_input)\n",
    "    fieldnames = ['Cluster ID', 'confidence_score'] + reader.fieldnames\n",
    "\n",
    "    writer = csv.DictWriter(f_output, fieldnames=fieldnames)\n",
    "    writer.writeheader()\n",
    "\n",
    "    for row in reader:\n",
    "        row_id = int(row['MedD_drug_id'])\n",
    "        row.update(cluster_membership[row_id])\n",
    "        writer.writerow(row)"
   ]
  },
  {
   "cell_type": "code",
   "execution_count": 4,
   "metadata": {},
   "outputs": [],
   "source": [
    "def pick_brand(brands):\n",
    "    pick = None\n",
    "    pick_len = 0\n",
    "    for idx, brand in enumerate(brands):\n",
    "        if idx == 0:\n",
    "            pick = brand\n",
    "            pick_len = len(brand)\n",
    "            continue\n",
    "        if len(brand) > pick_len:\n",
    "            pick = brand\n",
    "            pick_len = len(brand)\n",
    "    return pick\n",
    "\n",
    "df = pd.read_csv(output_file)"
   ]
  },
  {
   "cell_type": "code",
   "execution_count": 5,
   "metadata": {},
   "outputs": [
    {
     "data": {
      "text/html": [
       "<div>\n",
       "<style scoped>\n",
       "    .dataframe tbody tr th:only-of-type {\n",
       "        vertical-align: middle;\n",
       "    }\n",
       "\n",
       "    .dataframe tbody tr th {\n",
       "        vertical-align: top;\n",
       "    }\n",
       "\n",
       "    .dataframe thead th {\n",
       "        text-align: right;\n",
       "    }\n",
       "</style>\n",
       "<table border=\"1\" class=\"dataframe\">\n",
       "  <thead>\n",
       "    <tr style=\"text-align: right;\">\n",
       "      <th></th>\n",
       "      <th>Cluster ID</th>\n",
       "      <th>confidence_score</th>\n",
       "      <th>MedD_drug_id</th>\n",
       "      <th>brand_name</th>\n",
       "    </tr>\n",
       "  </thead>\n",
       "  <tbody>\n",
       "    <tr>\n",
       "      <th>1440</th>\n",
       "      <td>2132</td>\n",
       "      <td>1.0</td>\n",
       "      <td>89462</td>\n",
       "      <td>MAGNESIUM SULFATE</td>\n",
       "    </tr>\n",
       "    <tr>\n",
       "      <th>2051</th>\n",
       "      <td>1971</td>\n",
       "      <td>1.0</td>\n",
       "      <td>236151</td>\n",
       "      <td>MAGNESIUM SULFATE</td>\n",
       "    </tr>\n",
       "  </tbody>\n",
       "</table>\n",
       "</div>"
      ],
      "text/plain": [
       "      Cluster ID  confidence_score  MedD_drug_id         brand_name\n",
       "1440        2132               1.0         89462  MAGNESIUM SULFATE\n",
       "2051        1971               1.0        236151  MAGNESIUM SULFATE"
      ]
     },
     "execution_count": 5,
     "metadata": {},
     "output_type": "execute_result"
    }
   ],
   "source": [
    "df[df.brand_name=='MAGNESIUM SULFATE']"
   ]
  },
  {
   "cell_type": "code",
   "execution_count": 6,
   "metadata": {},
   "outputs": [],
   "source": [
    "df_cluster = pd.DataFrame(df.groupby('Cluster ID')['brand_name'].apply(list))\n",
    "df_cluster['MedD_drug_id'] = df.groupby('Cluster ID')['MedD_drug_id'].apply(list)\n",
    "# df_cluster"
   ]
  },
  {
   "cell_type": "code",
   "execution_count": 7,
   "metadata": {},
   "outputs": [
    {
     "data": {
      "text/html": [
       "<div>\n",
       "<style scoped>\n",
       "    .dataframe tbody tr th:only-of-type {\n",
       "        vertical-align: middle;\n",
       "    }\n",
       "\n",
       "    .dataframe tbody tr th {\n",
       "        vertical-align: top;\n",
       "    }\n",
       "\n",
       "    .dataframe thead th {\n",
       "        text-align: right;\n",
       "    }\n",
       "</style>\n",
       "<table border=\"1\" class=\"dataframe\">\n",
       "  <thead>\n",
       "    <tr style=\"text-align: right;\">\n",
       "      <th></th>\n",
       "      <th>brand_name</th>\n",
       "      <th>MedD_drug_id</th>\n",
       "      <th>brand_name_picked</th>\n",
       "    </tr>\n",
       "    <tr>\n",
       "      <th>Cluster ID</th>\n",
       "      <th></th>\n",
       "      <th></th>\n",
       "      <th></th>\n",
       "    </tr>\n",
       "  </thead>\n",
       "  <tbody>\n",
       "    <tr>\n",
       "      <th>0</th>\n",
       "      <td>[BUPRENORPHINE, BUPRENORPHINE HCL]</td>\n",
       "      <td>[6, 12251]</td>\n",
       "      <td>BUPRENORPHINE HCL</td>\n",
       "    </tr>\n",
       "    <tr>\n",
       "      <th>1</th>\n",
       "      <td>[DICLOFENAC SODIUM, DICLOFENAC SODIUMMISOPROSTOL]</td>\n",
       "      <td>[11, 78148]</td>\n",
       "      <td>DICLOFENAC SODIUMMISOPROSTOL</td>\n",
       "    </tr>\n",
       "    <tr>\n",
       "      <th>2</th>\n",
       "      <td>[FENTANYL, FENTANYL CITRATE]</td>\n",
       "      <td>[15, 177410]</td>\n",
       "      <td>FENTANYL CITRATE</td>\n",
       "    </tr>\n",
       "  </tbody>\n",
       "</table>\n",
       "</div>"
      ],
      "text/plain": [
       "                                                   brand_name  MedD_drug_id  \\\n",
       "Cluster ID                                                                    \n",
       "0                          [BUPRENORPHINE, BUPRENORPHINE HCL]    [6, 12251]   \n",
       "1           [DICLOFENAC SODIUM, DICLOFENAC SODIUMMISOPROSTOL]   [11, 78148]   \n",
       "2                                [FENTANYL, FENTANYL CITRATE]  [15, 177410]   \n",
       "\n",
       "                       brand_name_picked  \n",
       "Cluster ID                                \n",
       "0                      BUPRENORPHINE HCL  \n",
       "1           DICLOFENAC SODIUMMISOPROSTOL  \n",
       "2                       FENTANYL CITRATE  "
      ]
     },
     "execution_count": 7,
     "metadata": {},
     "output_type": "execute_result"
    }
   ],
   "source": [
    "df_cluster['brand_name_picked'] = df_cluster.brand_name.apply(pick_brand)\n",
    "df_cluster.head(3)"
   ]
  },
  {
   "cell_type": "code",
   "execution_count": 8,
   "metadata": {},
   "outputs": [],
   "source": [
    "df_cluster.columns = ['brand_names', 'MedD_drug_id', 'brand_name']\n",
    "pickle.dump(df_cluster, open(\"../../Data/Outputs_Cleanup/Part_d/dedupe_output/MedicareD_Drug_deduplicated_singlebrand.p\", \"wb\" ) )\n",
    "# df_cluster.to_csv('../../Data/Outputs_Cleanup/Part_d/dedupe_output/MedicareD_Drug_deduplicated_singlebrand.csv', index=False)"
   ]
  },
  {
   "cell_type": "code",
   "execution_count": null,
   "metadata": {},
   "outputs": [],
   "source": [
    "# df_cluster[df_cluster.brand_name_picked=='MAGNESIUM SULFATE']"
   ]
  },
  {
   "cell_type": "code",
   "execution_count": null,
   "metadata": {},
   "outputs": [],
   "source": []
  }
 ],
 "metadata": {
  "kernelspec": {
   "display_name": "Python 3",
   "language": "python",
   "name": "python3"
  },
  "language_info": {
   "codemirror_mode": {
    "name": "ipython",
    "version": 3
   },
   "file_extension": ".py",
   "mimetype": "text/x-python",
   "name": "python",
   "nbconvert_exporter": "python",
   "pygments_lexer": "ipython3",
   "version": "3.8.5"
  }
 },
 "nbformat": 4,
 "nbformat_minor": 5
}
