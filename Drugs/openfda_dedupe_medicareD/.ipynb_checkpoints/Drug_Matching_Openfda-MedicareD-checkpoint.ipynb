{
 "cells": [
  {
   "cell_type": "markdown",
   "id": "1e653994-873a-4eaf-9cec-d416d7348648",
   "metadata": {},
   "source": [
    "# Dedupe openfda versus medicare part D"
   ]
  },
  {
   "cell_type": "code",
   "execution_count": 1,
   "id": "97ddaeab-1c0b-4f5e-84aa-a4b5d4f8f0ec",
   "metadata": {},
   "outputs": [],
   "source": [
    "#!/usr/bin/python\n",
    "# -*- coding: utf-8 -*-\n",
    "\"\"\"\n",
    "This code demonstrates how to use RecordLink with two comma separated\n",
    "values (CSV) files. We have listings of products from two different\n",
    "online stores. The task is to link products between the datasets.\n",
    "\n",
    "The output will be a CSV with our linkded results.\n",
    "\n",
    "\"\"\"\n",
    "import os\n",
    "import csv\n",
    "import re\n",
    "import logging\n",
    "import optparse\n",
    "import pandas as pd\n",
    "\n",
    "import dedupe\n",
    "from unidecode import unidecode"
   ]
  },
  {
   "cell_type": "code",
   "execution_count": 2,
   "id": "7a8475b8-9db9-471b-a0b4-6c845685065a",
   "metadata": {},
   "outputs": [
    {
     "data": {
      "text/plain": [
       "'/Users/jeff_1/Documents/DSE/DSE203/project'"
      ]
     },
     "execution_count": 2,
     "metadata": {},
     "output_type": "execute_result"
    }
   ],
   "source": [
    "os.getcwd()\n",
    "os.chdir('../')\n",
    "os.getcwd()"
   ]
  },
  {
   "cell_type": "code",
   "execution_count": 3,
   "id": "5de1c04a-9c9a-4d50-889b-2cc5c200900e",
   "metadata": {},
   "outputs": [],
   "source": [
    "df = pd.read_csv('openfda_Dedupe/Openfda_Drug_deduplicated.csv')\n",
    "df = df[['brand_name']]\n",
    "df.to_csv('openfda_dedupe_medicareD/openfda_input.csv')"
   ]
  },
  {
   "cell_type": "code",
   "execution_count": 4,
   "id": "e2e4ddca-dbc8-40f2-a6ca-789014053fb5",
   "metadata": {},
   "outputs": [],
   "source": [
    "df = pd.read_csv('MedicarePartD_Dedupe/MedicareD_Drug_deduplicated_singlebrand.csv')\n",
    "df = df[['brand_name']]\n",
    "df.to_csv('openfda_dedupe_medicareD/medicare_input.csv')"
   ]
  },
  {
   "cell_type": "code",
   "execution_count": 5,
   "id": "b31614eb-b4f3-4d6b-8339-b478556e822f",
   "metadata": {},
   "outputs": [
    {
     "data": {
      "text/plain": [
       "'/Users/jeff_1/Documents/DSE/DSE203/project'"
      ]
     },
     "execution_count": 5,
     "metadata": {},
     "output_type": "execute_result"
    }
   ],
   "source": [
    "os.getcwd()"
   ]
  },
  {
   "cell_type": "code",
   "execution_count": 6,
   "id": "a8443f31-5f80-46ae-be2f-09310f14ca4e",
   "metadata": {},
   "outputs": [],
   "source": [
    "def preProcess(column):\n",
    "    \"\"\"\n",
    "    Do a little bit of data cleaning with the help of Unidecode and Regex.\n",
    "    Things like casing, extra spaces, quotes and new lines can be ignored.\n",
    "    \"\"\"\n",
    "\n",
    "    column = unidecode(column)\n",
    "    column = re.sub('\\n', ' ', column)\n",
    "    column = re.sub('-', '', column)\n",
    "    column = re.sub('/', ' ', column)\n",
    "    column = re.sub(\"'\", '', column)\n",
    "    column = re.sub(\",\", '', column)\n",
    "    column = re.sub(\":\", ' ', column)\n",
    "    column = re.sub('  +', ' ', column)\n",
    "    column = column.strip().strip('\"').strip(\"'\").lower().strip()\n",
    "    if not column:\n",
    "        column = None\n",
    "    return column\n",
    "\n",
    "\n",
    "def readData(filename):\n",
    "    \"\"\"\n",
    "    Read in our data from a CSV file and create a dictionary of records,\n",
    "    where the key is a unique record ID.\n",
    "    \"\"\"\n",
    "\n",
    "    data_d = {}\n",
    "\n",
    "    with open(filename) as f:\n",
    "        reader = csv.DictReader(f)\n",
    "        for i, row in enumerate(reader):\n",
    "            clean_row = dict([(k, preProcess(v)) for (k, v) in row.items()])\n",
    "            data_d[filename + str(i)] = dict(clean_row)\n",
    "\n",
    "    return data_d"
   ]
  },
  {
   "cell_type": "code",
   "execution_count": 7,
   "id": "8a488e6d-083f-4542-8c98-fd2e4aa0c27a",
   "metadata": {},
   "outputs": [
    {
     "name": "stdin",
     "output_type": "stream",
     "text": [
      "Do you want to add on to your training (y/n). If you wanted to start over, delete your .json file y\n"
     ]
    },
    {
     "name": "stdout",
     "output_type": "stream",
     "text": [
      "Your settings file appears to not have existed.\n",
      "importing data ...\n",
      "reading from openfda_dedupe_medicareD/data_matching_learned_settings\n"
     ]
    },
    {
     "name": "stderr",
     "output_type": "stream",
     "text": [
      "INFO:dedupe.api:Predicate set:\n",
      "INFO:dedupe.api:(TfidfNGramSearchPredicate: (0.8, brand_name), SimplePredicate: (firstTokenPredicate, brand_name), SimplePredicate: (commonSixGram, brand_name))\n"
     ]
    },
    {
     "name": "stdout",
     "output_type": "stream",
     "text": [
      "clustering...\n",
      "# duplicate sets 1563\n"
     ]
    }
   ],
   "source": [
    " # ## Setup\n",
    "retrain = input('Do you want to add on to your training (y/n). If you wanted to start over, delete your .json file')\n",
    "isretrain = True if retrain == 'y' else False\n",
    "\n",
    "if isretrain == True:\n",
    "    try:\n",
    "        os.remove('csv_example_learned_settings')\n",
    "    except:\n",
    "        print('Your settings file appears to not have existed.')\n",
    "    \n",
    "    \n",
    "output_file = 'openfda_dedupe_medicareD/data_matching_output.csv'\n",
    "settings_file = 'openfda_dedupe_medicareD/data_matching_learned_settings'\n",
    "training_file = 'openfda_dedupe_medicareD/data_matching_training.json'\n",
    "\n",
    "left_file = 'openfda_dedupe_medicareD/openfda_input.csv'\n",
    "right_file = 'openfda_dedupe_medicareD/medicare_input.csv'\n",
    "\n",
    "print('importing data ...')\n",
    "data_1 = readData(left_file)\n",
    "data_2 = readData(right_file)\n",
    "\n",
    "def descriptions():\n",
    "    for dataset in (data_1, data_2):\n",
    "        for record in dataset.values():\n",
    "            yield record['description']\n",
    "\n",
    "# ## Training\n",
    "\n",
    "if os.path.exists(settings_file):\n",
    "    print('reading from', settings_file)\n",
    "    with open(settings_file, 'rb') as sf:\n",
    "        linker = dedupe.StaticRecordLink(sf)\n",
    "\n",
    "else:\n",
    "    # Define the fields the linker will pay attention to\n",
    "    #\n",
    "    # Notice how we are telling the linker to use a custom field comparator\n",
    "    # for the 'price' field.\n",
    "    fields = [\n",
    "        {'field': 'brand_name', 'type': 'String'},\n",
    "        #{'field': 'title', 'type': 'Text', 'corpus': descriptions()},\n",
    "        #{'field': 'description', 'type': 'Text',\n",
    "        # 'has missing': True, 'corpus': descriptions()},\n",
    "        #{'field': 'price', 'type': 'Price', 'has missing': True}\n",
    "    ]\n",
    "\n",
    "    # Create a new linker object and pass our data model to it.\n",
    "    linker = dedupe.RecordLink(fields)\n",
    "\n",
    "    # If we have training data saved from a previous run of linker,\n",
    "    # look for it an load it in.\n",
    "    # __Note:__ if you want to train from scratch, delete the training_file\n",
    "    if os.path.exists(training_file):\n",
    "        print('reading labeled examples from ', training_file)\n",
    "        with open(training_file) as tf:\n",
    "            linker.prepare_training(data_1,\n",
    "                                    data_2,\n",
    "                                    training_file=tf,\n",
    "                                    sample_size=15000)\n",
    "    else:\n",
    "        linker.prepare_training(data_1, data_2, sample_size=15000)\n",
    "\n",
    "    # ## Active learning\n",
    "    # Dedupe will find the next pair of records\n",
    "    # it is least certain about and ask you to label them as matches\n",
    "    # or not.\n",
    "    # use 'y', 'n' and 'u' keys to flag duplicates\n",
    "    # press 'f' when you are finished\n",
    "    print('starting active labeling...')\n",
    "\n",
    "    dedupe.console_label(linker)\n",
    "\n",
    "    linker.train()\n",
    "\n",
    "    # When finished, save our training away to disk\n",
    "    with open(training_file, 'w') as tf:\n",
    "        linker.write_training(tf)\n",
    "\n",
    "    # Save our weights and predicates to disk.  If the settings file\n",
    "    # exists, we will skip all the training and learning next time we run\n",
    "    # this file.\n",
    "    with open(settings_file, 'wb') as sf:\n",
    "        linker.write_settings(sf)\n",
    "\n",
    "# ## Blocking\n",
    "\n",
    "# ## Clustering\n",
    "\n",
    "# Find the threshold that will maximize a weighted average of our\n",
    "# precision and recall.  When we set the recall weight to 2, we are\n",
    "# saying we care twice as much about recall as we do precision.\n",
    "#\n",
    "# If we had more data, we would not pass in all the blocked data into\n",
    "# this function but a representative sample.\n",
    "\n",
    "print('clustering...')\n",
    "linked_records = linker.join(data_1, data_2, 0.0)\n",
    "\n",
    "print('# duplicate sets', len(linked_records))\n",
    "# ## Writing Results\n",
    "\n",
    "# Write our original data back out to a CSV with a new column called\n",
    "# 'Cluster ID' which indicates which records refer to each other.\n",
    "\n",
    "cluster_membership = {}\n",
    "for cluster_id, (cluster, score) in enumerate(linked_records):\n",
    "    for record_id in cluster:\n",
    "        cluster_membership[record_id] = {'Cluster ID': cluster_id,\n",
    "                                         'Link Score': score}\n",
    "\n",
    "with open(output_file, 'w') as f:\n",
    "\n",
    "    header_unwritten = True\n",
    "\n",
    "    for fileno, filename in enumerate((left_file, right_file)):\n",
    "        with open(filename) as f_input:\n",
    "            reader = csv.DictReader(f_input)\n",
    "\n",
    "            if header_unwritten:\n",
    "\n",
    "                fieldnames = (['Cluster ID', 'Link Score', 'source file'] +\n",
    "                              reader.fieldnames)\n",
    "\n",
    "                writer = csv.DictWriter(f, fieldnames=fieldnames)\n",
    "                writer.writeheader()\n",
    "\n",
    "                header_unwritten = False\n",
    "\n",
    "            for row_id, row in enumerate(reader):\n",
    "\n",
    "                record_id = filename + str(row_id)\n",
    "                cluster_details = cluster_membership.get(record_id, {})\n",
    "                row['source file'] = fileno\n",
    "                row.update(cluster_details)\n",
    "\n",
    "                writer.writerow(row)"
   ]
  },
  {
   "cell_type": "code",
   "execution_count": 8,
   "id": "30e57041-1552-4081-8f40-164203859e3a",
   "metadata": {},
   "outputs": [
    {
     "data": {
      "text/plain": [
       "['Cluster ID', 'Link Score', 'source file', '', 'brand_name']"
      ]
     },
     "execution_count": 8,
     "metadata": {},
     "output_type": "execute_result"
    }
   ],
   "source": [
    "fieldnames"
   ]
  },
  {
   "cell_type": "code",
   "execution_count": null,
   "id": "85d0de05-b8a2-4d0f-a9f9-cc7ceb3f0984",
   "metadata": {},
   "outputs": [],
   "source": []
  }
 ],
 "metadata": {
  "kernelspec": {
   "display_name": "Python 3",
   "language": "python",
   "name": "python3"
  },
  "language_info": {
   "codemirror_mode": {
    "name": "ipython",
    "version": 3
   },
   "file_extension": ".py",
   "mimetype": "text/x-python",
   "name": "python",
   "nbconvert_exporter": "python",
   "pygments_lexer": "ipython3",
   "version": "3.8.8"
  }
 },
 "nbformat": 4,
 "nbformat_minor": 5
}
